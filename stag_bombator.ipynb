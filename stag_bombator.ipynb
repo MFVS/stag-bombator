{
 "cells": [
  {
   "cell_type": "code",
   "execution_count": 1,
   "metadata": {},
   "outputs": [],
   "source": [
    "import polars as pl\n",
    "from pprint import pprint"
   ]
  },
  {
   "cell_type": "code",
   "execution_count": 2,
   "metadata": {},
   "outputs": [],
   "source": [
    "rozvrh_by_kat = pl.read_excel(\"getRozvrhByKatedra-2023-03-15-17-47.xlsx\", sheet_id=1).drop(\"semestr\").unique().rename({\"predmet\" : \"zkratka\"})\n",
    "predmety_by_kat = pl.read_excel(\"getPredmetyByKatedraFullInfo-2023-03-15-17-40.xlsx\", sheet_id=1).drop(\"semestr\").unique().drop([\"pocetStudentu\", \"aSkut\", \"bSkut\", \"cSkut\"])"
   ]
  },
  {
   "cell_type": "code",
   "execution_count": 3,
   "metadata": {},
   "outputs": [],
   "source": [
    "# qr = ~pl.all().is_duplicated()\n",
    "# rozvrh_by_kat = rozvrh_by_kat.filter(qr)\n",
    "# predmety_by_kat = predmety_by_kat.filter(qr)\n"
   ]
  },
  {
   "cell_type": "code",
   "execution_count": 4,
   "metadata": {},
   "outputs": [
    {
     "data": {
      "text/html": [
       "<div><style>\n",
       ".dataframe > thead > tr > th,\n",
       ".dataframe > tbody > tr > td {\n",
       "  text-align: right;\n",
       "}\n",
       "</style>\n",
       "<small>shape: (5, 69)</small><table border=\"1\" class=\"dataframe\"><thead><tr><th>katedra</th><th>zkratka</th><th>rok</th><th>nazev</th><th>nazevDlouhy</th><th>vyukaZS</th><th>vyukaLS</th><th>kreditu</th><th>viceZapis</th><th>minObsazeni</th><th>garanti</th><th>garantiSPodily</th><th>garantiUcitIdno</th><th>prednasejici</th><th>prednasejiciSPodily</th><th>prednasejiciUcitIdno</th><th>cvicici</th><th>cviciciSPodily</th><th>cviciciUcitIdno</th><th>seminarici</th><th>seminariciSPodily</th><th>seminariciUcitIdno</th><th>schvalujiciUznani</th><th>schvalujiciUznaniUcitIdno</th><th>examinatori</th><th>examinatoriUcitIdno</th><th>podminujiciPredmety</th><th>vylucujiciPredmety</th><th>podminujePredmety</th><th>literatura</th><th>nahrazPredmety</th><th>metodyVyucovaci</th><th>metodyHodnotici</th><th>akreditovan</th><th>jednotekPrednasek</th><th>jednotkaPrednasky</th><th>jednotekCviceni</th><th>jednotkaCviceni</th><th>jednotekSeminare</th><th>jednotkaSeminare</th><th>anotace</th><th>typZkousky</th><th>maZapocetPredZk</th><th>formaZkousky</th><th>pozadavky</th><th>prehledLatky</th><th>predpoklady</th><th>ziskaneZpusobilosti</th><th>casovaNarocnost</th><th>predmetUrl</th><th>vyucovaciJazyky</th><th>poznamka</th><th>ectsZobrazit</th><th>ectsAkreditace</th><th>ectsNabizetUPrijezdu</th><th>poznamkaVerejna</th><th>skupinaAkreditace</th><th>skupinaAkreditaceKey</th><th>zarazenDoPrezencnihoStudia</th><th>zarazenDoKombinovanehoStudia</th><th>studijniOpory</th><th>praxePocetDnu</th><th>urovenNastavena</th><th>urovenVypoctena</th><th>automatickyUznavatZppZk</th><th>hodZaSemKombForma</th><th>aMax</th><th>bMax</th><th>cMax</th></tr><tr><td>str</td><td>str</td><td>i64</td><td>str</td><td>str</td><td>str</td><td>str</td><td>i64</td><td>str</td><td>str</td><td>str</td><td>str</td><td>str</td><td>str</td><td>str</td><td>str</td><td>str</td><td>str</td><td>str</td><td>str</td><td>str</td><td>str</td><td>str</td><td>str</td><td>str</td><td>str</td><td>str</td><td>str</td><td>str</td><td>str</td><td>str</td><td>str</td><td>str</td><td>str</td><td>i64</td><td>str</td><td>i64</td><td>str</td><td>i64</td><td>str</td><td>str</td><td>str</td><td>str</td><td>str</td><td>str</td><td>str</td><td>str</td><td>str</td><td>str</td><td>str</td><td>str</td><td>str</td><td>str</td><td>str</td><td>str</td><td>str</td><td>str</td><td>str</td><td>str</td><td>str</td><td>str</td><td>i64</td><td>str</td><td>str</td><td>str</td><td>i64</td><td>str</td><td>str</td><td>i64</td></tr></thead><tbody><tr><td>&quot;KI&quot;</td><td>&quot;IKT1&quot;</td><td>2022</td><td>&quot;Informační a k…</td><td>&quot;Informační a k…</td><td>&quot;A&quot;</td><td>&quot;N&quot;</td><td>1</td><td>&quot;NE&quot;</td><td>null</td><td>&quot;&#x27;RNDr. Jan Kre…</td><td>&quot;&#x27;RNDr. Jan Kre…</td><td>&quot;2776&quot;</td><td>&quot;&#x27;RNDr. Jan Kre…</td><td>&quot;&#x27;RNDr. Jan Kre…</td><td>&quot;2776&quot;</td><td>null</td><td>null</td><td>null</td><td>null</td><td>null</td><td>null</td><td>null</td><td>null</td><td>null</td><td>null</td><td>null</td><td>null</td><td>null</td><td>&quot;&#x27;https://clank…</td><td>null</td><td>null</td><td>null</td><td>&quot;N&quot;</td><td>1</td><td>&quot;HOD/TYD&quot;</td><td>0</td><td>&quot;HOD/TYD&quot;</td><td>0</td><td>&quot;HOD/TYD&quot;</td><td>&quot;Cílem je stude…</td><td>&quot;Zápočet&quot;</td><td>&quot;NE&quot;</td><td>&quot;Kombinovaná&quot;</td><td>&quot;účast (min. 80…</td><td>&quot;Tematické celk…</td><td>null</td><td>null</td><td>null</td><td>null</td><td>&quot;Čeština&quot;</td><td>null</td><td>&quot;A&quot;</td><td>&quot;N&quot;</td><td>&quot;N&quot;</td><td>null</td><td>null</td><td>null</td><td>&quot;A&quot;</td><td>&quot;N&quot;</td><td>null</td><td>0</td><td>null</td><td>&quot;Bc.&quot;</td><td>&quot;A&quot;</td><td>0</td><td>null</td><td>null</td><td>null</td></tr><tr><td>&quot;KI&quot;</td><td>&quot;EPIN&quot;</td><td>2022</td><td>&quot;Internet Progr…</td><td>&quot;Internet Progr…</td><td>&quot;A&quot;</td><td>&quot;N&quot;</td><td>7</td><td>&quot;NE&quot;</td><td>null</td><td>&quot;&#x27;doc. RNDr. Vi…</td><td>&quot;&#x27;doc. RNDr. Vi…</td><td>&quot;2239&quot;</td><td>&quot;&#x27;doc. RNDr. Vi…</td><td>&quot;&#x27;doc. RNDr. Vi…</td><td>&quot;2239&quot;</td><td>&quot;&#x27;doc. RNDr. Vi…</td><td>&quot;&#x27;doc. RNDr. Vi…</td><td>&quot;2239&quot;</td><td>null</td><td>null</td><td>null</td><td>null</td><td>null</td><td>null</td><td>null</td><td>null</td><td>null</td><td>null</td><td>null</td><td>null</td><td>null</td><td>null</td><td>&quot;N&quot;</td><td>2</td><td>&quot;HOD/TYD&quot;</td><td>2</td><td>&quot;HOD/TYD&quot;</td><td>0</td><td>&quot;HOD/TYD&quot;</td><td>&quot;The course foc…</td><td>&quot;Zkouška&quot;</td><td>&quot;NE&quot;</td><td>&quot;Kombinovaná&quot;</td><td>null</td><td>null</td><td>null</td><td>null</td><td>null</td><td>null</td><td>&quot;Angličtina&quot;</td><td>null</td><td>&quot;A&quot;</td><td>&quot;N&quot;</td><td>&quot;A&quot;</td><td>&quot;2/2 per week&quot;</td><td>null</td><td>null</td><td>&quot;N&quot;</td><td>&quot;N&quot;</td><td>null</td><td>0</td><td>null</td><td>null</td><td>&quot;A&quot;</td><td>0</td><td>null</td><td>null</td><td>null</td></tr><tr><td>&quot;KI&quot;</td><td>&quot;EPGL1&quot;</td><td>2022</td><td>&quot;Programming I&quot;</td><td>&quot;Programming I&quot;</td><td>&quot;A&quot;</td><td>&quot;N&quot;</td><td>7</td><td>&quot;NE&quot;</td><td>null</td><td>&quot;&#x27;Mgr. Jiří Fiš…</td><td>&quot;&#x27;Mgr. Jiří Fiš…</td><td>&quot;251&quot;</td><td>&quot;&#x27;Mgr. Jiří Fiš…</td><td>&quot;&#x27;Mgr. Jiří Fiš…</td><td>&quot;251&quot;</td><td>&quot;&#x27;Mgr. Jiří Fiš…</td><td>&quot;&#x27;Mgr. Jiří Fiš…</td><td>&quot;251&quot;</td><td>null</td><td>null</td><td>null</td><td>null</td><td>null</td><td>null</td><td>null</td><td>null</td><td>null</td><td>null</td><td>null</td><td>null</td><td>null</td><td>null</td><td>&quot;N&quot;</td><td>2</td><td>&quot;HOD/TYD&quot;</td><td>2</td><td>&quot;HOD/TYD&quot;</td><td>0</td><td>&quot;HOD/TYD&quot;</td><td>&quot;Introductory c…</td><td>&quot;Zkouška&quot;</td><td>&quot;NE&quot;</td><td>&quot;Kombinovaná&quot;</td><td>null</td><td>null</td><td>null</td><td>null</td><td>null</td><td>null</td><td>&quot;Angličtina&quot;</td><td>null</td><td>&quot;A&quot;</td><td>&quot;N&quot;</td><td>&quot;A&quot;</td><td>&quot;2/2 per week&quot;</td><td>null</td><td>null</td><td>&quot;N&quot;</td><td>&quot;N&quot;</td><td>null</td><td>0</td><td>null</td><td>null</td><td>&quot;A&quot;</td><td>0</td><td>null</td><td>null</td><td>null</td></tr><tr><td>&quot;KI&quot;</td><td>&quot;0168&quot;</td><td>2022</td><td>&quot;Hybridní Petri…</td><td>&quot;Hybridní Petri…</td><td>&quot;A&quot;</td><td>&quot;A&quot;</td><td>2</td><td>&quot;NE&quot;</td><td>null</td><td>&quot;&#x27;doc. Ing. Mgr…</td><td>&quot;&#x27;doc. Ing. Mgr…</td><td>&quot;449&quot;</td><td>null</td><td>null</td><td>null</td><td>null</td><td>null</td><td>null</td><td>&quot;&#x27;doc. Ing. Mgr…</td><td>&quot;&#x27;doc. Ing. Mgr…</td><td>&quot;449&quot;</td><td>null</td><td>null</td><td>null</td><td>null</td><td>null</td><td>null</td><td>null</td><td>&quot;&#x27;DAVID, René a…</td><td>null</td><td>null</td><td>null</td><td>&quot;N&quot;</td><td>0</td><td>&quot;HOD/TYD&quot;</td><td>0</td><td>&quot;HOD/TYD&quot;</td><td>2</td><td>&quot;HOD/TYD&quot;</td><td>&quot;Petriho sítěmi…</td><td>&quot;Zápočet&quot;</td><td>&quot;NE&quot;</td><td>&quot;Kombinovaná&quot;</td><td>&quot;vypracování se…</td><td>&quot;1 Základní inf…</td><td>null</td><td>&quot;Zvládnutí zákl…</td><td>null</td><td>null</td><td>null</td><td>&quot;Tento kurz vzn…</td><td>&quot;A&quot;</td><td>&quot;N&quot;</td><td>&quot;N&quot;</td><td>null</td><td>null</td><td>null</td><td>&quot;A&quot;</td><td>&quot;A&quot;</td><td>null</td><td>0</td><td>null</td><td>&quot;Bc.&quot;</td><td>&quot;A&quot;</td><td>null</td><td>null</td><td>null</td><td>null</td></tr><tr><td>&quot;KI&quot;</td><td>&quot;DSW&quot;</td><td>2022</td><td>&quot;Dependabilita …</td><td>&quot;Dependabilita …</td><td>&quot;N&quot;</td><td>&quot;A&quot;</td><td>3</td><td>&quot;NE&quot;</td><td>null</td><td>&quot;&#x27;doc. RNDr. Vi…</td><td>&quot;&#x27;doc. RNDr. Vi…</td><td>&quot;2239&quot;</td><td>&quot;&#x27;doc. RNDr. Vi…</td><td>&quot;&#x27;doc. RNDr. Vi…</td><td>&quot;2239&quot;</td><td>null</td><td>null</td><td>null</td><td>null</td><td>null</td><td>null</td><td>null</td><td>null</td><td>null</td><td>null</td><td>&quot;KI/DEP, KI/DSY…</td><td>null</td><td>null</td><td>&quot;&#x27;Laprie, J.C.,…</td><td>null</td><td>null</td><td>null</td><td>&quot;N&quot;</td><td>2</td><td>&quot;HOD/TYD&quot;</td><td>0</td><td>&quot;HOD/TYD&quot;</td><td>0</td><td>&quot;HOD/TYD&quot;</td><td>&quot;Kurz dává zákl…</td><td>&quot;Zkouška&quot;</td><td>&quot;NE&quot;</td><td>&quot;Kombinovaná&quot;</td><td>&quot;Student musí o…</td><td>&quot;1.\tÚvod do pro…</td><td>null</td><td>null</td><td>null</td><td>null</td><td>&quot;Čeština&quot;</td><td>&quot;výuka v pátek&quot;</td><td>&quot;A&quot;</td><td>&quot;N&quot;</td><td>&quot;N&quot;</td><td>null</td><td>null</td><td>null</td><td>&quot;A&quot;</td><td>&quot;N&quot;</td><td>null</td><td>0</td><td>null</td><td>&quot;Bc.&quot;</td><td>&quot;A&quot;</td><td>null</td><td>null</td><td>null</td><td>null</td></tr></tbody></table></div>"
      ],
      "text/plain": [
       "shape: (5, 69)\n",
       "┌─────────┬─────────┬──────┬──────────────────────────┬───┬───────────────────┬──────┬──────┬──────┐\n",
       "│ katedra ┆ zkratka ┆ rok  ┆ nazev                    ┆ … ┆ hodZaSemKombForma ┆ aMax ┆ bMax ┆ cMax │\n",
       "│ ---     ┆ ---     ┆ ---  ┆ ---                      ┆   ┆ ---               ┆ ---  ┆ ---  ┆ ---  │\n",
       "│ str     ┆ str     ┆ i64  ┆ str                      ┆   ┆ i64               ┆ str  ┆ str  ┆ i64  │\n",
       "╞═════════╪═════════╪══════╪══════════════════════════╪═══╪═══════════════════╪══════╪══════╪══════╡\n",
       "│ KI      ┆ IKT1    ┆ 2022 ┆ Informační a komunikační ┆ … ┆ 0                 ┆ null ┆ null ┆ null │\n",
       "│         ┆         ┆      ┆ technol…                 ┆   ┆                   ┆      ┆      ┆      │\n",
       "│ KI      ┆ EPIN    ┆ 2022 ┆ Internet Programming     ┆ … ┆ 0                 ┆ null ┆ null ┆ null │\n",
       "│ KI      ┆ EPGL1   ┆ 2022 ┆ Programming I            ┆ … ┆ 0                 ┆ null ┆ null ┆ null │\n",
       "│ KI      ┆ 0168    ┆ 2022 ┆ Hybridní Petriho sítě    ┆ … ┆ null              ┆ null ┆ null ┆ null │\n",
       "│ KI      ┆ DSW     ┆ 2022 ┆ Dependabilita            ┆ … ┆ null              ┆ null ┆ null ┆ null │\n",
       "│         ┆         ┆      ┆ softwarových systé…      ┆   ┆                   ┆      ┆      ┆      │\n",
       "└─────────┴─────────┴──────┴──────────────────────────┴───┴───────────────────┴──────┴──────┴──────┘"
      ]
     },
     "execution_count": 4,
     "metadata": {},
     "output_type": "execute_result"
    }
   ],
   "source": [
    "predmety_by_kat.head()"
   ]
  },
  {
   "cell_type": "code",
   "execution_count": 5,
   "metadata": {},
   "outputs": [
    {
     "data": {
      "text/html": [
       "<div><style>\n",
       ".dataframe > thead > tr > th,\n",
       ".dataframe > tbody > tr > td {\n",
       "  text-align: right;\n",
       "}\n",
       "</style>\n",
       "<small>shape: (5, 54)</small><table border=\"1\" class=\"dataframe\"><thead><tr><th>roakIdno</th><th>nazev</th><th>katedra</th><th>zkratka</th><th>statut</th><th>ucitIdno</th><th>ucitIdno.ucitel</th><th>jmeno.ucitel</th><th>prijmeni.ucitel</th><th>titulPred.ucitel</th><th>titulZa.ucitel</th><th>platnost.ucitel</th><th>zamestnanec.ucitel</th><th>podilNaVyuce.ucitel</th><th>rok</th><th>budova</th><th>mistnost</th><th>kapacitaMistnosti</th><th>planObsazeni</th><th>obsazeni</th><th>typAkce</th><th>typAkceZkr</th><th>platnost</th><th>den</th><th>denZkr</th><th>vyucJazyk</th><th>hodinaOd</th><th>hodinaDo</th><th>pocetVyucHodin</th><th>hodinaSkutOd</th><th>hodinaSkutDo</th><th>tydenOd</th><th>tydenDo</th><th>tyden</th><th>tydenZkr</th><th>grupIdno</th><th>jeNadrazena</th><th>maNadrazenou</th><th>kontakt</th><th>krouzky</th><th>casovaRada</th><th>datum</th><th>datumOd</th><th>datumDo</th><th>druhAkce</th><th>vsichniUciteleUcitIdno</th><th>vsichniUciteleJmenaTituly</th><th>vsichniUciteleJmenaTitulySPodily</th><th>vsichniUcitelePrijmeni</th><th>referencedIdno</th><th>poznamkaRozvrhare</th><th>nekonaSe</th><th>owner</th><th>zakazaneAkce</th></tr><tr><td>i64</td><td>str</td><td>str</td><td>str</td><td>str</td><td>i64</td><td>i64</td><td>str</td><td>str</td><td>str</td><td>str</td><td>str</td><td>str</td><td>i64</td><td>i64</td><td>str</td><td>f64</td><td>i64</td><td>i64</td><td>i64</td><td>str</td><td>str</td><td>str</td><td>str</td><td>str</td><td>str</td><td>i64</td><td>i64</td><td>i64</td><td>str</td><td>str</td><td>i64</td><td>i64</td><td>str</td><td>str</td><td>i64</td><td>str</td><td>str</td><td>str</td><td>str</td><td>str</td><td>str</td><td>str</td><td>str</td><td>str</td><td>str</td><td>str</td><td>str</td><td>str</td><td>i64</td><td>str</td><td>str</td><td>str</td><td>str</td></tr></thead><tbody><tr><td>451141</td><td>&quot;Python and R f…</td><td>&quot;KI&quot;</td><td>&quot;KPYR&quot;</td><td>null</td><td>6259</td><td>6259</td><td>&quot;Jiří&quot;</td><td>&quot;Škvára&quot;</td><td>&quot;RNDr.&quot;</td><td>&quot;Ph.D.&quot;</td><td>&quot;A&quot;</td><td>&quot;A&quot;</td><td>100</td><td>2022</td><td>&quot;CP&quot;</td><td>7.06</td><td>24</td><td>12</td><td>8</td><td>&quot;Cvičení&quot;</td><td>&quot;Cv&quot;</td><td>&quot;A&quot;</td><td>&quot;Neděle&quot;</td><td>&quot;Ne&quot;</td><td>null</td><td>7</td><td>9</td><td>3</td><td>&quot;13:00&quot;</td><td>&quot;15:50&quot;</td><td>41</td><td>41</td><td>&quot;Jiný&quot;</td><td>&quot;J&quot;</td><td>27925</td><td>&quot;N&quot;</td><td>&quot;N&quot;</td><td>&quot;Automaticky vy…</td><td>&quot;1.KAPI N&quot;</td><td>&quot;UJEP&quot;</td><td>null</td><td>&quot;16.10.2022&quot;</td><td>&quot;16.10.2022&quot;</td><td>&quot;R&quot;</td><td>&quot;6259&quot;</td><td>&quot;RNDr. Jiří Škv…</td><td>&quot;&#x27;RNDr. Jiří Šk…</td><td>&quot;Škvára&quot;</td><td>451141</td><td>null</td><td>null</td><td>&quot;PETRUSPRF&quot;</td><td>null</td></tr><tr><td>463141</td><td>&quot;Práce s roboti…</td><td>&quot;KI&quot;</td><td>&quot;KROB&quot;</td><td>null</td><td>2776</td><td>2776</td><td>&quot;Jan&quot;</td><td>&quot;Krejčí&quot;</td><td>&quot;RNDr.&quot;</td><td>&quot;Ph.D.&quot;</td><td>&quot;A&quot;</td><td>&quot;A&quot;</td><td>100</td><td>2022</td><td>&quot;CP&quot;</td><td>7.08</td><td>12</td><td>12</td><td>3</td><td>&quot;Seminář&quot;</td><td>&quot;Se&quot;</td><td>&quot;A&quot;</td><td>&quot;Sobota&quot;</td><td>&quot;So&quot;</td><td>null</td><td>3</td><td>6</td><td>4</td><td>&quot;09:00&quot;</td><td>&quot;12:50&quot;</td><td>17</td><td>17</td><td>&quot;Jiný&quot;</td><td>&quot;J&quot;</td><td>29189</td><td>&quot;N&quot;</td><td>&quot;N&quot;</td><td>&quot;Automaticky vy…</td><td>&quot;2.KAPI Bc,2.MA…</td><td>&quot;UJEP&quot;</td><td>null</td><td>&quot;29.04.2023&quot;</td><td>&quot;29.04.2023&quot;</td><td>&quot;R&quot;</td><td>&quot;2776&quot;</td><td>&quot;RNDr. Jan Krej…</td><td>&quot;&#x27;RNDr. Jan Kre…</td><td>&quot;Krejčí&quot;</td><td>463141</td><td>null</td><td>null</td><td>&quot;RSKVARA&quot;</td><td>null</td></tr><tr><td>463085</td><td>&quot;Praktické využ…</td><td>&quot;KI&quot;</td><td>&quot;KPVPS&quot;</td><td>null</td><td>449</td><td>449</td><td>&quot;Jiří&quot;</td><td>&quot;Barilla&quot;</td><td>&quot;doc. Ing. Mgr.…</td><td>&quot;CSc.&quot;</td><td>&quot;A&quot;</td><td>&quot;A&quot;</td><td>100</td><td>2022</td><td>null</td><td>null</td><td>null</td><td>20</td><td>9</td><td>&quot;Seminář&quot;</td><td>&quot;Se&quot;</td><td>&quot;A&quot;</td><td>null</td><td>null</td><td>null</td><td>null</td><td>null</td><td>null</td><td>&quot;00:00&quot;</td><td>&quot;00:00&quot;</td><td>0</td><td>0</td><td>&quot;Každý&quot;</td><td>&quot;K&quot;</td><td>29173</td><td>&quot;N&quot;</td><td>&quot;N&quot;</td><td>&quot;Automaticky vy…</td><td>&quot;2.KAPI N&quot;</td><td>null</td><td>null</td><td>null</td><td>null</td><td>&quot;R&quot;</td><td>&quot;449&quot;</td><td>&quot;doc. Ing. Mgr.…</td><td>&quot;&#x27;doc. Ing. Mgr…</td><td>&quot;Barilla&quot;</td><td>463085</td><td>null</td><td>null</td><td>&quot;RSKVARA&quot;</td><td>null</td></tr><tr><td>446694</td><td>&quot;System Simulat…</td><td>&quot;KI&quot;</td><td>&quot;SYS&quot;</td><td>null</td><td>3521</td><td>3521</td><td>&quot;Zbyšek&quot;</td><td>&quot;Posel&quot;</td><td>&quot;RNDr.&quot;</td><td>&quot;Ph.D.&quot;</td><td>&quot;A&quot;</td><td>&quot;A&quot;</td><td>100</td><td>2022</td><td>&quot;CP&quot;</td><td>6.12</td><td>8</td><td>5</td><td>1</td><td>&quot;Přednáška&quot;</td><td>&quot;Př&quot;</td><td>&quot;A&quot;</td><td>&quot;Pátek&quot;</td><td>&quot;Pá&quot;</td><td>null</td><td>3</td><td>3</td><td>1</td><td>&quot;09:00&quot;</td><td>&quot;09:50&quot;</td><td>44</td><td>1</td><td>&quot;Jiný&quot;</td><td>&quot;J&quot;</td><td>null</td><td>&quot;N&quot;</td><td>&quot;N&quot;</td><td>&quot;Automaticky vy…</td><td>&quot;2.API N&quot;</td><td>&quot;UJEP&quot;</td><td>null</td><td>&quot;04.11.2022&quot;</td><td>&quot;06.01.2023&quot;</td><td>&quot;R&quot;</td><td>&quot;3521, 251, 285…</td><td>&quot;RNDr. Zbyšek P…</td><td>&quot;&#x27;RNDr. Zbyšek …</td><td>&quot;Posel, Fišer, …</td><td>446694</td><td>null</td><td>&quot;23.12.2022: Od…</td><td>&quot;PETRUSPRF&quot;</td><td>null</td></tr><tr><td>459039</td><td>&quot;Didaktika info…</td><td>&quot;KI&quot;</td><td>&quot;KDI2&quot;</td><td>null</td><td>2776</td><td>2776</td><td>&quot;Jan&quot;</td><td>&quot;Krejčí&quot;</td><td>&quot;RNDr.&quot;</td><td>&quot;Ph.D.&quot;</td><td>&quot;A&quot;</td><td>&quot;A&quot;</td><td>100</td><td>2022</td><td>&quot;CP&quot;</td><td>7.07</td><td>12</td><td>12</td><td>5</td><td>&quot;Přednáška&quot;</td><td>&quot;Př&quot;</td><td>&quot;A&quot;</td><td>&quot;Neděle&quot;</td><td>&quot;Ne&quot;</td><td>null</td><td>3</td><td>4</td><td>2</td><td>&quot;09:00&quot;</td><td>&quot;10:50&quot;</td><td>9</td><td>9</td><td>&quot;Jiný&quot;</td><td>&quot;J&quot;</td><td>29142</td><td>&quot;N&quot;</td><td>&quot;N&quot;</td><td>&quot;Automaticky vy…</td><td>&quot;1.FYINFKSŠ,1.I…</td><td>&quot;UJEP&quot;</td><td>null</td><td>&quot;05.03.2023&quot;</td><td>&quot;05.03.2023&quot;</td><td>&quot;R&quot;</td><td>&quot;2776&quot;</td><td>&quot;RNDr. Jan Krej…</td><td>&quot;&#x27;RNDr. Jan Kre…</td><td>&quot;Krejčí&quot;</td><td>459039</td><td>null</td><td>null</td><td>&quot;RSKVARA&quot;</td><td>null</td></tr></tbody></table></div>"
      ],
      "text/plain": [
       "shape: (5, 54)\n",
       "┌──────────┬────────────┬─────────┬─────────┬───┬────────────┬────────────┬───────────┬────────────┐\n",
       "│ roakIdno ┆ nazev      ┆ katedra ┆ zkratka ┆ … ┆ poznamkaRo ┆ nekonaSe   ┆ owner     ┆ zakazaneAk │\n",
       "│ ---      ┆ ---        ┆ ---     ┆ ---     ┆   ┆ zvrhare    ┆ ---        ┆ ---       ┆ ce         │\n",
       "│ i64      ┆ str        ┆ str     ┆ str     ┆   ┆ ---        ┆ str        ┆ str       ┆ ---        │\n",
       "│          ┆            ┆         ┆         ┆   ┆ str        ┆            ┆           ┆ str        │\n",
       "╞══════════╪════════════╪═════════╪═════════╪═══╪════════════╪════════════╪═══════════╪════════════╡\n",
       "│ 451141   ┆ Python and ┆ KI      ┆ KPYR    ┆ … ┆ null       ┆ null       ┆ PETRUSPRF ┆ null       │\n",
       "│          ┆ R for Data ┆         ┆         ┆   ┆            ┆            ┆           ┆            │\n",
       "│          ┆ Science    ┆         ┆         ┆   ┆            ┆            ┆           ┆            │\n",
       "│ 463141   ┆ Práce s    ┆ KI      ┆ KROB    ┆ … ┆ null       ┆ null       ┆ RSKVARA   ┆ null       │\n",
       "│          ┆ robotickým ┆         ┆         ┆   ┆            ┆            ┆           ┆            │\n",
       "│          ┆ i stavebni ┆         ┆         ┆   ┆            ┆            ┆           ┆            │\n",
       "│          ┆ cemi       ┆         ┆         ┆   ┆            ┆            ┆           ┆            │\n",
       "│ 463085   ┆ Praktické  ┆ KI      ┆ KPVPS   ┆ … ┆ null       ┆ null       ┆ RSKVARA   ┆ null       │\n",
       "│          ┆ využití    ┆         ┆         ┆   ┆            ┆            ┆           ┆            │\n",
       "│          ┆ Petriho    ┆         ┆         ┆   ┆            ┆            ┆           ┆            │\n",
       "│          ┆ sítí       ┆         ┆         ┆   ┆            ┆            ┆           ┆            │\n",
       "│ 446694   ┆ System     ┆ KI      ┆ SYS     ┆ … ┆ null       ┆ 23.12.2022 ┆ PETRUSPRF ┆ null       │\n",
       "│          ┆ Simulation ┆         ┆         ┆   ┆            ┆ : Odpadá   ┆           ┆            │\n",
       "│ 459039   ┆ Didaktika  ┆ KI      ┆ KDI2    ┆ … ┆ null       ┆ null       ┆ RSKVARA   ┆ null       │\n",
       "│          ┆ informatik ┆         ┆         ┆   ┆            ┆            ┆           ┆            │\n",
       "│          ┆ y II       ┆         ┆         ┆   ┆            ┆            ┆           ┆            │\n",
       "└──────────┴────────────┴─────────┴─────────┴───┴────────────┴────────────┴───────────┴────────────┘"
      ]
     },
     "execution_count": 5,
     "metadata": {},
     "output_type": "execute_result"
    }
   ],
   "source": [
    "rozvrh_by_kat.head()"
   ]
  },
  {
   "cell_type": "code",
   "execution_count": 6,
   "metadata": {},
   "outputs": [
    {
     "data": {
      "text/plain": [
       "{'katedra', 'nazev', 'rok', 'zkratka'}"
      ]
     },
     "execution_count": 6,
     "metadata": {},
     "output_type": "execute_result"
    }
   ],
   "source": [
    "set(rozvrh_by_kat.columns) & set(predmety_by_kat.columns)"
   ]
  },
  {
   "cell_type": "code",
   "execution_count": 7,
   "metadata": {},
   "outputs": [
    {
     "data": {
      "text/html": [
       "<div><style>\n",
       ".dataframe > thead > tr > th,\n",
       ".dataframe > tbody > tr > td {\n",
       "  text-align: right;\n",
       "}\n",
       "</style>\n",
       "<small>shape: (1, 54)</small><table border=\"1\" class=\"dataframe\"><thead><tr><th>roakIdno</th><th>nazev</th><th>katedra</th><th>zkratka</th><th>statut</th><th>ucitIdno</th><th>ucitIdno.ucitel</th><th>jmeno.ucitel</th><th>prijmeni.ucitel</th><th>titulPred.ucitel</th><th>titulZa.ucitel</th><th>platnost.ucitel</th><th>zamestnanec.ucitel</th><th>podilNaVyuce.ucitel</th><th>rok</th><th>budova</th><th>mistnost</th><th>kapacitaMistnosti</th><th>planObsazeni</th><th>obsazeni</th><th>typAkce</th><th>typAkceZkr</th><th>platnost</th><th>den</th><th>denZkr</th><th>vyucJazyk</th><th>hodinaOd</th><th>hodinaDo</th><th>pocetVyucHodin</th><th>hodinaSkutOd</th><th>hodinaSkutDo</th><th>tydenOd</th><th>tydenDo</th><th>tyden</th><th>tydenZkr</th><th>grupIdno</th><th>jeNadrazena</th><th>maNadrazenou</th><th>kontakt</th><th>krouzky</th><th>casovaRada</th><th>datum</th><th>datumOd</th><th>datumDo</th><th>druhAkce</th><th>vsichniUciteleUcitIdno</th><th>vsichniUciteleJmenaTituly</th><th>vsichniUciteleJmenaTitulySPodily</th><th>vsichniUcitelePrijmeni</th><th>referencedIdno</th><th>poznamkaRozvrhare</th><th>nekonaSe</th><th>owner</th><th>zakazaneAkce</th></tr><tr><td>u32</td><td>u32</td><td>u32</td><td>u32</td><td>u32</td><td>u32</td><td>u32</td><td>u32</td><td>u32</td><td>u32</td><td>u32</td><td>u32</td><td>u32</td><td>u32</td><td>u32</td><td>u32</td><td>u32</td><td>u32</td><td>u32</td><td>u32</td><td>u32</td><td>u32</td><td>u32</td><td>u32</td><td>u32</td><td>u32</td><td>u32</td><td>u32</td><td>u32</td><td>u32</td><td>u32</td><td>u32</td><td>u32</td><td>u32</td><td>u32</td><td>u32</td><td>u32</td><td>u32</td><td>u32</td><td>u32</td><td>u32</td><td>u32</td><td>u32</td><td>u32</td><td>u32</td><td>u32</td><td>u32</td><td>u32</td><td>u32</td><td>u32</td><td>u32</td><td>u32</td><td>u32</td><td>u32</td></tr></thead><tbody><tr><td>0</td><td>0</td><td>0</td><td>0</td><td>717</td><td>19</td><td>19</td><td>19</td><td>19</td><td>27</td><td>198</td><td>19</td><td>19</td><td>19</td><td>0</td><td>153</td><td>153</td><td>153</td><td>0</td><td>0</td><td>0</td><td>0</td><td>0</td><td>173</td><td>173</td><td>717</td><td>174</td><td>174</td><td>168</td><td>0</td><td>0</td><td>0</td><td>0</td><td>0</td><td>0</td><td>335</td><td>0</td><td>0</td><td>6</td><td>19</td><td>174</td><td>717</td><td>173</td><td>173</td><td>0</td><td>19</td><td>19</td><td>19</td><td>19</td><td>0</td><td>717</td><td>620</td><td>0</td><td>705</td></tr></tbody></table></div>"
      ],
      "text/plain": [
       "shape: (1, 54)\n",
       "┌──────────┬───────┬─────────┬─────────┬───┬───────────────────┬──────────┬───────┬──────────────┐\n",
       "│ roakIdno ┆ nazev ┆ katedra ┆ zkratka ┆ … ┆ poznamkaRozvrhare ┆ nekonaSe ┆ owner ┆ zakazaneAkce │\n",
       "│ ---      ┆ ---   ┆ ---     ┆ ---     ┆   ┆ ---               ┆ ---      ┆ ---   ┆ ---          │\n",
       "│ u32      ┆ u32   ┆ u32     ┆ u32     ┆   ┆ u32               ┆ u32      ┆ u32   ┆ u32          │\n",
       "╞══════════╪═══════╪═════════╪═════════╪═══╪═══════════════════╪══════════╪═══════╪══════════════╡\n",
       "│ 0        ┆ 0     ┆ 0       ┆ 0       ┆ … ┆ 717               ┆ 620      ┆ 0     ┆ 705          │\n",
       "└──────────┴───────┴─────────┴─────────┴───┴───────────────────┴──────────┴───────┴──────────────┘"
      ]
     },
     "execution_count": 7,
     "metadata": {},
     "output_type": "execute_result"
    }
   ],
   "source": [
    "rozvrh_by_kat.null_count()"
   ]
  },
  {
   "cell_type": "code",
   "execution_count": 8,
   "metadata": {},
   "outputs": [
    {
     "data": {
      "text/html": [
       "<div><style>\n",
       ".dataframe > thead > tr > th,\n",
       ".dataframe > tbody > tr > td {\n",
       "  text-align: right;\n",
       "}\n",
       "</style>\n",
       "<small>shape: (1, 69)</small><table border=\"1\" class=\"dataframe\"><thead><tr><th>katedra</th><th>zkratka</th><th>rok</th><th>nazev</th><th>nazevDlouhy</th><th>vyukaZS</th><th>vyukaLS</th><th>kreditu</th><th>viceZapis</th><th>minObsazeni</th><th>garanti</th><th>garantiSPodily</th><th>garantiUcitIdno</th><th>prednasejici</th><th>prednasejiciSPodily</th><th>prednasejiciUcitIdno</th><th>cvicici</th><th>cviciciSPodily</th><th>cviciciUcitIdno</th><th>seminarici</th><th>seminariciSPodily</th><th>seminariciUcitIdno</th><th>schvalujiciUznani</th><th>schvalujiciUznaniUcitIdno</th><th>examinatori</th><th>examinatoriUcitIdno</th><th>podminujiciPredmety</th><th>vylucujiciPredmety</th><th>podminujePredmety</th><th>literatura</th><th>nahrazPredmety</th><th>metodyVyucovaci</th><th>metodyHodnotici</th><th>akreditovan</th><th>jednotekPrednasek</th><th>jednotkaPrednasky</th><th>jednotekCviceni</th><th>jednotkaCviceni</th><th>jednotekSeminare</th><th>jednotkaSeminare</th><th>anotace</th><th>typZkousky</th><th>maZapocetPredZk</th><th>formaZkousky</th><th>pozadavky</th><th>prehledLatky</th><th>predpoklady</th><th>ziskaneZpusobilosti</th><th>casovaNarocnost</th><th>predmetUrl</th><th>vyucovaciJazyky</th><th>poznamka</th><th>ectsZobrazit</th><th>ectsAkreditace</th><th>ectsNabizetUPrijezdu</th><th>poznamkaVerejna</th><th>skupinaAkreditace</th><th>skupinaAkreditaceKey</th><th>zarazenDoPrezencnihoStudia</th><th>zarazenDoKombinovanehoStudia</th><th>studijniOpory</th><th>praxePocetDnu</th><th>urovenNastavena</th><th>urovenVypoctena</th><th>automatickyUznavatZppZk</th><th>hodZaSemKombForma</th><th>aMax</th><th>bMax</th><th>cMax</th></tr><tr><td>u32</td><td>u32</td><td>u32</td><td>u32</td><td>u32</td><td>u32</td><td>u32</td><td>u32</td><td>u32</td><td>u32</td><td>u32</td><td>u32</td><td>u32</td><td>u32</td><td>u32</td><td>u32</td><td>u32</td><td>u32</td><td>u32</td><td>u32</td><td>u32</td><td>u32</td><td>u32</td><td>u32</td><td>u32</td><td>u32</td><td>u32</td><td>u32</td><td>u32</td><td>u32</td><td>u32</td><td>u32</td><td>u32</td><td>u32</td><td>u32</td><td>u32</td><td>u32</td><td>u32</td><td>u32</td><td>u32</td><td>u32</td><td>u32</td><td>u32</td><td>u32</td><td>u32</td><td>u32</td><td>u32</td><td>u32</td><td>u32</td><td>u32</td><td>u32</td><td>u32</td><td>u32</td><td>u32</td><td>u32</td><td>u32</td><td>u32</td><td>u32</td><td>u32</td><td>u32</td><td>u32</td><td>u32</td><td>u32</td><td>u32</td><td>u32</td><td>u32</td><td>u32</td><td>u32</td><td>u32</td></tr></thead><tbody><tr><td>0</td><td>0</td><td>0</td><td>0</td><td>0</td><td>0</td><td>0</td><td>0</td><td>0</td><td>523</td><td>42</td><td>42</td><td>42</td><td>318</td><td>318</td><td>318</td><td>308</td><td>308</td><td>308</td><td>318</td><td>318</td><td>318</td><td>523</td><td>523</td><td>521</td><td>521</td><td>360</td><td>500</td><td>423</td><td>264</td><td>497</td><td>506</td><td>516</td><td>0</td><td>0</td><td>0</td><td>0</td><td>0</td><td>0</td><td>0</td><td>63</td><td>0</td><td>0</td><td>2</td><td>138</td><td>113</td><td>466</td><td>494</td><td>523</td><td>523</td><td>16</td><td>474</td><td>0</td><td>0</td><td>0</td><td>490</td><td>520</td><td>520</td><td>0</td><td>0</td><td>522</td><td>0</td><td>511</td><td>61</td><td>1</td><td>238</td><td>523</td><td>523</td><td>508</td></tr></tbody></table></div>"
      ],
      "text/plain": [
       "shape: (1, 69)\n",
       "┌─────────┬─────────┬─────┬───────┬───┬───────────────────┬──────┬──────┬──────┐\n",
       "│ katedra ┆ zkratka ┆ rok ┆ nazev ┆ … ┆ hodZaSemKombForma ┆ aMax ┆ bMax ┆ cMax │\n",
       "│ ---     ┆ ---     ┆ --- ┆ ---   ┆   ┆ ---               ┆ ---  ┆ ---  ┆ ---  │\n",
       "│ u32     ┆ u32     ┆ u32 ┆ u32   ┆   ┆ u32               ┆ u32  ┆ u32  ┆ u32  │\n",
       "╞═════════╪═════════╪═════╪═══════╪═══╪═══════════════════╪══════╪══════╪══════╡\n",
       "│ 0       ┆ 0       ┆ 0   ┆ 0     ┆ … ┆ 238               ┆ 523  ┆ 523  ┆ 508  │\n",
       "└─────────┴─────────┴─────┴───────┴───┴───────────────────┴──────┴──────┴──────┘"
      ]
     },
     "execution_count": 8,
     "metadata": {},
     "output_type": "execute_result"
    }
   ],
   "source": [
    "predmety_by_kat.null_count()"
   ]
  },
  {
   "cell_type": "code",
   "execution_count": 9,
   "metadata": {},
   "outputs": [],
   "source": [
    "# vybírám pouze předměty, které mají rozvrhovou akci"
   ]
  },
  {
   "cell_type": "code",
   "execution_count": 10,
   "metadata": {},
   "outputs": [
    {
     "data": {
      "text/html": [
       "<div><style>\n",
       ".dataframe > thead > tr > th,\n",
       ".dataframe > tbody > tr > td {\n",
       "  text-align: right;\n",
       "}\n",
       "</style>\n",
       "<small>shape: (5, 69)</small><table border=\"1\" class=\"dataframe\"><thead><tr><th>katedra</th><th>zkratka</th><th>rok</th><th>nazev</th><th>nazevDlouhy</th><th>vyukaZS</th><th>vyukaLS</th><th>kreditu</th><th>viceZapis</th><th>minObsazeni</th><th>garanti</th><th>garantiSPodily</th><th>garantiUcitIdno</th><th>prednasejici</th><th>prednasejiciSPodily</th><th>prednasejiciUcitIdno</th><th>cvicici</th><th>cviciciSPodily</th><th>cviciciUcitIdno</th><th>seminarici</th><th>seminariciSPodily</th><th>seminariciUcitIdno</th><th>schvalujiciUznani</th><th>schvalujiciUznaniUcitIdno</th><th>examinatori</th><th>examinatoriUcitIdno</th><th>podminujiciPredmety</th><th>vylucujiciPredmety</th><th>podminujePredmety</th><th>literatura</th><th>nahrazPredmety</th><th>metodyVyucovaci</th><th>metodyHodnotici</th><th>akreditovan</th><th>jednotekPrednasek</th><th>jednotkaPrednasky</th><th>jednotekCviceni</th><th>jednotkaCviceni</th><th>jednotekSeminare</th><th>jednotkaSeminare</th><th>anotace</th><th>typZkousky</th><th>maZapocetPredZk</th><th>formaZkousky</th><th>pozadavky</th><th>prehledLatky</th><th>predpoklady</th><th>ziskaneZpusobilosti</th><th>casovaNarocnost</th><th>predmetUrl</th><th>vyucovaciJazyky</th><th>poznamka</th><th>ectsZobrazit</th><th>ectsAkreditace</th><th>ectsNabizetUPrijezdu</th><th>poznamkaVerejna</th><th>skupinaAkreditace</th><th>skupinaAkreditaceKey</th><th>zarazenDoPrezencnihoStudia</th><th>zarazenDoKombinovanehoStudia</th><th>studijniOpory</th><th>praxePocetDnu</th><th>urovenNastavena</th><th>urovenVypoctena</th><th>automatickyUznavatZppZk</th><th>hodZaSemKombForma</th><th>aMax</th><th>bMax</th><th>cMax</th></tr><tr><td>str</td><td>str</td><td>i64</td><td>str</td><td>str</td><td>str</td><td>str</td><td>i64</td><td>str</td><td>str</td><td>str</td><td>str</td><td>str</td><td>str</td><td>str</td><td>str</td><td>str</td><td>str</td><td>str</td><td>str</td><td>str</td><td>str</td><td>str</td><td>str</td><td>str</td><td>str</td><td>str</td><td>str</td><td>str</td><td>str</td><td>str</td><td>str</td><td>str</td><td>str</td><td>i64</td><td>str</td><td>i64</td><td>str</td><td>i64</td><td>str</td><td>str</td><td>str</td><td>str</td><td>str</td><td>str</td><td>str</td><td>str</td><td>str</td><td>str</td><td>str</td><td>str</td><td>str</td><td>str</td><td>str</td><td>str</td><td>str</td><td>str</td><td>str</td><td>str</td><td>str</td><td>str</td><td>i64</td><td>str</td><td>str</td><td>str</td><td>i64</td><td>str</td><td>str</td><td>i64</td></tr></thead><tbody><tr><td>&quot;KI&quot;</td><td>&quot;0054&quot;</td><td>2022</td><td>&quot;Programování v…</td><td>&quot;Programování v…</td><td>&quot;A&quot;</td><td>&quot;A&quot;</td><td>2</td><td>&quot;NE&quot;</td><td>null</td><td>&quot;&#x27;doc. Ing. Mgr…</td><td>&quot;&#x27;doc. Ing. Mgr…</td><td>&quot;449&quot;</td><td>null</td><td>null</td><td>null</td><td>null</td><td>null</td><td>null</td><td>&quot;&#x27;doc. Ing. Mgr…</td><td>&quot;&#x27;doc. Ing. Mgr…</td><td>&quot;449&quot;</td><td>null</td><td>null</td><td>null</td><td>null</td><td>null</td><td>null</td><td>null</td><td>&quot;&#x27;Král, M. Exce…</td><td>null</td><td>&quot;Monologická (v…</td><td>null</td><td>&quot;A&quot;</td><td>0</td><td>&quot;HOD/TYD&quot;</td><td>0</td><td>&quot;HOD/TYD&quot;</td><td>2</td><td>&quot;HOD/TYD&quot;</td><td>&quot;Tento předmět …</td><td>&quot;Zápočet&quot;</td><td>&quot;NE&quot;</td><td>&quot;Ústní&quot;</td><td>&quot;75% aktivní úč…</td><td>&quot;1. Základní in…</td><td>null</td><td>&quot;Zvládnutí zákl…</td><td>null</td><td>null</td><td>&quot;Čeština&quot;</td><td>&quot;vk 1528&quot;</td><td>&quot;A&quot;</td><td>&quot;N&quot;</td><td>&quot;N&quot;</td><td>null</td><td>&quot;1&quot;</td><td>&quot;1&quot;</td><td>&quot;A&quot;</td><td>&quot;A&quot;</td><td>null</td><td>0</td><td>null</td><td>&quot;Bc.&quot;</td><td>&quot;A&quot;</td><td>null</td><td>null</td><td>null</td><td>null</td></tr><tr><td>&quot;KI&quot;</td><td>&quot;0054&quot;</td><td>2022</td><td>&quot;Programování v…</td><td>&quot;Programování v…</td><td>&quot;A&quot;</td><td>&quot;A&quot;</td><td>2</td><td>&quot;NE&quot;</td><td>null</td><td>&quot;&#x27;doc. Ing. Mgr…</td><td>&quot;&#x27;doc. Ing. Mgr…</td><td>&quot;449&quot;</td><td>null</td><td>null</td><td>null</td><td>null</td><td>null</td><td>null</td><td>&quot;&#x27;doc. Ing. Mgr…</td><td>&quot;&#x27;doc. Ing. Mgr…</td><td>&quot;449&quot;</td><td>null</td><td>null</td><td>null</td><td>null</td><td>null</td><td>null</td><td>null</td><td>&quot;&#x27;Král, M. Exce…</td><td>null</td><td>&quot;Monologická (v…</td><td>null</td><td>&quot;A&quot;</td><td>0</td><td>&quot;HOD/TYD&quot;</td><td>0</td><td>&quot;HOD/TYD&quot;</td><td>2</td><td>&quot;HOD/TYD&quot;</td><td>&quot;Tento předmět …</td><td>&quot;Zápočet&quot;</td><td>&quot;NE&quot;</td><td>&quot;Ústní&quot;</td><td>&quot;75% aktivní úč…</td><td>&quot;1. Základní in…</td><td>null</td><td>&quot;Zvládnutí zákl…</td><td>null</td><td>null</td><td>&quot;Čeština&quot;</td><td>&quot;vk 1528&quot;</td><td>&quot;A&quot;</td><td>&quot;N&quot;</td><td>&quot;N&quot;</td><td>null</td><td>&quot;1&quot;</td><td>&quot;1&quot;</td><td>&quot;A&quot;</td><td>&quot;A&quot;</td><td>null</td><td>0</td><td>null</td><td>&quot;Bc.&quot;</td><td>&quot;A&quot;</td><td>null</td><td>null</td><td>null</td><td>0</td></tr><tr><td>&quot;KI&quot;</td><td>&quot;0121&quot;</td><td>2022</td><td>&quot;CCNA 1: Introd…</td><td>&quot;CCNA 1: Introd…</td><td>&quot;A&quot;</td><td>&quot;A&quot;</td><td>1</td><td>&quot;NE&quot;</td><td>null</td><td>&quot;&#x27;RNDr. Jan Kre…</td><td>&quot;&#x27;RNDr. Jan Kre…</td><td>&quot;2776&quot;</td><td>null</td><td>null</td><td>null</td><td>&quot;&#x27;Ing. Josef Bi…</td><td>&quot;&#x27;Ing. Josef Bi…</td><td>&quot;5136, 2776&quot;</td><td>null</td><td>null</td><td>null</td><td>null</td><td>null</td><td>null</td><td>null</td><td>null</td><td>null</td><td>null</td><td>null</td><td>null</td><td>null</td><td>null</td><td>&quot;N&quot;</td><td>0</td><td>&quot;HOD/TYD&quot;</td><td>1</td><td>&quot;HOD/TYD&quot;</td><td>0</td><td>&quot;HOD/TYD&quot;</td><td>&quot;Cílem předmětu…</td><td>&quot;Zápočet&quot;</td><td>&quot;NE&quot;</td><td>&quot;Kombinovaná&quot;</td><td>&quot;Splnění závěre…</td><td>&quot;Cílem předmětu…</td><td>null</td><td>null</td><td>null</td><td>null</td><td>&quot;Čeština, Angli…</td><td>&quot;vk&quot;</td><td>&quot;A&quot;</td><td>&quot;N&quot;</td><td>&quot;N&quot;</td><td>null</td><td>null</td><td>null</td><td>&quot;A&quot;</td><td>&quot;A&quot;</td><td>null</td><td>0</td><td>null</td><td>&quot;Bc.&quot;</td><td>&quot;A&quot;</td><td>null</td><td>null</td><td>null</td><td>null</td></tr><tr><td>&quot;KI&quot;</td><td>&quot;0126&quot;</td><td>2022</td><td>&quot;CCNA 2: Routin…</td><td>&quot;CCNA 2: Routin…</td><td>&quot;A&quot;</td><td>&quot;A&quot;</td><td>2</td><td>&quot;NE&quot;</td><td>null</td><td>&quot;&#x27;RNDr. Jan Kre…</td><td>&quot;&#x27;RNDr. Jan Kre…</td><td>&quot;2776&quot;</td><td>null</td><td>null</td><td>null</td><td>&quot;&#x27;Ing. Josef Bi…</td><td>&quot;&#x27;Ing. Josef Bi…</td><td>&quot;5136, 2776&quot;</td><td>null</td><td>null</td><td>null</td><td>null</td><td>null</td><td>null</td><td>null</td><td>null</td><td>null</td><td>null</td><td>null</td><td>null</td><td>null</td><td>null</td><td>&quot;N&quot;</td><td>0</td><td>&quot;HOD/TYD&quot;</td><td>2</td><td>&quot;HOD/TYD&quot;</td><td>0</td><td>&quot;HOD/TYD&quot;</td><td>&quot;Cílem předmětu…</td><td>&quot;Zápočet&quot;</td><td>&quot;NE&quot;</td><td>&quot;Kombinovaná&quot;</td><td>&quot;Splnění závěre…</td><td>&quot;Cílem předmětu…</td><td>&quot;CCNA 1&quot;</td><td>null</td><td>null</td><td>null</td><td>&quot;Čeština, Angli…</td><td>&quot;vk&quot;</td><td>&quot;A&quot;</td><td>&quot;N&quot;</td><td>&quot;N&quot;</td><td>null</td><td>null</td><td>null</td><td>&quot;A&quot;</td><td>&quot;A&quot;</td><td>null</td><td>0</td><td>null</td><td>&quot;Bc.&quot;</td><td>&quot;A&quot;</td><td>null</td><td>null</td><td>null</td><td>null</td></tr><tr><td>&quot;KI&quot;</td><td>&quot;0127&quot;</td><td>2022</td><td>&quot;CCNA 3: Scalin…</td><td>&quot;CCNA 3: Scalin…</td><td>&quot;A&quot;</td><td>&quot;A&quot;</td><td>2</td><td>&quot;NE&quot;</td><td>null</td><td>&quot;&#x27;RNDr. Jan Kre…</td><td>&quot;&#x27;RNDr. Jan Kre…</td><td>&quot;2776&quot;</td><td>null</td><td>null</td><td>null</td><td>&quot;&#x27;Ing. Josef Bi…</td><td>&quot;&#x27;Ing. Josef Bi…</td><td>&quot;5136, 2776&quot;</td><td>null</td><td>null</td><td>null</td><td>null</td><td>null</td><td>null</td><td>null</td><td>null</td><td>null</td><td>null</td><td>null</td><td>null</td><td>null</td><td>null</td><td>&quot;N&quot;</td><td>0</td><td>&quot;HOD/TYD&quot;</td><td>2</td><td>&quot;HOD/TYD&quot;</td><td>0</td><td>&quot;HOD/TYD&quot;</td><td>&quot;Cílem předmětu…</td><td>&quot;Zápočet&quot;</td><td>&quot;NE&quot;</td><td>&quot;Kombinovaná&quot;</td><td>&quot;Splnění závěre…</td><td>&quot;Cíle předmětu:…</td><td>&quot;CCNA 2&quot;</td><td>null</td><td>null</td><td>null</td><td>&quot;Čeština, Angli…</td><td>&quot;vk&quot;</td><td>&quot;A&quot;</td><td>&quot;N&quot;</td><td>&quot;N&quot;</td><td>null</td><td>null</td><td>null</td><td>&quot;A&quot;</td><td>&quot;A&quot;</td><td>null</td><td>0</td><td>null</td><td>&quot;Bc.&quot;</td><td>&quot;A&quot;</td><td>null</td><td>null</td><td>null</td><td>null</td></tr></tbody></table></div>"
      ],
      "text/plain": [
       "shape: (5, 69)\n",
       "┌─────────┬─────────┬──────┬──────────────────────────┬───┬───────────────────┬──────┬──────┬──────┐\n",
       "│ katedra ┆ zkratka ┆ rok  ┆ nazev                    ┆ … ┆ hodZaSemKombForma ┆ aMax ┆ bMax ┆ cMax │\n",
       "│ ---     ┆ ---     ┆ ---  ┆ ---                      ┆   ┆ ---               ┆ ---  ┆ ---  ┆ ---  │\n",
       "│ str     ┆ str     ┆ i64  ┆ str                      ┆   ┆ i64               ┆ str  ┆ str  ┆ i64  │\n",
       "╞═════════╪═════════╪══════╪══════════════════════════╪═══╪═══════════════════╪══════╪══════╪══════╡\n",
       "│ KI      ┆ 0054    ┆ 2022 ┆ Programování ve VBA      ┆ … ┆ null              ┆ null ┆ null ┆ null │\n",
       "│ KI      ┆ 0054    ┆ 2022 ┆ Programování ve VBA      ┆ … ┆ null              ┆ null ┆ null ┆ 0    │\n",
       "│ KI      ┆ 0121    ┆ 2022 ┆ CCNA 1: Introduction to  ┆ … ┆ null              ┆ null ┆ null ┆ null │\n",
       "│         ┆         ┆      ┆ Networks                 ┆   ┆                   ┆      ┆      ┆      │\n",
       "│ KI      ┆ 0126    ┆ 2022 ┆ CCNA 2: Routing and      ┆ … ┆ null              ┆ null ┆ null ┆ null │\n",
       "│         ┆         ┆      ┆ Switching Es…            ┆   ┆                   ┆      ┆      ┆      │\n",
       "│ KI      ┆ 0127    ┆ 2022 ┆ CCNA 3: Scaling Networks ┆ … ┆ null              ┆ null ┆ null ┆ null │\n",
       "└─────────┴─────────┴──────┴──────────────────────────┴───┴───────────────────┴──────┴──────┴──────┘"
      ]
     },
     "execution_count": 10,
     "metadata": {},
     "output_type": "execute_result"
    }
   ],
   "source": [
    "predmety_s_akci = predmety_by_kat.join(other=rozvrh_by_kat, on=\"zkratka\", how=\"inner\").select(predmety_by_kat.columns).unique().sort(\"zkratka\")\n",
    "str(len(predmety_s_akci)) + \"   \" + str(len(predmety_by_kat))\n",
    "predmety_s_akci.head()"
   ]
  },
  {
   "attachments": {},
   "cell_type": "markdown",
   "metadata": {},
   "source": [
    "# Vyučující a garanti"
   ]
  },
  {
   "cell_type": "code",
   "execution_count": 11,
   "metadata": {},
   "outputs": [],
   "source": [
    "jednotek_prednasek = pl.col(\"jednotekPrednasek\")\n",
    "jednotek_cviceni = pl.col(\"jednotekCviceni\")\n",
    "jednotek_seminare = pl.col(\"jednotekSeminare\")\n",
    "garant = pl.col(\"garanti\")\n",
    "cvicici = pl.col(\"cvicici\")\n",
    "prednasejici = pl.col(\"prednasejici\")\n",
    "seminarici = pl.col(\"seminarici\")"
   ]
  },
  {
   "attachments": {},
   "cell_type": "markdown",
   "metadata": {},
   "source": [
    "### Každý předmět má právě jednoho garanta\n",
    "\n",
    "> Zde jsou předměty, které nemají garanta:"
   ]
  },
  {
   "cell_type": "code",
   "execution_count": 12,
   "metadata": {},
   "outputs": [
    {
     "name": "stdout",
     "output_type": "stream",
     "text": [
      "\n",
      "13 Předmětů nemá zadaného garanta\n"
     ]
    },
    {
     "data": {
      "text/plain": [
       "['0199',\n",
       " 'DPP',\n",
       " 'EDAV',\n",
       " 'KPAP',\n",
       " 'KZZD',\n",
       " 'PAP',\n",
       " 'SZZ60',\n",
       " 'SZZA',\n",
       " 'SZZAD',\n",
       " 'SZZB',\n",
       " 'SZZC1',\n",
       " 'SZZC2',\n",
       " 'SZZTD']"
      ]
     },
     "execution_count": 12,
     "metadata": {},
     "output_type": "execute_result"
    }
   ],
   "source": [
    "query = pl.col(\"garanti\").is_null()\n",
    "zkratky = predmety_s_akci.filter(query).select([\"zkratka\", \"rok\", \"nazev\", \"nazevDlouhy\", \"garanti\", \"garantiSPodily\"]).select(\"zkratka\").to_series()\n",
    "print(f\"\\n{len(zkratky)} Předmětů nemá zadaného garanta\")\n",
    "list(zkratky)\n",
    "# print(list(zkratky), sep=\", \")"
   ]
  },
  {
   "attachments": {},
   "cell_type": "markdown",
   "metadata": {},
   "source": [
    "> Předměty podezřelé z více garantů:"
   ]
  },
  {
   "cell_type": "code",
   "execution_count": 13,
   "metadata": {},
   "outputs": [
    {
     "data": {
      "text/html": [
       "<div><style>\n",
       ".dataframe > thead > tr > th,\n",
       ".dataframe > tbody > tr > td {\n",
       "  text-align: right;\n",
       "}\n",
       "</style>\n",
       "<small>shape: (2, 4)</small><table border=\"1\" class=\"dataframe\"><thead><tr><th>garantiUcitIdno</th><th>garanti</th><th>zkratka</th><th>pocet garantu</th></tr><tr><td>str</td><td>str</td><td>str</td><td>u32</td></tr></thead><tbody><tr><td>&quot;449, 2240&quot;</td><td>&quot;&#x27;doc. Ing. Mgr…</td><td>&quot;AFJ&quot;</td><td>2</td></tr><tr><td>&quot;449, 2240&quot;</td><td>&quot;&#x27;doc. Ing. Mgr…</td><td>&quot;KAFJ&quot;</td><td>2</td></tr></tbody></table></div>"
      ],
      "text/plain": [
       "shape: (2, 4)\n",
       "┌─────────────────┬───────────────────────────────────┬─────────┬───────────────┐\n",
       "│ garantiUcitIdno ┆ garanti                           ┆ zkratka ┆ pocet garantu │\n",
       "│ ---             ┆ ---                               ┆ ---     ┆ ---           │\n",
       "│ str             ┆ str                               ┆ str     ┆ u32           │\n",
       "╞═════════════════╪═══════════════════════════════════╪═════════╪═══════════════╡\n",
       "│ 449, 2240       ┆ 'doc. Ing. Mgr. Jiří Barilla, CS… ┆ AFJ     ┆ 2             │\n",
       "│ 449, 2240       ┆ 'doc. Ing. Mgr. Jiří Barilla, CS… ┆ KAFJ    ┆ 2             │\n",
       "└─────────────────┴───────────────────────────────────┴─────────┴───────────────┘"
      ]
     },
     "execution_count": 13,
     "metadata": {},
     "output_type": "execute_result"
    }
   ],
   "source": [
    "# predmety_s_akci.filter( > pl.lit())\n",
    "predmety_s_akci.with_columns(pl.col(\"garantiUcitIdno\").str.split(\", \").arr.lengths().alias(\"pocet garantu\")\n",
    "    ).select(\n",
    "        [\"garantiUcitIdno\", \"garanti\", \"zkratka\", \"pocet garantu\"]\n",
    "    ).filter(pl.col(\"pocet garantu\") > 1)"
   ]
  },
  {
   "cell_type": "code",
   "execution_count": null,
   "metadata": {},
   "outputs": [],
   "source": []
  },
  {
   "attachments": {},
   "cell_type": "markdown",
   "metadata": {},
   "source": [
    "### Každý předmět má alespoň jednoho vyučujícího v kategoriích dle parametrů předmětu\n",
    "\n",
    "např. pokud má předmět rozsah 2 h přednášek a 2 h cvičení, pak musí mít alespoň jednoho přednášejícího a alespoň jednoho cvičícího a zároveň nesmí mít vyučujícího v kategorii vede seminář."
   ]
  },
  {
   "cell_type": "code",
   "execution_count": 14,
   "metadata": {},
   "outputs": [
    {
     "data": {
      "text/html": [
       "<div><style>\n",
       ".dataframe > thead > tr > th,\n",
       ".dataframe > tbody > tr > td {\n",
       "  text-align: right;\n",
       "}\n",
       "</style>\n",
       "<small>shape: (5, 69)</small><table border=\"1\" class=\"dataframe\"><thead><tr><th>katedra</th><th>zkratka</th><th>rok</th><th>nazev</th><th>nazevDlouhy</th><th>vyukaZS</th><th>vyukaLS</th><th>kreditu</th><th>viceZapis</th><th>minObsazeni</th><th>garanti</th><th>garantiSPodily</th><th>garantiUcitIdno</th><th>prednasejici</th><th>prednasejiciSPodily</th><th>prednasejiciUcitIdno</th><th>cvicici</th><th>cviciciSPodily</th><th>cviciciUcitIdno</th><th>seminarici</th><th>seminariciSPodily</th><th>seminariciUcitIdno</th><th>schvalujiciUznani</th><th>schvalujiciUznaniUcitIdno</th><th>examinatori</th><th>examinatoriUcitIdno</th><th>podminujiciPredmety</th><th>vylucujiciPredmety</th><th>podminujePredmety</th><th>literatura</th><th>nahrazPredmety</th><th>metodyVyucovaci</th><th>metodyHodnotici</th><th>akreditovan</th><th>jednotekPrednasek</th><th>jednotkaPrednasky</th><th>jednotekCviceni</th><th>jednotkaCviceni</th><th>jednotekSeminare</th><th>jednotkaSeminare</th><th>anotace</th><th>typZkousky</th><th>maZapocetPredZk</th><th>formaZkousky</th><th>pozadavky</th><th>prehledLatky</th><th>predpoklady</th><th>ziskaneZpusobilosti</th><th>casovaNarocnost</th><th>predmetUrl</th><th>vyucovaciJazyky</th><th>poznamka</th><th>ectsZobrazit</th><th>ectsAkreditace</th><th>ectsNabizetUPrijezdu</th><th>poznamkaVerejna</th><th>skupinaAkreditace</th><th>skupinaAkreditaceKey</th><th>zarazenDoPrezencnihoStudia</th><th>zarazenDoKombinovanehoStudia</th><th>studijniOpory</th><th>praxePocetDnu</th><th>urovenNastavena</th><th>urovenVypoctena</th><th>automatickyUznavatZppZk</th><th>hodZaSemKombForma</th><th>aMax</th><th>bMax</th><th>cMax</th></tr><tr><td>str</td><td>str</td><td>i64</td><td>str</td><td>str</td><td>str</td><td>str</td><td>i64</td><td>str</td><td>str</td><td>str</td><td>str</td><td>str</td><td>str</td><td>str</td><td>str</td><td>str</td><td>str</td><td>str</td><td>str</td><td>str</td><td>str</td><td>str</td><td>str</td><td>str</td><td>str</td><td>str</td><td>str</td><td>str</td><td>str</td><td>str</td><td>str</td><td>str</td><td>str</td><td>i64</td><td>str</td><td>i64</td><td>str</td><td>i64</td><td>str</td><td>str</td><td>str</td><td>str</td><td>str</td><td>str</td><td>str</td><td>str</td><td>str</td><td>str</td><td>str</td><td>str</td><td>str</td><td>str</td><td>str</td><td>str</td><td>str</td><td>str</td><td>str</td><td>str</td><td>str</td><td>str</td><td>i64</td><td>str</td><td>str</td><td>str</td><td>i64</td><td>str</td><td>str</td><td>i64</td></tr></thead><tbody><tr><td>&quot;KI&quot;</td><td>&quot;KDIS&quot;</td><td>2022</td><td>&quot;Dependabilita …</td><td>&quot;Dependabilita …</td><td>&quot;A&quot;</td><td>&quot;A&quot;</td><td>4</td><td>&quot;NE&quot;</td><td>null</td><td>&quot;&#x27;doc. RNDr. Vi…</td><td>&quot;&#x27;doc. RNDr. Vi…</td><td>&quot;2239&quot;</td><td>null</td><td>null</td><td>null</td><td>null</td><td>null</td><td>null</td><td>null</td><td>null</td><td>null</td><td>null</td><td>null</td><td>null</td><td>null</td><td>&quot;KI/KAPR1&quot;</td><td>null</td><td>null</td><td>&quot;&#x27;Laprie, J.C.,…</td><td>null</td><td>null</td><td>null</td><td>&quot;N&quot;</td><td>6</td><td>&quot;HOD/SEM&quot;</td><td>4</td><td>&quot;HOD/SEM&quot;</td><td>2</td><td>&quot;HOD/SEM&quot;</td><td>&quot;Kurz uvádí do …</td><td>&quot;Zkouška&quot;</td><td>&quot;ANO&quot;</td><td>&quot;Kombinovaná&quot;</td><td>&quot;Zápočet: semin…</td><td>&quot;1. Úvod do pro…</td><td>null</td><td>null</td><td>null</td><td>null</td><td>&quot;Čeština, Angli…</td><td>&quot;Výuka v anglic…</td><td>&quot;A&quot;</td><td>&quot;N&quot;</td><td>&quot;N&quot;</td><td>null</td><td>null</td><td>null</td><td>&quot;N&quot;</td><td>&quot;A&quot;</td><td>null</td><td>0</td><td>&quot;Bc.&quot;</td><td>&quot;Bc.&quot;</td><td>&quot;A&quot;</td><td>null</td><td>null</td><td>null</td><td>null</td></tr><tr><td>&quot;KI&quot;</td><td>&quot;KNSQL&quot;</td><td>2022</td><td>&quot;NoSQL databázo…</td><td>&quot;NoSQL databázo…</td><td>&quot;A&quot;</td><td>&quot;N&quot;</td><td>2</td><td>&quot;NE&quot;</td><td>null</td><td>&quot;&#x27;Mgr. Jiří Fiš…</td><td>&quot;&#x27;Mgr. Jiří Fiš…</td><td>&quot;251&quot;</td><td>null</td><td>null</td><td>null</td><td>null</td><td>null</td><td>null</td><td>null</td><td>null</td><td>null</td><td>null</td><td>null</td><td>null</td><td>null</td><td>&quot;KI/KDSY, KI/KU…</td><td>null</td><td>null</td><td>&quot;&#x27;Holubová, I.,…</td><td>null</td><td>null</td><td>null</td><td>&quot;N&quot;</td><td>2</td><td>&quot;HOD/SEM&quot;</td><td>4</td><td>&quot;HOD/SEM&quot;</td><td>2</td><td>&quot;HOD/SEM&quot;</td><td>&quot;Kurz je zaměře…</td><td>&quot;Zápočet&quot;</td><td>&quot;NE&quot;</td><td>&quot;Kombinovaná&quot;</td><td>&quot;Podmínkou získ…</td><td>&quot;1. Vymezení a …</td><td>null</td><td>null</td><td>null</td><td>null</td><td>&quot;Čeština&quot;</td><td>null</td><td>&quot;A&quot;</td><td>&quot;N&quot;</td><td>&quot;N&quot;</td><td>null</td><td>null</td><td>null</td><td>&quot;N&quot;</td><td>&quot;A&quot;</td><td>null</td><td>0</td><td>null</td><td>&quot;Bc.&quot;</td><td>&quot;A&quot;</td><td>0</td><td>null</td><td>null</td><td>null</td></tr><tr><td>&quot;KI&quot;</td><td>&quot;KOPR&quot;</td><td>2022</td><td>&quot;Optimální rozh…</td><td>&quot;Optimální rozh…</td><td>&quot;A&quot;</td><td>&quot;A&quot;</td><td>5</td><td>&quot;NE&quot;</td><td>null</td><td>&quot;&#x27;RNDr. Petr Ku…</td><td>&quot;&#x27;RNDr. Petr Ku…</td><td>&quot;650&quot;</td><td>null</td><td>null</td><td>null</td><td>null</td><td>null</td><td>null</td><td>null</td><td>null</td><td>null</td><td>null</td><td>null</td><td>null</td><td>null</td><td>null</td><td>null</td><td>null</td><td>&quot;&#x27;Lagová, M. Me…</td><td>null</td><td>null</td><td>null</td><td>&quot;N&quot;</td><td>6</td><td>&quot;HOD/SEM&quot;</td><td>6</td><td>&quot;HOD/SEM&quot;</td><td>2</td><td>&quot;HOD/SEM&quot;</td><td>&quot;Kurz je zaměře…</td><td>&quot;Zkouška&quot;</td><td>&quot;ANO&quot;</td><td>&quot;Kombinovaná&quot;</td><td>&quot;Podmínkou získ…</td><td>&quot;1. Úlohy lineá…</td><td>null</td><td>null</td><td>null</td><td>null</td><td>&quot;Čeština&quot;</td><td>null</td><td>&quot;A&quot;</td><td>&quot;N&quot;</td><td>&quot;N&quot;</td><td>null</td><td>null</td><td>null</td><td>&quot;N&quot;</td><td>&quot;A&quot;</td><td>null</td><td>0</td><td>null</td><td>&quot;Bc.&quot;</td><td>&quot;A&quot;</td><td>0</td><td>null</td><td>null</td><td>null</td></tr><tr><td>&quot;KI&quot;</td><td>&quot;KPAU&quot;</td><td>2022</td><td>&quot;Programovateln…</td><td>&quot;Programovateln…</td><td>&quot;A&quot;</td><td>&quot;N&quot;</td><td>4</td><td>&quot;NE&quot;</td><td>null</td><td>&quot;&#x27;Ing. Petr Hab…</td><td>&quot;&#x27;Ing. Petr Hab…</td><td>&quot;1780&quot;</td><td>null</td><td>null</td><td>null</td><td>null</td><td>null</td><td>null</td><td>null</td><td>null</td><td>null</td><td>null</td><td>null</td><td>null</td><td>null</td><td>null</td><td>null</td><td>&quot;KI/KSCAD&quot;</td><td>&quot;&#x27;Šmejkal, L., …</td><td>null</td><td>null</td><td>null</td><td>&quot;A&quot;</td><td>4</td><td>&quot;HOD/SEM&quot;</td><td>6</td><td>&quot;HOD/SEM&quot;</td><td>2</td><td>&quot;HOD/SEM&quot;</td><td>&quot;Cílem předmětu…</td><td>&quot;Zkouška&quot;</td><td>&quot;ANO&quot;</td><td>&quot;Kombinovaná&quot;</td><td>&quot;Zápočet: semes…</td><td>&quot;1. Úvod do pro…</td><td>null</td><td>null</td><td>null</td><td>null</td><td>&quot;Čeština&quot;</td><td>null</td><td>&quot;A&quot;</td><td>&quot;N&quot;</td><td>&quot;N&quot;</td><td>null</td><td>null</td><td>null</td><td>&quot;N&quot;</td><td>&quot;A&quot;</td><td>null</td><td>0</td><td>null</td><td>&quot;Bc.&quot;</td><td>&quot;A&quot;</td><td>0</td><td>null</td><td>null</td><td>null</td></tr><tr><td>&quot;KI&quot;</td><td>&quot;KUSU&quot;</td><td>2022</td><td>&quot;Úvod do strojo…</td><td>&quot;Úvod do strojo…</td><td>&quot;N&quot;</td><td>&quot;A&quot;</td><td>4</td><td>&quot;NE&quot;</td><td>null</td><td>&quot;&#x27;RNDr. Petr Ku…</td><td>&quot;&#x27;RNDr. Petr Ku…</td><td>&quot;650&quot;</td><td>null</td><td>null</td><td>null</td><td>null</td><td>null</td><td>null</td><td>null</td><td>null</td><td>null</td><td>null</td><td>null</td><td>null</td><td>null</td><td>&quot;KI/KAPR1, KI/K…</td><td>null</td><td>null</td><td>&quot;&#x27;Chollet, F. D…</td><td>null</td><td>null</td><td>null</td><td>&quot;A&quot;</td><td>4</td><td>&quot;HOD/SEM&quot;</td><td>6</td><td>&quot;HOD/SEM&quot;</td><td>2</td><td>&quot;HOD/SEM&quot;</td><td>&quot;Předmět Úvod d…</td><td>&quot;Zkouška&quot;</td><td>&quot;ANO&quot;</td><td>&quot;Kombinovaná&quot;</td><td>&quot;Zápočet: vypra…</td><td>&quot;1. Rozdělení ú…</td><td>null</td><td>null</td><td>null</td><td>null</td><td>&quot;Čeština&quot;</td><td>null</td><td>&quot;A&quot;</td><td>&quot;N&quot;</td><td>&quot;N&quot;</td><td>null</td><td>null</td><td>null</td><td>&quot;N&quot;</td><td>&quot;A&quot;</td><td>null</td><td>0</td><td>null</td><td>&quot;Bc.&quot;</td><td>&quot;A&quot;</td><td>0</td><td>null</td><td>null</td><td>null</td></tr></tbody></table></div>"
      ],
      "text/plain": [
       "shape: (5, 69)\n",
       "┌─────────┬─────────┬──────┬──────────────────────────┬───┬───────────────────┬──────┬──────┬──────┐\n",
       "│ katedra ┆ zkratka ┆ rok  ┆ nazev                    ┆ … ┆ hodZaSemKombForma ┆ aMax ┆ bMax ┆ cMax │\n",
       "│ ---     ┆ ---     ┆ ---  ┆ ---                      ┆   ┆ ---               ┆ ---  ┆ ---  ┆ ---  │\n",
       "│ str     ┆ str     ┆ i64  ┆ str                      ┆   ┆ i64               ┆ str  ┆ str  ┆ i64  │\n",
       "╞═════════╪═════════╪══════╪══════════════════════════╪═══╪═══════════════════╪══════╪══════╪══════╡\n",
       "│ KI      ┆ KDIS    ┆ 2022 ┆ Dependabilita            ┆ … ┆ null              ┆ null ┆ null ┆ null │\n",
       "│         ┆         ┆      ┆ informačních systé…      ┆   ┆                   ┆      ┆      ┆      │\n",
       "│ KI      ┆ KNSQL   ┆ 2022 ┆ NoSQL databázové systémy ┆ … ┆ 0                 ┆ null ┆ null ┆ null │\n",
       "│ KI      ┆ KOPR    ┆ 2022 ┆ Optimální rozhodování    ┆ … ┆ 0                 ┆ null ┆ null ┆ null │\n",
       "│ KI      ┆ KPAU    ┆ 2022 ┆ Programovatelné automaty ┆ … ┆ 0                 ┆ null ┆ null ┆ null │\n",
       "│ KI      ┆ KUSU    ┆ 2022 ┆ Úvod do strojového učení ┆ … ┆ 0                 ┆ null ┆ null ┆ null │\n",
       "└─────────┴─────────┴──────┴──────────────────────────┴───┴───────────────────┴──────┴──────┴──────┘"
      ]
     },
     "execution_count": 14,
     "metadata": {},
     "output_type": "execute_result"
    }
   ],
   "source": [
    "ma_prednasku = jednotek_prednasek != 0\n",
    "nema_prednasejiciho = prednasejici.is_null()\n",
    "\n",
    "chybi_prednasejici = predmety_s_akci.filter(ma_prednasku & nema_prednasejiciho)\n",
    "chybi_prednasejici.head()"
   ]
  },
  {
   "cell_type": "code",
   "execution_count": 15,
   "metadata": {},
   "outputs": [
    {
     "data": {
      "text/html": [
       "<div><style>\n",
       ".dataframe > thead > tr > th,\n",
       ".dataframe > tbody > tr > td {\n",
       "  text-align: right;\n",
       "}\n",
       "</style>\n",
       "<small>shape: (5, 69)</small><table border=\"1\" class=\"dataframe\"><thead><tr><th>katedra</th><th>zkratka</th><th>rok</th><th>nazev</th><th>nazevDlouhy</th><th>vyukaZS</th><th>vyukaLS</th><th>kreditu</th><th>viceZapis</th><th>minObsazeni</th><th>garanti</th><th>garantiSPodily</th><th>garantiUcitIdno</th><th>prednasejici</th><th>prednasejiciSPodily</th><th>prednasejiciUcitIdno</th><th>cvicici</th><th>cviciciSPodily</th><th>cviciciUcitIdno</th><th>seminarici</th><th>seminariciSPodily</th><th>seminariciUcitIdno</th><th>schvalujiciUznani</th><th>schvalujiciUznaniUcitIdno</th><th>examinatori</th><th>examinatoriUcitIdno</th><th>podminujiciPredmety</th><th>vylucujiciPredmety</th><th>podminujePredmety</th><th>literatura</th><th>nahrazPredmety</th><th>metodyVyucovaci</th><th>metodyHodnotici</th><th>akreditovan</th><th>jednotekPrednasek</th><th>jednotkaPrednasky</th><th>jednotekCviceni</th><th>jednotkaCviceni</th><th>jednotekSeminare</th><th>jednotkaSeminare</th><th>anotace</th><th>typZkousky</th><th>maZapocetPredZk</th><th>formaZkousky</th><th>pozadavky</th><th>prehledLatky</th><th>predpoklady</th><th>ziskaneZpusobilosti</th><th>casovaNarocnost</th><th>predmetUrl</th><th>vyucovaciJazyky</th><th>poznamka</th><th>ectsZobrazit</th><th>ectsAkreditace</th><th>ectsNabizetUPrijezdu</th><th>poznamkaVerejna</th><th>skupinaAkreditace</th><th>skupinaAkreditaceKey</th><th>zarazenDoPrezencnihoStudia</th><th>zarazenDoKombinovanehoStudia</th><th>studijniOpory</th><th>praxePocetDnu</th><th>urovenNastavena</th><th>urovenVypoctena</th><th>automatickyUznavatZppZk</th><th>hodZaSemKombForma</th><th>aMax</th><th>bMax</th><th>cMax</th></tr><tr><td>str</td><td>str</td><td>i64</td><td>str</td><td>str</td><td>str</td><td>str</td><td>i64</td><td>str</td><td>str</td><td>str</td><td>str</td><td>str</td><td>str</td><td>str</td><td>str</td><td>str</td><td>str</td><td>str</td><td>str</td><td>str</td><td>str</td><td>str</td><td>str</td><td>str</td><td>str</td><td>str</td><td>str</td><td>str</td><td>str</td><td>str</td><td>str</td><td>str</td><td>str</td><td>i64</td><td>str</td><td>i64</td><td>str</td><td>i64</td><td>str</td><td>str</td><td>str</td><td>str</td><td>str</td><td>str</td><td>str</td><td>str</td><td>str</td><td>str</td><td>str</td><td>str</td><td>str</td><td>str</td><td>str</td><td>str</td><td>str</td><td>str</td><td>str</td><td>str</td><td>str</td><td>str</td><td>i64</td><td>str</td><td>str</td><td>str</td><td>i64</td><td>str</td><td>str</td><td>i64</td></tr></thead><tbody><tr><td>&quot;KI&quot;</td><td>&quot;0199&quot;</td><td>2022</td><td>&quot;CCNP 3 - Tshoo…</td><td>&quot;CCNP 3 - Tshoo…</td><td>&quot;A&quot;</td><td>&quot;A&quot;</td><td>2</td><td>&quot;NE&quot;</td><td>null</td><td>null</td><td>null</td><td>null</td><td>null</td><td>null</td><td>null</td><td>null</td><td>null</td><td>null</td><td>null</td><td>null</td><td>null</td><td>null</td><td>null</td><td>null</td><td>null</td><td>null</td><td>null</td><td>null</td><td>null</td><td>null</td><td>null</td><td>null</td><td>&quot;N&quot;</td><td>0</td><td>&quot;HOD/TYD&quot;</td><td>2</td><td>&quot;HOD/TYD&quot;</td><td>0</td><td>&quot;HOD/TYD&quot;</td><td>&quot;Cílem předmětu…</td><td>&quot;Zápočet&quot;</td><td>&quot;NE&quot;</td><td>&quot;Kombinovaná&quot;</td><td>&quot;Splnění odpoví…</td><td>&quot;Network Princi…</td><td>null</td><td>null</td><td>null</td><td>null</td><td>&quot;Čeština, Angli…</td><td>null</td><td>&quot;N&quot;</td><td>&quot;N&quot;</td><td>&quot;N&quot;</td><td>null</td><td>null</td><td>null</td><td>&quot;A&quot;</td><td>&quot;A&quot;</td><td>null</td><td>0</td><td>null</td><td>&quot;Bc.&quot;</td><td>&quot;A&quot;</td><td>0</td><td>null</td><td>null</td><td>null</td></tr><tr><td>&quot;KI&quot;</td><td>&quot;DIS&quot;</td><td>2022</td><td>&quot;Dependabilita …</td><td>&quot;Dependabilita …</td><td>&quot;A&quot;</td><td>&quot;A&quot;</td><td>4</td><td>&quot;NE&quot;</td><td>null</td><td>&quot;&#x27;doc. RNDr. Vi…</td><td>&quot;&#x27;doc. RNDr. Vi…</td><td>&quot;2239&quot;</td><td>&quot;&#x27;doc. RNDr. Vi…</td><td>&quot;&#x27;doc. RNDr. Vi…</td><td>&quot;2239&quot;</td><td>null</td><td>null</td><td>null</td><td>null</td><td>null</td><td>null</td><td>null</td><td>null</td><td>null</td><td>null</td><td>&quot;KI/APR1&quot;</td><td>null</td><td>null</td><td>&quot;&#x27;Laprie, J.C.,…</td><td>null</td><td>null</td><td>null</td><td>&quot;N&quot;</td><td>2</td><td>&quot;HOD/TYD&quot;</td><td>1</td><td>&quot;HOD/TYD&quot;</td><td>0</td><td>&quot;HOD/TYD&quot;</td><td>&quot;Kurz uvádí do …</td><td>&quot;Zkouška&quot;</td><td>&quot;ANO&quot;</td><td>&quot;Kombinovaná&quot;</td><td>&quot;Zápočet: semin…</td><td>&quot;1. Úvod do pro…</td><td>&quot;Výuka v anglič…</td><td>null</td><td>null</td><td>null</td><td>&quot;Čeština, Angli…</td><td>&quot;Výuka v anglic…</td><td>&quot;A&quot;</td><td>&quot;N&quot;</td><td>&quot;N&quot;</td><td>null</td><td>null</td><td>null</td><td>&quot;A&quot;</td><td>&quot;N&quot;</td><td>null</td><td>0</td><td>&quot;Bc.&quot;</td><td>&quot;Bc.&quot;</td><td>&quot;A&quot;</td><td>null</td><td>null</td><td>null</td><td>null</td></tr><tr><td>&quot;KI&quot;</td><td>&quot;KDIS&quot;</td><td>2022</td><td>&quot;Dependabilita …</td><td>&quot;Dependabilita …</td><td>&quot;A&quot;</td><td>&quot;A&quot;</td><td>4</td><td>&quot;NE&quot;</td><td>null</td><td>&quot;&#x27;doc. RNDr. Vi…</td><td>&quot;&#x27;doc. RNDr. Vi…</td><td>&quot;2239&quot;</td><td>null</td><td>null</td><td>null</td><td>null</td><td>null</td><td>null</td><td>null</td><td>null</td><td>null</td><td>null</td><td>null</td><td>null</td><td>null</td><td>&quot;KI/KAPR1&quot;</td><td>null</td><td>null</td><td>&quot;&#x27;Laprie, J.C.,…</td><td>null</td><td>null</td><td>null</td><td>&quot;N&quot;</td><td>6</td><td>&quot;HOD/SEM&quot;</td><td>4</td><td>&quot;HOD/SEM&quot;</td><td>2</td><td>&quot;HOD/SEM&quot;</td><td>&quot;Kurz uvádí do …</td><td>&quot;Zkouška&quot;</td><td>&quot;ANO&quot;</td><td>&quot;Kombinovaná&quot;</td><td>&quot;Zápočet: semin…</td><td>&quot;1. Úvod do pro…</td><td>null</td><td>null</td><td>null</td><td>null</td><td>&quot;Čeština, Angli…</td><td>&quot;Výuka v anglic…</td><td>&quot;A&quot;</td><td>&quot;N&quot;</td><td>&quot;N&quot;</td><td>null</td><td>null</td><td>null</td><td>&quot;N&quot;</td><td>&quot;A&quot;</td><td>null</td><td>0</td><td>&quot;Bc.&quot;</td><td>&quot;Bc.&quot;</td><td>&quot;A&quot;</td><td>null</td><td>null</td><td>null</td><td>null</td></tr><tr><td>&quot;KI&quot;</td><td>&quot;KNSQL&quot;</td><td>2022</td><td>&quot;NoSQL databázo…</td><td>&quot;NoSQL databázo…</td><td>&quot;A&quot;</td><td>&quot;N&quot;</td><td>2</td><td>&quot;NE&quot;</td><td>null</td><td>&quot;&#x27;Mgr. Jiří Fiš…</td><td>&quot;&#x27;Mgr. Jiří Fiš…</td><td>&quot;251&quot;</td><td>null</td><td>null</td><td>null</td><td>null</td><td>null</td><td>null</td><td>null</td><td>null</td><td>null</td><td>null</td><td>null</td><td>null</td><td>null</td><td>&quot;KI/KDSY, KI/KU…</td><td>null</td><td>null</td><td>&quot;&#x27;Holubová, I.,…</td><td>null</td><td>null</td><td>null</td><td>&quot;N&quot;</td><td>2</td><td>&quot;HOD/SEM&quot;</td><td>4</td><td>&quot;HOD/SEM&quot;</td><td>2</td><td>&quot;HOD/SEM&quot;</td><td>&quot;Kurz je zaměře…</td><td>&quot;Zápočet&quot;</td><td>&quot;NE&quot;</td><td>&quot;Kombinovaná&quot;</td><td>&quot;Podmínkou získ…</td><td>&quot;1. Vymezení a …</td><td>null</td><td>null</td><td>null</td><td>null</td><td>&quot;Čeština&quot;</td><td>null</td><td>&quot;A&quot;</td><td>&quot;N&quot;</td><td>&quot;N&quot;</td><td>null</td><td>null</td><td>null</td><td>&quot;N&quot;</td><td>&quot;A&quot;</td><td>null</td><td>0</td><td>null</td><td>&quot;Bc.&quot;</td><td>&quot;A&quot;</td><td>0</td><td>null</td><td>null</td><td>null</td></tr><tr><td>&quot;KI&quot;</td><td>&quot;KOPR&quot;</td><td>2022</td><td>&quot;Optimální rozh…</td><td>&quot;Optimální rozh…</td><td>&quot;A&quot;</td><td>&quot;A&quot;</td><td>5</td><td>&quot;NE&quot;</td><td>null</td><td>&quot;&#x27;RNDr. Petr Ku…</td><td>&quot;&#x27;RNDr. Petr Ku…</td><td>&quot;650&quot;</td><td>null</td><td>null</td><td>null</td><td>null</td><td>null</td><td>null</td><td>null</td><td>null</td><td>null</td><td>null</td><td>null</td><td>null</td><td>null</td><td>null</td><td>null</td><td>null</td><td>&quot;&#x27;Lagová, M. Me…</td><td>null</td><td>null</td><td>null</td><td>&quot;N&quot;</td><td>6</td><td>&quot;HOD/SEM&quot;</td><td>6</td><td>&quot;HOD/SEM&quot;</td><td>2</td><td>&quot;HOD/SEM&quot;</td><td>&quot;Kurz je zaměře…</td><td>&quot;Zkouška&quot;</td><td>&quot;ANO&quot;</td><td>&quot;Kombinovaná&quot;</td><td>&quot;Podmínkou získ…</td><td>&quot;1. Úlohy lineá…</td><td>null</td><td>null</td><td>null</td><td>null</td><td>&quot;Čeština&quot;</td><td>null</td><td>&quot;A&quot;</td><td>&quot;N&quot;</td><td>&quot;N&quot;</td><td>null</td><td>null</td><td>null</td><td>&quot;N&quot;</td><td>&quot;A&quot;</td><td>null</td><td>0</td><td>null</td><td>&quot;Bc.&quot;</td><td>&quot;A&quot;</td><td>0</td><td>null</td><td>null</td><td>null</td></tr></tbody></table></div>"
      ],
      "text/plain": [
       "shape: (5, 69)\n",
       "┌─────────┬─────────┬──────┬──────────────────────────┬───┬───────────────────┬──────┬──────┬──────┐\n",
       "│ katedra ┆ zkratka ┆ rok  ┆ nazev                    ┆ … ┆ hodZaSemKombForma ┆ aMax ┆ bMax ┆ cMax │\n",
       "│ ---     ┆ ---     ┆ ---  ┆ ---                      ┆   ┆ ---               ┆ ---  ┆ ---  ┆ ---  │\n",
       "│ str     ┆ str     ┆ i64  ┆ str                      ┆   ┆ i64               ┆ str  ┆ str  ┆ i64  │\n",
       "╞═════════╪═════════╪══════╪══════════════════════════╪═══╪═══════════════════╪══════╪══════╪══════╡\n",
       "│ KI      ┆ 0199    ┆ 2022 ┆ CCNP 3 - Tshoot          ┆ … ┆ 0                 ┆ null ┆ null ┆ null │\n",
       "│ KI      ┆ DIS     ┆ 2022 ┆ Dependabilita            ┆ … ┆ null              ┆ null ┆ null ┆ null │\n",
       "│         ┆         ┆      ┆ informačních systé…      ┆   ┆                   ┆      ┆      ┆      │\n",
       "│ KI      ┆ KDIS    ┆ 2022 ┆ Dependabilita            ┆ … ┆ null              ┆ null ┆ null ┆ null │\n",
       "│         ┆         ┆      ┆ informačních systé…      ┆   ┆                   ┆      ┆      ┆      │\n",
       "│ KI      ┆ KNSQL   ┆ 2022 ┆ NoSQL databázové systémy ┆ … ┆ 0                 ┆ null ┆ null ┆ null │\n",
       "│ KI      ┆ KOPR    ┆ 2022 ┆ Optimální rozhodování    ┆ … ┆ 0                 ┆ null ┆ null ┆ null │\n",
       "└─────────┴─────────┴──────┴──────────────────────────┴───┴───────────────────┴──────┴──────┴──────┘"
      ]
     },
     "execution_count": 15,
     "metadata": {},
     "output_type": "execute_result"
    }
   ],
   "source": [
    "ma_cviceni = jednotek_cviceni != 0\n",
    "nema_cviciciho = cvicici.is_null()\n",
    "\n",
    "chybi_cvicici = predmety_s_akci.filter(ma_cviceni & nema_cviciciho)\n",
    "chybi_cvicici.head()"
   ]
  },
  {
   "cell_type": "code",
   "execution_count": 16,
   "metadata": {},
   "outputs": [
    {
     "data": {
      "text/html": [
       "<div><style>\n",
       ".dataframe > thead > tr > th,\n",
       ".dataframe > tbody > tr > td {\n",
       "  text-align: right;\n",
       "}\n",
       "</style>\n",
       "<small>shape: (5, 69)</small><table border=\"1\" class=\"dataframe\"><thead><tr><th>katedra</th><th>zkratka</th><th>rok</th><th>nazev</th><th>nazevDlouhy</th><th>vyukaZS</th><th>vyukaLS</th><th>kreditu</th><th>viceZapis</th><th>minObsazeni</th><th>garanti</th><th>garantiSPodily</th><th>garantiUcitIdno</th><th>prednasejici</th><th>prednasejiciSPodily</th><th>prednasejiciUcitIdno</th><th>cvicici</th><th>cviciciSPodily</th><th>cviciciUcitIdno</th><th>seminarici</th><th>seminariciSPodily</th><th>seminariciUcitIdno</th><th>schvalujiciUznani</th><th>schvalujiciUznaniUcitIdno</th><th>examinatori</th><th>examinatoriUcitIdno</th><th>podminujiciPredmety</th><th>vylucujiciPredmety</th><th>podminujePredmety</th><th>literatura</th><th>nahrazPredmety</th><th>metodyVyucovaci</th><th>metodyHodnotici</th><th>akreditovan</th><th>jednotekPrednasek</th><th>jednotkaPrednasky</th><th>jednotekCviceni</th><th>jednotkaCviceni</th><th>jednotekSeminare</th><th>jednotkaSeminare</th><th>anotace</th><th>typZkousky</th><th>maZapocetPredZk</th><th>formaZkousky</th><th>pozadavky</th><th>prehledLatky</th><th>predpoklady</th><th>ziskaneZpusobilosti</th><th>casovaNarocnost</th><th>predmetUrl</th><th>vyucovaciJazyky</th><th>poznamka</th><th>ectsZobrazit</th><th>ectsAkreditace</th><th>ectsNabizetUPrijezdu</th><th>poznamkaVerejna</th><th>skupinaAkreditace</th><th>skupinaAkreditaceKey</th><th>zarazenDoPrezencnihoStudia</th><th>zarazenDoKombinovanehoStudia</th><th>studijniOpory</th><th>praxePocetDnu</th><th>urovenNastavena</th><th>urovenVypoctena</th><th>automatickyUznavatZppZk</th><th>hodZaSemKombForma</th><th>aMax</th><th>bMax</th><th>cMax</th></tr><tr><td>str</td><td>str</td><td>i64</td><td>str</td><td>str</td><td>str</td><td>str</td><td>i64</td><td>str</td><td>str</td><td>str</td><td>str</td><td>str</td><td>str</td><td>str</td><td>str</td><td>str</td><td>str</td><td>str</td><td>str</td><td>str</td><td>str</td><td>str</td><td>str</td><td>str</td><td>str</td><td>str</td><td>str</td><td>str</td><td>str</td><td>str</td><td>str</td><td>str</td><td>str</td><td>i64</td><td>str</td><td>i64</td><td>str</td><td>i64</td><td>str</td><td>str</td><td>str</td><td>str</td><td>str</td><td>str</td><td>str</td><td>str</td><td>str</td><td>str</td><td>str</td><td>str</td><td>str</td><td>str</td><td>str</td><td>str</td><td>str</td><td>str</td><td>str</td><td>str</td><td>str</td><td>str</td><td>i64</td><td>str</td><td>str</td><td>str</td><td>i64</td><td>str</td><td>str</td><td>i64</td></tr></thead><tbody><tr><td>&quot;KI&quot;</td><td>&quot;KAFJ&quot;</td><td>2022</td><td>&quot;Teorie automat…</td><td>&quot;Teorie automat…</td><td>&quot;A&quot;</td><td>&quot;N&quot;</td><td>5</td><td>&quot;NE&quot;</td><td>null</td><td>&quot;&#x27;doc. Ing. Mgr…</td><td>&quot;&#x27;doc. Ing. Mgr…</td><td>&quot;449, 2240&quot;</td><td>&quot;&#x27;doc. Ing. Mgr…</td><td>&quot;&#x27;doc. Ing. Mgr…</td><td>&quot;449, 2240&quot;</td><td>&quot;&#x27;doc. Ing. Mgr…</td><td>&quot;&#x27;doc. Ing. Mgr…</td><td>&quot;449&quot;</td><td>null</td><td>null</td><td>null</td><td>null</td><td>null</td><td>null</td><td>null</td><td>null</td><td>null</td><td>null</td><td>&quot;&#x27;Chytil M. Aut…</td><td>null</td><td>null</td><td>null</td><td>&quot;N&quot;</td><td>6</td><td>&quot;HOD/SEM&quot;</td><td>6</td><td>&quot;HOD/SEM&quot;</td><td>2</td><td>&quot;HOD/SEM&quot;</td><td>&quot;V tomto kurzu …</td><td>&quot;Zkouška&quot;</td><td>&quot;ANO&quot;</td><td>&quot;Kombinovaná&quot;</td><td>&quot;Požadavky pro …</td><td>&quot;1.\tZákladní ma…</td><td>null</td><td>null</td><td>null</td><td>null</td><td>&quot;Čeština&quot;</td><td>null</td><td>&quot;A&quot;</td><td>&quot;N&quot;</td><td>&quot;N&quot;</td><td>null</td><td>null</td><td>null</td><td>&quot;N&quot;</td><td>&quot;A&quot;</td><td>null</td><td>0</td><td>null</td><td>&quot;Bc.&quot;</td><td>&quot;A&quot;</td><td>null</td><td>null</td><td>null</td><td>0</td></tr><tr><td>&quot;KI&quot;</td><td>&quot;KANE&quot;</td><td>2022</td><td>&quot;Analogová elek…</td><td>&quot;Analogová elek…</td><td>&quot;A&quot;</td><td>&quot;N&quot;</td><td>2</td><td>&quot;NE&quot;</td><td>null</td><td>&quot;&#x27;doc. RNDr. Fr…</td><td>&quot;&#x27;doc. RNDr. Fr…</td><td>&quot;5232&quot;</td><td>&quot;&#x27;doc. RNDr. Fr…</td><td>&quot;&#x27;doc. RNDr. Fr…</td><td>&quot;5232&quot;</td><td>&quot;&#x27;doc. RNDr. Fr…</td><td>&quot;&#x27;doc. RNDr. Fr…</td><td>&quot;5232&quot;</td><td>null</td><td>null</td><td>null</td><td>null</td><td>null</td><td>null</td><td>null</td><td>&quot;KI/KZEL&quot;</td><td>null</td><td>null</td><td>&quot;&#x27;Tichý, M. Ele…</td><td>null</td><td>null</td><td>null</td><td>&quot;N&quot;</td><td>2</td><td>&quot;HOD/SEM&quot;</td><td>4</td><td>&quot;HOD/SEM&quot;</td><td>2</td><td>&quot;HOD/SEM&quot;</td><td>&quot;Kurz je zaměře…</td><td>&quot;Zápočet&quot;</td><td>&quot;NE&quot;</td><td>&quot;Kombinovaná&quot;</td><td>&quot;Ústní obhajoba…</td><td>&quot;1. Pasivní ele…</td><td>null</td><td>null</td><td>null</td><td>null</td><td>&quot;Čeština&quot;</td><td>null</td><td>&quot;A&quot;</td><td>&quot;N&quot;</td><td>&quot;N&quot;</td><td>null</td><td>null</td><td>null</td><td>&quot;N&quot;</td><td>&quot;A&quot;</td><td>null</td><td>0</td><td>null</td><td>&quot;Bc.&quot;</td><td>&quot;A&quot;</td><td>0</td><td>null</td><td>null</td><td>null</td></tr><tr><td>&quot;KI&quot;</td><td>&quot;KAPR1&quot;</td><td>2022</td><td>&quot;Algoritmizace …</td><td>&quot;Algoritmizace …</td><td>&quot;A&quot;</td><td>&quot;N&quot;</td><td>4</td><td>&quot;NE&quot;</td><td>null</td><td>&quot;&#x27;Mgr. Jiří Fiš…</td><td>&quot;&#x27;Mgr. Jiří Fiš…</td><td>&quot;251&quot;</td><td>&quot;&#x27;Mgr. Jiří Fiš…</td><td>&quot;&#x27;Mgr. Jiří Fiš…</td><td>&quot;251&quot;</td><td>&quot;&#x27;Ing. Mgr. Pav…</td><td>&quot;&#x27;Ing. Mgr. Pav…</td><td>&quot;6973, 650, 835…</td><td>null</td><td>null</td><td>null</td><td>null</td><td>null</td><td>null</td><td>null</td><td>null</td><td>null</td><td>&quot;KI/KAPR2, KI/K…</td><td>&quot;&#x27;https://githu…</td><td>null</td><td>null</td><td>null</td><td>&quot;N&quot;</td><td>6</td><td>&quot;HOD/SEM&quot;</td><td>6</td><td>&quot;HOD/SEM&quot;</td><td>2</td><td>&quot;HOD/SEM&quot;</td><td>&quot;Úvodní kurz al…</td><td>&quot;Zápočet&quot;</td><td>&quot;NE&quot;</td><td>&quot;Kombinovaná&quot;</td><td>&quot;Podmínkou získ…</td><td>&quot;1.\tZákladní te…</td><td>null</td><td>null</td><td>null</td><td>null</td><td>&quot;Čeština&quot;</td><td>null</td><td>&quot;A&quot;</td><td>&quot;N&quot;</td><td>&quot;N&quot;</td><td>null</td><td>null</td><td>null</td><td>&quot;N&quot;</td><td>&quot;A&quot;</td><td>null</td><td>0</td><td>null</td><td>&quot;Bc.&quot;</td><td>&quot;A&quot;</td><td>0</td><td>null</td><td>null</td><td>null</td></tr><tr><td>&quot;KI&quot;</td><td>&quot;KAPR2&quot;</td><td>2022</td><td>&quot;Algoritmizace …</td><td>&quot;Algoritmizace …</td><td>&quot;N&quot;</td><td>&quot;A&quot;</td><td>5</td><td>&quot;NE&quot;</td><td>null</td><td>&quot;&#x27;Mgr. Jiří Fiš…</td><td>&quot;&#x27;Mgr. Jiří Fiš…</td><td>&quot;251&quot;</td><td>&quot;&#x27;Mgr. Jiří Fiš…</td><td>&quot;&#x27;Mgr. Jiří Fiš…</td><td>&quot;251&quot;</td><td>&quot;&#x27;RNDr. Petr Ku…</td><td>&quot;&#x27;RNDr. Petr Ku…</td><td>&quot;650, 835, 6259…</td><td>null</td><td>null</td><td>null</td><td>null</td><td>null</td><td>null</td><td>null</td><td>&quot;KI/KAPR1&quot;</td><td>null</td><td>&quot;KI/KGUI, KI/KP…</td><td>&quot;&#x27;https://githu…</td><td>null</td><td>null</td><td>null</td><td>&quot;N&quot;</td><td>6</td><td>&quot;HOD/SEM&quot;</td><td>6</td><td>&quot;HOD/SEM&quot;</td><td>2</td><td>&quot;HOD/SEM&quot;</td><td>&quot;Druhá část úvo…</td><td>&quot;Zkouška&quot;</td><td>&quot;ANO&quot;</td><td>&quot;Kombinovaná&quot;</td><td>&quot;Podmínkou získ…</td><td>&quot;1. Implementac…</td><td>null</td><td>null</td><td>null</td><td>null</td><td>&quot;Čeština&quot;</td><td>null</td><td>&quot;A&quot;</td><td>&quot;N&quot;</td><td>&quot;N&quot;</td><td>null</td><td>null</td><td>null</td><td>&quot;N&quot;</td><td>&quot;A&quot;</td><td>null</td><td>0</td><td>null</td><td>&quot;Bc.&quot;</td><td>&quot;A&quot;</td><td>0</td><td>null</td><td>null</td><td>null</td></tr><tr><td>&quot;KI&quot;</td><td>&quot;KBIG&quot;</td><td>2022</td><td>&quot;Datová úložišt…</td><td>&quot;Datová úložišt…</td><td>&quot;A&quot;</td><td>&quot;N&quot;</td><td>5</td><td>&quot;NE&quot;</td><td>null</td><td>&quot;&#x27;Mgr. Jiří Fiš…</td><td>&quot;&#x27;Mgr. Jiří Fiš…</td><td>&quot;251&quot;</td><td>&quot;&#x27;Mgr. Jiří Fiš…</td><td>&quot;&#x27;Mgr. Jiří Fiš…</td><td>&quot;251, 650, 4195…</td><td>&quot;&#x27;Mgr. Jiří Fiš…</td><td>&quot;&#x27;Mgr. Jiří Fiš…</td><td>&quot;251, 650&quot;</td><td>null</td><td>null</td><td>null</td><td>null</td><td>null</td><td>null</td><td>null</td><td>null</td><td>null</td><td>null</td><td>null</td><td>null</td><td>null</td><td>null</td><td>&quot;N&quot;</td><td>4</td><td>&quot;HOD/SEM&quot;</td><td>8</td><td>&quot;HOD/SEM&quot;</td><td>2</td><td>&quot;HOD/SEM&quot;</td><td>&quot;Předmět je zam…</td><td>&quot;Zkouška&quot;</td><td>&quot;ANO&quot;</td><td>&quot;Kombinovaná&quot;</td><td>&quot;Zápočet: vypra…</td><td>&quot;1. Principy vi…</td><td>null</td><td>null</td><td>null</td><td>null</td><td>&quot;Čeština&quot;</td><td>null</td><td>&quot;A&quot;</td><td>&quot;N&quot;</td><td>&quot;N&quot;</td><td>null</td><td>null</td><td>null</td><td>&quot;N&quot;</td><td>&quot;A&quot;</td><td>null</td><td>0</td><td>null</td><td>&quot;Mgr.&quot;</td><td>&quot;A&quot;</td><td>0</td><td>null</td><td>null</td><td>null</td></tr></tbody></table></div>"
      ],
      "text/plain": [
       "shape: (5, 69)\n",
       "┌─────────┬─────────┬──────┬───────────────────────┬───┬───────────────────┬──────┬──────┬──────┐\n",
       "│ katedra ┆ zkratka ┆ rok  ┆ nazev                 ┆ … ┆ hodZaSemKombForma ┆ aMax ┆ bMax ┆ cMax │\n",
       "│ ---     ┆ ---     ┆ ---  ┆ ---                   ┆   ┆ ---               ┆ ---  ┆ ---  ┆ ---  │\n",
       "│ str     ┆ str     ┆ i64  ┆ str                   ┆   ┆ i64               ┆ str  ┆ str  ┆ i64  │\n",
       "╞═════════╪═════════╪══════╪═══════════════════════╪═══╪═══════════════════╪══════╪══════╪══════╡\n",
       "│ KI      ┆ KAFJ    ┆ 2022 ┆ Teorie automatů a     ┆ … ┆ null              ┆ null ┆ null ┆ 0    │\n",
       "│         ┆         ┆      ┆ formálních jaz…       ┆   ┆                   ┆      ┆      ┆      │\n",
       "│ KI      ┆ KANE    ┆ 2022 ┆ Analogová elektronika ┆ … ┆ 0                 ┆ null ┆ null ┆ null │\n",
       "│ KI      ┆ KAPR1   ┆ 2022 ┆ Algoritmizace a       ┆ … ┆ 0                 ┆ null ┆ null ┆ null │\n",
       "│         ┆         ┆      ┆ programování I        ┆   ┆                   ┆      ┆      ┆      │\n",
       "│ KI      ┆ KAPR2   ┆ 2022 ┆ Algoritmizace a       ┆ … ┆ 0                 ┆ null ┆ null ┆ null │\n",
       "│         ┆         ┆      ┆ programování II       ┆   ┆                   ┆      ┆      ┆      │\n",
       "│ KI      ┆ KBIG    ┆ 2022 ┆ Datová úložiště       ┆ … ┆ 0                 ┆ null ┆ null ┆ null │\n",
       "│         ┆         ┆      ┆ a nástroje pro B…     ┆   ┆                   ┆      ┆      ┆      │\n",
       "└─────────┴─────────┴──────┴───────────────────────┴───┴───────────────────┴──────┴──────┴──────┘"
      ]
     },
     "execution_count": 16,
     "metadata": {},
     "output_type": "execute_result"
    }
   ],
   "source": [
    "ma_seminare = jednotek_seminare != 0\n",
    "nema_seminariciho = seminarici.is_null()\n",
    "\n",
    "chhybi_seminarici = predmety_s_akci.filter(ma_seminare & nema_seminariciho)\n",
    "chhybi_seminarici.head()"
   ]
  },
  {
   "attachments": {},
   "cell_type": "markdown",
   "metadata": {},
   "source": [
    "> Zde jsou předměty, ve kterých učitel vede seminář:"
   ]
  },
  {
   "cell_type": "code",
   "execution_count": 17,
   "metadata": {},
   "outputs": [
    {
     "data": {
      "text/html": [
       "<div><style>\n",
       ".dataframe > thead > tr > th,\n",
       ".dataframe > tbody > tr > td {\n",
       "  text-align: right;\n",
       "}\n",
       "</style>\n",
       "<small>shape: (5, 69)</small><table border=\"1\" class=\"dataframe\"><thead><tr><th>katedra</th><th>zkratka</th><th>rok</th><th>nazev</th><th>nazevDlouhy</th><th>vyukaZS</th><th>vyukaLS</th><th>kreditu</th><th>viceZapis</th><th>minObsazeni</th><th>garanti</th><th>garantiSPodily</th><th>garantiUcitIdno</th><th>prednasejici</th><th>prednasejiciSPodily</th><th>prednasejiciUcitIdno</th><th>cvicici</th><th>cviciciSPodily</th><th>cviciciUcitIdno</th><th>seminarici</th><th>seminariciSPodily</th><th>seminariciUcitIdno</th><th>schvalujiciUznani</th><th>schvalujiciUznaniUcitIdno</th><th>examinatori</th><th>examinatoriUcitIdno</th><th>podminujiciPredmety</th><th>vylucujiciPredmety</th><th>podminujePredmety</th><th>literatura</th><th>nahrazPredmety</th><th>metodyVyucovaci</th><th>metodyHodnotici</th><th>akreditovan</th><th>jednotekPrednasek</th><th>jednotkaPrednasky</th><th>jednotekCviceni</th><th>jednotkaCviceni</th><th>jednotekSeminare</th><th>jednotkaSeminare</th><th>anotace</th><th>typZkousky</th><th>maZapocetPredZk</th><th>formaZkousky</th><th>pozadavky</th><th>prehledLatky</th><th>predpoklady</th><th>ziskaneZpusobilosti</th><th>casovaNarocnost</th><th>predmetUrl</th><th>vyucovaciJazyky</th><th>poznamka</th><th>ectsZobrazit</th><th>ectsAkreditace</th><th>ectsNabizetUPrijezdu</th><th>poznamkaVerejna</th><th>skupinaAkreditace</th><th>skupinaAkreditaceKey</th><th>zarazenDoPrezencnihoStudia</th><th>zarazenDoKombinovanehoStudia</th><th>studijniOpory</th><th>praxePocetDnu</th><th>urovenNastavena</th><th>urovenVypoctena</th><th>automatickyUznavatZppZk</th><th>hodZaSemKombForma</th><th>aMax</th><th>bMax</th><th>cMax</th></tr><tr><td>str</td><td>str</td><td>i64</td><td>str</td><td>str</td><td>str</td><td>str</td><td>i64</td><td>str</td><td>str</td><td>str</td><td>str</td><td>str</td><td>str</td><td>str</td><td>str</td><td>str</td><td>str</td><td>str</td><td>str</td><td>str</td><td>str</td><td>str</td><td>str</td><td>str</td><td>str</td><td>str</td><td>str</td><td>str</td><td>str</td><td>str</td><td>str</td><td>str</td><td>str</td><td>i64</td><td>str</td><td>i64</td><td>str</td><td>i64</td><td>str</td><td>str</td><td>str</td><td>str</td><td>str</td><td>str</td><td>str</td><td>str</td><td>str</td><td>str</td><td>str</td><td>str</td><td>str</td><td>str</td><td>str</td><td>str</td><td>str</td><td>str</td><td>str</td><td>str</td><td>str</td><td>str</td><td>i64</td><td>str</td><td>str</td><td>str</td><td>i64</td><td>str</td><td>str</td><td>i64</td></tr></thead><tbody><tr><td>&quot;KI&quot;</td><td>&quot;KDIS&quot;</td><td>2022</td><td>&quot;Dependabilita …</td><td>&quot;Dependabilita …</td><td>&quot;A&quot;</td><td>&quot;A&quot;</td><td>4</td><td>&quot;NE&quot;</td><td>null</td><td>&quot;&#x27;doc. RNDr. Vi…</td><td>&quot;&#x27;doc. RNDr. Vi…</td><td>&quot;2239&quot;</td><td>null</td><td>null</td><td>null</td><td>null</td><td>null</td><td>null</td><td>null</td><td>null</td><td>null</td><td>null</td><td>null</td><td>null</td><td>null</td><td>&quot;KI/KAPR1&quot;</td><td>null</td><td>null</td><td>&quot;&#x27;Laprie, J.C.,…</td><td>null</td><td>null</td><td>null</td><td>&quot;N&quot;</td><td>6</td><td>&quot;HOD/SEM&quot;</td><td>4</td><td>&quot;HOD/SEM&quot;</td><td>2</td><td>&quot;HOD/SEM&quot;</td><td>&quot;Kurz uvádí do …</td><td>&quot;Zkouška&quot;</td><td>&quot;ANO&quot;</td><td>&quot;Kombinovaná&quot;</td><td>&quot;Zápočet: semin…</td><td>&quot;1. Úvod do pro…</td><td>null</td><td>null</td><td>null</td><td>null</td><td>&quot;Čeština, Angli…</td><td>&quot;Výuka v anglic…</td><td>&quot;A&quot;</td><td>&quot;N&quot;</td><td>&quot;N&quot;</td><td>null</td><td>null</td><td>null</td><td>&quot;N&quot;</td><td>&quot;A&quot;</td><td>null</td><td>0</td><td>&quot;Bc.&quot;</td><td>&quot;Bc.&quot;</td><td>&quot;A&quot;</td><td>null</td><td>null</td><td>null</td><td>null</td></tr><tr><td>&quot;KI&quot;</td><td>&quot;KNSQL&quot;</td><td>2022</td><td>&quot;NoSQL databázo…</td><td>&quot;NoSQL databázo…</td><td>&quot;A&quot;</td><td>&quot;N&quot;</td><td>2</td><td>&quot;NE&quot;</td><td>null</td><td>&quot;&#x27;Mgr. Jiří Fiš…</td><td>&quot;&#x27;Mgr. Jiří Fiš…</td><td>&quot;251&quot;</td><td>null</td><td>null</td><td>null</td><td>null</td><td>null</td><td>null</td><td>null</td><td>null</td><td>null</td><td>null</td><td>null</td><td>null</td><td>null</td><td>&quot;KI/KDSY, KI/KU…</td><td>null</td><td>null</td><td>&quot;&#x27;Holubová, I.,…</td><td>null</td><td>null</td><td>null</td><td>&quot;N&quot;</td><td>2</td><td>&quot;HOD/SEM&quot;</td><td>4</td><td>&quot;HOD/SEM&quot;</td><td>2</td><td>&quot;HOD/SEM&quot;</td><td>&quot;Kurz je zaměře…</td><td>&quot;Zápočet&quot;</td><td>&quot;NE&quot;</td><td>&quot;Kombinovaná&quot;</td><td>&quot;Podmínkou získ…</td><td>&quot;1. Vymezení a …</td><td>null</td><td>null</td><td>null</td><td>null</td><td>&quot;Čeština&quot;</td><td>null</td><td>&quot;A&quot;</td><td>&quot;N&quot;</td><td>&quot;N&quot;</td><td>null</td><td>null</td><td>null</td><td>&quot;N&quot;</td><td>&quot;A&quot;</td><td>null</td><td>0</td><td>null</td><td>&quot;Bc.&quot;</td><td>&quot;A&quot;</td><td>0</td><td>null</td><td>null</td><td>null</td></tr><tr><td>&quot;KI&quot;</td><td>&quot;KOPR&quot;</td><td>2022</td><td>&quot;Optimální rozh…</td><td>&quot;Optimální rozh…</td><td>&quot;A&quot;</td><td>&quot;A&quot;</td><td>5</td><td>&quot;NE&quot;</td><td>null</td><td>&quot;&#x27;RNDr. Petr Ku…</td><td>&quot;&#x27;RNDr. Petr Ku…</td><td>&quot;650&quot;</td><td>null</td><td>null</td><td>null</td><td>null</td><td>null</td><td>null</td><td>null</td><td>null</td><td>null</td><td>null</td><td>null</td><td>null</td><td>null</td><td>null</td><td>null</td><td>null</td><td>&quot;&#x27;Lagová, M. Me…</td><td>null</td><td>null</td><td>null</td><td>&quot;N&quot;</td><td>6</td><td>&quot;HOD/SEM&quot;</td><td>6</td><td>&quot;HOD/SEM&quot;</td><td>2</td><td>&quot;HOD/SEM&quot;</td><td>&quot;Kurz je zaměře…</td><td>&quot;Zkouška&quot;</td><td>&quot;ANO&quot;</td><td>&quot;Kombinovaná&quot;</td><td>&quot;Podmínkou získ…</td><td>&quot;1. Úlohy lineá…</td><td>null</td><td>null</td><td>null</td><td>null</td><td>&quot;Čeština&quot;</td><td>null</td><td>&quot;A&quot;</td><td>&quot;N&quot;</td><td>&quot;N&quot;</td><td>null</td><td>null</td><td>null</td><td>&quot;N&quot;</td><td>&quot;A&quot;</td><td>null</td><td>0</td><td>null</td><td>&quot;Bc.&quot;</td><td>&quot;A&quot;</td><td>0</td><td>null</td><td>null</td><td>null</td></tr><tr><td>&quot;KI&quot;</td><td>&quot;KPAU&quot;</td><td>2022</td><td>&quot;Programovateln…</td><td>&quot;Programovateln…</td><td>&quot;A&quot;</td><td>&quot;N&quot;</td><td>4</td><td>&quot;NE&quot;</td><td>null</td><td>&quot;&#x27;Ing. Petr Hab…</td><td>&quot;&#x27;Ing. Petr Hab…</td><td>&quot;1780&quot;</td><td>null</td><td>null</td><td>null</td><td>null</td><td>null</td><td>null</td><td>null</td><td>null</td><td>null</td><td>null</td><td>null</td><td>null</td><td>null</td><td>null</td><td>null</td><td>&quot;KI/KSCAD&quot;</td><td>&quot;&#x27;Šmejkal, L., …</td><td>null</td><td>null</td><td>null</td><td>&quot;A&quot;</td><td>4</td><td>&quot;HOD/SEM&quot;</td><td>6</td><td>&quot;HOD/SEM&quot;</td><td>2</td><td>&quot;HOD/SEM&quot;</td><td>&quot;Cílem předmětu…</td><td>&quot;Zkouška&quot;</td><td>&quot;ANO&quot;</td><td>&quot;Kombinovaná&quot;</td><td>&quot;Zápočet: semes…</td><td>&quot;1. Úvod do pro…</td><td>null</td><td>null</td><td>null</td><td>null</td><td>&quot;Čeština&quot;</td><td>null</td><td>&quot;A&quot;</td><td>&quot;N&quot;</td><td>&quot;N&quot;</td><td>null</td><td>null</td><td>null</td><td>&quot;N&quot;</td><td>&quot;A&quot;</td><td>null</td><td>0</td><td>null</td><td>&quot;Bc.&quot;</td><td>&quot;A&quot;</td><td>0</td><td>null</td><td>null</td><td>null</td></tr><tr><td>&quot;KI&quot;</td><td>&quot;KPEK&quot;</td><td>2022</td><td>&quot;Podniková ekon…</td><td>&quot;Podniková ekon…</td><td>&quot;A&quot;</td><td>&quot;N&quot;</td><td>2</td><td>&quot;NE&quot;</td><td>null</td><td>&quot;&#x27;Ing. Štěpánka…</td><td>&quot;&#x27;Ing. Štěpánka…</td><td>&quot;7352&quot;</td><td>&quot;&#x27;Ing. Štěpánka…</td><td>&quot;&#x27;Ing. Štěpánka…</td><td>&quot;7352&quot;</td><td>null</td><td>null</td><td>null</td><td>null</td><td>null</td><td>null</td><td>null</td><td>null</td><td>null</td><td>null</td><td>null</td><td>null</td><td>&quot;KI/KEIS&quot;</td><td>&quot;&#x27;Synek M. a ko…</td><td>null</td><td>null</td><td>null</td><td>&quot;N&quot;</td><td>6</td><td>&quot;HOD/SEM&quot;</td><td>0</td><td>&quot;HOD/SEM&quot;</td><td>2</td><td>&quot;HOD/SEM&quot;</td><td>&quot;Kurz se zabývá…</td><td>&quot;Zápočet&quot;</td><td>&quot;NE&quot;</td><td>&quot;Kombinovaná&quot;</td><td>&quot;Písemný test&quot;</td><td>&quot;1.\tEkonomie a …</td><td>&quot;Předpokládaná …</td><td>null</td><td>null</td><td>null</td><td>&quot;Čeština&quot;</td><td>null</td><td>&quot;A&quot;</td><td>&quot;N&quot;</td><td>&quot;N&quot;</td><td>null</td><td>null</td><td>null</td><td>&quot;N&quot;</td><td>&quot;A&quot;</td><td>null</td><td>0</td><td>null</td><td>&quot;Bc.&quot;</td><td>&quot;A&quot;</td><td>null</td><td>null</td><td>null</td><td>null</td></tr></tbody></table></div>"
      ],
      "text/plain": [
       "shape: (5, 69)\n",
       "┌─────────┬─────────┬──────┬──────────────────────────┬───┬───────────────────┬──────┬──────┬──────┐\n",
       "│ katedra ┆ zkratka ┆ rok  ┆ nazev                    ┆ … ┆ hodZaSemKombForma ┆ aMax ┆ bMax ┆ cMax │\n",
       "│ ---     ┆ ---     ┆ ---  ┆ ---                      ┆   ┆ ---               ┆ ---  ┆ ---  ┆ ---  │\n",
       "│ str     ┆ str     ┆ i64  ┆ str                      ┆   ┆ i64               ┆ str  ┆ str  ┆ i64  │\n",
       "╞═════════╪═════════╪══════╪══════════════════════════╪═══╪═══════════════════╪══════╪══════╪══════╡\n",
       "│ KI      ┆ KDIS    ┆ 2022 ┆ Dependabilita            ┆ … ┆ null              ┆ null ┆ null ┆ null │\n",
       "│         ┆         ┆      ┆ informačních systé…      ┆   ┆                   ┆      ┆      ┆      │\n",
       "│ KI      ┆ KNSQL   ┆ 2022 ┆ NoSQL databázové systémy ┆ … ┆ 0                 ┆ null ┆ null ┆ null │\n",
       "│ KI      ┆ KOPR    ┆ 2022 ┆ Optimální rozhodování    ┆ … ┆ 0                 ┆ null ┆ null ┆ null │\n",
       "│ KI      ┆ KPAU    ┆ 2022 ┆ Programovatelné automaty ┆ … ┆ 0                 ┆ null ┆ null ┆ null │\n",
       "│ KI      ┆ KPEK    ┆ 2022 ┆ Podniková ekonomika      ┆ … ┆ null              ┆ null ┆ null ┆ null │\n",
       "└─────────┴─────────┴──────┴──────────────────────────┴───┴───────────────────┴──────┴──────┴──────┘"
      ]
     },
     "execution_count": 17,
     "metadata": {},
     "output_type": "execute_result"
    }
   ],
   "source": [
    "prednasejici_je_seminarici = prednasejici == seminarici\n",
    "cvicici_je_seminarici = cvicici == seminarici\n",
    "\n",
    "konflikt_vyucujicich = predmety_s_akci.filter(ma_seminare & ma_prednasku & (prednasejici_je_seminarici | cvicici_je_seminarici))\n",
    "konflikt_vyucujicich.head()"
   ]
  },
  {
   "cell_type": "code",
   "execution_count": 18,
   "metadata": {},
   "outputs": [
    {
     "name": "stdout",
     "output_type": "stream",
     "text": [
      "9 předmětů nemá přednášejícího\n",
      "11 předmětů nemá cvičícího\n",
      "56 předmětů nemá seminářícího\n",
      "U 9 předmětů je seminářící také učitel\n"
     ]
    }
   ],
   "source": [
    "print(f\"{len(chybi_prednasejici)} předmětů nemá přednášejícího\")\n",
    "print(f\"{len(chybi_cvicici)} předmětů nemá cvičícího\")\n",
    "print(f\"{len(chhybi_seminarici)} předmětů nemá seminářícího\")\n",
    "print(f\"U {len(konflikt_vyucujicich)} předmětů je seminářící také učitel\")"
   ]
  },
  {
   "attachments": {},
   "cell_type": "markdown",
   "metadata": {},
   "source": [
    "### Garant by měl být někde mezi vyučujícími. Pokud má předmět přednášku, měl by být přednášející.\n",
    "\n",
    "> V těchto předmětech garant vůbec neučí:"
   ]
  },
  {
   "cell_type": "code",
   "execution_count": 19,
   "metadata": {},
   "outputs": [
    {
     "data": {
      "text/html": [
       "<div><style>\n",
       ".dataframe > thead > tr > th,\n",
       ".dataframe > tbody > tr > td {\n",
       "  text-align: right;\n",
       "}\n",
       "</style>\n",
       "<small>shape: (5, 69)</small><table border=\"1\" class=\"dataframe\"><thead><tr><th>katedra</th><th>zkratka</th><th>rok</th><th>nazev</th><th>nazevDlouhy</th><th>vyukaZS</th><th>vyukaLS</th><th>kreditu</th><th>viceZapis</th><th>minObsazeni</th><th>garanti</th><th>garantiSPodily</th><th>garantiUcitIdno</th><th>prednasejici</th><th>prednasejiciSPodily</th><th>prednasejiciUcitIdno</th><th>cvicici</th><th>cviciciSPodily</th><th>cviciciUcitIdno</th><th>seminarici</th><th>seminariciSPodily</th><th>seminariciUcitIdno</th><th>schvalujiciUznani</th><th>schvalujiciUznaniUcitIdno</th><th>examinatori</th><th>examinatoriUcitIdno</th><th>podminujiciPredmety</th><th>vylucujiciPredmety</th><th>podminujePredmety</th><th>literatura</th><th>nahrazPredmety</th><th>metodyVyucovaci</th><th>metodyHodnotici</th><th>akreditovan</th><th>jednotekPrednasek</th><th>jednotkaPrednasky</th><th>jednotekCviceni</th><th>jednotkaCviceni</th><th>jednotekSeminare</th><th>jednotkaSeminare</th><th>anotace</th><th>typZkousky</th><th>maZapocetPredZk</th><th>formaZkousky</th><th>pozadavky</th><th>prehledLatky</th><th>predpoklady</th><th>ziskaneZpusobilosti</th><th>casovaNarocnost</th><th>predmetUrl</th><th>vyucovaciJazyky</th><th>poznamka</th><th>ectsZobrazit</th><th>ectsAkreditace</th><th>ectsNabizetUPrijezdu</th><th>poznamkaVerejna</th><th>skupinaAkreditace</th><th>skupinaAkreditaceKey</th><th>zarazenDoPrezencnihoStudia</th><th>zarazenDoKombinovanehoStudia</th><th>studijniOpory</th><th>praxePocetDnu</th><th>urovenNastavena</th><th>urovenVypoctena</th><th>automatickyUznavatZppZk</th><th>hodZaSemKombForma</th><th>aMax</th><th>bMax</th><th>cMax</th></tr><tr><td>str</td><td>str</td><td>i64</td><td>str</td><td>str</td><td>str</td><td>str</td><td>i64</td><td>str</td><td>str</td><td>str</td><td>str</td><td>str</td><td>str</td><td>str</td><td>str</td><td>str</td><td>str</td><td>str</td><td>str</td><td>str</td><td>str</td><td>str</td><td>str</td><td>str</td><td>str</td><td>str</td><td>str</td><td>str</td><td>str</td><td>str</td><td>str</td><td>str</td><td>str</td><td>i64</td><td>str</td><td>i64</td><td>str</td><td>i64</td><td>str</td><td>str</td><td>str</td><td>str</td><td>str</td><td>str</td><td>str</td><td>str</td><td>str</td><td>str</td><td>str</td><td>str</td><td>str</td><td>str</td><td>str</td><td>str</td><td>str</td><td>str</td><td>str</td><td>str</td><td>str</td><td>str</td><td>i64</td><td>str</td><td>str</td><td>str</td><td>i64</td><td>str</td><td>str</td><td>i64</td></tr></thead><tbody><tr><td>&quot;KI&quot;</td><td>&quot;0121&quot;</td><td>2022</td><td>&quot;CCNA 1: Introd…</td><td>&quot;CCNA 1: Introd…</td><td>&quot;A&quot;</td><td>&quot;A&quot;</td><td>1</td><td>&quot;NE&quot;</td><td>null</td><td>&quot;&#x27;RNDr. Jan Kre…</td><td>&quot;&#x27;RNDr. Jan Kre…</td><td>&quot;2776&quot;</td><td>null</td><td>null</td><td>null</td><td>&quot;&#x27;Ing. Josef Bi…</td><td>&quot;&#x27;Ing. Josef Bi…</td><td>&quot;5136, 2776&quot;</td><td>null</td><td>null</td><td>null</td><td>null</td><td>null</td><td>null</td><td>null</td><td>null</td><td>null</td><td>null</td><td>null</td><td>null</td><td>null</td><td>null</td><td>&quot;N&quot;</td><td>0</td><td>&quot;HOD/TYD&quot;</td><td>1</td><td>&quot;HOD/TYD&quot;</td><td>0</td><td>&quot;HOD/TYD&quot;</td><td>&quot;Cílem předmětu…</td><td>&quot;Zápočet&quot;</td><td>&quot;NE&quot;</td><td>&quot;Kombinovaná&quot;</td><td>&quot;Splnění závěre…</td><td>&quot;Cílem předmětu…</td><td>null</td><td>null</td><td>null</td><td>null</td><td>&quot;Čeština, Angli…</td><td>&quot;vk&quot;</td><td>&quot;A&quot;</td><td>&quot;N&quot;</td><td>&quot;N&quot;</td><td>null</td><td>null</td><td>null</td><td>&quot;A&quot;</td><td>&quot;A&quot;</td><td>null</td><td>0</td><td>null</td><td>&quot;Bc.&quot;</td><td>&quot;A&quot;</td><td>null</td><td>null</td><td>null</td><td>null</td></tr><tr><td>&quot;KI&quot;</td><td>&quot;0126&quot;</td><td>2022</td><td>&quot;CCNA 2: Routin…</td><td>&quot;CCNA 2: Routin…</td><td>&quot;A&quot;</td><td>&quot;A&quot;</td><td>2</td><td>&quot;NE&quot;</td><td>null</td><td>&quot;&#x27;RNDr. Jan Kre…</td><td>&quot;&#x27;RNDr. Jan Kre…</td><td>&quot;2776&quot;</td><td>null</td><td>null</td><td>null</td><td>&quot;&#x27;Ing. Josef Bi…</td><td>&quot;&#x27;Ing. Josef Bi…</td><td>&quot;5136, 2776&quot;</td><td>null</td><td>null</td><td>null</td><td>null</td><td>null</td><td>null</td><td>null</td><td>null</td><td>null</td><td>null</td><td>null</td><td>null</td><td>null</td><td>null</td><td>&quot;N&quot;</td><td>0</td><td>&quot;HOD/TYD&quot;</td><td>2</td><td>&quot;HOD/TYD&quot;</td><td>0</td><td>&quot;HOD/TYD&quot;</td><td>&quot;Cílem předmětu…</td><td>&quot;Zápočet&quot;</td><td>&quot;NE&quot;</td><td>&quot;Kombinovaná&quot;</td><td>&quot;Splnění závěre…</td><td>&quot;Cílem předmětu…</td><td>&quot;CCNA 1&quot;</td><td>null</td><td>null</td><td>null</td><td>&quot;Čeština, Angli…</td><td>&quot;vk&quot;</td><td>&quot;A&quot;</td><td>&quot;N&quot;</td><td>&quot;N&quot;</td><td>null</td><td>null</td><td>null</td><td>&quot;A&quot;</td><td>&quot;A&quot;</td><td>null</td><td>0</td><td>null</td><td>&quot;Bc.&quot;</td><td>&quot;A&quot;</td><td>null</td><td>null</td><td>null</td><td>null</td></tr><tr><td>&quot;KI&quot;</td><td>&quot;0127&quot;</td><td>2022</td><td>&quot;CCNA 3: Scalin…</td><td>&quot;CCNA 3: Scalin…</td><td>&quot;A&quot;</td><td>&quot;A&quot;</td><td>2</td><td>&quot;NE&quot;</td><td>null</td><td>&quot;&#x27;RNDr. Jan Kre…</td><td>&quot;&#x27;RNDr. Jan Kre…</td><td>&quot;2776&quot;</td><td>null</td><td>null</td><td>null</td><td>&quot;&#x27;Ing. Josef Bi…</td><td>&quot;&#x27;Ing. Josef Bi…</td><td>&quot;5136, 2776&quot;</td><td>null</td><td>null</td><td>null</td><td>null</td><td>null</td><td>null</td><td>null</td><td>null</td><td>null</td><td>null</td><td>null</td><td>null</td><td>null</td><td>null</td><td>&quot;N&quot;</td><td>0</td><td>&quot;HOD/TYD&quot;</td><td>2</td><td>&quot;HOD/TYD&quot;</td><td>0</td><td>&quot;HOD/TYD&quot;</td><td>&quot;Cílem předmětu…</td><td>&quot;Zápočet&quot;</td><td>&quot;NE&quot;</td><td>&quot;Kombinovaná&quot;</td><td>&quot;Splnění závěre…</td><td>&quot;Cíle předmětu:…</td><td>&quot;CCNA 2&quot;</td><td>null</td><td>null</td><td>null</td><td>&quot;Čeština, Angli…</td><td>&quot;vk&quot;</td><td>&quot;A&quot;</td><td>&quot;N&quot;</td><td>&quot;N&quot;</td><td>null</td><td>null</td><td>null</td><td>&quot;A&quot;</td><td>&quot;A&quot;</td><td>null</td><td>0</td><td>null</td><td>&quot;Bc.&quot;</td><td>&quot;A&quot;</td><td>null</td><td>null</td><td>null</td><td>null</td></tr><tr><td>&quot;KI&quot;</td><td>&quot;0185&quot;</td><td>2022</td><td>&quot;Souborný semin…</td><td>&quot;Souborný semin…</td><td>&quot;N&quot;</td><td>&quot;A&quot;</td><td>1</td><td>&quot;NE&quot;</td><td>null</td><td>&quot;&#x27;RNDr. Jiří Šk…</td><td>&quot;&#x27;RNDr. Jiří Šk…</td><td>&quot;2220&quot;</td><td>null</td><td>null</td><td>null</td><td>null</td><td>null</td><td>null</td><td>&quot;&#x27;doc. Ing. Mgr…</td><td>&quot;&#x27;doc. Ing. Mgr…</td><td>&quot;449, 251, 2776…</td><td>null</td><td>null</td><td>null</td><td>null</td><td>null</td><td>null</td><td>null</td><td>null</td><td>null</td><td>null</td><td>null</td><td>&quot;A&quot;</td><td>0</td><td>&quot;HOD/TYD&quot;</td><td>0</td><td>&quot;HOD/TYD&quot;</td><td>2</td><td>&quot;HOD/TYD&quot;</td><td>&quot;Cílem tohoto p…</td><td>&quot;Zápočet&quot;</td><td>&quot;NE&quot;</td><td>&quot;Kombinovaná&quot;</td><td>&quot;Aktivní účast,…</td><td>null</td><td>null</td><td>null</td><td>null</td><td>null</td><td>&quot;Čeština&quot;</td><td>null</td><td>&quot;A&quot;</td><td>&quot;N&quot;</td><td>&quot;N&quot;</td><td>null</td><td>null</td><td>null</td><td>&quot;A&quot;</td><td>&quot;A&quot;</td><td>null</td><td>0</td><td>null</td><td>&quot;Bc.&quot;</td><td>&quot;A&quot;</td><td>null</td><td>null</td><td>null</td><td>null</td></tr><tr><td>&quot;KI&quot;</td><td>&quot;0190&quot;</td><td>2022</td><td>&quot;CCNA Security&quot;</td><td>&quot;CCNA Security&quot;</td><td>&quot;A&quot;</td><td>&quot;A&quot;</td><td>2</td><td>&quot;NE&quot;</td><td>null</td><td>&quot;&#x27;RNDr. Jan Kre…</td><td>&quot;&#x27;RNDr. Jan Kre…</td><td>&quot;2776&quot;</td><td>null</td><td>null</td><td>null</td><td>&quot;&#x27;Ing. Josef Bi…</td><td>&quot;&#x27;Ing. Josef Bi…</td><td>&quot;5136, 2776&quot;</td><td>null</td><td>null</td><td>null</td><td>null</td><td>null</td><td>null</td><td>null</td><td>null</td><td>null</td><td>null</td><td>null</td><td>null</td><td>null</td><td>null</td><td>&quot;N&quot;</td><td>0</td><td>&quot;HOD/TYD&quot;</td><td>2</td><td>&quot;HOD/TYD&quot;</td><td>0</td><td>&quot;HOD/TYD&quot;</td><td>&quot;Cílem předmětu…</td><td>&quot;Zápočet&quot;</td><td>&quot;NE&quot;</td><td>&quot;Kombinovaná&quot;</td><td>&quot;Splnění závěre…</td><td>&quot;1. Moderní hro…</td><td>&quot;CCNA 2&quot;</td><td>null</td><td>null</td><td>null</td><td>&quot;Čeština, Angli…</td><td>null</td><td>&quot;A&quot;</td><td>&quot;N&quot;</td><td>&quot;N&quot;</td><td>null</td><td>null</td><td>null</td><td>&quot;A&quot;</td><td>&quot;A&quot;</td><td>null</td><td>0</td><td>null</td><td>&quot;Bc.&quot;</td><td>&quot;A&quot;</td><td>null</td><td>null</td><td>null</td><td>null</td></tr></tbody></table></div>"
      ],
      "text/plain": [
       "shape: (5, 69)\n",
       "┌─────────┬─────────┬──────┬──────────────────────────┬───┬───────────────────┬──────┬──────┬──────┐\n",
       "│ katedra ┆ zkratka ┆ rok  ┆ nazev                    ┆ … ┆ hodZaSemKombForma ┆ aMax ┆ bMax ┆ cMax │\n",
       "│ ---     ┆ ---     ┆ ---  ┆ ---                      ┆   ┆ ---               ┆ ---  ┆ ---  ┆ ---  │\n",
       "│ str     ┆ str     ┆ i64  ┆ str                      ┆   ┆ i64               ┆ str  ┆ str  ┆ i64  │\n",
       "╞═════════╪═════════╪══════╪══════════════════════════╪═══╪═══════════════════╪══════╪══════╪══════╡\n",
       "│ KI      ┆ 0121    ┆ 2022 ┆ CCNA 1: Introduction to  ┆ … ┆ null              ┆ null ┆ null ┆ null │\n",
       "│         ┆         ┆      ┆ Networks                 ┆   ┆                   ┆      ┆      ┆      │\n",
       "│ KI      ┆ 0126    ┆ 2022 ┆ CCNA 2: Routing and      ┆ … ┆ null              ┆ null ┆ null ┆ null │\n",
       "│         ┆         ┆      ┆ Switching Es…            ┆   ┆                   ┆      ┆      ┆      │\n",
       "│ KI      ┆ 0127    ┆ 2022 ┆ CCNA 3: Scaling Networks ┆ … ┆ null              ┆ null ┆ null ┆ null │\n",
       "│ KI      ┆ 0185    ┆ 2022 ┆ Souborný seminář         ┆ … ┆ null              ┆ null ┆ null ┆ null │\n",
       "│ KI      ┆ 0190    ┆ 2022 ┆ CCNA Security            ┆ … ┆ null              ┆ null ┆ null ┆ null │\n",
       "└─────────┴─────────┴──────┴──────────────────────────┴───┴───────────────────┴──────┴──────┴──────┘"
      ]
     },
     "execution_count": 19,
     "metadata": {},
     "output_type": "execute_result"
    }
   ],
   "source": [
    "filter_query = (garant != cvicici) & (garant != seminarici) & (garant != prednasejici) & (ma_prednasku | ma_cviceni | ma_seminare)\n",
    "predmety_kde_garant_neuci = predmety_s_akci.filter(filter_query)\n",
    "predmety_kde_garant_neuci.head()"
   ]
  },
  {
   "attachments": {},
   "cell_type": "markdown",
   "metadata": {},
   "source": [
    "> v těchto předmětech je přednáška, ale nedělá jí garant:"
   ]
  },
  {
   "cell_type": "code",
   "execution_count": 20,
   "metadata": {},
   "outputs": [
    {
     "data": {
      "text/html": [
       "<div><style>\n",
       ".dataframe > thead > tr > th,\n",
       ".dataframe > tbody > tr > td {\n",
       "  text-align: right;\n",
       "}\n",
       "</style>\n",
       "<small>shape: (5, 69)</small><table border=\"1\" class=\"dataframe\"><thead><tr><th>katedra</th><th>zkratka</th><th>rok</th><th>nazev</th><th>nazevDlouhy</th><th>vyukaZS</th><th>vyukaLS</th><th>kreditu</th><th>viceZapis</th><th>minObsazeni</th><th>garanti</th><th>garantiSPodily</th><th>garantiUcitIdno</th><th>prednasejici</th><th>prednasejiciSPodily</th><th>prednasejiciUcitIdno</th><th>cvicici</th><th>cviciciSPodily</th><th>cviciciUcitIdno</th><th>seminarici</th><th>seminariciSPodily</th><th>seminariciUcitIdno</th><th>schvalujiciUznani</th><th>schvalujiciUznaniUcitIdno</th><th>examinatori</th><th>examinatoriUcitIdno</th><th>podminujiciPredmety</th><th>vylucujiciPredmety</th><th>podminujePredmety</th><th>literatura</th><th>nahrazPredmety</th><th>metodyVyucovaci</th><th>metodyHodnotici</th><th>akreditovan</th><th>jednotekPrednasek</th><th>jednotkaPrednasky</th><th>jednotekCviceni</th><th>jednotkaCviceni</th><th>jednotekSeminare</th><th>jednotkaSeminare</th><th>anotace</th><th>typZkousky</th><th>maZapocetPredZk</th><th>formaZkousky</th><th>pozadavky</th><th>prehledLatky</th><th>predpoklady</th><th>ziskaneZpusobilosti</th><th>casovaNarocnost</th><th>predmetUrl</th><th>vyucovaciJazyky</th><th>poznamka</th><th>ectsZobrazit</th><th>ectsAkreditace</th><th>ectsNabizetUPrijezdu</th><th>poznamkaVerejna</th><th>skupinaAkreditace</th><th>skupinaAkreditaceKey</th><th>zarazenDoPrezencnihoStudia</th><th>zarazenDoKombinovanehoStudia</th><th>studijniOpory</th><th>praxePocetDnu</th><th>urovenNastavena</th><th>urovenVypoctena</th><th>automatickyUznavatZppZk</th><th>hodZaSemKombForma</th><th>aMax</th><th>bMax</th><th>cMax</th></tr><tr><td>str</td><td>str</td><td>i64</td><td>str</td><td>str</td><td>str</td><td>str</td><td>i64</td><td>str</td><td>str</td><td>str</td><td>str</td><td>str</td><td>str</td><td>str</td><td>str</td><td>str</td><td>str</td><td>str</td><td>str</td><td>str</td><td>str</td><td>str</td><td>str</td><td>str</td><td>str</td><td>str</td><td>str</td><td>str</td><td>str</td><td>str</td><td>str</td><td>str</td><td>str</td><td>i64</td><td>str</td><td>i64</td><td>str</td><td>i64</td><td>str</td><td>str</td><td>str</td><td>str</td><td>str</td><td>str</td><td>str</td><td>str</td><td>str</td><td>str</td><td>str</td><td>str</td><td>str</td><td>str</td><td>str</td><td>str</td><td>str</td><td>str</td><td>str</td><td>str</td><td>str</td><td>str</td><td>i64</td><td>str</td><td>str</td><td>str</td><td>i64</td><td>str</td><td>str</td><td>i64</td></tr></thead><tbody><tr><td>&quot;KI&quot;</td><td>&quot;AVD&quot;</td><td>2022</td><td>&quot;Analýza a vizu…</td><td>&quot;Analýza a vizu…</td><td>&quot;N&quot;</td><td>&quot;A&quot;</td><td>4</td><td>&quot;NE&quot;</td><td>null</td><td>&quot;&#x27;prof. Sergii …</td><td>&quot;&#x27;prof. Sergii …</td><td>&quot;3416&quot;</td><td>&quot;&#x27;prof. Sergii …</td><td>&quot;&#x27;prof. Sergii …</td><td>&quot;3416, 3521, 22…</td><td>&quot;&#x27;prof. Sergii …</td><td>&quot;&#x27;prof. Sergii …</td><td>&quot;3416, 3521, 22…</td><td>null</td><td>null</td><td>null</td><td>null</td><td>null</td><td>null</td><td>null</td><td>&quot;KI/MSW&quot;</td><td>null</td><td>null</td><td>&quot;&#x27;null&#x27;,\n",
       "&#x27;Popel…</td><td>null</td><td>null</td><td>null</td><td>&quot;N&quot;</td><td>2</td><td>&quot;HOD/TYD&quot;</td><td>2</td><td>&quot;HOD/TYD&quot;</td><td>0</td><td>&quot;HOD/TYD&quot;</td><td>&quot;Kurz je zaměře…</td><td>&quot;Zápočet&quot;</td><td>&quot;NE&quot;</td><td>&quot;Kombinovaná&quot;</td><td>&quot;a) vypracování…</td><td>&quot;1.\tÚvod do teo…</td><td>null</td><td>null</td><td>null</td><td>null</td><td>&quot;Čeština&quot;</td><td>null</td><td>&quot;A&quot;</td><td>&quot;N&quot;</td><td>&quot;N&quot;</td><td>null</td><td>null</td><td>null</td><td>&quot;A&quot;</td><td>&quot;N&quot;</td><td>null</td><td>0</td><td>null</td><td>&quot;Bc.&quot;</td><td>&quot;A&quot;</td><td>null</td><td>null</td><td>null</td><td>null</td></tr><tr><td>&quot;KI&quot;</td><td>&quot;BET&quot;</td><td>2022</td><td>&quot;Bezpečnostní t…</td><td>&quot;Bezpečnostní t…</td><td>&quot;A&quot;</td><td>&quot;N&quot;</td><td>2</td><td>&quot;NE&quot;</td><td>null</td><td>&quot;&#x27;doc. RNDr. Vi…</td><td>&quot;&#x27;doc. RNDr. Vi…</td><td>&quot;2239&quot;</td><td>&quot;&#x27;RNDr. Jan Kre…</td><td>&quot;&#x27;RNDr. Jan Kre…</td><td>&quot;2776, 2239&quot;</td><td>&quot;&#x27;RNDr. Jan Kre…</td><td>&quot;&#x27;RNDr. Jan Kre…</td><td>&quot;2776&quot;</td><td>null</td><td>null</td><td>null</td><td>null</td><td>null</td><td>null</td><td>null</td><td>&quot;KI/DEP&quot;</td><td>null</td><td>null</td><td>&quot;&#x27;Pužmanová R. …</td><td>null</td><td>null</td><td>null</td><td>&quot;N&quot;</td><td>1</td><td>&quot;HOD/TYD&quot;</td><td>1</td><td>&quot;HOD/TYD&quot;</td><td>0</td><td>&quot;HOD/TYD&quot;</td><td>&quot;Předmět je kon…</td><td>&quot;Zápočet&quot;</td><td>&quot;NE&quot;</td><td>&quot;Kombinovaná&quot;</td><td>&quot;Aktivní účast …</td><td>&quot;1.\tDůvěrnost, …</td><td>&quot;Základy počíta…</td><td>null</td><td>null</td><td>null</td><td>&quot;Čeština&quot;</td><td>null</td><td>&quot;A&quot;</td><td>&quot;N&quot;</td><td>&quot;N&quot;</td><td>null</td><td>null</td><td>null</td><td>&quot;A&quot;</td><td>&quot;N&quot;</td><td>null</td><td>0</td><td>null</td><td>&quot;Bc.&quot;</td><td>&quot;A&quot;</td><td>null</td><td>null</td><td>null</td><td>null</td></tr><tr><td>&quot;KI&quot;</td><td>&quot;BIG&quot;</td><td>2022</td><td>&quot;Datová úložišt…</td><td>&quot;Datová úložišt…</td><td>&quot;A&quot;</td><td>&quot;N&quot;</td><td>5</td><td>&quot;NE&quot;</td><td>null</td><td>&quot;&#x27;Mgr. Jiří Fiš…</td><td>&quot;&#x27;Mgr. Jiří Fiš…</td><td>&quot;251&quot;</td><td>&quot;&#x27;Mgr. Jiří Fiš…</td><td>&quot;&#x27;Mgr. Jiří Fiš…</td><td>&quot;251, 650, 4195…</td><td>&quot;&#x27;Mgr. Jiří Fiš…</td><td>&quot;&#x27;Mgr. Jiří Fiš…</td><td>&quot;251, 650&quot;</td><td>null</td><td>null</td><td>null</td><td>null</td><td>null</td><td>null</td><td>null</td><td>null</td><td>null</td><td>null</td><td>null</td><td>null</td><td>null</td><td>null</td><td>&quot;N&quot;</td><td>2</td><td>&quot;HOD/TYD&quot;</td><td>4</td><td>&quot;HOD/TYD&quot;</td><td>0</td><td>&quot;HOD/TYD&quot;</td><td>&quot;Předmět je zam…</td><td>&quot;Zkouška&quot;</td><td>&quot;ANO&quot;</td><td>&quot;Kombinovaná&quot;</td><td>&quot;Zápočet: vypra…</td><td>&quot;1. Principy vi…</td><td>null</td><td>null</td><td>null</td><td>null</td><td>&quot;Čeština&quot;</td><td>null</td><td>&quot;A&quot;</td><td>&quot;N&quot;</td><td>&quot;N&quot;</td><td>null</td><td>null</td><td>null</td><td>&quot;A&quot;</td><td>&quot;N&quot;</td><td>null</td><td>0</td><td>null</td><td>&quot;Mgr.&quot;</td><td>&quot;A&quot;</td><td>0</td><td>null</td><td>null</td><td>null</td></tr><tr><td>&quot;KI&quot;</td><td>&quot;CIS&quot;</td><td>2022</td><td>&quot;Číslicové syst…</td><td>&quot;Číslicové syst…</td><td>&quot;N&quot;</td><td>&quot;A&quot;</td><td>5</td><td>&quot;NE&quot;</td><td>null</td><td>&quot;&#x27;prof. Sergii …</td><td>&quot;&#x27;prof. Sergii …</td><td>&quot;3416&quot;</td><td>&quot;&#x27;prof. Sergii …</td><td>&quot;&#x27;prof. Sergii …</td><td>&quot;3416, 1780&quot;</td><td>&quot;&#x27;Ing. Petr Hab…</td><td>&quot;&#x27;Ing. Petr Hab…</td><td>&quot;1780&quot;</td><td>null</td><td>null</td><td>null</td><td>null</td><td>null</td><td>null</td><td>null</td><td>&quot;KI/UCS&quot;</td><td>null</td><td>null</td><td>&quot;&#x27;Dvořák V., Dr…</td><td>null</td><td>null</td><td>null</td><td>&quot;N&quot;</td><td>1</td><td>&quot;HOD/TYD&quot;</td><td>2</td><td>&quot;HOD/TYD&quot;</td><td>0</td><td>&quot;HOD/TYD&quot;</td><td>&quot;Cílem předmětu…</td><td>&quot;Zkouška&quot;</td><td>&quot;ANO&quot;</td><td>&quot;Kombinovaná&quot;</td><td>&quot;semestrální pr…</td><td>&quot;1.\tZákladní čá…</td><td>null</td><td>null</td><td>null</td><td>null</td><td>&quot;Čeština&quot;</td><td>null</td><td>&quot;A&quot;</td><td>&quot;N&quot;</td><td>&quot;N&quot;</td><td>null</td><td>null</td><td>null</td><td>&quot;A&quot;</td><td>&quot;N&quot;</td><td>null</td><td>0</td><td>null</td><td>&quot;Bc.&quot;</td><td>&quot;A&quot;</td><td>null</td><td>null</td><td>null</td><td>null</td></tr><tr><td>&quot;KI&quot;</td><td>&quot;DIB&quot;</td><td>2022</td><td>&quot;Datová a infor…</td><td>&quot;Datová a infor…</td><td>&quot;N&quot;</td><td>&quot;A&quot;</td><td>4</td><td>&quot;NE&quot;</td><td>null</td><td>&quot;&#x27;RNDr. Jan Kre…</td><td>&quot;&#x27;RNDr. Jan Kre…</td><td>&quot;2776&quot;</td><td>&quot;&#x27;RNDr. Jan Kre…</td><td>&quot;&#x27;RNDr. Jan Kre…</td><td>&quot;2776, 3521&quot;</td><td>&quot;&#x27;RNDr. Jan Kre…</td><td>&quot;&#x27;RNDr. Jan Kre…</td><td>&quot;2776, 3521&quot;</td><td>null</td><td>null</td><td>null</td><td>null</td><td>null</td><td>null</td><td>null</td><td>null</td><td>null</td><td>null</td><td>null</td><td>null</td><td>null</td><td>null</td><td>&quot;N&quot;</td><td>1</td><td>&quot;HOD/TYD&quot;</td><td>2</td><td>&quot;HOD/TYD&quot;</td><td>0</td><td>&quot;HOD/TYD&quot;</td><td>null</td><td>&quot;Zkouška&quot;</td><td>&quot;ANO&quot;</td><td>&quot;Kombinovaná&quot;</td><td>&quot;Zápočet: labor…</td><td>&quot;Obsahem předmě…</td><td>null</td><td>null</td><td>null</td><td>null</td><td>&quot;Čeština&quot;</td><td>null</td><td>&quot;A&quot;</td><td>&quot;N&quot;</td><td>&quot;N&quot;</td><td>null</td><td>null</td><td>null</td><td>&quot;A&quot;</td><td>&quot;N&quot;</td><td>null</td><td>0</td><td>null</td><td>&quot;Mgr.&quot;</td><td>&quot;A&quot;</td><td>0</td><td>null</td><td>null</td><td>null</td></tr></tbody></table></div>"
      ],
      "text/plain": [
       "shape: (5, 69)\n",
       "┌─────────┬─────────┬──────┬──────────────────────────┬───┬───────────────────┬──────┬──────┬──────┐\n",
       "│ katedra ┆ zkratka ┆ rok  ┆ nazev                    ┆ … ┆ hodZaSemKombForma ┆ aMax ┆ bMax ┆ cMax │\n",
       "│ ---     ┆ ---     ┆ ---  ┆ ---                      ┆   ┆ ---               ┆ ---  ┆ ---  ┆ ---  │\n",
       "│ str     ┆ str     ┆ i64  ┆ str                      ┆   ┆ i64               ┆ str  ┆ str  ┆ i64  │\n",
       "╞═════════╪═════════╪══════╪══════════════════════════╪═══╪═══════════════════╪══════╪══════╪══════╡\n",
       "│ KI      ┆ AVD     ┆ 2022 ┆ Analýza a vizualizace    ┆ … ┆ null              ┆ null ┆ null ┆ null │\n",
       "│         ┆         ┆      ┆ dat                      ┆   ┆                   ┆      ┆      ┆      │\n",
       "│ KI      ┆ BET     ┆ 2022 ┆ Bezpečnostní technologie ┆ … ┆ null              ┆ null ┆ null ┆ null │\n",
       "│ KI      ┆ BIG     ┆ 2022 ┆ Datová úložiště          ┆ … ┆ 0                 ┆ null ┆ null ┆ null │\n",
       "│         ┆         ┆      ┆ a nástroje pro B…        ┆   ┆                   ┆      ┆      ┆      │\n",
       "│ KI      ┆ CIS     ┆ 2022 ┆ Číslicové systémy        ┆ … ┆ null              ┆ null ┆ null ┆ null │\n",
       "│ KI      ┆ DIB     ┆ 2022 ┆ Datová a informační      ┆ … ┆ 0                 ┆ null ┆ null ┆ null │\n",
       "│         ┆         ┆      ┆ bezpečnost               ┆   ┆                   ┆      ┆      ┆      │\n",
       "└─────────┴─────────┴──────┴──────────────────────────┴───┴───────────────────┴──────┴──────┴──────┘"
      ]
     },
     "execution_count": 20,
     "metadata": {},
     "output_type": "execute_result"
    }
   ],
   "source": [
    "garant_neni_prednasejici = (jednotek_prednasek != 0) & (garant != prednasejici)\n",
    "garant_neprednasi = predmety_s_akci.filter(garant_neni_prednasejici)\n",
    "garant_neprednasi.head()"
   ]
  },
  {
   "attachments": {},
   "cell_type": "markdown",
   "metadata": {},
   "source": [
    "## Kontrola proti rozvrhovaným akcím"
   ]
  },
  {
   "attachments": {},
   "cell_type": "markdown",
   "metadata": {},
   "source": [
    "### vyučující u rozvrhových akcí musí být v příslušných kategoriích u vyučujících"
   ]
  },
  {
   "cell_type": "code",
   "execution_count": 21,
   "metadata": {},
   "outputs": [
    {
     "data": {
      "text/html": [
       "<div><style>\n",
       ".dataframe > thead > tr > th,\n",
       ".dataframe > tbody > tr > td {\n",
       "  text-align: right;\n",
       "}\n",
       "</style>\n",
       "<small>shape: (5, 54)</small><table border=\"1\" class=\"dataframe\"><thead><tr><th>roakIdno</th><th>nazev</th><th>katedra</th><th>zkratka</th><th>statut</th><th>ucitIdno</th><th>ucitIdno.ucitel</th><th>jmeno.ucitel</th><th>prijmeni.ucitel</th><th>titulPred.ucitel</th><th>titulZa.ucitel</th><th>platnost.ucitel</th><th>zamestnanec.ucitel</th><th>podilNaVyuce.ucitel</th><th>rok</th><th>budova</th><th>mistnost</th><th>kapacitaMistnosti</th><th>planObsazeni</th><th>obsazeni</th><th>typAkce</th><th>typAkceZkr</th><th>platnost</th><th>den</th><th>denZkr</th><th>vyucJazyk</th><th>hodinaOd</th><th>hodinaDo</th><th>pocetVyucHodin</th><th>hodinaSkutOd</th><th>hodinaSkutDo</th><th>tydenOd</th><th>tydenDo</th><th>tyden</th><th>tydenZkr</th><th>grupIdno</th><th>jeNadrazena</th><th>maNadrazenou</th><th>kontakt</th><th>krouzky</th><th>casovaRada</th><th>datum</th><th>datumOd</th><th>datumDo</th><th>druhAkce</th><th>vsichniUciteleUcitIdno</th><th>vsichniUciteleJmenaTituly</th><th>vsichniUciteleJmenaTitulySPodily</th><th>vsichniUcitelePrijmeni</th><th>referencedIdno</th><th>poznamkaRozvrhare</th><th>nekonaSe</th><th>owner</th><th>zakazaneAkce</th></tr><tr><td>i64</td><td>str</td><td>str</td><td>str</td><td>str</td><td>i64</td><td>i64</td><td>str</td><td>str</td><td>str</td><td>str</td><td>str</td><td>str</td><td>i64</td><td>i64</td><td>str</td><td>f64</td><td>i64</td><td>i64</td><td>i64</td><td>str</td><td>str</td><td>str</td><td>str</td><td>str</td><td>str</td><td>i64</td><td>i64</td><td>i64</td><td>str</td><td>str</td><td>i64</td><td>i64</td><td>str</td><td>str</td><td>i64</td><td>str</td><td>str</td><td>str</td><td>str</td><td>str</td><td>str</td><td>str</td><td>str</td><td>str</td><td>str</td><td>str</td><td>str</td><td>str</td><td>i64</td><td>str</td><td>str</td><td>str</td><td>str</td></tr></thead><tbody><tr><td>451141</td><td>&quot;Python and R f…</td><td>&quot;KI&quot;</td><td>&quot;KPYR&quot;</td><td>null</td><td>6259</td><td>6259</td><td>&quot;Jiří&quot;</td><td>&quot;Škvára&quot;</td><td>&quot;RNDr.&quot;</td><td>&quot;Ph.D.&quot;</td><td>&quot;A&quot;</td><td>&quot;A&quot;</td><td>100</td><td>2022</td><td>&quot;CP&quot;</td><td>7.06</td><td>24</td><td>12</td><td>8</td><td>&quot;Cvičení&quot;</td><td>&quot;Cv&quot;</td><td>&quot;A&quot;</td><td>&quot;Neděle&quot;</td><td>&quot;Ne&quot;</td><td>null</td><td>7</td><td>9</td><td>3</td><td>&quot;13:00&quot;</td><td>&quot;15:50&quot;</td><td>41</td><td>41</td><td>&quot;Jiný&quot;</td><td>&quot;J&quot;</td><td>27925</td><td>&quot;N&quot;</td><td>&quot;N&quot;</td><td>&quot;Automaticky vy…</td><td>&quot;1.KAPI N&quot;</td><td>&quot;UJEP&quot;</td><td>null</td><td>&quot;16.10.2022&quot;</td><td>&quot;16.10.2022&quot;</td><td>&quot;R&quot;</td><td>&quot;6259&quot;</td><td>&quot;RNDr. Jiří Škv…</td><td>&quot;&#x27;RNDr. Jiří Šk…</td><td>&quot;Škvára&quot;</td><td>451141</td><td>null</td><td>null</td><td>&quot;PETRUSPRF&quot;</td><td>null</td></tr><tr><td>463141</td><td>&quot;Práce s roboti…</td><td>&quot;KI&quot;</td><td>&quot;KROB&quot;</td><td>null</td><td>2776</td><td>2776</td><td>&quot;Jan&quot;</td><td>&quot;Krejčí&quot;</td><td>&quot;RNDr.&quot;</td><td>&quot;Ph.D.&quot;</td><td>&quot;A&quot;</td><td>&quot;A&quot;</td><td>100</td><td>2022</td><td>&quot;CP&quot;</td><td>7.08</td><td>12</td><td>12</td><td>3</td><td>&quot;Seminář&quot;</td><td>&quot;Se&quot;</td><td>&quot;A&quot;</td><td>&quot;Sobota&quot;</td><td>&quot;So&quot;</td><td>null</td><td>3</td><td>6</td><td>4</td><td>&quot;09:00&quot;</td><td>&quot;12:50&quot;</td><td>17</td><td>17</td><td>&quot;Jiný&quot;</td><td>&quot;J&quot;</td><td>29189</td><td>&quot;N&quot;</td><td>&quot;N&quot;</td><td>&quot;Automaticky vy…</td><td>&quot;2.KAPI Bc,2.MA…</td><td>&quot;UJEP&quot;</td><td>null</td><td>&quot;29.04.2023&quot;</td><td>&quot;29.04.2023&quot;</td><td>&quot;R&quot;</td><td>&quot;2776&quot;</td><td>&quot;RNDr. Jan Krej…</td><td>&quot;&#x27;RNDr. Jan Kre…</td><td>&quot;Krejčí&quot;</td><td>463141</td><td>null</td><td>null</td><td>&quot;RSKVARA&quot;</td><td>null</td></tr><tr><td>463085</td><td>&quot;Praktické využ…</td><td>&quot;KI&quot;</td><td>&quot;KPVPS&quot;</td><td>null</td><td>449</td><td>449</td><td>&quot;Jiří&quot;</td><td>&quot;Barilla&quot;</td><td>&quot;doc. Ing. Mgr.…</td><td>&quot;CSc.&quot;</td><td>&quot;A&quot;</td><td>&quot;A&quot;</td><td>100</td><td>2022</td><td>null</td><td>null</td><td>null</td><td>20</td><td>9</td><td>&quot;Seminář&quot;</td><td>&quot;Se&quot;</td><td>&quot;A&quot;</td><td>null</td><td>null</td><td>null</td><td>null</td><td>null</td><td>null</td><td>&quot;00:00&quot;</td><td>&quot;00:00&quot;</td><td>0</td><td>0</td><td>&quot;Každý&quot;</td><td>&quot;K&quot;</td><td>29173</td><td>&quot;N&quot;</td><td>&quot;N&quot;</td><td>&quot;Automaticky vy…</td><td>&quot;2.KAPI N&quot;</td><td>null</td><td>null</td><td>null</td><td>null</td><td>&quot;R&quot;</td><td>&quot;449&quot;</td><td>&quot;doc. Ing. Mgr.…</td><td>&quot;&#x27;doc. Ing. Mgr…</td><td>&quot;Barilla&quot;</td><td>463085</td><td>null</td><td>null</td><td>&quot;RSKVARA&quot;</td><td>null</td></tr><tr><td>446694</td><td>&quot;System Simulat…</td><td>&quot;KI&quot;</td><td>&quot;SYS&quot;</td><td>null</td><td>3521</td><td>3521</td><td>&quot;Zbyšek&quot;</td><td>&quot;Posel&quot;</td><td>&quot;RNDr.&quot;</td><td>&quot;Ph.D.&quot;</td><td>&quot;A&quot;</td><td>&quot;A&quot;</td><td>100</td><td>2022</td><td>&quot;CP&quot;</td><td>6.12</td><td>8</td><td>5</td><td>1</td><td>&quot;Přednáška&quot;</td><td>&quot;Př&quot;</td><td>&quot;A&quot;</td><td>&quot;Pátek&quot;</td><td>&quot;Pá&quot;</td><td>null</td><td>3</td><td>3</td><td>1</td><td>&quot;09:00&quot;</td><td>&quot;09:50&quot;</td><td>44</td><td>1</td><td>&quot;Jiný&quot;</td><td>&quot;J&quot;</td><td>null</td><td>&quot;N&quot;</td><td>&quot;N&quot;</td><td>&quot;Automaticky vy…</td><td>&quot;2.API N&quot;</td><td>&quot;UJEP&quot;</td><td>null</td><td>&quot;04.11.2022&quot;</td><td>&quot;06.01.2023&quot;</td><td>&quot;R&quot;</td><td>&quot;3521, 251, 285…</td><td>&quot;RNDr. Zbyšek P…</td><td>&quot;&#x27;RNDr. Zbyšek …</td><td>&quot;Posel, Fišer, …</td><td>446694</td><td>null</td><td>&quot;23.12.2022: Od…</td><td>&quot;PETRUSPRF&quot;</td><td>null</td></tr><tr><td>459039</td><td>&quot;Didaktika info…</td><td>&quot;KI&quot;</td><td>&quot;KDI2&quot;</td><td>null</td><td>2776</td><td>2776</td><td>&quot;Jan&quot;</td><td>&quot;Krejčí&quot;</td><td>&quot;RNDr.&quot;</td><td>&quot;Ph.D.&quot;</td><td>&quot;A&quot;</td><td>&quot;A&quot;</td><td>100</td><td>2022</td><td>&quot;CP&quot;</td><td>7.07</td><td>12</td><td>12</td><td>5</td><td>&quot;Přednáška&quot;</td><td>&quot;Př&quot;</td><td>&quot;A&quot;</td><td>&quot;Neděle&quot;</td><td>&quot;Ne&quot;</td><td>null</td><td>3</td><td>4</td><td>2</td><td>&quot;09:00&quot;</td><td>&quot;10:50&quot;</td><td>9</td><td>9</td><td>&quot;Jiný&quot;</td><td>&quot;J&quot;</td><td>29142</td><td>&quot;N&quot;</td><td>&quot;N&quot;</td><td>&quot;Automaticky vy…</td><td>&quot;1.FYINFKSŠ,1.I…</td><td>&quot;UJEP&quot;</td><td>null</td><td>&quot;05.03.2023&quot;</td><td>&quot;05.03.2023&quot;</td><td>&quot;R&quot;</td><td>&quot;2776&quot;</td><td>&quot;RNDr. Jan Krej…</td><td>&quot;&#x27;RNDr. Jan Kre…</td><td>&quot;Krejčí&quot;</td><td>459039</td><td>null</td><td>null</td><td>&quot;RSKVARA&quot;</td><td>null</td></tr></tbody></table></div>"
      ],
      "text/plain": [
       "shape: (5, 54)\n",
       "┌──────────┬────────────┬─────────┬─────────┬───┬────────────┬────────────┬───────────┬────────────┐\n",
       "│ roakIdno ┆ nazev      ┆ katedra ┆ zkratka ┆ … ┆ poznamkaRo ┆ nekonaSe   ┆ owner     ┆ zakazaneAk │\n",
       "│ ---      ┆ ---        ┆ ---     ┆ ---     ┆   ┆ zvrhare    ┆ ---        ┆ ---       ┆ ce         │\n",
       "│ i64      ┆ str        ┆ str     ┆ str     ┆   ┆ ---        ┆ str        ┆ str       ┆ ---        │\n",
       "│          ┆            ┆         ┆         ┆   ┆ str        ┆            ┆           ┆ str        │\n",
       "╞══════════╪════════════╪═════════╪═════════╪═══╪════════════╪════════════╪═══════════╪════════════╡\n",
       "│ 451141   ┆ Python and ┆ KI      ┆ KPYR    ┆ … ┆ null       ┆ null       ┆ PETRUSPRF ┆ null       │\n",
       "│          ┆ R for Data ┆         ┆         ┆   ┆            ┆            ┆           ┆            │\n",
       "│          ┆ Science    ┆         ┆         ┆   ┆            ┆            ┆           ┆            │\n",
       "│ 463141   ┆ Práce s    ┆ KI      ┆ KROB    ┆ … ┆ null       ┆ null       ┆ RSKVARA   ┆ null       │\n",
       "│          ┆ robotickým ┆         ┆         ┆   ┆            ┆            ┆           ┆            │\n",
       "│          ┆ i stavebni ┆         ┆         ┆   ┆            ┆            ┆           ┆            │\n",
       "│          ┆ cemi       ┆         ┆         ┆   ┆            ┆            ┆           ┆            │\n",
       "│ 463085   ┆ Praktické  ┆ KI      ┆ KPVPS   ┆ … ┆ null       ┆ null       ┆ RSKVARA   ┆ null       │\n",
       "│          ┆ využití    ┆         ┆         ┆   ┆            ┆            ┆           ┆            │\n",
       "│          ┆ Petriho    ┆         ┆         ┆   ┆            ┆            ┆           ┆            │\n",
       "│          ┆ sítí       ┆         ┆         ┆   ┆            ┆            ┆           ┆            │\n",
       "│ 446694   ┆ System     ┆ KI      ┆ SYS     ┆ … ┆ null       ┆ 23.12.2022 ┆ PETRUSPRF ┆ null       │\n",
       "│          ┆ Simulation ┆         ┆         ┆   ┆            ┆ : Odpadá   ┆           ┆            │\n",
       "│ 459039   ┆ Didaktika  ┆ KI      ┆ KDI2    ┆ … ┆ null       ┆ null       ┆ RSKVARA   ┆ null       │\n",
       "│          ┆ informatik ┆         ┆         ┆   ┆            ┆            ┆           ┆            │\n",
       "│          ┆ y II       ┆         ┆         ┆   ┆            ┆            ┆           ┆            │\n",
       "└──────────┴────────────┴─────────┴─────────┴───┴────────────┴────────────┴───────────┴────────────┘"
      ]
     },
     "execution_count": 21,
     "metadata": {},
     "output_type": "execute_result"
    }
   ],
   "source": [
    "rozvrh_by_kat.head()\n",
    "# predmety_by_kat.head()"
   ]
  },
  {
   "cell_type": "code",
   "execution_count": 22,
   "metadata": {},
   "outputs": [
    {
     "data": {
      "text/html": [
       "<div><style>\n",
       ".dataframe > thead > tr > th,\n",
       ".dataframe > tbody > tr > td {\n",
       "  text-align: right;\n",
       "}\n",
       "</style>\n",
       "<small>shape: (5, 4)</small><table border=\"1\" class=\"dataframe\"><thead><tr><th>zkratka</th><th>idno</th><th>typAkceZkr</th><th>rok</th></tr><tr><td>str</td><td>str</td><td>str</td><td>i64</td></tr></thead><tbody><tr><td>&quot;KPYR&quot;</td><td>&quot;6259&quot;</td><td>&quot;Cv&quot;</td><td>2022</td></tr><tr><td>&quot;KROB&quot;</td><td>&quot;2776&quot;</td><td>&quot;Se&quot;</td><td>2022</td></tr><tr><td>&quot;KPVPS&quot;</td><td>&quot;449&quot;</td><td>&quot;Se&quot;</td><td>2022</td></tr><tr><td>&quot;SYS&quot;</td><td>&quot;3521&quot;</td><td>&quot;Př&quot;</td><td>2022</td></tr><tr><td>&quot;SYS&quot;</td><td>&quot;251&quot;</td><td>&quot;Př&quot;</td><td>2022</td></tr></tbody></table></div>"
      ],
      "text/plain": [
       "shape: (5, 4)\n",
       "┌─────────┬──────┬────────────┬──────┐\n",
       "│ zkratka ┆ idno ┆ typAkceZkr ┆ rok  │\n",
       "│ ---     ┆ ---  ┆ ---        ┆ ---  │\n",
       "│ str     ┆ str  ┆ str        ┆ i64  │\n",
       "╞═════════╪══════╪════════════╪══════╡\n",
       "│ KPYR    ┆ 6259 ┆ Cv         ┆ 2022 │\n",
       "│ KROB    ┆ 2776 ┆ Se         ┆ 2022 │\n",
       "│ KPVPS   ┆ 449  ┆ Se         ┆ 2022 │\n",
       "│ SYS     ┆ 3521 ┆ Př         ┆ 2022 │\n",
       "│ SYS     ┆ 251  ┆ Př         ┆ 2022 │\n",
       "└─────────┴──────┴────────────┴──────┘"
      ]
     },
     "execution_count": 22,
     "metadata": {},
     "output_type": "execute_result"
    }
   ],
   "source": [
    "maly_rozvrh = rozvrh_by_kat.select([\"zkratka\", \"vsichniUciteleUcitIdno\", \"typAkceZkr\", \"rok\"])\n",
    "maly_rozvrh = maly_rozvrh.with_columns(pl.col(\"vsichniUciteleUcitIdno\").str.split(\", \")).explode(\"vsichniUciteleUcitIdno\").rename({\"vsichniUciteleUcitIdno\": \"idno\"})\n",
    "maly_rozvrh.head()"
   ]
  },
  {
   "cell_type": "code",
   "execution_count": 23,
   "metadata": {},
   "outputs": [
    {
     "data": {
      "text/html": [
       "<div><style>\n",
       ".dataframe > thead > tr > th,\n",
       ".dataframe > tbody > tr > td {\n",
       "  text-align: right;\n",
       "}\n",
       "</style>\n",
       "<small>shape: (5, 69)</small><table border=\"1\" class=\"dataframe\"><thead><tr><th>katedra</th><th>zkratka</th><th>rok</th><th>nazev</th><th>nazevDlouhy</th><th>vyukaZS</th><th>vyukaLS</th><th>kreditu</th><th>viceZapis</th><th>minObsazeni</th><th>garanti</th><th>garantiSPodily</th><th>garantiUcitIdno</th><th>prednasejici</th><th>prednasejiciSPodily</th><th>prednasejiciUcitIdno</th><th>cvicici</th><th>cviciciSPodily</th><th>cviciciUcitIdno</th><th>seminarici</th><th>seminariciSPodily</th><th>seminariciUcitIdno</th><th>schvalujiciUznani</th><th>schvalujiciUznaniUcitIdno</th><th>examinatori</th><th>examinatoriUcitIdno</th><th>podminujiciPredmety</th><th>vylucujiciPredmety</th><th>podminujePredmety</th><th>literatura</th><th>nahrazPredmety</th><th>metodyVyucovaci</th><th>metodyHodnotici</th><th>akreditovan</th><th>jednotekPrednasek</th><th>jednotkaPrednasky</th><th>jednotekCviceni</th><th>jednotkaCviceni</th><th>jednotekSeminare</th><th>jednotkaSeminare</th><th>anotace</th><th>typZkousky</th><th>maZapocetPredZk</th><th>formaZkousky</th><th>pozadavky</th><th>prehledLatky</th><th>predpoklady</th><th>ziskaneZpusobilosti</th><th>casovaNarocnost</th><th>predmetUrl</th><th>vyucovaciJazyky</th><th>poznamka</th><th>ectsZobrazit</th><th>ectsAkreditace</th><th>ectsNabizetUPrijezdu</th><th>poznamkaVerejna</th><th>skupinaAkreditace</th><th>skupinaAkreditaceKey</th><th>zarazenDoPrezencnihoStudia</th><th>zarazenDoKombinovanehoStudia</th><th>studijniOpory</th><th>praxePocetDnu</th><th>urovenNastavena</th><th>urovenVypoctena</th><th>automatickyUznavatZppZk</th><th>hodZaSemKombForma</th><th>aMax</th><th>bMax</th><th>cMax</th></tr><tr><td>str</td><td>str</td><td>i64</td><td>str</td><td>str</td><td>str</td><td>str</td><td>i64</td><td>str</td><td>str</td><td>str</td><td>str</td><td>str</td><td>str</td><td>str</td><td>str</td><td>str</td><td>str</td><td>str</td><td>str</td><td>str</td><td>str</td><td>str</td><td>str</td><td>str</td><td>str</td><td>str</td><td>str</td><td>str</td><td>str</td><td>str</td><td>str</td><td>str</td><td>str</td><td>i64</td><td>str</td><td>i64</td><td>str</td><td>i64</td><td>str</td><td>str</td><td>str</td><td>str</td><td>str</td><td>str</td><td>str</td><td>str</td><td>str</td><td>str</td><td>str</td><td>str</td><td>str</td><td>str</td><td>str</td><td>str</td><td>str</td><td>str</td><td>str</td><td>str</td><td>str</td><td>str</td><td>i64</td><td>str</td><td>str</td><td>str</td><td>i64</td><td>str</td><td>str</td><td>i64</td></tr></thead><tbody><tr><td>&quot;KI&quot;</td><td>&quot;IKT1&quot;</td><td>2022</td><td>&quot;Informační a k…</td><td>&quot;Informační a k…</td><td>&quot;A&quot;</td><td>&quot;N&quot;</td><td>1</td><td>&quot;NE&quot;</td><td>null</td><td>&quot;&#x27;RNDr. Jan Kre…</td><td>&quot;&#x27;RNDr. Jan Kre…</td><td>&quot;2776&quot;</td><td>&quot;&#x27;RNDr. Jan Kre…</td><td>&quot;&#x27;RNDr. Jan Kre…</td><td>&quot;2776&quot;</td><td>null</td><td>null</td><td>null</td><td>null</td><td>null</td><td>null</td><td>null</td><td>null</td><td>null</td><td>null</td><td>null</td><td>null</td><td>null</td><td>&quot;&#x27;https://clank…</td><td>null</td><td>null</td><td>null</td><td>&quot;N&quot;</td><td>1</td><td>&quot;HOD/TYD&quot;</td><td>0</td><td>&quot;HOD/TYD&quot;</td><td>0</td><td>&quot;HOD/TYD&quot;</td><td>&quot;Cílem je stude…</td><td>&quot;Zápočet&quot;</td><td>&quot;NE&quot;</td><td>&quot;Kombinovaná&quot;</td><td>&quot;účast (min. 80…</td><td>&quot;Tematické celk…</td><td>null</td><td>null</td><td>null</td><td>null</td><td>&quot;Čeština&quot;</td><td>null</td><td>&quot;A&quot;</td><td>&quot;N&quot;</td><td>&quot;N&quot;</td><td>null</td><td>null</td><td>null</td><td>&quot;A&quot;</td><td>&quot;N&quot;</td><td>null</td><td>0</td><td>null</td><td>&quot;Bc.&quot;</td><td>&quot;A&quot;</td><td>0</td><td>null</td><td>null</td><td>null</td></tr><tr><td>&quot;KI&quot;</td><td>&quot;EPIN&quot;</td><td>2022</td><td>&quot;Internet Progr…</td><td>&quot;Internet Progr…</td><td>&quot;A&quot;</td><td>&quot;N&quot;</td><td>7</td><td>&quot;NE&quot;</td><td>null</td><td>&quot;&#x27;doc. RNDr. Vi…</td><td>&quot;&#x27;doc. RNDr. Vi…</td><td>&quot;2239&quot;</td><td>&quot;&#x27;doc. RNDr. Vi…</td><td>&quot;&#x27;doc. RNDr. Vi…</td><td>&quot;2239&quot;</td><td>&quot;&#x27;doc. RNDr. Vi…</td><td>&quot;&#x27;doc. RNDr. Vi…</td><td>&quot;2239&quot;</td><td>null</td><td>null</td><td>null</td><td>null</td><td>null</td><td>null</td><td>null</td><td>null</td><td>null</td><td>null</td><td>null</td><td>null</td><td>null</td><td>null</td><td>&quot;N&quot;</td><td>2</td><td>&quot;HOD/TYD&quot;</td><td>2</td><td>&quot;HOD/TYD&quot;</td><td>0</td><td>&quot;HOD/TYD&quot;</td><td>&quot;The course foc…</td><td>&quot;Zkouška&quot;</td><td>&quot;NE&quot;</td><td>&quot;Kombinovaná&quot;</td><td>null</td><td>null</td><td>null</td><td>null</td><td>null</td><td>null</td><td>&quot;Angličtina&quot;</td><td>null</td><td>&quot;A&quot;</td><td>&quot;N&quot;</td><td>&quot;A&quot;</td><td>&quot;2/2 per week&quot;</td><td>null</td><td>null</td><td>&quot;N&quot;</td><td>&quot;N&quot;</td><td>null</td><td>0</td><td>null</td><td>null</td><td>&quot;A&quot;</td><td>0</td><td>null</td><td>null</td><td>null</td></tr><tr><td>&quot;KI&quot;</td><td>&quot;EPGL1&quot;</td><td>2022</td><td>&quot;Programming I&quot;</td><td>&quot;Programming I&quot;</td><td>&quot;A&quot;</td><td>&quot;N&quot;</td><td>7</td><td>&quot;NE&quot;</td><td>null</td><td>&quot;&#x27;Mgr. Jiří Fiš…</td><td>&quot;&#x27;Mgr. Jiří Fiš…</td><td>&quot;251&quot;</td><td>&quot;&#x27;Mgr. Jiří Fiš…</td><td>&quot;&#x27;Mgr. Jiří Fiš…</td><td>&quot;251&quot;</td><td>&quot;&#x27;Mgr. Jiří Fiš…</td><td>&quot;&#x27;Mgr. Jiří Fiš…</td><td>&quot;251&quot;</td><td>null</td><td>null</td><td>null</td><td>null</td><td>null</td><td>null</td><td>null</td><td>null</td><td>null</td><td>null</td><td>null</td><td>null</td><td>null</td><td>null</td><td>&quot;N&quot;</td><td>2</td><td>&quot;HOD/TYD&quot;</td><td>2</td><td>&quot;HOD/TYD&quot;</td><td>0</td><td>&quot;HOD/TYD&quot;</td><td>&quot;Introductory c…</td><td>&quot;Zkouška&quot;</td><td>&quot;NE&quot;</td><td>&quot;Kombinovaná&quot;</td><td>null</td><td>null</td><td>null</td><td>null</td><td>null</td><td>null</td><td>&quot;Angličtina&quot;</td><td>null</td><td>&quot;A&quot;</td><td>&quot;N&quot;</td><td>&quot;A&quot;</td><td>&quot;2/2 per week&quot;</td><td>null</td><td>null</td><td>&quot;N&quot;</td><td>&quot;N&quot;</td><td>null</td><td>0</td><td>null</td><td>null</td><td>&quot;A&quot;</td><td>0</td><td>null</td><td>null</td><td>null</td></tr><tr><td>&quot;KI&quot;</td><td>&quot;0168&quot;</td><td>2022</td><td>&quot;Hybridní Petri…</td><td>&quot;Hybridní Petri…</td><td>&quot;A&quot;</td><td>&quot;A&quot;</td><td>2</td><td>&quot;NE&quot;</td><td>null</td><td>&quot;&#x27;doc. Ing. Mgr…</td><td>&quot;&#x27;doc. Ing. Mgr…</td><td>&quot;449&quot;</td><td>null</td><td>null</td><td>null</td><td>null</td><td>null</td><td>null</td><td>&quot;&#x27;doc. Ing. Mgr…</td><td>&quot;&#x27;doc. Ing. Mgr…</td><td>&quot;449&quot;</td><td>null</td><td>null</td><td>null</td><td>null</td><td>null</td><td>null</td><td>null</td><td>&quot;&#x27;DAVID, René a…</td><td>null</td><td>null</td><td>null</td><td>&quot;N&quot;</td><td>0</td><td>&quot;HOD/TYD&quot;</td><td>0</td><td>&quot;HOD/TYD&quot;</td><td>2</td><td>&quot;HOD/TYD&quot;</td><td>&quot;Petriho sítěmi…</td><td>&quot;Zápočet&quot;</td><td>&quot;NE&quot;</td><td>&quot;Kombinovaná&quot;</td><td>&quot;vypracování se…</td><td>&quot;1 Základní inf…</td><td>null</td><td>&quot;Zvládnutí zákl…</td><td>null</td><td>null</td><td>null</td><td>&quot;Tento kurz vzn…</td><td>&quot;A&quot;</td><td>&quot;N&quot;</td><td>&quot;N&quot;</td><td>null</td><td>null</td><td>null</td><td>&quot;A&quot;</td><td>&quot;A&quot;</td><td>null</td><td>0</td><td>null</td><td>&quot;Bc.&quot;</td><td>&quot;A&quot;</td><td>null</td><td>null</td><td>null</td><td>null</td></tr><tr><td>&quot;KI&quot;</td><td>&quot;DSW&quot;</td><td>2022</td><td>&quot;Dependabilita …</td><td>&quot;Dependabilita …</td><td>&quot;N&quot;</td><td>&quot;A&quot;</td><td>3</td><td>&quot;NE&quot;</td><td>null</td><td>&quot;&#x27;doc. RNDr. Vi…</td><td>&quot;&#x27;doc. RNDr. Vi…</td><td>&quot;2239&quot;</td><td>&quot;&#x27;doc. RNDr. Vi…</td><td>&quot;&#x27;doc. RNDr. Vi…</td><td>&quot;2239&quot;</td><td>null</td><td>null</td><td>null</td><td>null</td><td>null</td><td>null</td><td>null</td><td>null</td><td>null</td><td>null</td><td>&quot;KI/DEP, KI/DSY…</td><td>null</td><td>null</td><td>&quot;&#x27;Laprie, J.C.,…</td><td>null</td><td>null</td><td>null</td><td>&quot;N&quot;</td><td>2</td><td>&quot;HOD/TYD&quot;</td><td>0</td><td>&quot;HOD/TYD&quot;</td><td>0</td><td>&quot;HOD/TYD&quot;</td><td>&quot;Kurz dává zákl…</td><td>&quot;Zkouška&quot;</td><td>&quot;NE&quot;</td><td>&quot;Kombinovaná&quot;</td><td>&quot;Student musí o…</td><td>&quot;1.\tÚvod do pro…</td><td>null</td><td>null</td><td>null</td><td>null</td><td>&quot;Čeština&quot;</td><td>&quot;výuka v pátek&quot;</td><td>&quot;A&quot;</td><td>&quot;N&quot;</td><td>&quot;N&quot;</td><td>null</td><td>null</td><td>null</td><td>&quot;A&quot;</td><td>&quot;N&quot;</td><td>null</td><td>0</td><td>null</td><td>&quot;Bc.&quot;</td><td>&quot;A&quot;</td><td>null</td><td>null</td><td>null</td><td>null</td></tr></tbody></table></div>"
      ],
      "text/plain": [
       "shape: (5, 69)\n",
       "┌─────────┬─────────┬──────┬──────────────────────────┬───┬───────────────────┬──────┬──────┬──────┐\n",
       "│ katedra ┆ zkratka ┆ rok  ┆ nazev                    ┆ … ┆ hodZaSemKombForma ┆ aMax ┆ bMax ┆ cMax │\n",
       "│ ---     ┆ ---     ┆ ---  ┆ ---                      ┆   ┆ ---               ┆ ---  ┆ ---  ┆ ---  │\n",
       "│ str     ┆ str     ┆ i64  ┆ str                      ┆   ┆ i64               ┆ str  ┆ str  ┆ i64  │\n",
       "╞═════════╪═════════╪══════╪══════════════════════════╪═══╪═══════════════════╪══════╪══════╪══════╡\n",
       "│ KI      ┆ IKT1    ┆ 2022 ┆ Informační a komunikační ┆ … ┆ 0                 ┆ null ┆ null ┆ null │\n",
       "│         ┆         ┆      ┆ technol…                 ┆   ┆                   ┆      ┆      ┆      │\n",
       "│ KI      ┆ EPIN    ┆ 2022 ┆ Internet Programming     ┆ … ┆ 0                 ┆ null ┆ null ┆ null │\n",
       "│ KI      ┆ EPGL1   ┆ 2022 ┆ Programming I            ┆ … ┆ 0                 ┆ null ┆ null ┆ null │\n",
       "│ KI      ┆ 0168    ┆ 2022 ┆ Hybridní Petriho sítě    ┆ … ┆ null              ┆ null ┆ null ┆ null │\n",
       "│ KI      ┆ DSW     ┆ 2022 ┆ Dependabilita            ┆ … ┆ null              ┆ null ┆ null ┆ null │\n",
       "│         ┆         ┆      ┆ softwarových systé…      ┆   ┆                   ┆      ┆      ┆      │\n",
       "└─────────┴─────────┴──────┴──────────────────────────┴───┴───────────────────┴──────┴──────┴──────┘"
      ]
     },
     "execution_count": 23,
     "metadata": {},
     "output_type": "execute_result"
    }
   ],
   "source": [
    "from pprint import pprint\n",
    "# pprint(predmety_by_kat.columns,compact=True)\n",
    "predmety_by_kat.head()"
   ]
  },
  {
   "cell_type": "code",
   "execution_count": 24,
   "metadata": {},
   "outputs": [
    {
     "data": {
      "text/html": [
       "<div><style>\n",
       ".dataframe > thead > tr > th,\n",
       ".dataframe > tbody > tr > td {\n",
       "  text-align: right;\n",
       "}\n",
       "</style>\n",
       "<small>shape: (5, 8)</small><table border=\"1\" class=\"dataframe\"><thead><tr><th>zkratka</th><th>katedra</th><th>rok</th><th>nazev</th><th>garantiUcitIdno</th><th>prednasejiciUcitIdno</th><th>cviciciUcitIdno</th><th>seminariciUcitIdno</th></tr><tr><td>str</td><td>str</td><td>i64</td><td>str</td><td>list[str]</td><td>list[str]</td><td>list[str]</td><td>list[str]</td></tr></thead><tbody><tr><td>&quot;IKT1&quot;</td><td>&quot;KI&quot;</td><td>2022</td><td>&quot;Informační a k…</td><td>[&quot;2776&quot;]</td><td>[&quot;2776&quot;]</td><td>null</td><td>null</td></tr><tr><td>&quot;EPIN&quot;</td><td>&quot;KI&quot;</td><td>2022</td><td>&quot;Internet Progr…</td><td>[&quot;2239&quot;]</td><td>[&quot;2239&quot;]</td><td>[&quot;2239&quot;]</td><td>null</td></tr><tr><td>&quot;EPGL1&quot;</td><td>&quot;KI&quot;</td><td>2022</td><td>&quot;Programming I&quot;</td><td>[&quot;251&quot;]</td><td>[&quot;251&quot;]</td><td>[&quot;251&quot;]</td><td>null</td></tr><tr><td>&quot;0168&quot;</td><td>&quot;KI&quot;</td><td>2022</td><td>&quot;Hybridní Petri…</td><td>[&quot;449&quot;]</td><td>null</td><td>null</td><td>[&quot;449&quot;]</td></tr><tr><td>&quot;DSW&quot;</td><td>&quot;KI&quot;</td><td>2022</td><td>&quot;Dependabilita …</td><td>[&quot;2239&quot;]</td><td>[&quot;2239&quot;]</td><td>null</td><td>null</td></tr></tbody></table></div>"
      ],
      "text/plain": [
       "shape: (5, 8)\n",
       "┌─────────┬─────────┬──────┬───────────────┬────────────┬────────────┬──────────────┬──────────────┐\n",
       "│ zkratka ┆ katedra ┆ rok  ┆ nazev         ┆ garantiUci ┆ prednaseji ┆ cviciciUcitI ┆ seminariciUc │\n",
       "│ ---     ┆ ---     ┆ ---  ┆ ---           ┆ tIdno      ┆ ciUcitIdno ┆ dno          ┆ itIdno       │\n",
       "│ str     ┆ str     ┆ i64  ┆ str           ┆ ---        ┆ ---        ┆ ---          ┆ ---          │\n",
       "│         ┆         ┆      ┆               ┆ list[str]  ┆ list[str]  ┆ list[str]    ┆ list[str]    │\n",
       "╞═════════╪═════════╪══════╪═══════════════╪════════════╪════════════╪══════════════╪══════════════╡\n",
       "│ IKT1    ┆ KI      ┆ 2022 ┆ Informační a  ┆ [\"2776\"]   ┆ [\"2776\"]   ┆ null         ┆ null         │\n",
       "│         ┆         ┆      ┆ komunikační   ┆            ┆            ┆              ┆              │\n",
       "│         ┆         ┆      ┆ technol…      ┆            ┆            ┆              ┆              │\n",
       "│ EPIN    ┆ KI      ┆ 2022 ┆ Internet      ┆ [\"2239\"]   ┆ [\"2239\"]   ┆ [\"2239\"]     ┆ null         │\n",
       "│         ┆         ┆      ┆ Programming   ┆            ┆            ┆              ┆              │\n",
       "│ EPGL1   ┆ KI      ┆ 2022 ┆ Programming I ┆ [\"251\"]    ┆ [\"251\"]    ┆ [\"251\"]      ┆ null         │\n",
       "│ 0168    ┆ KI      ┆ 2022 ┆ Hybridní      ┆ [\"449\"]    ┆ null       ┆ null         ┆ [\"449\"]      │\n",
       "│         ┆         ┆      ┆ Petriho sítě  ┆            ┆            ┆              ┆              │\n",
       "│ DSW     ┆ KI      ┆ 2022 ┆ Dependabilita ┆ [\"2239\"]   ┆ [\"2239\"]   ┆ null         ┆ null         │\n",
       "│         ┆         ┆      ┆ softwarových  ┆            ┆            ┆              ┆              │\n",
       "│         ┆         ┆      ┆ systé…        ┆            ┆            ┆              ┆              │\n",
       "└─────────┴─────────┴──────┴───────────────┴────────────┴────────────┴──────────────┴──────────────┘"
      ]
     },
     "execution_count": 24,
     "metadata": {},
     "output_type": "execute_result"
    }
   ],
   "source": [
    "male_predmety = predmety_by_kat.select(pl.col([\"zkratka\", \"katedra\", \"rok\", \"nazev\", \"garantiUcitIdno\", \"prednasejiciUcitIdno\", \"cviciciUcitIdno\", \"seminariciUcitIdno\"]).where(pl.col(\"zkratka\").is_unique()))\n",
    "male_predmety = male_predmety.with_columns(pl.col([\"prednasejiciUcitIdno\", \"cviciciUcitIdno\", \"seminariciUcitIdno\", \"garantiUcitIdno\"]).str.split(\", \"))\n",
    "male_predmety.head()"
   ]
  },
  {
   "cell_type": "code",
   "execution_count": 25,
   "metadata": {},
   "outputs": [],
   "source": [
    "# query = pl.col(\"garantiUcitIdno\").str.split(\", \")\n",
    "# # bacha na nully\n",
    "# garanti_exploded = male_predmety.with_columns(query).explode(\"garantiUcitIdno\").drop([\"prednasejiciUcitIdno\", \"cviciciUcitIdno\", \"seminariciUcitIdno\"]).head()\n",
    "# prednasejici_exploded = male_predmety.with_columns(query).explode(\"prednasejiciUcitIdno\").drop([\"garantiUcitIdno\", \"cviciciUcitIdno\", \"seminariciUcitIdno\"]).head()\n",
    "# cvicici_exploded = male_predmety.with_columns(query).explode(\"cviciciUcitIdno\").drop([\"garantiUcitIdno\", \"prednasejiciUcitIdno\", \"seminariciUcitIdno\"]).head()\n",
    "# seminarici_exploded = male_predmety.with_columns(query).explode(\"seminariciUcitIdno\").drop([\"garantiUcitIdno\", \"prednasejiciUcitIdno\", \"cviciciUcitIdno\"]).head()"
   ]
  },
  {
   "cell_type": "code",
   "execution_count": 26,
   "metadata": {},
   "outputs": [
    {
     "data": {
      "text/plain": [
       "['prednasejici', 'cvicici', 'seminarici', 'garanti']"
      ]
     },
     "execution_count": 26,
     "metadata": {},
     "output_type": "execute_result"
    }
   ],
   "source": [
    "# explodovat idna po jednom na radku\n",
    "idna_cols = [\"prednasejiciUcitIdno\", \"cviciciUcitIdno\", \"seminariciUcitIdno\", \"garantiUcitIdno\"]\n",
    "predmety_dfs = {}\n",
    "for thing in idna_cols:\n",
    "    df_name = thing.split(\"UcitIdno\")[0]\n",
    "    # splitter_query = pl.col(thing).str.split(\", \")\n",
    "    drop_other_idno_query = [col for col in idna_cols if col != thing]\n",
    "    # df = male_predmety.with_columns(splitter_query)\n",
    "    df = male_predmety.drop(drop_other_idno_query)\n",
    "    df = df.explode(thing)\n",
    "    df = df.rename({thing:\"idno\"}).head()\n",
    "    predmety_dfs[df_name] = df\n",
    "list(predmety_dfs.keys())"
   ]
  },
  {
   "cell_type": "code",
   "execution_count": 30,
   "metadata": {},
   "outputs": [
    {
     "ename": "SchemaError",
     "evalue": "invalid series dtype: expected `Utf8`, got `list[str]`",
     "output_type": "error",
     "traceback": [
      "\u001b[0;31m---------------------------------------------------------------------------\u001b[0m",
      "\u001b[0;31mSchemaError\u001b[0m                               Traceback (most recent call last)",
      "\u001b[1;32m/home/nexovec/school/PS2/stag-kontroly-rozvrhu/stag_bombator.ipynb Cell 37\u001b[0m in \u001b[0;36m1\n\u001b[1;32m      <a href='vscode-notebook-cell:/home/nexovec/school/PS2/stag-kontroly-rozvrhu/stag_bombator.ipynb#Y153sZmlsZQ%3D%3D?line=4'>5</a>\u001b[0m \u001b[39m# query = [\u001b[39;00m\n\u001b[1;32m      <a href='vscode-notebook-cell:/home/nexovec/school/PS2/stag-kontroly-rozvrhu/stag_bombator.ipynb#Y153sZmlsZQ%3D%3D?line=5'>6</a>\u001b[0m \u001b[39m#     pl.col(\"garantiUcitIdno\").str.split(\", \"),\u001b[39;00m\n\u001b[1;32m      <a href='vscode-notebook-cell:/home/nexovec/school/PS2/stag-kontroly-rozvrhu/stag_bombator.ipynb#Y153sZmlsZQ%3D%3D?line=6'>7</a>\u001b[0m \u001b[39m#     pl.col(\"prednasejiciUcitIdno\").str.split(\", \"),\u001b[39;00m\n\u001b[0;32m   (...)\u001b[0m\n\u001b[1;32m     <a href='vscode-notebook-cell:/home/nexovec/school/PS2/stag-kontroly-rozvrhu/stag_bombator.ipynb#Y153sZmlsZQ%3D%3D?line=9'>10</a>\u001b[0m \u001b[39m#     pl.col(\"examinatoriUcitIdno\").str.split(\", \")\u001b[39;00m\n\u001b[1;32m     <a href='vscode-notebook-cell:/home/nexovec/school/PS2/stag-kontroly-rozvrhu/stag_bombator.ipynb#Y153sZmlsZQ%3D%3D?line=10'>11</a>\u001b[0m \u001b[39m#     ]\u001b[39;00m\n\u001b[1;32m     <a href='vscode-notebook-cell:/home/nexovec/school/PS2/stag-kontroly-rozvrhu/stag_bombator.ipynb#Y153sZmlsZQ%3D%3D?line=11'>12</a>\u001b[0m query \u001b[39m=\u001b[39m [pl\u001b[39m.\u001b[39mcol(idno)\u001b[39m.\u001b[39mstr\u001b[39m.\u001b[39msplit(\u001b[39m\"\u001b[39m\u001b[39m, \u001b[39m\u001b[39m\"\u001b[39m) \u001b[39mfor\u001b[39;00m idno \u001b[39min\u001b[39;00m idna]\n\u001b[0;32m---> <a href='vscode-notebook-cell:/home/nexovec/school/PS2/stag-kontroly-rozvrhu/stag_bombator.ipynb#Y153sZmlsZQ%3D%3D?line=12'>13</a>\u001b[0m idna_splitted \u001b[39m=\u001b[39m male_predmety\u001b[39m.\u001b[39;49mselect(query)\n\u001b[1;32m     <a href='vscode-notebook-cell:/home/nexovec/school/PS2/stag-kontroly-rozvrhu/stag_bombator.ipynb#Y153sZmlsZQ%3D%3D?line=13'>14</a>\u001b[0m cols \u001b[39m=\u001b[39m [pl\u001b[39m.\u001b[39mcol(idno) \u001b[39mfor\u001b[39;00m idno \u001b[39min\u001b[39;00m idna]\n\u001b[1;32m     <a href='vscode-notebook-cell:/home/nexovec/school/PS2/stag-kontroly-rozvrhu/stag_bombator.ipynb#Y153sZmlsZQ%3D%3D?line=14'>15</a>\u001b[0m \u001b[39m# relevant_cols = [pl.col(idno) for idno in cols]\u001b[39;00m\n",
      "File \u001b[0;32m~/.local/lib/python3.10/site-packages/polars/dataframe/frame.py:6808\u001b[0m, in \u001b[0;36mDataFrame.select\u001b[0;34m(self, exprs, *more_exprs, **named_exprs)\u001b[0m\n\u001b[1;32m   6700\u001b[0m \u001b[39mdef\u001b[39;00m \u001b[39mselect\u001b[39m(\n\u001b[1;32m   6701\u001b[0m     \u001b[39mself\u001b[39m,\n\u001b[1;32m   6702\u001b[0m     exprs: IntoExpr \u001b[39m|\u001b[39m Iterable[IntoExpr] \u001b[39m|\u001b[39m \u001b[39mNone\u001b[39;00m \u001b[39m=\u001b[39m \u001b[39mNone\u001b[39;00m,\n\u001b[1;32m   6703\u001b[0m     \u001b[39m*\u001b[39mmore_exprs: IntoExpr,\n\u001b[1;32m   6704\u001b[0m     \u001b[39m*\u001b[39m\u001b[39m*\u001b[39mnamed_exprs: IntoExpr,\n\u001b[1;32m   6705\u001b[0m ) \u001b[39m-\u001b[39m\u001b[39m>\u001b[39m Self:\n\u001b[1;32m   6706\u001b[0m \u001b[39m    \u001b[39m\u001b[39m\"\"\"\u001b[39;00m\n\u001b[1;32m   6707\u001b[0m \u001b[39m    Select columns from this DataFrame.\u001b[39;00m\n\u001b[1;32m   6708\u001b[0m \n\u001b[0;32m   (...)\u001b[0m\n\u001b[1;32m   6805\u001b[0m \n\u001b[1;32m   6806\u001b[0m \u001b[39m    \"\"\"\u001b[39;00m\n\u001b[1;32m   6807\u001b[0m     \u001b[39mreturn\u001b[39;00m \u001b[39mself\u001b[39m\u001b[39m.\u001b[39m_from_pydf(\n\u001b[0;32m-> 6808\u001b[0m         \u001b[39mself\u001b[39;49m\u001b[39m.\u001b[39;49mlazy()\n\u001b[1;32m   6809\u001b[0m         \u001b[39m.\u001b[39;49mselect(exprs, \u001b[39m*\u001b[39;49mmore_exprs, \u001b[39m*\u001b[39;49m\u001b[39m*\u001b[39;49mnamed_exprs)\n\u001b[1;32m   6810\u001b[0m         \u001b[39m.\u001b[39;49mcollect(no_optimization\u001b[39m=\u001b[39;49m\u001b[39mTrue\u001b[39;49;00m)\n\u001b[1;32m   6811\u001b[0m         \u001b[39m.\u001b[39m_df\n\u001b[1;32m   6812\u001b[0m     )\n",
      "File \u001b[0;32m~/.local/lib/python3.10/site-packages/polars/lazyframe/frame.py:1599\u001b[0m, in \u001b[0;36mLazyFrame.collect\u001b[0;34m(self, type_coercion, predicate_pushdown, projection_pushdown, simplify_expression, no_optimization, slice_pushdown, common_subplan_elimination, streaming)\u001b[0m\n\u001b[1;32m   1588\u001b[0m     common_subplan_elimination \u001b[39m=\u001b[39m \u001b[39mFalse\u001b[39;00m\n\u001b[1;32m   1590\u001b[0m ldf \u001b[39m=\u001b[39m \u001b[39mself\u001b[39m\u001b[39m.\u001b[39m_ldf\u001b[39m.\u001b[39moptimization_toggle(\n\u001b[1;32m   1591\u001b[0m     type_coercion,\n\u001b[1;32m   1592\u001b[0m     predicate_pushdown,\n\u001b[0;32m   (...)\u001b[0m\n\u001b[1;32m   1597\u001b[0m     streaming,\n\u001b[1;32m   1598\u001b[0m )\n\u001b[0;32m-> 1599\u001b[0m \u001b[39mreturn\u001b[39;00m wrap_df(ldf\u001b[39m.\u001b[39;49mcollect())\n",
      "\u001b[0;31mSchemaError\u001b[0m: invalid series dtype: expected `Utf8`, got `list[str]`"
     ]
    }
   ],
   "source": [
    "# # # JE TO LOZBITÝ :(\n",
    "\n",
    "# # # male_predmety[\"semestr\"].cast(pl.Categorical).unique()\n",
    "# idna = [\"garantiUcitIdno\", \"prednasejiciUcitIdno\", \"seminariciUcitIdno\", \"cviciciUcitIdno\"]\n",
    "# # query = [\n",
    "# #     pl.col(\"garantiUcitIdno\").str.split(\", \"),\n",
    "# #     pl.col(\"prednasejiciUcitIdno\").str.split(\", \"),\n",
    "# #     pl.col(\"seminariciUcitIdno\").str.split(\", \"),\n",
    "# #     pl.col(\"cviciciUcitIdno\").str.split(\", \"),\n",
    "# #     pl.col(\"examinatoriUcitIdno\").str.split(\", \")\n",
    "# #     ]\n",
    "# query = [pl.col(idno).str.split(\", \") for idno in idna]\n",
    "# idna_splitted = male_predmety.select(query)\n",
    "# cols = [pl.col(idno) for idno in idna]\n",
    "# # relevant_cols = [pl.col(idno) for idno in cols]\n",
    "# query = cols[0].arr.concat(cols[1]).arr.concat()\n",
    "# idna_splitted.select(query)\n",
    "# # type(idna_splitted)\n",
    "# predmety_garanti = predmety_dfs[\"garanti\"]\n",
    "# predmety_garanti.join(other=maly_rozvrh, on=\"garantIdno\", how=\"left\")\n",
    "# predmety_garanti.head()"
   ]
  },
  {
   "cell_type": "code",
   "execution_count": 27,
   "metadata": {},
   "outputs": [],
   "source": [
    "# sparovat garanty z predmetu s vyucujicimi z rozvrhu\n",
    "\n",
    "# garanti, kteri vubec nemaji rozvrh\n",
    "# predmety_garanti.join(other=maly_rozvrh, on=\"idno\", how=\"left\").filter(pl.col(\"typAkceZkr\").is_null()).head()\n",
    "\n",
    "# predmety, ktere nemaji rozvrh\n",
    "# predmety_garanti.join(other=maly_rozvrh, on=\"zkratka\", how=\"left\").filter(pl.col(\"typAkceZkr\").is_null()).head()\n",
    "\n",
    "# garanti, kteri nemaji rozvrh v danem predmetu\n",
    "# predmety_garanti_extended = predmety_garanti.with_columns(pl.concat_list([\"zkratka\", \"idno\"]).alias(\"index\"))\n",
    "# rozvrhy_garanti_extended = maly_rozvrh.with_columns(pl.concat_list([\"zkratka\", \"idno\"]).alias(\"index\"))\n",
    "# predmety_garanti_extended = predmety_garanti.with_columns(pl.concat_list([\"zkratka\", \"idno\"]).arr.join(\";\").alias(\"index\"))\n",
    "# rozvrhy_garanti_extended = maly_rozvrh.with_columns(pl.concat_list([\"zkratka\", \"idno\"]).arr.join(\";\").alias(\"index\"))\n",
    "# rozvrhy_garanti_extended.head()"
   ]
  },
  {
   "cell_type": "code",
   "execution_count": 28,
   "metadata": {},
   "outputs": [
    {
     "ename": "NameError",
     "evalue": "name 'predmety_garanti' is not defined",
     "output_type": "error",
     "traceback": [
      "\u001b[0;31m---------------------------------------------------------------------------\u001b[0m",
      "\u001b[0;31mNameError\u001b[0m                                 Traceback (most recent call last)",
      "\u001b[1;32m/home/nexovec/school/PS2/stag-kontroly-rozvrhu/stag_bombator.ipynb Cell 38\u001b[0m in \u001b[0;36m1\n\u001b[0;32m----> <a href='vscode-notebook-cell:/home/nexovec/school/PS2/stag-kontroly-rozvrhu/stag_bombator.ipynb#Y155sZmlsZQ%3D%3D?line=0'>1</a>\u001b[0m predmety_dfs[\u001b[39m\"\u001b[39m\u001b[39mgaranti\u001b[39m\u001b[39m\"\u001b[39m]\u001b[39m.\u001b[39mjoin(other\u001b[39m=\u001b[39mpredmety_garanti, on\u001b[39m=\u001b[39m[\u001b[39m\"\u001b[39m\u001b[39mzkratka\u001b[39m\u001b[39m\"\u001b[39m, \u001b[39m\"\u001b[39m\u001b[39midno\u001b[39m\u001b[39m\"\u001b[39m], how\u001b[39m=\u001b[39m\u001b[39m\"\u001b[39m\u001b[39mleft\u001b[39m\u001b[39m\"\u001b[39m)\u001b[39m.\u001b[39mfilter(pl\u001b[39m.\u001b[39mcol(\u001b[39m\"\u001b[39m\u001b[39mnazev_right\u001b[39m\u001b[39m\"\u001b[39m)\u001b[39m.\u001b[39mis_null())\n",
      "\u001b[0;31mNameError\u001b[0m: name 'predmety_garanti' is not defined"
     ]
    }
   ],
   "source": [
    "predmety_dfs[\"garanti\"].join(other=predmety_garanti, on=[\"zkratka\", \"idno\"], how=\"left\").filter(pl.col(\"nazev_right\").is_null())\n"
   ]
  },
  {
   "cell_type": "code",
   "execution_count": null,
   "metadata": {},
   "outputs": [
    {
     "data": {
      "text/html": [
       "<div><style>\n",
       ".dataframe > thead > tr > th,\n",
       ".dataframe > tbody > tr > td {\n",
       "  text-align: right;\n",
       "}\n",
       "</style>\n",
       "<small>shape: (3, 8)</small><table border=\"1\" class=\"dataframe\"><thead><tr><th>zkratka</th><th>katedra</th><th>rok</th><th>nazev</th><th>idno</th><th>katedra_right</th><th>rok_right</th><th>nazev_right</th></tr><tr><td>str</td><td>str</td><td>i64</td><td>str</td><td>str</td><td>str</td><td>i64</td><td>str</td></tr></thead><tbody><tr><td>&quot;DSA&quot;</td><td>&quot;KI&quot;</td><td>2022</td><td>&quot;Algoritmy a da…</td><td>&quot;835&quot;</td><td>null</td><td>null</td><td>null</td></tr><tr><td>&quot;DSA&quot;</td><td>&quot;KI&quot;</td><td>2022</td><td>&quot;Algoritmy a da…</td><td>&quot;2220&quot;</td><td>null</td><td>null</td><td>null</td></tr><tr><td>&quot;A192&quot;</td><td>&quot;KI&quot;</td><td>2022</td><td>&quot;Computational …</td><td>&quot;2220&quot;</td><td>null</td><td>null</td><td>null</td></tr></tbody></table></div>"
      ],
      "text/plain": [
       "shape: (3, 8)\n",
       "┌─────────┬─────────┬──────┬──────────────────────┬──────┬───────────────┬───────────┬─────────────┐\n",
       "│ zkratka ┆ katedra ┆ rok  ┆ nazev                ┆ idno ┆ katedra_right ┆ rok_right ┆ nazev_right │\n",
       "│ ---     ┆ ---     ┆ ---  ┆ ---                  ┆ ---  ┆ ---           ┆ ---       ┆ ---         │\n",
       "│ str     ┆ str     ┆ i64  ┆ str                  ┆ str  ┆ str           ┆ i64       ┆ str         │\n",
       "╞═════════╪═════════╪══════╪══════════════════════╪══════╪═══════════════╪═══════════╪═════════════╡\n",
       "│ DSA     ┆ KI      ┆ 2022 ┆ Algoritmy a datové   ┆ 835  ┆ null          ┆ null      ┆ null        │\n",
       "│         ┆         ┆      ┆ struktury            ┆      ┆               ┆           ┆             │\n",
       "│ DSA     ┆ KI      ┆ 2022 ┆ Algoritmy a datové   ┆ 2220 ┆ null          ┆ null      ┆ null        │\n",
       "│         ┆         ┆      ┆ struktury            ┆      ┆               ┆           ┆             │\n",
       "│ A192    ┆ KI      ┆ 2022 ┆ Computational        ┆ 2220 ┆ null          ┆ null      ┆ null        │\n",
       "│         ┆         ┆      ┆ Geometry             ┆      ┆               ┆           ┆             │\n",
       "└─────────┴─────────┴──────┴──────────────────────┴──────┴───────────────┴───────────┴─────────────┘"
      ]
     },
     "execution_count": 145,
     "metadata": {},
     "output_type": "execute_result"
    }
   ],
   "source": [
    "# predmety_dfs[\"cvicici\"].join(other=predmety_garanti, on=[\"zkratka\", \"idno\"], how=\"left\").filter(pl.col(\"nazev_right\").is_null() & pl.col(\"idno\").is_not_null())"
   ]
  },
  {
   "cell_type": "code",
   "execution_count": null,
   "metadata": {},
   "outputs": [
    {
     "data": {
      "text/html": [
       "<div><style>\n",
       ".dataframe > thead > tr > th,\n",
       ".dataframe > tbody > tr > td {\n",
       "  text-align: right;\n",
       "}\n",
       "</style>\n",
       "<small>shape: (2, 8)</small><table border=\"1\" class=\"dataframe\"><thead><tr><th>zkratka</th><th>katedra</th><th>rok</th><th>nazev</th><th>idno</th><th>katedra_right</th><th>rok_right</th><th>nazev_right</th></tr><tr><td>str</td><td>str</td><td>i64</td><td>str</td><td>str</td><td>str</td><td>i64</td><td>str</td></tr></thead><tbody><tr><td>&quot;0155&quot;</td><td>&quot;KI&quot;</td><td>2022</td><td>&quot;Úvod do LaTeXu…</td><td>&quot;251&quot;</td><td>null</td><td>null</td><td>null</td></tr><tr><td>&quot;ASO2&quot;</td><td>&quot;KI&quot;</td><td>2022</td><td>&quot;Analýza signál…</td><td>&quot;3521&quot;</td><td>null</td><td>null</td><td>null</td></tr></tbody></table></div>"
      ],
      "text/plain": [
       "shape: (2, 8)\n",
       "┌─────────┬─────────┬──────┬───────────────────┬──────┬───────────────┬───────────┬─────────────┐\n",
       "│ zkratka ┆ katedra ┆ rok  ┆ nazev             ┆ idno ┆ katedra_right ┆ rok_right ┆ nazev_right │\n",
       "│ ---     ┆ ---     ┆ ---  ┆ ---               ┆ ---  ┆ ---           ┆ ---       ┆ ---         │\n",
       "│ str     ┆ str     ┆ i64  ┆ str               ┆ str  ┆ str           ┆ i64       ┆ str         │\n",
       "╞═════════╪═════════╪══════╪═══════════════════╪══════╪═══════════════╪═══════════╪═════════════╡\n",
       "│ 0155    ┆ KI      ┆ 2022 ┆ Úvod do LaTeXu    ┆ 251  ┆ null          ┆ null      ┆ null        │\n",
       "│ ASO2    ┆ KI      ┆ 2022 ┆ Analýza signálu   ┆ 3521 ┆ null          ┆ null      ┆ null        │\n",
       "│         ┆         ┆      ┆ a obrazu v praxi… ┆      ┆               ┆           ┆             │\n",
       "└─────────┴─────────┴──────┴───────────────────┴──────┴───────────────┴───────────┴─────────────┘"
      ]
     },
     "execution_count": 146,
     "metadata": {},
     "output_type": "execute_result"
    }
   ],
   "source": [
    "# predmety_dfs[\"seminarici\"].join(other=predmety_garanti, on=[\"zkratka\", \"idno\"], how=\"left\").filter(pl.col(\"nazev_right\").is_null() & pl.col(\"idno\").is_not_null())"
   ]
  },
  {
   "cell_type": "code",
   "execution_count": null,
   "metadata": {},
   "outputs": [
    {
     "data": {
      "text/html": [
       "<div><style>\n",
       ".dataframe > thead > tr > th,\n",
       ".dataframe > tbody > tr > td {\n",
       "  text-align: right;\n",
       "}\n",
       "</style>\n",
       "<small>shape: (3, 8)</small><table border=\"1\" class=\"dataframe\"><thead><tr><th>zkratka</th><th>katedra</th><th>rok</th><th>nazev</th><th>idno</th><th>katedra_right</th><th>rok_right</th><th>nazev_right</th></tr><tr><td>str</td><td>str</td><td>i64</td><td>str</td><td>str</td><td>str</td><td>i64</td><td>str</td></tr></thead><tbody><tr><td>&quot;DSA&quot;</td><td>&quot;KI&quot;</td><td>2022</td><td>&quot;Algoritmy a da…</td><td>&quot;2240&quot;</td><td>null</td><td>null</td><td>null</td></tr><tr><td>&quot;DSA&quot;</td><td>&quot;KI&quot;</td><td>2022</td><td>&quot;Algoritmy a da…</td><td>&quot;835&quot;</td><td>null</td><td>null</td><td>null</td></tr><tr><td>&quot;DSA&quot;</td><td>&quot;KI&quot;</td><td>2022</td><td>&quot;Algoritmy a da…</td><td>&quot;2220&quot;</td><td>null</td><td>null</td><td>null</td></tr></tbody></table></div>"
      ],
      "text/plain": [
       "shape: (3, 8)\n",
       "┌─────────┬─────────┬──────┬──────────────────────┬──────┬───────────────┬───────────┬─────────────┐\n",
       "│ zkratka ┆ katedra ┆ rok  ┆ nazev                ┆ idno ┆ katedra_right ┆ rok_right ┆ nazev_right │\n",
       "│ ---     ┆ ---     ┆ ---  ┆ ---                  ┆ ---  ┆ ---           ┆ ---       ┆ ---         │\n",
       "│ str     ┆ str     ┆ i64  ┆ str                  ┆ str  ┆ str           ┆ i64       ┆ str         │\n",
       "╞═════════╪═════════╪══════╪══════════════════════╪══════╪═══════════════╪═══════════╪═════════════╡\n",
       "│ DSA     ┆ KI      ┆ 2022 ┆ Algoritmy a datové   ┆ 2240 ┆ null          ┆ null      ┆ null        │\n",
       "│         ┆         ┆      ┆ struktury            ┆      ┆               ┆           ┆             │\n",
       "│ DSA     ┆ KI      ┆ 2022 ┆ Algoritmy a datové   ┆ 835  ┆ null          ┆ null      ┆ null        │\n",
       "│         ┆         ┆      ┆ struktury            ┆      ┆               ┆           ┆             │\n",
       "│ DSA     ┆ KI      ┆ 2022 ┆ Algoritmy a datové   ┆ 2220 ┆ null          ┆ null      ┆ null        │\n",
       "│         ┆         ┆      ┆ struktury            ┆      ┆               ┆           ┆             │\n",
       "└─────────┴─────────┴──────┴──────────────────────┴──────┴───────────────┴───────────┴─────────────┘"
      ]
     },
     "execution_count": 147,
     "metadata": {},
     "output_type": "execute_result"
    }
   ],
   "source": [
    "# predmety_dfs[\"prednasejici\"].join(other=predmety_garanti, on=[\"zkratka\", \"idno\"], how=\"left\").filter(pl.col(\"nazev_right\").is_null() & pl.col(\"idno\").is_not_null())"
   ]
  },
  {
   "attachments": {},
   "cell_type": "markdown",
   "metadata": {},
   "source": [
    "### warning, když je mezi vyučujícími někdo bez odpovídajícího typu rozvrhové akce"
   ]
  },
  {
   "cell_type": "code",
   "execution_count": null,
   "metadata": {},
   "outputs": [
    {
     "data": {
      "text/html": [
       "<div><style>\n",
       ".dataframe > thead > tr > th,\n",
       ".dataframe > tbody > tr > td {\n",
       "  text-align: right;\n",
       "}\n",
       "</style>\n",
       "<small>shape: (5, 4)</small><table border=\"1\" class=\"dataframe\"><thead><tr><th>zkratka</th><th>idno</th><th>typAkceZkr</th><th>rok</th></tr><tr><td>str</td><td>str</td><td>str</td><td>i64</td></tr></thead><tbody><tr><td>&quot;SZZ60&quot;</td><td>null</td><td>&quot;Cv&quot;</td><td>2022</td></tr><tr><td>&quot;KPCA&quot;</td><td>&quot;1165&quot;</td><td>&quot;Cv&quot;</td><td>2022</td></tr><tr><td>&quot;KPCA&quot;</td><td>&quot;2317&quot;</td><td>&quot;Př&quot;</td><td>2022</td></tr><tr><td>&quot;OPT&quot;</td><td>&quot;650&quot;</td><td>&quot;Př&quot;</td><td>2022</td></tr><tr><td>&quot;0121&quot;</td><td>&quot;2776&quot;</td><td>&quot;Cv&quot;</td><td>2022</td></tr></tbody></table></div>"
      ],
      "text/plain": [
       "shape: (5, 4)\n",
       "┌─────────┬──────┬────────────┬──────┐\n",
       "│ zkratka ┆ idno ┆ typAkceZkr ┆ rok  │\n",
       "│ ---     ┆ ---  ┆ ---        ┆ ---  │\n",
       "│ str     ┆ str  ┆ str        ┆ i64  │\n",
       "╞═════════╪══════╪════════════╪══════╡\n",
       "│ SZZ60   ┆ null ┆ Cv         ┆ 2022 │\n",
       "│ KPCA    ┆ 1165 ┆ Cv         ┆ 2022 │\n",
       "│ KPCA    ┆ 2317 ┆ Př         ┆ 2022 │\n",
       "│ OPT     ┆ 650  ┆ Př         ┆ 2022 │\n",
       "│ 0121    ┆ 2776 ┆ Cv         ┆ 2022 │\n",
       "└─────────┴──────┴────────────┴──────┘"
      ]
     },
     "execution_count": 148,
     "metadata": {},
     "output_type": "execute_result"
    }
   ],
   "source": [
    "maly_rozvrh.head()"
   ]
  },
  {
   "attachments": {},
   "cell_type": "markdown",
   "metadata": {},
   "source": [
    "### garant předmětu by měl být někde mezi vyučujícími rozvrhových akcí a pokud má předmět přednášku, měl by být i mezi přednášejícími v rámci rozvrhových akcí"
   ]
  },
  {
   "cell_type": "code",
   "execution_count": null,
   "metadata": {},
   "outputs": [],
   "source": []
  },
  {
   "attachments": {},
   "cell_type": "markdown",
   "metadata": {},
   "source": [
    "### Změny proti akreditacím."
   ]
  },
  {
   "cell_type": "code",
   "execution_count": null,
   "metadata": {},
   "outputs": [],
   "source": []
  },
  {
   "attachments": {},
   "cell_type": "markdown",
   "metadata": {},
   "source": [
    "### Porovnat revize předmětů\n",
    "\n",
    "tj. parametry předmětů pro aktuální akademický rok a pro příští."
   ]
  },
  {
   "attachments": {},
   "cell_type": "markdown",
   "metadata": {},
   "source": [
    "> jakou to má mít podobu?"
   ]
  },
  {
   "cell_type": "code",
   "execution_count": null,
   "metadata": {},
   "outputs": [],
   "source": []
  }
 ],
 "metadata": {
  "kernelspec": {
   "display_name": "venv",
   "language": "python",
   "name": "python3"
  },
  "language_info": {
   "codemirror_mode": {
    "name": "ipython",
    "version": 3
   },
   "file_extension": ".py",
   "mimetype": "text/x-python",
   "name": "python",
   "nbconvert_exporter": "python",
   "pygments_lexer": "ipython3",
   "version": "3.10.6"
  },
  "orig_nbformat": 4
 },
 "nbformat": 4,
 "nbformat_minor": 2
}
