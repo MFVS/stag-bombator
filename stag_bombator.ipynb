{
 "cells": [
  {
   "cell_type": "code",
   "execution_count": 136,
   "metadata": {},
   "outputs": [],
   "source": [
    "import polars as pl\n",
    "from pprint import pprint"
   ]
  },
  {
   "cell_type": "code",
   "execution_count": 137,
   "metadata": {},
   "outputs": [],
   "source": [
    "rozvrh_by_kat = pl.read_excel(\"getRozvrhByKatedra-2023-03-15-17-47.xlsx\", sheet_id=1).drop(\"semestr\").unique().rename({\"predmet\" : \"zkratka\"})\n",
    "predmety_by_kat = pl.read_excel(\"getPredmetyByKatedraFullInfo-2023-03-15-17-40.xlsx\", sheet_id=1).drop(\"semestr\").unique().drop([\"pocetStudentu\", \"aSkut\", \"bSkut\", \"cSkut\"])"
   ]
  },
  {
   "cell_type": "code",
   "execution_count": 138,
   "metadata": {},
   "outputs": [],
   "source": [
    "# qr = ~pl.all().is_duplicated()\n",
    "# rozvrh_by_kat = rozvrh_by_kat.filter(qr)\n",
    "# predmety_by_kat = predmety_by_kat.filter(qr)\n"
   ]
  },
  {
   "cell_type": "code",
   "execution_count": 139,
   "metadata": {},
   "outputs": [
    {
     "data": {
      "text/html": [
       "<div><style>\n",
       ".dataframe > thead > tr > th,\n",
       ".dataframe > tbody > tr > td {\n",
       "  text-align: right;\n",
       "}\n",
       "</style>\n",
       "<small>shape: (5, 69)</small><table border=\"1\" class=\"dataframe\"><thead><tr><th>katedra</th><th>zkratka</th><th>rok</th><th>nazev</th><th>nazevDlouhy</th><th>vyukaZS</th><th>vyukaLS</th><th>kreditu</th><th>viceZapis</th><th>minObsazeni</th><th>garanti</th><th>garantiSPodily</th><th>garantiUcitIdno</th><th>prednasejici</th><th>prednasejiciSPodily</th><th>prednasejiciUcitIdno</th><th>cvicici</th><th>cviciciSPodily</th><th>cviciciUcitIdno</th><th>seminarici</th><th>seminariciSPodily</th><th>seminariciUcitIdno</th><th>schvalujiciUznani</th><th>schvalujiciUznaniUcitIdno</th><th>examinatori</th><th>examinatoriUcitIdno</th><th>podminujiciPredmety</th><th>vylucujiciPredmety</th><th>podminujePredmety</th><th>literatura</th><th>nahrazPredmety</th><th>metodyVyucovaci</th><th>metodyHodnotici</th><th>akreditovan</th><th>jednotekPrednasek</th><th>jednotkaPrednasky</th><th>jednotekCviceni</th><th>jednotkaCviceni</th><th>jednotekSeminare</th><th>jednotkaSeminare</th><th>anotace</th><th>typZkousky</th><th>maZapocetPredZk</th><th>formaZkousky</th><th>pozadavky</th><th>prehledLatky</th><th>predpoklady</th><th>ziskaneZpusobilosti</th><th>casovaNarocnost</th><th>predmetUrl</th><th>vyucovaciJazyky</th><th>poznamka</th><th>ectsZobrazit</th><th>ectsAkreditace</th><th>ectsNabizetUPrijezdu</th><th>poznamkaVerejna</th><th>skupinaAkreditace</th><th>skupinaAkreditaceKey</th><th>zarazenDoPrezencnihoStudia</th><th>zarazenDoKombinovanehoStudia</th><th>studijniOpory</th><th>praxePocetDnu</th><th>urovenNastavena</th><th>urovenVypoctena</th><th>automatickyUznavatZppZk</th><th>hodZaSemKombForma</th><th>aMax</th><th>bMax</th><th>cMax</th></tr><tr><td>str</td><td>str</td><td>i64</td><td>str</td><td>str</td><td>str</td><td>str</td><td>i64</td><td>str</td><td>str</td><td>str</td><td>str</td><td>str</td><td>str</td><td>str</td><td>str</td><td>str</td><td>str</td><td>str</td><td>str</td><td>str</td><td>str</td><td>str</td><td>str</td><td>str</td><td>str</td><td>str</td><td>str</td><td>str</td><td>str</td><td>str</td><td>str</td><td>str</td><td>str</td><td>i64</td><td>str</td><td>i64</td><td>str</td><td>i64</td><td>str</td><td>str</td><td>str</td><td>str</td><td>str</td><td>str</td><td>str</td><td>str</td><td>str</td><td>str</td><td>str</td><td>str</td><td>str</td><td>str</td><td>str</td><td>str</td><td>str</td><td>str</td><td>str</td><td>str</td><td>str</td><td>str</td><td>i64</td><td>str</td><td>str</td><td>str</td><td>i64</td><td>str</td><td>str</td><td>i64</td></tr></thead><tbody><tr><td>&quot;KI&quot;</td><td>&quot;AHW&quot;</td><td>2022</td><td>&quot;Praktické apli…</td><td>&quot;Praktické apli…</td><td>&quot;A&quot;</td><td>&quot;N&quot;</td><td>1</td><td>&quot;NE&quot;</td><td>null</td><td>&quot;&#x27;RNDr. Jan Kre…</td><td>&quot;&#x27;RNDr. Jan Kre…</td><td>&quot;2776&quot;</td><td>null</td><td>null</td><td>null</td><td>null</td><td>null</td><td>null</td><td>&quot;&#x27;Mgr. Kamil Ba…</td><td>&quot;&#x27;Mgr. Kamil Ba…</td><td>&quot;1165, 1780, 27…</td><td>null</td><td>null</td><td>null</td><td>null</td><td>null</td><td>null</td><td>null</td><td>&quot;&#x27;http://www.ea…</td><td>null</td><td>null</td><td>null</td><td>&quot;N&quot;</td><td>0</td><td>&quot;HOD/SEM&quot;</td><td>0</td><td>&quot;HOD/SEM&quot;</td><td>17</td><td>&quot;HOD/SEM&quot;</td><td>&quot;Seminář je zam…</td><td>&quot;Zápočet&quot;</td><td>&quot;NE&quot;</td><td>&quot;Kombinovaná&quot;</td><td>&quot;Aktivní účast …</td><td>&quot;1.\tSimulace čí…</td><td>null</td><td>null</td><td>null</td><td>null</td><td>&quot;Čeština&quot;</td><td>null</td><td>&quot;A&quot;</td><td>&quot;N&quot;</td><td>&quot;N&quot;</td><td>null</td><td>null</td><td>null</td><td>&quot;A&quot;</td><td>&quot;A&quot;</td><td>null</td><td>0</td><td>null</td><td>&quot;Bc.&quot;</td><td>&quot;A&quot;</td><td>null</td><td>null</td><td>null</td><td>null</td></tr><tr><td>&quot;KI&quot;</td><td>&quot;A201&quot;</td><td>2022</td><td>&quot;DMS and Team C…</td><td>&quot;Document Manag…</td><td>&quot;A&quot;</td><td>&quot;A&quot;</td><td>2</td><td>&quot;NE&quot;</td><td>null</td><td>&quot;&#x27;RNDr. Petr Ku…</td><td>&quot;&#x27;RNDr. Petr Ku…</td><td>&quot;650&quot;</td><td>null</td><td>null</td><td>null</td><td>null</td><td>null</td><td>null</td><td>&quot;&#x27;Ing. Pavel Ku…</td><td>&quot;&#x27;Ing. Pavel Ku…</td><td>&quot;2317&quot;</td><td>null</td><td>null</td><td>null</td><td>null</td><td>null</td><td>null</td><td>null</td><td>null</td><td>&quot;KI/0201&quot;</td><td>null</td><td>null</td><td>&quot;A&quot;</td><td>0</td><td>&quot;HOD/TYD&quot;</td><td>0</td><td>&quot;HOD/TYD&quot;</td><td>2</td><td>&quot;HOD/TYD&quot;</td><td>null</td><td>&quot;Zápočet&quot;</td><td>&quot;NE&quot;</td><td>&quot;Kombinovaná&quot;</td><td>null</td><td>null</td><td>null</td><td>null</td><td>null</td><td>null</td><td>&quot;Angličtina&quot;</td><td>null</td><td>&quot;A&quot;</td><td>&quot;N&quot;</td><td>&quot;N&quot;</td><td>null</td><td>null</td><td>null</td><td>&quot;A&quot;</td><td>&quot;A&quot;</td><td>null</td><td>0</td><td>null</td><td>&quot;Bc.&quot;</td><td>&quot;A&quot;</td><td>0</td><td>null</td><td>null</td><td>null</td></tr><tr><td>&quot;KI&quot;</td><td>&quot;DI1&quot;</td><td>2022</td><td>&quot;Didaktika info…</td><td>&quot;Didaktika info…</td><td>&quot;A&quot;</td><td>&quot;N&quot;</td><td>2</td><td>&quot;NE&quot;</td><td>null</td><td>&quot;&#x27;RNDr. Jan Kre…</td><td>&quot;&#x27;RNDr. Jan Kre…</td><td>&quot;2776&quot;</td><td>null</td><td>null</td><td>null</td><td>null</td><td>null</td><td>null</td><td>&quot;&#x27;Mgr. Kamil Ba…</td><td>&quot;&#x27;Mgr. Kamil Ba…</td><td>&quot;1165, 2776&quot;</td><td>null</td><td>null</td><td>null</td><td>null</td><td>null</td><td>null</td><td>&quot;KI/DI2&quot;</td><td>null</td><td>null</td><td>null</td><td>null</td><td>&quot;N&quot;</td><td>0</td><td>&quot;HOD/TYD&quot;</td><td>0</td><td>&quot;HOD/TYD&quot;</td><td>2</td><td>&quot;HOD/TYD&quot;</td><td>null</td><td>&quot;Zápočet&quot;</td><td>&quot;NE&quot;</td><td>&quot;Kombinovaná&quot;</td><td>&quot;1. tvořivá prá…</td><td>&quot;\n",
       "1. Význam a r…</td><td>null</td><td>null</td><td>null</td><td>null</td><td>&quot;Čeština&quot;</td><td>null</td><td>&quot;A&quot;</td><td>&quot;N&quot;</td><td>&quot;N&quot;</td><td>null</td><td>null</td><td>null</td><td>&quot;A&quot;</td><td>&quot;N&quot;</td><td>null</td><td>0</td><td>null</td><td>&quot;Mgr.&quot;</td><td>&quot;A&quot;</td><td>0</td><td>null</td><td>null</td><td>null</td></tr><tr><td>&quot;KI&quot;</td><td>&quot;DPG&quot;</td><td>2022</td><td>&quot;Didaktika prog…</td><td>&quot;Didaktika prog…</td><td>&quot;A&quot;</td><td>&quot;N&quot;</td><td>2</td><td>&quot;NE&quot;</td><td>null</td><td>&quot;&#x27;Mgr. Kamil Ba…</td><td>&quot;&#x27;Mgr. Kamil Ba…</td><td>&quot;1165&quot;</td><td>null</td><td>null</td><td>null</td><td>null</td><td>null</td><td>null</td><td>&quot;&#x27;Mgr. Kamil Ba…</td><td>&quot;&#x27;Mgr. Kamil Ba…</td><td>&quot;1165&quot;</td><td>null</td><td>null</td><td>null</td><td>null</td><td>null</td><td>null</td><td>null</td><td>null</td><td>null</td><td>&quot;Pracovní činno…</td><td>&quot;Rozbor produkt…</td><td>&quot;N&quot;</td><td>0</td><td>&quot;HOD/TYD&quot;</td><td>0</td><td>&quot;HOD/TYD&quot;</td><td>2</td><td>&quot;HOD/TYD&quot;</td><td>&quot;Student využij…</td><td>&quot;Zápočet&quot;</td><td>&quot;NE&quot;</td><td>&quot;Kombinovaná&quot;</td><td>&quot;-\tAktivní účas…</td><td>&quot;1.\tCíle, prost…</td><td>null</td><td>&quot;Absolvent kurz…</td><td>null</td><td>null</td><td>&quot;Čeština&quot;</td><td>null</td><td>&quot;A&quot;</td><td>&quot;N&quot;</td><td>&quot;N&quot;</td><td>null</td><td>null</td><td>null</td><td>&quot;A&quot;</td><td>&quot;A&quot;</td><td>null</td><td>0</td><td>null</td><td>&quot;Bc.&quot;</td><td>&quot;A&quot;</td><td>null</td><td>null</td><td>null</td><td>null</td></tr><tr><td>&quot;KI&quot;</td><td>&quot;DP2O&quot;</td><td>2022</td><td>&quot;Diplomová prác…</td><td>&quot;Diplomová prác…</td><td>&quot;A&quot;</td><td>&quot;A&quot;</td><td>10</td><td>&quot;NE&quot;</td><td>null</td><td>null</td><td>null</td><td>null</td><td>null</td><td>null</td><td>null</td><td>null</td><td>null</td><td>null</td><td>null</td><td>null</td><td>null</td><td>null</td><td>null</td><td>null</td><td>null</td><td>null</td><td>null</td><td>null</td><td>null</td><td>null</td><td>null</td><td>null</td><td>&quot;N&quot;</td><td>0</td><td>&quot;HOD/TYD&quot;</td><td>0</td><td>&quot;HOD/TYD&quot;</td><td>0</td><td>&quot;HOD/TYD&quot;</td><td>&quot;Cílem kurzu je…</td><td>&quot;Zkouška&quot;</td><td>&quot;NE&quot;</td><td>&quot;Kombinovaná&quot;</td><td>&quot;Zápočet uděluj…</td><td>null</td><td>null</td><td>null</td><td>null</td><td>null</td><td>&quot;Čeština&quot;</td><td>null</td><td>&quot;A&quot;</td><td>&quot;N&quot;</td><td>&quot;N&quot;</td><td>null</td><td>null</td><td>null</td><td>&quot;A&quot;</td><td>&quot;N&quot;</td><td>null</td><td>0</td><td>null</td><td>&quot;Mgr.&quot;</td><td>&quot;A&quot;</td><td>0</td><td>null</td><td>null</td><td>null</td></tr></tbody></table></div>"
      ],
      "text/plain": [
       "shape: (5, 69)\n",
       "┌─────────┬─────────┬──────┬──────────────────────────┬───┬───────────────────┬──────┬──────┬──────┐\n",
       "│ katedra ┆ zkratka ┆ rok  ┆ nazev                    ┆ … ┆ hodZaSemKombForma ┆ aMax ┆ bMax ┆ cMax │\n",
       "│ ---     ┆ ---     ┆ ---  ┆ ---                      ┆   ┆ ---               ┆ ---  ┆ ---  ┆ ---  │\n",
       "│ str     ┆ str     ┆ i64  ┆ str                      ┆   ┆ i64               ┆ str  ┆ str  ┆ i64  │\n",
       "╞═════════╪═════════╪══════╪══════════════════════════╪═══╪═══════════════════╪══════╪══════╪══════╡\n",
       "│ KI      ┆ AHW     ┆ 2022 ┆ Praktické aplikace       ┆ … ┆ null              ┆ null ┆ null ┆ null │\n",
       "│         ┆         ┆      ┆ hardwaru                 ┆   ┆                   ┆      ┆      ┆      │\n",
       "│ KI      ┆ A201    ┆ 2022 ┆ DMS and Team             ┆ … ┆ 0                 ┆ null ┆ null ┆ null │\n",
       "│         ┆         ┆      ┆ Collaboration Tools      ┆   ┆                   ┆      ┆      ┆      │\n",
       "│ KI      ┆ DI1     ┆ 2022 ┆ Didaktika informatiky I  ┆ … ┆ 0                 ┆ null ┆ null ┆ null │\n",
       "│ KI      ┆ DPG     ┆ 2022 ┆ Didaktika programování   ┆ … ┆ null              ┆ null ┆ null ┆ null │\n",
       "│ KI      ┆ DP2O    ┆ 2022 ┆ Diplomová práce          ┆ … ┆ 0                 ┆ null ┆ null ┆ null │\n",
       "└─────────┴─────────┴──────┴──────────────────────────┴───┴───────────────────┴──────┴──────┴──────┘"
      ]
     },
     "execution_count": 139,
     "metadata": {},
     "output_type": "execute_result"
    }
   ],
   "source": [
    "predmety_by_kat.head()"
   ]
  },
  {
   "cell_type": "code",
   "execution_count": 140,
   "metadata": {},
   "outputs": [
    {
     "data": {
      "text/html": [
       "<div><style>\n",
       ".dataframe > thead > tr > th,\n",
       ".dataframe > tbody > tr > td {\n",
       "  text-align: right;\n",
       "}\n",
       "</style>\n",
       "<small>shape: (5, 54)</small><table border=\"1\" class=\"dataframe\"><thead><tr><th>roakIdno</th><th>nazev</th><th>katedra</th><th>zkratka</th><th>statut</th><th>ucitIdno</th><th>ucitIdno.ucitel</th><th>jmeno.ucitel</th><th>prijmeni.ucitel</th><th>titulPred.ucitel</th><th>titulZa.ucitel</th><th>platnost.ucitel</th><th>zamestnanec.ucitel</th><th>podilNaVyuce.ucitel</th><th>rok</th><th>budova</th><th>mistnost</th><th>kapacitaMistnosti</th><th>planObsazeni</th><th>obsazeni</th><th>typAkce</th><th>typAkceZkr</th><th>platnost</th><th>den</th><th>denZkr</th><th>vyucJazyk</th><th>hodinaOd</th><th>hodinaDo</th><th>pocetVyucHodin</th><th>hodinaSkutOd</th><th>hodinaSkutDo</th><th>tydenOd</th><th>tydenDo</th><th>tyden</th><th>tydenZkr</th><th>grupIdno</th><th>jeNadrazena</th><th>maNadrazenou</th><th>kontakt</th><th>krouzky</th><th>casovaRada</th><th>datum</th><th>datumOd</th><th>datumDo</th><th>druhAkce</th><th>vsichniUciteleUcitIdno</th><th>vsichniUciteleJmenaTituly</th><th>vsichniUciteleJmenaTitulySPodily</th><th>vsichniUcitelePrijmeni</th><th>referencedIdno</th><th>poznamkaRozvrhare</th><th>nekonaSe</th><th>owner</th><th>zakazaneAkce</th></tr><tr><td>i64</td><td>str</td><td>str</td><td>str</td><td>str</td><td>i64</td><td>i64</td><td>str</td><td>str</td><td>str</td><td>str</td><td>str</td><td>str</td><td>i64</td><td>i64</td><td>str</td><td>f64</td><td>i64</td><td>i64</td><td>i64</td><td>str</td><td>str</td><td>str</td><td>str</td><td>str</td><td>str</td><td>i64</td><td>i64</td><td>i64</td><td>str</td><td>str</td><td>i64</td><td>i64</td><td>str</td><td>str</td><td>i64</td><td>str</td><td>str</td><td>str</td><td>str</td><td>str</td><td>str</td><td>str</td><td>str</td><td>str</td><td>str</td><td>str</td><td>str</td><td>str</td><td>i64</td><td>str</td><td>str</td><td>str</td><td>str</td></tr></thead><tbody><tr><td>446685</td><td>&quot;Počítačové sít…</td><td>&quot;KI&quot;</td><td>&quot;PSI&quot;</td><td>null</td><td>2776</td><td>2776</td><td>&quot;Jan&quot;</td><td>&quot;Krejčí&quot;</td><td>&quot;RNDr.&quot;</td><td>&quot;Ph.D.&quot;</td><td>&quot;A&quot;</td><td>&quot;A&quot;</td><td>100</td><td>2022</td><td>&quot;CP&quot;</td><td>7.07</td><td>12</td><td>12</td><td>3</td><td>&quot;Cvičení&quot;</td><td>&quot;Cv&quot;</td><td>&quot;A&quot;</td><td>&quot;Pondělí&quot;</td><td>&quot;Po&quot;</td><td>null</td><td>4</td><td>5</td><td>2</td><td>&quot;10:00&quot;</td><td>&quot;11:50&quot;</td><td>40</td><td>1</td><td>&quot;Každý&quot;</td><td>&quot;K&quot;</td><td>null</td><td>&quot;N&quot;</td><td>&quot;N&quot;</td><td>&quot;Automaticky vy…</td><td>&quot;3.IS&quot;</td><td>&quot;UJEP&quot;</td><td>null</td><td>&quot;03.10.2022&quot;</td><td>&quot;02.01.2023&quot;</td><td>&quot;R&quot;</td><td>&quot;2776&quot;</td><td>&quot;RNDr. Jan Krej…</td><td>&quot;&#x27;RNDr. Jan Kre…</td><td>&quot;Krejčí&quot;</td><td>446685</td><td>null</td><td>null</td><td>&quot;PETRUSPRF&quot;</td><td>null</td></tr><tr><td>446500</td><td>&quot;Základy počíta…</td><td>&quot;KI&quot;</td><td>&quot;ZPS&quot;</td><td>null</td><td>2776</td><td>2776</td><td>&quot;Jan&quot;</td><td>&quot;Krejčí&quot;</td><td>&quot;RNDr.&quot;</td><td>&quot;Ph.D.&quot;</td><td>&quot;A&quot;</td><td>&quot;A&quot;</td><td>100</td><td>2022</td><td>&quot;MF&quot;</td><td>1.54</td><td>315</td><td>180</td><td>170</td><td>&quot;Přednáška&quot;</td><td>&quot;Př&quot;</td><td>&quot;A&quot;</td><td>&quot;Pondělí&quot;</td><td>&quot;Po&quot;</td><td>null</td><td>7</td><td>8</td><td>2</td><td>&quot;13:00&quot;</td><td>&quot;14:50&quot;</td><td>40</td><td>1</td><td>&quot;Každý&quot;</td><td>&quot;K&quot;</td><td>null</td><td>&quot;N&quot;</td><td>&quot;N&quot;</td><td>&quot;Automaticky vy…</td><td>&quot;1.API Bc&quot;</td><td>&quot;UJEP&quot;</td><td>null</td><td>&quot;03.10.2022&quot;</td><td>&quot;02.01.2023&quot;</td><td>&quot;R&quot;</td><td>&quot;2776&quot;</td><td>&quot;RNDr. Jan Krej…</td><td>&quot;&#x27;RNDr. Jan Kre…</td><td>&quot;Krejčí&quot;</td><td>446500</td><td>null</td><td>null</td><td>&quot;PETRUSPRF&quot;</td><td>null</td></tr><tr><td>446519</td><td>&quot;Didaktika prog…</td><td>&quot;KI&quot;</td><td>&quot;DPG&quot;</td><td>null</td><td>1165</td><td>1165</td><td>&quot;Kamil&quot;</td><td>&quot;Balín&quot;</td><td>&quot;Mgr.&quot;</td><td>null</td><td>&quot;A&quot;</td><td>&quot;A&quot;</td><td>100</td><td>2022</td><td>&quot;CP&quot;</td><td>7.06</td><td>24</td><td>20</td><td>14</td><td>&quot;Seminář&quot;</td><td>&quot;Se&quot;</td><td>&quot;A&quot;</td><td>&quot;Pondělí&quot;</td><td>&quot;Po&quot;</td><td>null</td><td>8</td><td>9</td><td>2</td><td>&quot;14:00&quot;</td><td>&quot;15:50&quot;</td><td>40</td><td>1</td><td>&quot;Každý&quot;</td><td>&quot;K&quot;</td><td>null</td><td>&quot;N&quot;</td><td>&quot;N&quot;</td><td>&quot;Automaticky vy…</td><td>&quot;2.API Bc,3.IS,…</td><td>&quot;UJEP&quot;</td><td>null</td><td>&quot;03.10.2022&quot;</td><td>&quot;02.01.2023&quot;</td><td>&quot;R&quot;</td><td>&quot;1165&quot;</td><td>&quot;Mgr. Kamil Bal…</td><td>&quot;&#x27;Mgr. Kamil Ba…</td><td>&quot;Balín&quot;</td><td>446519</td><td>null</td><td>&quot;17.10.2022: Od…</td><td>&quot;PETRUSPRF&quot;</td><td>null</td></tr><tr><td>446723</td><td>&quot;Informační a k…</td><td>&quot;KI&quot;</td><td>&quot;IKT&quot;</td><td>null</td><td>835</td><td>835</td><td>&quot;Květuše&quot;</td><td>&quot;Sýkorová&quot;</td><td>&quot;Mgr.&quot;</td><td>null</td><td>&quot;A&quot;</td><td>&quot;A&quot;</td><td>100</td><td>2022</td><td>&quot;CP&quot;</td><td>-1.21</td><td>31</td><td>30</td><td>30</td><td>&quot;Seminář&quot;</td><td>&quot;Se&quot;</td><td>&quot;A&quot;</td><td>&quot;Úterý&quot;</td><td>&quot;Út&quot;</td><td>null</td><td>10</td><td>11</td><td>2</td><td>&quot;16:00&quot;</td><td>&quot;17:50&quot;</td><td>40</td><td>1</td><td>&quot;Každý&quot;</td><td>&quot;K&quot;</td><td>null</td><td>&quot;N&quot;</td><td>&quot;N&quot;</td><td>&quot;Automaticky vy…</td><td>&quot;1.MvFVS,1.NANO…</td><td>&quot;UJEP&quot;</td><td>null</td><td>&quot;04.10.2022&quot;</td><td>&quot;03.01.2023&quot;</td><td>&quot;R&quot;</td><td>&quot;835&quot;</td><td>&quot;Mgr. Květuše S…</td><td>&quot;&#x27;Mgr. Květuše …</td><td>&quot;Sýkorová&quot;</td><td>446723</td><td>null</td><td>&quot;25.10.2022: Od…</td><td>&quot;PETRUSPRF&quot;</td><td>null</td></tr><tr><td>451651</td><td>&quot;Semestrální pr…</td><td>&quot;KI&quot;</td><td>&quot;KSP3&quot;</td><td>null</td><td>6259</td><td>6259</td><td>&quot;Jiří&quot;</td><td>&quot;Škvára&quot;</td><td>&quot;RNDr.&quot;</td><td>&quot;Ph.D.&quot;</td><td>&quot;A&quot;</td><td>&quot;A&quot;</td><td>100</td><td>2022</td><td>&quot;CP&quot;</td><td>6.04</td><td>2</td><td>1</td><td>1</td><td>&quot;Seminář&quot;</td><td>&quot;Se&quot;</td><td>&quot;A&quot;</td><td>&quot;Úterý&quot;</td><td>&quot;Út&quot;</td><td>null</td><td>12</td><td>13</td><td>2</td><td>&quot;18:00&quot;</td><td>&quot;19:50&quot;</td><td>1</td><td>1</td><td>&quot;Jiný&quot;</td><td>&quot;J&quot;</td><td>28039</td><td>&quot;N&quot;</td><td>&quot;N&quot;</td><td>&quot;Automaticky vy…</td><td>&quot;2.KAPI N&quot;</td><td>&quot;UJEP&quot;</td><td>null</td><td>&quot;03.01.2023&quot;</td><td>&quot;03.01.2023&quot;</td><td>&quot;R&quot;</td><td>&quot;6259&quot;</td><td>&quot;RNDr. Jiří Škv…</td><td>&quot;&#x27;RNDr. Jiří Šk…</td><td>&quot;Škvára&quot;</td><td>451651</td><td>null</td><td>null</td><td>&quot;PETRUSPRF&quot;</td><td>null</td></tr></tbody></table></div>"
      ],
      "text/plain": [
       "shape: (5, 54)\n",
       "┌──────────┬────────────┬─────────┬─────────┬───┬────────────┬────────────┬───────────┬────────────┐\n",
       "│ roakIdno ┆ nazev      ┆ katedra ┆ zkratka ┆ … ┆ poznamkaRo ┆ nekonaSe   ┆ owner     ┆ zakazaneAk │\n",
       "│ ---      ┆ ---        ┆ ---     ┆ ---     ┆   ┆ zvrhare    ┆ ---        ┆ ---       ┆ ce         │\n",
       "│ i64      ┆ str        ┆ str     ┆ str     ┆   ┆ ---        ┆ str        ┆ str       ┆ ---        │\n",
       "│          ┆            ┆         ┆         ┆   ┆ str        ┆            ┆           ┆ str        │\n",
       "╞══════════╪════════════╪═════════╪═════════╪═══╪════════════╪════════════╪═══════════╪════════════╡\n",
       "│ 446685   ┆ Počítačové ┆ KI      ┆ PSI     ┆ … ┆ null       ┆ null       ┆ PETRUSPRF ┆ null       │\n",
       "│          ┆ sítě       ┆         ┆         ┆   ┆            ┆            ┆           ┆            │\n",
       "│ 446500   ┆ Základy    ┆ KI      ┆ ZPS     ┆ … ┆ null       ┆ null       ┆ PETRUSPRF ┆ null       │\n",
       "│          ┆ počítačový ┆         ┆         ┆   ┆            ┆            ┆           ┆            │\n",
       "│          ┆ ch sítí    ┆         ┆         ┆   ┆            ┆            ┆           ┆            │\n",
       "│          ┆ a prot…    ┆         ┆         ┆   ┆            ┆            ┆           ┆            │\n",
       "│ 446519   ┆ Didaktika  ┆ KI      ┆ DPG     ┆ … ┆ null       ┆ 17.10.2022 ┆ PETRUSPRF ┆ null       │\n",
       "│          ┆ programová ┆         ┆         ┆   ┆            ┆ : Odpadá   ┆           ┆            │\n",
       "│          ┆ ní         ┆         ┆         ┆   ┆            ┆            ┆           ┆            │\n",
       "│ 446723   ┆ Informační ┆ KI      ┆ IKT     ┆ … ┆ null       ┆ 25.10.2022 ┆ PETRUSPRF ┆ null       │\n",
       "│          ┆ a komunika ┆         ┆         ┆   ┆            ┆ : Odpadá,8 ┆           ┆            │\n",
       "│          ┆ ční        ┆         ┆         ┆   ┆            ┆ .11.2022:  ┆           ┆            │\n",
       "│          ┆ technol…   ┆         ┆         ┆   ┆            ┆ Od…        ┆           ┆            │\n",
       "│ 451651   ┆ Semestráln ┆ KI      ┆ KSP3    ┆ … ┆ null       ┆ null       ┆ PETRUSPRF ┆ null       │\n",
       "│          ┆ í projekt  ┆         ┆         ┆   ┆            ┆            ┆           ┆            │\n",
       "│          ┆ III        ┆         ┆         ┆   ┆            ┆            ┆           ┆            │\n",
       "└──────────┴────────────┴─────────┴─────────┴───┴────────────┴────────────┴───────────┴────────────┘"
      ]
     },
     "execution_count": 140,
     "metadata": {},
     "output_type": "execute_result"
    }
   ],
   "source": [
    "rozvrh_by_kat.head()"
   ]
  },
  {
   "cell_type": "code",
   "execution_count": 141,
   "metadata": {},
   "outputs": [
    {
     "data": {
      "text/plain": [
       "{'katedra', 'nazev', 'rok', 'zkratka'}"
      ]
     },
     "execution_count": 141,
     "metadata": {},
     "output_type": "execute_result"
    }
   ],
   "source": [
    "set(rozvrh_by_kat.columns) & set(predmety_by_kat.columns)"
   ]
  },
  {
   "cell_type": "code",
   "execution_count": 142,
   "metadata": {},
   "outputs": [
    {
     "data": {
      "text/html": [
       "<div><style>\n",
       ".dataframe > thead > tr > th,\n",
       ".dataframe > tbody > tr > td {\n",
       "  text-align: right;\n",
       "}\n",
       "</style>\n",
       "<small>shape: (1, 54)</small><table border=\"1\" class=\"dataframe\"><thead><tr><th>roakIdno</th><th>nazev</th><th>katedra</th><th>zkratka</th><th>statut</th><th>ucitIdno</th><th>ucitIdno.ucitel</th><th>jmeno.ucitel</th><th>prijmeni.ucitel</th><th>titulPred.ucitel</th><th>titulZa.ucitel</th><th>platnost.ucitel</th><th>zamestnanec.ucitel</th><th>podilNaVyuce.ucitel</th><th>rok</th><th>budova</th><th>mistnost</th><th>kapacitaMistnosti</th><th>planObsazeni</th><th>obsazeni</th><th>typAkce</th><th>typAkceZkr</th><th>platnost</th><th>den</th><th>denZkr</th><th>vyucJazyk</th><th>hodinaOd</th><th>hodinaDo</th><th>pocetVyucHodin</th><th>hodinaSkutOd</th><th>hodinaSkutDo</th><th>tydenOd</th><th>tydenDo</th><th>tyden</th><th>tydenZkr</th><th>grupIdno</th><th>jeNadrazena</th><th>maNadrazenou</th><th>kontakt</th><th>krouzky</th><th>casovaRada</th><th>datum</th><th>datumOd</th><th>datumDo</th><th>druhAkce</th><th>vsichniUciteleUcitIdno</th><th>vsichniUciteleJmenaTituly</th><th>vsichniUciteleJmenaTitulySPodily</th><th>vsichniUcitelePrijmeni</th><th>referencedIdno</th><th>poznamkaRozvrhare</th><th>nekonaSe</th><th>owner</th><th>zakazaneAkce</th></tr><tr><td>u32</td><td>u32</td><td>u32</td><td>u32</td><td>u32</td><td>u32</td><td>u32</td><td>u32</td><td>u32</td><td>u32</td><td>u32</td><td>u32</td><td>u32</td><td>u32</td><td>u32</td><td>u32</td><td>u32</td><td>u32</td><td>u32</td><td>u32</td><td>u32</td><td>u32</td><td>u32</td><td>u32</td><td>u32</td><td>u32</td><td>u32</td><td>u32</td><td>u32</td><td>u32</td><td>u32</td><td>u32</td><td>u32</td><td>u32</td><td>u32</td><td>u32</td><td>u32</td><td>u32</td><td>u32</td><td>u32</td><td>u32</td><td>u32</td><td>u32</td><td>u32</td><td>u32</td><td>u32</td><td>u32</td><td>u32</td><td>u32</td><td>u32</td><td>u32</td><td>u32</td><td>u32</td><td>u32</td></tr></thead><tbody><tr><td>0</td><td>0</td><td>0</td><td>0</td><td>717</td><td>19</td><td>19</td><td>19</td><td>19</td><td>27</td><td>198</td><td>19</td><td>19</td><td>19</td><td>0</td><td>153</td><td>153</td><td>153</td><td>0</td><td>0</td><td>0</td><td>0</td><td>0</td><td>173</td><td>173</td><td>717</td><td>174</td><td>174</td><td>168</td><td>0</td><td>0</td><td>0</td><td>0</td><td>0</td><td>0</td><td>335</td><td>0</td><td>0</td><td>6</td><td>19</td><td>174</td><td>717</td><td>173</td><td>173</td><td>0</td><td>19</td><td>19</td><td>19</td><td>19</td><td>0</td><td>717</td><td>620</td><td>0</td><td>705</td></tr></tbody></table></div>"
      ],
      "text/plain": [
       "shape: (1, 54)\n",
       "┌──────────┬───────┬─────────┬─────────┬───┬───────────────────┬──────────┬───────┬──────────────┐\n",
       "│ roakIdno ┆ nazev ┆ katedra ┆ zkratka ┆ … ┆ poznamkaRozvrhare ┆ nekonaSe ┆ owner ┆ zakazaneAkce │\n",
       "│ ---      ┆ ---   ┆ ---     ┆ ---     ┆   ┆ ---               ┆ ---      ┆ ---   ┆ ---          │\n",
       "│ u32      ┆ u32   ┆ u32     ┆ u32     ┆   ┆ u32               ┆ u32      ┆ u32   ┆ u32          │\n",
       "╞══════════╪═══════╪═════════╪═════════╪═══╪═══════════════════╪══════════╪═══════╪══════════════╡\n",
       "│ 0        ┆ 0     ┆ 0       ┆ 0       ┆ … ┆ 717               ┆ 620      ┆ 0     ┆ 705          │\n",
       "└──────────┴───────┴─────────┴─────────┴───┴───────────────────┴──────────┴───────┴──────────────┘"
      ]
     },
     "execution_count": 142,
     "metadata": {},
     "output_type": "execute_result"
    }
   ],
   "source": [
    "rozvrh_by_kat.null_count()"
   ]
  },
  {
   "cell_type": "code",
   "execution_count": 143,
   "metadata": {},
   "outputs": [
    {
     "data": {
      "text/html": [
       "<div><style>\n",
       ".dataframe > thead > tr > th,\n",
       ".dataframe > tbody > tr > td {\n",
       "  text-align: right;\n",
       "}\n",
       "</style>\n",
       "<small>shape: (1, 69)</small><table border=\"1\" class=\"dataframe\"><thead><tr><th>katedra</th><th>zkratka</th><th>rok</th><th>nazev</th><th>nazevDlouhy</th><th>vyukaZS</th><th>vyukaLS</th><th>kreditu</th><th>viceZapis</th><th>minObsazeni</th><th>garanti</th><th>garantiSPodily</th><th>garantiUcitIdno</th><th>prednasejici</th><th>prednasejiciSPodily</th><th>prednasejiciUcitIdno</th><th>cvicici</th><th>cviciciSPodily</th><th>cviciciUcitIdno</th><th>seminarici</th><th>seminariciSPodily</th><th>seminariciUcitIdno</th><th>schvalujiciUznani</th><th>schvalujiciUznaniUcitIdno</th><th>examinatori</th><th>examinatoriUcitIdno</th><th>podminujiciPredmety</th><th>vylucujiciPredmety</th><th>podminujePredmety</th><th>literatura</th><th>nahrazPredmety</th><th>metodyVyucovaci</th><th>metodyHodnotici</th><th>akreditovan</th><th>jednotekPrednasek</th><th>jednotkaPrednasky</th><th>jednotekCviceni</th><th>jednotkaCviceni</th><th>jednotekSeminare</th><th>jednotkaSeminare</th><th>anotace</th><th>typZkousky</th><th>maZapocetPredZk</th><th>formaZkousky</th><th>pozadavky</th><th>prehledLatky</th><th>predpoklady</th><th>ziskaneZpusobilosti</th><th>casovaNarocnost</th><th>predmetUrl</th><th>vyucovaciJazyky</th><th>poznamka</th><th>ectsZobrazit</th><th>ectsAkreditace</th><th>ectsNabizetUPrijezdu</th><th>poznamkaVerejna</th><th>skupinaAkreditace</th><th>skupinaAkreditaceKey</th><th>zarazenDoPrezencnihoStudia</th><th>zarazenDoKombinovanehoStudia</th><th>studijniOpory</th><th>praxePocetDnu</th><th>urovenNastavena</th><th>urovenVypoctena</th><th>automatickyUznavatZppZk</th><th>hodZaSemKombForma</th><th>aMax</th><th>bMax</th><th>cMax</th></tr><tr><td>u32</td><td>u32</td><td>u32</td><td>u32</td><td>u32</td><td>u32</td><td>u32</td><td>u32</td><td>u32</td><td>u32</td><td>u32</td><td>u32</td><td>u32</td><td>u32</td><td>u32</td><td>u32</td><td>u32</td><td>u32</td><td>u32</td><td>u32</td><td>u32</td><td>u32</td><td>u32</td><td>u32</td><td>u32</td><td>u32</td><td>u32</td><td>u32</td><td>u32</td><td>u32</td><td>u32</td><td>u32</td><td>u32</td><td>u32</td><td>u32</td><td>u32</td><td>u32</td><td>u32</td><td>u32</td><td>u32</td><td>u32</td><td>u32</td><td>u32</td><td>u32</td><td>u32</td><td>u32</td><td>u32</td><td>u32</td><td>u32</td><td>u32</td><td>u32</td><td>u32</td><td>u32</td><td>u32</td><td>u32</td><td>u32</td><td>u32</td><td>u32</td><td>u32</td><td>u32</td><td>u32</td><td>u32</td><td>u32</td><td>u32</td><td>u32</td><td>u32</td><td>u32</td><td>u32</td><td>u32</td></tr></thead><tbody><tr><td>0</td><td>0</td><td>0</td><td>0</td><td>0</td><td>0</td><td>0</td><td>0</td><td>0</td><td>523</td><td>42</td><td>42</td><td>42</td><td>318</td><td>318</td><td>318</td><td>308</td><td>308</td><td>308</td><td>318</td><td>318</td><td>318</td><td>523</td><td>523</td><td>521</td><td>521</td><td>360</td><td>500</td><td>423</td><td>264</td><td>497</td><td>506</td><td>516</td><td>0</td><td>0</td><td>0</td><td>0</td><td>0</td><td>0</td><td>0</td><td>63</td><td>0</td><td>0</td><td>2</td><td>138</td><td>113</td><td>466</td><td>494</td><td>523</td><td>523</td><td>16</td><td>474</td><td>0</td><td>0</td><td>0</td><td>490</td><td>520</td><td>520</td><td>0</td><td>0</td><td>522</td><td>0</td><td>511</td><td>61</td><td>1</td><td>238</td><td>523</td><td>523</td><td>508</td></tr></tbody></table></div>"
      ],
      "text/plain": [
       "shape: (1, 69)\n",
       "┌─────────┬─────────┬─────┬───────┬───┬───────────────────┬──────┬──────┬──────┐\n",
       "│ katedra ┆ zkratka ┆ rok ┆ nazev ┆ … ┆ hodZaSemKombForma ┆ aMax ┆ bMax ┆ cMax │\n",
       "│ ---     ┆ ---     ┆ --- ┆ ---   ┆   ┆ ---               ┆ ---  ┆ ---  ┆ ---  │\n",
       "│ u32     ┆ u32     ┆ u32 ┆ u32   ┆   ┆ u32               ┆ u32  ┆ u32  ┆ u32  │\n",
       "╞═════════╪═════════╪═════╪═══════╪═══╪═══════════════════╪══════╪══════╪══════╡\n",
       "│ 0       ┆ 0       ┆ 0   ┆ 0     ┆ … ┆ 238               ┆ 523  ┆ 523  ┆ 508  │\n",
       "└─────────┴─────────┴─────┴───────┴───┴───────────────────┴──────┴──────┴──────┘"
      ]
     },
     "execution_count": 143,
     "metadata": {},
     "output_type": "execute_result"
    }
   ],
   "source": [
    "predmety_by_kat.null_count()"
   ]
  },
  {
   "cell_type": "code",
   "execution_count": 144,
   "metadata": {},
   "outputs": [],
   "source": [
    "# vybírám pouze předměty, které mají rozvrhovou akci"
   ]
  },
  {
   "cell_type": "code",
   "execution_count": 145,
   "metadata": {},
   "outputs": [
    {
     "data": {
      "text/html": [
       "<div><style>\n",
       ".dataframe > thead > tr > th,\n",
       ".dataframe > tbody > tr > td {\n",
       "  text-align: right;\n",
       "}\n",
       "</style>\n",
       "<small>shape: (5, 69)</small><table border=\"1\" class=\"dataframe\"><thead><tr><th>katedra</th><th>zkratka</th><th>rok</th><th>nazev</th><th>nazevDlouhy</th><th>vyukaZS</th><th>vyukaLS</th><th>kreditu</th><th>viceZapis</th><th>minObsazeni</th><th>garanti</th><th>garantiSPodily</th><th>garantiUcitIdno</th><th>prednasejici</th><th>prednasejiciSPodily</th><th>prednasejiciUcitIdno</th><th>cvicici</th><th>cviciciSPodily</th><th>cviciciUcitIdno</th><th>seminarici</th><th>seminariciSPodily</th><th>seminariciUcitIdno</th><th>schvalujiciUznani</th><th>schvalujiciUznaniUcitIdno</th><th>examinatori</th><th>examinatoriUcitIdno</th><th>podminujiciPredmety</th><th>vylucujiciPredmety</th><th>podminujePredmety</th><th>literatura</th><th>nahrazPredmety</th><th>metodyVyucovaci</th><th>metodyHodnotici</th><th>akreditovan</th><th>jednotekPrednasek</th><th>jednotkaPrednasky</th><th>jednotekCviceni</th><th>jednotkaCviceni</th><th>jednotekSeminare</th><th>jednotkaSeminare</th><th>anotace</th><th>typZkousky</th><th>maZapocetPredZk</th><th>formaZkousky</th><th>pozadavky</th><th>prehledLatky</th><th>predpoklady</th><th>ziskaneZpusobilosti</th><th>casovaNarocnost</th><th>predmetUrl</th><th>vyucovaciJazyky</th><th>poznamka</th><th>ectsZobrazit</th><th>ectsAkreditace</th><th>ectsNabizetUPrijezdu</th><th>poznamkaVerejna</th><th>skupinaAkreditace</th><th>skupinaAkreditaceKey</th><th>zarazenDoPrezencnihoStudia</th><th>zarazenDoKombinovanehoStudia</th><th>studijniOpory</th><th>praxePocetDnu</th><th>urovenNastavena</th><th>urovenVypoctena</th><th>automatickyUznavatZppZk</th><th>hodZaSemKombForma</th><th>aMax</th><th>bMax</th><th>cMax</th></tr><tr><td>str</td><td>str</td><td>i64</td><td>str</td><td>str</td><td>str</td><td>str</td><td>i64</td><td>str</td><td>str</td><td>str</td><td>str</td><td>str</td><td>str</td><td>str</td><td>str</td><td>str</td><td>str</td><td>str</td><td>str</td><td>str</td><td>str</td><td>str</td><td>str</td><td>str</td><td>str</td><td>str</td><td>str</td><td>str</td><td>str</td><td>str</td><td>str</td><td>str</td><td>str</td><td>i64</td><td>str</td><td>i64</td><td>str</td><td>i64</td><td>str</td><td>str</td><td>str</td><td>str</td><td>str</td><td>str</td><td>str</td><td>str</td><td>str</td><td>str</td><td>str</td><td>str</td><td>str</td><td>str</td><td>str</td><td>str</td><td>str</td><td>str</td><td>str</td><td>str</td><td>str</td><td>str</td><td>i64</td><td>str</td><td>str</td><td>str</td><td>i64</td><td>str</td><td>str</td><td>i64</td></tr></thead><tbody><tr><td>&quot;KI&quot;</td><td>&quot;0054&quot;</td><td>2022</td><td>&quot;Programování v…</td><td>&quot;Programování v…</td><td>&quot;A&quot;</td><td>&quot;A&quot;</td><td>2</td><td>&quot;NE&quot;</td><td>null</td><td>&quot;&#x27;doc. Ing. Mgr…</td><td>&quot;&#x27;doc. Ing. Mgr…</td><td>&quot;449&quot;</td><td>null</td><td>null</td><td>null</td><td>null</td><td>null</td><td>null</td><td>&quot;&#x27;doc. Ing. Mgr…</td><td>&quot;&#x27;doc. Ing. Mgr…</td><td>&quot;449&quot;</td><td>null</td><td>null</td><td>null</td><td>null</td><td>null</td><td>null</td><td>null</td><td>&quot;&#x27;Král, M. Exce…</td><td>null</td><td>&quot;Monologická (v…</td><td>null</td><td>&quot;A&quot;</td><td>0</td><td>&quot;HOD/TYD&quot;</td><td>0</td><td>&quot;HOD/TYD&quot;</td><td>2</td><td>&quot;HOD/TYD&quot;</td><td>&quot;Tento předmět …</td><td>&quot;Zápočet&quot;</td><td>&quot;NE&quot;</td><td>&quot;Ústní&quot;</td><td>&quot;75% aktivní úč…</td><td>&quot;1. Základní in…</td><td>null</td><td>&quot;Zvládnutí zákl…</td><td>null</td><td>null</td><td>&quot;Čeština&quot;</td><td>&quot;vk 1528&quot;</td><td>&quot;A&quot;</td><td>&quot;N&quot;</td><td>&quot;N&quot;</td><td>null</td><td>&quot;1&quot;</td><td>&quot;1&quot;</td><td>&quot;A&quot;</td><td>&quot;A&quot;</td><td>null</td><td>0</td><td>null</td><td>&quot;Bc.&quot;</td><td>&quot;A&quot;</td><td>null</td><td>null</td><td>null</td><td>null</td></tr><tr><td>&quot;KI&quot;</td><td>&quot;0054&quot;</td><td>2022</td><td>&quot;Programování v…</td><td>&quot;Programování v…</td><td>&quot;A&quot;</td><td>&quot;A&quot;</td><td>2</td><td>&quot;NE&quot;</td><td>null</td><td>&quot;&#x27;doc. Ing. Mgr…</td><td>&quot;&#x27;doc. Ing. Mgr…</td><td>&quot;449&quot;</td><td>null</td><td>null</td><td>null</td><td>null</td><td>null</td><td>null</td><td>&quot;&#x27;doc. Ing. Mgr…</td><td>&quot;&#x27;doc. Ing. Mgr…</td><td>&quot;449&quot;</td><td>null</td><td>null</td><td>null</td><td>null</td><td>null</td><td>null</td><td>null</td><td>&quot;&#x27;Král, M. Exce…</td><td>null</td><td>&quot;Monologická (v…</td><td>null</td><td>&quot;A&quot;</td><td>0</td><td>&quot;HOD/TYD&quot;</td><td>0</td><td>&quot;HOD/TYD&quot;</td><td>2</td><td>&quot;HOD/TYD&quot;</td><td>&quot;Tento předmět …</td><td>&quot;Zápočet&quot;</td><td>&quot;NE&quot;</td><td>&quot;Ústní&quot;</td><td>&quot;75% aktivní úč…</td><td>&quot;1. Základní in…</td><td>null</td><td>&quot;Zvládnutí zákl…</td><td>null</td><td>null</td><td>&quot;Čeština&quot;</td><td>&quot;vk 1528&quot;</td><td>&quot;A&quot;</td><td>&quot;N&quot;</td><td>&quot;N&quot;</td><td>null</td><td>&quot;1&quot;</td><td>&quot;1&quot;</td><td>&quot;A&quot;</td><td>&quot;A&quot;</td><td>null</td><td>0</td><td>null</td><td>&quot;Bc.&quot;</td><td>&quot;A&quot;</td><td>null</td><td>null</td><td>null</td><td>0</td></tr><tr><td>&quot;KI&quot;</td><td>&quot;0121&quot;</td><td>2022</td><td>&quot;CCNA 1: Introd…</td><td>&quot;CCNA 1: Introd…</td><td>&quot;A&quot;</td><td>&quot;A&quot;</td><td>1</td><td>&quot;NE&quot;</td><td>null</td><td>&quot;&#x27;RNDr. Jan Kre…</td><td>&quot;&#x27;RNDr. Jan Kre…</td><td>&quot;2776&quot;</td><td>null</td><td>null</td><td>null</td><td>&quot;&#x27;Ing. Josef Bi…</td><td>&quot;&#x27;Ing. Josef Bi…</td><td>&quot;5136, 2776&quot;</td><td>null</td><td>null</td><td>null</td><td>null</td><td>null</td><td>null</td><td>null</td><td>null</td><td>null</td><td>null</td><td>null</td><td>null</td><td>null</td><td>null</td><td>&quot;N&quot;</td><td>0</td><td>&quot;HOD/TYD&quot;</td><td>1</td><td>&quot;HOD/TYD&quot;</td><td>0</td><td>&quot;HOD/TYD&quot;</td><td>&quot;Cílem předmětu…</td><td>&quot;Zápočet&quot;</td><td>&quot;NE&quot;</td><td>&quot;Kombinovaná&quot;</td><td>&quot;Splnění závěre…</td><td>&quot;Cílem předmětu…</td><td>null</td><td>null</td><td>null</td><td>null</td><td>&quot;Čeština, Angli…</td><td>&quot;vk&quot;</td><td>&quot;A&quot;</td><td>&quot;N&quot;</td><td>&quot;N&quot;</td><td>null</td><td>null</td><td>null</td><td>&quot;A&quot;</td><td>&quot;A&quot;</td><td>null</td><td>0</td><td>null</td><td>&quot;Bc.&quot;</td><td>&quot;A&quot;</td><td>null</td><td>null</td><td>null</td><td>null</td></tr><tr><td>&quot;KI&quot;</td><td>&quot;0126&quot;</td><td>2022</td><td>&quot;CCNA 2: Routin…</td><td>&quot;CCNA 2: Routin…</td><td>&quot;A&quot;</td><td>&quot;A&quot;</td><td>2</td><td>&quot;NE&quot;</td><td>null</td><td>&quot;&#x27;RNDr. Jan Kre…</td><td>&quot;&#x27;RNDr. Jan Kre…</td><td>&quot;2776&quot;</td><td>null</td><td>null</td><td>null</td><td>&quot;&#x27;Ing. Josef Bi…</td><td>&quot;&#x27;Ing. Josef Bi…</td><td>&quot;5136, 2776&quot;</td><td>null</td><td>null</td><td>null</td><td>null</td><td>null</td><td>null</td><td>null</td><td>null</td><td>null</td><td>null</td><td>null</td><td>null</td><td>null</td><td>null</td><td>&quot;N&quot;</td><td>0</td><td>&quot;HOD/TYD&quot;</td><td>2</td><td>&quot;HOD/TYD&quot;</td><td>0</td><td>&quot;HOD/TYD&quot;</td><td>&quot;Cílem předmětu…</td><td>&quot;Zápočet&quot;</td><td>&quot;NE&quot;</td><td>&quot;Kombinovaná&quot;</td><td>&quot;Splnění závěre…</td><td>&quot;Cílem předmětu…</td><td>&quot;CCNA 1&quot;</td><td>null</td><td>null</td><td>null</td><td>&quot;Čeština, Angli…</td><td>&quot;vk&quot;</td><td>&quot;A&quot;</td><td>&quot;N&quot;</td><td>&quot;N&quot;</td><td>null</td><td>null</td><td>null</td><td>&quot;A&quot;</td><td>&quot;A&quot;</td><td>null</td><td>0</td><td>null</td><td>&quot;Bc.&quot;</td><td>&quot;A&quot;</td><td>null</td><td>null</td><td>null</td><td>null</td></tr><tr><td>&quot;KI&quot;</td><td>&quot;0127&quot;</td><td>2022</td><td>&quot;CCNA 3: Scalin…</td><td>&quot;CCNA 3: Scalin…</td><td>&quot;A&quot;</td><td>&quot;A&quot;</td><td>2</td><td>&quot;NE&quot;</td><td>null</td><td>&quot;&#x27;RNDr. Jan Kre…</td><td>&quot;&#x27;RNDr. Jan Kre…</td><td>&quot;2776&quot;</td><td>null</td><td>null</td><td>null</td><td>&quot;&#x27;Ing. Josef Bi…</td><td>&quot;&#x27;Ing. Josef Bi…</td><td>&quot;5136, 2776&quot;</td><td>null</td><td>null</td><td>null</td><td>null</td><td>null</td><td>null</td><td>null</td><td>null</td><td>null</td><td>null</td><td>null</td><td>null</td><td>null</td><td>null</td><td>&quot;N&quot;</td><td>0</td><td>&quot;HOD/TYD&quot;</td><td>2</td><td>&quot;HOD/TYD&quot;</td><td>0</td><td>&quot;HOD/TYD&quot;</td><td>&quot;Cílem předmětu…</td><td>&quot;Zápočet&quot;</td><td>&quot;NE&quot;</td><td>&quot;Kombinovaná&quot;</td><td>&quot;Splnění závěre…</td><td>&quot;Cíle předmětu:…</td><td>&quot;CCNA 2&quot;</td><td>null</td><td>null</td><td>null</td><td>&quot;Čeština, Angli…</td><td>&quot;vk&quot;</td><td>&quot;A&quot;</td><td>&quot;N&quot;</td><td>&quot;N&quot;</td><td>null</td><td>null</td><td>null</td><td>&quot;A&quot;</td><td>&quot;A&quot;</td><td>null</td><td>0</td><td>null</td><td>&quot;Bc.&quot;</td><td>&quot;A&quot;</td><td>null</td><td>null</td><td>null</td><td>null</td></tr></tbody></table></div>"
      ],
      "text/plain": [
       "shape: (5, 69)\n",
       "┌─────────┬─────────┬──────┬──────────────────────────┬───┬───────────────────┬──────┬──────┬──────┐\n",
       "│ katedra ┆ zkratka ┆ rok  ┆ nazev                    ┆ … ┆ hodZaSemKombForma ┆ aMax ┆ bMax ┆ cMax │\n",
       "│ ---     ┆ ---     ┆ ---  ┆ ---                      ┆   ┆ ---               ┆ ---  ┆ ---  ┆ ---  │\n",
       "│ str     ┆ str     ┆ i64  ┆ str                      ┆   ┆ i64               ┆ str  ┆ str  ┆ i64  │\n",
       "╞═════════╪═════════╪══════╪══════════════════════════╪═══╪═══════════════════╪══════╪══════╪══════╡\n",
       "│ KI      ┆ 0054    ┆ 2022 ┆ Programování ve VBA      ┆ … ┆ null              ┆ null ┆ null ┆ null │\n",
       "│ KI      ┆ 0054    ┆ 2022 ┆ Programování ve VBA      ┆ … ┆ null              ┆ null ┆ null ┆ 0    │\n",
       "│ KI      ┆ 0121    ┆ 2022 ┆ CCNA 1: Introduction to  ┆ … ┆ null              ┆ null ┆ null ┆ null │\n",
       "│         ┆         ┆      ┆ Networks                 ┆   ┆                   ┆      ┆      ┆      │\n",
       "│ KI      ┆ 0126    ┆ 2022 ┆ CCNA 2: Routing and      ┆ … ┆ null              ┆ null ┆ null ┆ null │\n",
       "│         ┆         ┆      ┆ Switching Es…            ┆   ┆                   ┆      ┆      ┆      │\n",
       "│ KI      ┆ 0127    ┆ 2022 ┆ CCNA 3: Scaling Networks ┆ … ┆ null              ┆ null ┆ null ┆ null │\n",
       "└─────────┴─────────┴──────┴──────────────────────────┴───┴───────────────────┴──────┴──────┴──────┘"
      ]
     },
     "execution_count": 145,
     "metadata": {},
     "output_type": "execute_result"
    }
   ],
   "source": [
    "predmety_s_akci = predmety_by_kat.join(other=rozvrh_by_kat, on=\"zkratka\", how=\"inner\").select(predmety_by_kat.columns).unique().sort(\"zkratka\")\n",
    "str(len(predmety_s_akci)) + \"   \" + str(len(predmety_by_kat))\n",
    "predmety_s_akci.head()"
   ]
  },
  {
   "attachments": {},
   "cell_type": "markdown",
   "metadata": {},
   "source": [
    "# Vyučující a garanti"
   ]
  },
  {
   "cell_type": "code",
   "execution_count": 146,
   "metadata": {},
   "outputs": [],
   "source": [
    "jednotek_prednasek = pl.col(\"jednotekPrednasek\")\n",
    "jednotek_cviceni = pl.col(\"jednotekCviceni\")\n",
    "jednotek_seminare = pl.col(\"jednotekSeminare\")\n",
    "garant = pl.col(\"garanti\")\n",
    "cvicici = pl.col(\"cvicici\")\n",
    "prednasejici = pl.col(\"prednasejici\")\n",
    "seminarici = pl.col(\"seminarici\")"
   ]
  },
  {
   "attachments": {},
   "cell_type": "markdown",
   "metadata": {},
   "source": [
    "### Každý předmět má právě jednoho garanta\n",
    "\n",
    "> Zde jsou předměty, které nemají garanta:"
   ]
  },
  {
   "cell_type": "code",
   "execution_count": 147,
   "metadata": {},
   "outputs": [
    {
     "name": "stdout",
     "output_type": "stream",
     "text": [
      "\n",
      "13 Předmětů nemá zadaného garanta\n"
     ]
    },
    {
     "data": {
      "text/html": [
       "<div><style>\n",
       ".dataframe > thead > tr > th,\n",
       ".dataframe > tbody > tr > td {\n",
       "  text-align: right;\n",
       "}\n",
       "</style>\n",
       "<small>shape: (13, 6)</small><table border=\"1\" class=\"dataframe\"><thead><tr><th>zkratka</th><th>rok</th><th>nazev</th><th>nazevDlouhy</th><th>garanti</th><th>garantiSPodily</th></tr><tr><td>str</td><td>i64</td><td>str</td><td>str</td><td>str</td><td>str</td></tr></thead><tbody><tr><td>&quot;0199&quot;</td><td>2022</td><td>&quot;CCNP 3 - Tshoo…</td><td>&quot;CCNP 3 - Tshoo…</td><td>null</td><td>null</td></tr><tr><td>&quot;DPP&quot;</td><td>2022</td><td>&quot;Diplomová prác…</td><td>&quot;Diplomová prác…</td><td>null</td><td>null</td></tr><tr><td>&quot;EDAV&quot;</td><td>2022</td><td>&quot;Data Analysis …</td><td>&quot;Data Analysis …</td><td>null</td><td>null</td></tr><tr><td>&quot;KPAP&quot;</td><td>2022</td><td>&quot;Průmyslová aut…</td><td>&quot;Průmyslová aut…</td><td>null</td><td>null</td></tr><tr><td>&quot;KZZD&quot;</td><td>2022</td><td>&quot;Základy zpraco…</td><td>&quot;Základy zpraco…</td><td>null</td><td>null</td></tr><tr><td>&quot;PAP&quot;</td><td>2022</td><td>&quot;Průmyslová aut…</td><td>&quot;Průmyslová aut…</td><td>null</td><td>null</td></tr><tr><td>&quot;SZZ60&quot;</td><td>2022</td><td>&quot;SZZ - Informat…</td><td>&quot;Informatika&quot;</td><td>null</td><td>null</td></tr><tr><td>&quot;SZZA&quot;</td><td>2022</td><td>&quot;Teoretická inf…</td><td>&quot;Teoretická inf…</td><td>null</td><td>null</td></tr><tr><td>&quot;SZZAD&quot;</td><td>2022</td><td>&quot;Aplikované dat…</td><td>&quot;Aplikované dat…</td><td>null</td><td>null</td></tr><tr><td>&quot;SZZB&quot;</td><td>2022</td><td>&quot;Aplikovaná inf…</td><td>&quot;Aplikovaná inf…</td><td>null</td><td>null</td></tr><tr><td>&quot;SZZC1&quot;</td><td>2022</td><td>&quot;Programování a…</td><td>&quot;Programování a…</td><td>null</td><td>null</td></tr><tr><td>&quot;SZZC2&quot;</td><td>2022</td><td>&quot;Hardware a poč…</td><td>&quot;Hardware a poč…</td><td>null</td><td>null</td></tr><tr><td>&quot;SZZTD&quot;</td><td>2022</td><td>&quot;Teoretické zák…</td><td>&quot;Teoretické zák…</td><td>null</td><td>null</td></tr></tbody></table></div>"
      ],
      "text/plain": [
       "shape: (13, 6)\n",
       "┌─────────┬──────┬───────────────────────────┬──────────────────────────┬─────────┬────────────────┐\n",
       "│ zkratka ┆ rok  ┆ nazev                     ┆ nazevDlouhy              ┆ garanti ┆ garantiSPodily │\n",
       "│ ---     ┆ ---  ┆ ---                       ┆ ---                      ┆ ---     ┆ ---            │\n",
       "│ str     ┆ i64  ┆ str                       ┆ str                      ┆ str     ┆ str            │\n",
       "╞═════════╪══════╪═══════════════════════════╪══════════════════════════╪═════════╪════════════════╡\n",
       "│ 0199    ┆ 2022 ┆ CCNP 3 - Tshoot           ┆ CCNP 3 - Tshoot          ┆ null    ┆ null           │\n",
       "│ DPP     ┆ 2022 ┆ Diplomová práce           ┆ Diplomová práce          ┆ null    ┆ null           │\n",
       "│ EDAV    ┆ 2022 ┆ Data Analysis and         ┆ Data Analysis and        ┆ null    ┆ null           │\n",
       "│         ┆      ┆ Visualisation             ┆ Visualisation            ┆         ┆                │\n",
       "│ KPAP    ┆ 2022 ┆ Průmyslová automatizace v ┆ Průmyslová automatizace  ┆ null    ┆ null           │\n",
       "│         ┆      ┆ praxi                     ┆ v praxi                  ┆         ┆                │\n",
       "│ …       ┆ …    ┆ …                         ┆ …                        ┆ …       ┆ …              │\n",
       "│ SZZB    ┆ 2022 ┆ Aplikovaná informatika    ┆ Aplikovaná informatika   ┆ null    ┆ null           │\n",
       "│ SZZC1   ┆ 2022 ┆ Programování a softwarové ┆ Programování a           ┆ null    ┆ null           │\n",
       "│         ┆      ┆ systém…                   ┆ softwarové systém…       ┆         ┆                │\n",
       "│ SZZC2   ┆ 2022 ┆ Hardware a počítačové     ┆ Hardware a počítačové    ┆ null    ┆ null           │\n",
       "│         ┆      ┆ sítě                      ┆ sítě                     ┆         ┆                │\n",
       "│ SZZTD   ┆ 2022 ┆ Teoretické základy        ┆ Teoretické základy       ┆ null    ┆ null           │\n",
       "│         ┆      ┆ datového inže…            ┆ datového inže…           ┆         ┆                │\n",
       "└─────────┴──────┴───────────────────────────┴──────────────────────────┴─────────┴────────────────┘"
      ]
     },
     "execution_count": 147,
     "metadata": {},
     "output_type": "execute_result"
    }
   ],
   "source": [
    "query = pl.col(\"garanti\").is_null()\n",
    "zkratky = predmety_s_akci.filter(query).select([\"zkratka\", \"rok\", \"nazev\", \"nazevDlouhy\", \"garanti\", \"garantiSPodily\"]).filter(\n",
    "    # Není SZ\n",
    "    # pl.col(\"zkratka\").str.starts_with(\"SZ\").is_not()\n",
    "    True\n",
    ")\n",
    "print(f\"\\n{len(zkratky)} Předmětů nemá zadaného garanta\")\n",
    "zkratky.write_excel(\"results/bez_garanta.xlsx\")\n",
    "zkratky\n",
    "# print(list(zkratky), sep=\", \")"
   ]
  },
  {
   "attachments": {},
   "cell_type": "markdown",
   "metadata": {},
   "source": [
    "> Předměty podezřelé z více garantů:"
   ]
  },
  {
   "cell_type": "code",
   "execution_count": 148,
   "metadata": {},
   "outputs": [
    {
     "data": {
      "text/html": [
       "<div><style>\n",
       ".dataframe > thead > tr > th,\n",
       ".dataframe > tbody > tr > td {\n",
       "  text-align: right;\n",
       "}\n",
       "</style>\n",
       "<small>shape: (2, 4)</small><table border=\"1\" class=\"dataframe\"><thead><tr><th>garantiUcitIdno</th><th>garanti</th><th>zkratka</th><th>pocet garantu</th></tr><tr><td>str</td><td>str</td><td>str</td><td>u32</td></tr></thead><tbody><tr><td>&quot;449, 2240&quot;</td><td>&quot;&#x27;doc. Ing. Mgr…</td><td>&quot;AFJ&quot;</td><td>2</td></tr><tr><td>&quot;449, 2240&quot;</td><td>&quot;&#x27;doc. Ing. Mgr…</td><td>&quot;KAFJ&quot;</td><td>2</td></tr></tbody></table></div>"
      ],
      "text/plain": [
       "shape: (2, 4)\n",
       "┌─────────────────┬───────────────────────────────────┬─────────┬───────────────┐\n",
       "│ garantiUcitIdno ┆ garanti                           ┆ zkratka ┆ pocet garantu │\n",
       "│ ---             ┆ ---                               ┆ ---     ┆ ---           │\n",
       "│ str             ┆ str                               ┆ str     ┆ u32           │\n",
       "╞═════════════════╪═══════════════════════════════════╪═════════╪═══════════════╡\n",
       "│ 449, 2240       ┆ 'doc. Ing. Mgr. Jiří Barilla, CS… ┆ AFJ     ┆ 2             │\n",
       "│ 449, 2240       ┆ 'doc. Ing. Mgr. Jiří Barilla, CS… ┆ KAFJ    ┆ 2             │\n",
       "└─────────────────┴───────────────────────────────────┴─────────┴───────────────┘"
      ]
     },
     "execution_count": 148,
     "metadata": {},
     "output_type": "execute_result"
    }
   ],
   "source": [
    "# predmety_s_akci.filter( > pl.lit())\n",
    "vice_garantu = predmety_s_akci.with_columns(pl.col(\"garantiUcitIdno\").str.split(\", \").arr.lengths().alias(\"pocet garantu\")\n",
    "    ).select(\n",
    "        [\"garantiUcitIdno\", \"garanti\", \"zkratka\", \"pocet garantu\"]\n",
    "    ).filter(pl.col(\"pocet garantu\") > 1)\n",
    "vice_garantu.write_excel(\"results/vice_garantu.xlsx\")\n",
    "vice_garantu"
   ]
  },
  {
   "cell_type": "code",
   "execution_count": null,
   "metadata": {},
   "outputs": [],
   "source": []
  },
  {
   "attachments": {},
   "cell_type": "markdown",
   "metadata": {},
   "source": [
    "### Každý předmět má alespoň jednoho vyučujícího v kategoriích dle parametrů předmětu\n",
    "\n",
    "např. pokud má předmět rozsah 2 h přednášek a 2 h cvičení, pak musí mít alespoň jednoho přednášejícího a alespoň jednoho cvičícího a zároveň nesmí mít vyučujícího v kategorii vede seminář."
   ]
  },
  {
   "cell_type": "code",
   "execution_count": 149,
   "metadata": {},
   "outputs": [
    {
     "data": {
      "text/html": [
       "<div><style>\n",
       ".dataframe > thead > tr > th,\n",
       ".dataframe > tbody > tr > td {\n",
       "  text-align: right;\n",
       "}\n",
       "</style>\n",
       "<small>shape: (5, 69)</small><table border=\"1\" class=\"dataframe\"><thead><tr><th>katedra</th><th>zkratka</th><th>rok</th><th>nazev</th><th>nazevDlouhy</th><th>vyukaZS</th><th>vyukaLS</th><th>kreditu</th><th>viceZapis</th><th>minObsazeni</th><th>garanti</th><th>garantiSPodily</th><th>garantiUcitIdno</th><th>prednasejici</th><th>prednasejiciSPodily</th><th>prednasejiciUcitIdno</th><th>cvicici</th><th>cviciciSPodily</th><th>cviciciUcitIdno</th><th>seminarici</th><th>seminariciSPodily</th><th>seminariciUcitIdno</th><th>schvalujiciUznani</th><th>schvalujiciUznaniUcitIdno</th><th>examinatori</th><th>examinatoriUcitIdno</th><th>podminujiciPredmety</th><th>vylucujiciPredmety</th><th>podminujePredmety</th><th>literatura</th><th>nahrazPredmety</th><th>metodyVyucovaci</th><th>metodyHodnotici</th><th>akreditovan</th><th>jednotekPrednasek</th><th>jednotkaPrednasky</th><th>jednotekCviceni</th><th>jednotkaCviceni</th><th>jednotekSeminare</th><th>jednotkaSeminare</th><th>anotace</th><th>typZkousky</th><th>maZapocetPredZk</th><th>formaZkousky</th><th>pozadavky</th><th>prehledLatky</th><th>predpoklady</th><th>ziskaneZpusobilosti</th><th>casovaNarocnost</th><th>predmetUrl</th><th>vyucovaciJazyky</th><th>poznamka</th><th>ectsZobrazit</th><th>ectsAkreditace</th><th>ectsNabizetUPrijezdu</th><th>poznamkaVerejna</th><th>skupinaAkreditace</th><th>skupinaAkreditaceKey</th><th>zarazenDoPrezencnihoStudia</th><th>zarazenDoKombinovanehoStudia</th><th>studijniOpory</th><th>praxePocetDnu</th><th>urovenNastavena</th><th>urovenVypoctena</th><th>automatickyUznavatZppZk</th><th>hodZaSemKombForma</th><th>aMax</th><th>bMax</th><th>cMax</th></tr><tr><td>str</td><td>str</td><td>i64</td><td>str</td><td>str</td><td>str</td><td>str</td><td>i64</td><td>str</td><td>str</td><td>str</td><td>str</td><td>str</td><td>str</td><td>str</td><td>str</td><td>str</td><td>str</td><td>str</td><td>str</td><td>str</td><td>str</td><td>str</td><td>str</td><td>str</td><td>str</td><td>str</td><td>str</td><td>str</td><td>str</td><td>str</td><td>str</td><td>str</td><td>str</td><td>i64</td><td>str</td><td>i64</td><td>str</td><td>i64</td><td>str</td><td>str</td><td>str</td><td>str</td><td>str</td><td>str</td><td>str</td><td>str</td><td>str</td><td>str</td><td>str</td><td>str</td><td>str</td><td>str</td><td>str</td><td>str</td><td>str</td><td>str</td><td>str</td><td>str</td><td>str</td><td>str</td><td>i64</td><td>str</td><td>str</td><td>str</td><td>i64</td><td>str</td><td>str</td><td>i64</td></tr></thead><tbody><tr><td>&quot;KI&quot;</td><td>&quot;KDIS&quot;</td><td>2022</td><td>&quot;Dependabilita …</td><td>&quot;Dependabilita …</td><td>&quot;A&quot;</td><td>&quot;A&quot;</td><td>4</td><td>&quot;NE&quot;</td><td>null</td><td>&quot;&#x27;doc. RNDr. Vi…</td><td>&quot;&#x27;doc. RNDr. Vi…</td><td>&quot;2239&quot;</td><td>null</td><td>null</td><td>null</td><td>null</td><td>null</td><td>null</td><td>null</td><td>null</td><td>null</td><td>null</td><td>null</td><td>null</td><td>null</td><td>&quot;KI/KAPR1&quot;</td><td>null</td><td>null</td><td>&quot;&#x27;Laprie, J.C.,…</td><td>null</td><td>null</td><td>null</td><td>&quot;N&quot;</td><td>6</td><td>&quot;HOD/SEM&quot;</td><td>4</td><td>&quot;HOD/SEM&quot;</td><td>2</td><td>&quot;HOD/SEM&quot;</td><td>&quot;Kurz uvádí do …</td><td>&quot;Zkouška&quot;</td><td>&quot;ANO&quot;</td><td>&quot;Kombinovaná&quot;</td><td>&quot;Zápočet: semin…</td><td>&quot;1. Úvod do pro…</td><td>null</td><td>null</td><td>null</td><td>null</td><td>&quot;Čeština, Angli…</td><td>&quot;Výuka v anglic…</td><td>&quot;A&quot;</td><td>&quot;N&quot;</td><td>&quot;N&quot;</td><td>null</td><td>null</td><td>null</td><td>&quot;N&quot;</td><td>&quot;A&quot;</td><td>null</td><td>0</td><td>&quot;Bc.&quot;</td><td>&quot;Bc.&quot;</td><td>&quot;A&quot;</td><td>null</td><td>null</td><td>null</td><td>null</td></tr><tr><td>&quot;KI&quot;</td><td>&quot;KNSQL&quot;</td><td>2022</td><td>&quot;NoSQL databázo…</td><td>&quot;NoSQL databázo…</td><td>&quot;A&quot;</td><td>&quot;N&quot;</td><td>2</td><td>&quot;NE&quot;</td><td>null</td><td>&quot;&#x27;Mgr. Jiří Fiš…</td><td>&quot;&#x27;Mgr. Jiří Fiš…</td><td>&quot;251&quot;</td><td>null</td><td>null</td><td>null</td><td>null</td><td>null</td><td>null</td><td>null</td><td>null</td><td>null</td><td>null</td><td>null</td><td>null</td><td>null</td><td>&quot;KI/KDSY, KI/KU…</td><td>null</td><td>null</td><td>&quot;&#x27;Holubová, I.,…</td><td>null</td><td>null</td><td>null</td><td>&quot;N&quot;</td><td>2</td><td>&quot;HOD/SEM&quot;</td><td>4</td><td>&quot;HOD/SEM&quot;</td><td>2</td><td>&quot;HOD/SEM&quot;</td><td>&quot;Kurz je zaměře…</td><td>&quot;Zápočet&quot;</td><td>&quot;NE&quot;</td><td>&quot;Kombinovaná&quot;</td><td>&quot;Podmínkou získ…</td><td>&quot;1. Vymezení a …</td><td>null</td><td>null</td><td>null</td><td>null</td><td>&quot;Čeština&quot;</td><td>null</td><td>&quot;A&quot;</td><td>&quot;N&quot;</td><td>&quot;N&quot;</td><td>null</td><td>null</td><td>null</td><td>&quot;N&quot;</td><td>&quot;A&quot;</td><td>null</td><td>0</td><td>null</td><td>&quot;Bc.&quot;</td><td>&quot;A&quot;</td><td>0</td><td>null</td><td>null</td><td>null</td></tr><tr><td>&quot;KI&quot;</td><td>&quot;KOPR&quot;</td><td>2022</td><td>&quot;Optimální rozh…</td><td>&quot;Optimální rozh…</td><td>&quot;A&quot;</td><td>&quot;A&quot;</td><td>5</td><td>&quot;NE&quot;</td><td>null</td><td>&quot;&#x27;RNDr. Petr Ku…</td><td>&quot;&#x27;RNDr. Petr Ku…</td><td>&quot;650&quot;</td><td>null</td><td>null</td><td>null</td><td>null</td><td>null</td><td>null</td><td>null</td><td>null</td><td>null</td><td>null</td><td>null</td><td>null</td><td>null</td><td>null</td><td>null</td><td>null</td><td>&quot;&#x27;Lagová, M. Me…</td><td>null</td><td>null</td><td>null</td><td>&quot;N&quot;</td><td>6</td><td>&quot;HOD/SEM&quot;</td><td>6</td><td>&quot;HOD/SEM&quot;</td><td>2</td><td>&quot;HOD/SEM&quot;</td><td>&quot;Kurz je zaměře…</td><td>&quot;Zkouška&quot;</td><td>&quot;ANO&quot;</td><td>&quot;Kombinovaná&quot;</td><td>&quot;Podmínkou získ…</td><td>&quot;1. Úlohy lineá…</td><td>null</td><td>null</td><td>null</td><td>null</td><td>&quot;Čeština&quot;</td><td>null</td><td>&quot;A&quot;</td><td>&quot;N&quot;</td><td>&quot;N&quot;</td><td>null</td><td>null</td><td>null</td><td>&quot;N&quot;</td><td>&quot;A&quot;</td><td>null</td><td>0</td><td>null</td><td>&quot;Bc.&quot;</td><td>&quot;A&quot;</td><td>0</td><td>null</td><td>null</td><td>null</td></tr><tr><td>&quot;KI&quot;</td><td>&quot;KPAU&quot;</td><td>2022</td><td>&quot;Programovateln…</td><td>&quot;Programovateln…</td><td>&quot;A&quot;</td><td>&quot;N&quot;</td><td>4</td><td>&quot;NE&quot;</td><td>null</td><td>&quot;&#x27;Ing. Petr Hab…</td><td>&quot;&#x27;Ing. Petr Hab…</td><td>&quot;1780&quot;</td><td>null</td><td>null</td><td>null</td><td>null</td><td>null</td><td>null</td><td>null</td><td>null</td><td>null</td><td>null</td><td>null</td><td>null</td><td>null</td><td>null</td><td>null</td><td>&quot;KI/KSCAD&quot;</td><td>&quot;&#x27;Šmejkal, L., …</td><td>null</td><td>null</td><td>null</td><td>&quot;A&quot;</td><td>4</td><td>&quot;HOD/SEM&quot;</td><td>6</td><td>&quot;HOD/SEM&quot;</td><td>2</td><td>&quot;HOD/SEM&quot;</td><td>&quot;Cílem předmětu…</td><td>&quot;Zkouška&quot;</td><td>&quot;ANO&quot;</td><td>&quot;Kombinovaná&quot;</td><td>&quot;Zápočet: semes…</td><td>&quot;1. Úvod do pro…</td><td>null</td><td>null</td><td>null</td><td>null</td><td>&quot;Čeština&quot;</td><td>null</td><td>&quot;A&quot;</td><td>&quot;N&quot;</td><td>&quot;N&quot;</td><td>null</td><td>null</td><td>null</td><td>&quot;N&quot;</td><td>&quot;A&quot;</td><td>null</td><td>0</td><td>null</td><td>&quot;Bc.&quot;</td><td>&quot;A&quot;</td><td>0</td><td>null</td><td>null</td><td>null</td></tr><tr><td>&quot;KI&quot;</td><td>&quot;KUSU&quot;</td><td>2022</td><td>&quot;Úvod do strojo…</td><td>&quot;Úvod do strojo…</td><td>&quot;N&quot;</td><td>&quot;A&quot;</td><td>4</td><td>&quot;NE&quot;</td><td>null</td><td>&quot;&#x27;RNDr. Petr Ku…</td><td>&quot;&#x27;RNDr. Petr Ku…</td><td>&quot;650&quot;</td><td>null</td><td>null</td><td>null</td><td>null</td><td>null</td><td>null</td><td>null</td><td>null</td><td>null</td><td>null</td><td>null</td><td>null</td><td>null</td><td>&quot;KI/KAPR1, KI/K…</td><td>null</td><td>null</td><td>&quot;&#x27;Chollet, F. D…</td><td>null</td><td>null</td><td>null</td><td>&quot;A&quot;</td><td>4</td><td>&quot;HOD/SEM&quot;</td><td>6</td><td>&quot;HOD/SEM&quot;</td><td>2</td><td>&quot;HOD/SEM&quot;</td><td>&quot;Předmět Úvod d…</td><td>&quot;Zkouška&quot;</td><td>&quot;ANO&quot;</td><td>&quot;Kombinovaná&quot;</td><td>&quot;Zápočet: vypra…</td><td>&quot;1. Rozdělení ú…</td><td>null</td><td>null</td><td>null</td><td>null</td><td>&quot;Čeština&quot;</td><td>null</td><td>&quot;A&quot;</td><td>&quot;N&quot;</td><td>&quot;N&quot;</td><td>null</td><td>null</td><td>null</td><td>&quot;N&quot;</td><td>&quot;A&quot;</td><td>null</td><td>0</td><td>null</td><td>&quot;Bc.&quot;</td><td>&quot;A&quot;</td><td>0</td><td>null</td><td>null</td><td>null</td></tr></tbody></table></div>"
      ],
      "text/plain": [
       "shape: (5, 69)\n",
       "┌─────────┬─────────┬──────┬──────────────────────────┬───┬───────────────────┬──────┬──────┬──────┐\n",
       "│ katedra ┆ zkratka ┆ rok  ┆ nazev                    ┆ … ┆ hodZaSemKombForma ┆ aMax ┆ bMax ┆ cMax │\n",
       "│ ---     ┆ ---     ┆ ---  ┆ ---                      ┆   ┆ ---               ┆ ---  ┆ ---  ┆ ---  │\n",
       "│ str     ┆ str     ┆ i64  ┆ str                      ┆   ┆ i64               ┆ str  ┆ str  ┆ i64  │\n",
       "╞═════════╪═════════╪══════╪══════════════════════════╪═══╪═══════════════════╪══════╪══════╪══════╡\n",
       "│ KI      ┆ KDIS    ┆ 2022 ┆ Dependabilita            ┆ … ┆ null              ┆ null ┆ null ┆ null │\n",
       "│         ┆         ┆      ┆ informačních systé…      ┆   ┆                   ┆      ┆      ┆      │\n",
       "│ KI      ┆ KNSQL   ┆ 2022 ┆ NoSQL databázové systémy ┆ … ┆ 0                 ┆ null ┆ null ┆ null │\n",
       "│ KI      ┆ KOPR    ┆ 2022 ┆ Optimální rozhodování    ┆ … ┆ 0                 ┆ null ┆ null ┆ null │\n",
       "│ KI      ┆ KPAU    ┆ 2022 ┆ Programovatelné automaty ┆ … ┆ 0                 ┆ null ┆ null ┆ null │\n",
       "│ KI      ┆ KUSU    ┆ 2022 ┆ Úvod do strojového učení ┆ … ┆ 0                 ┆ null ┆ null ┆ null │\n",
       "└─────────┴─────────┴──────┴──────────────────────────┴───┴───────────────────┴──────┴──────┴──────┘"
      ]
     },
     "execution_count": 149,
     "metadata": {},
     "output_type": "execute_result"
    }
   ],
   "source": [
    "ma_prednasku = jednotek_prednasek != 0\n",
    "nema_prednasejiciho = prednasejici.is_null()\n",
    "\n",
    "chybi_prednasejici = predmety_s_akci.filter(ma_prednasku & nema_prednasejiciho)\n",
    "chybi_prednasejici.write_excel(\"results/chybi_prednasejici.xlsx\")\n",
    "chybi_prednasejici.head()"
   ]
  },
  {
   "cell_type": "code",
   "execution_count": 150,
   "metadata": {},
   "outputs": [
    {
     "data": {
      "text/html": [
       "<div><style>\n",
       ".dataframe > thead > tr > th,\n",
       ".dataframe > tbody > tr > td {\n",
       "  text-align: right;\n",
       "}\n",
       "</style>\n",
       "<small>shape: (5, 69)</small><table border=\"1\" class=\"dataframe\"><thead><tr><th>katedra</th><th>zkratka</th><th>rok</th><th>nazev</th><th>nazevDlouhy</th><th>vyukaZS</th><th>vyukaLS</th><th>kreditu</th><th>viceZapis</th><th>minObsazeni</th><th>garanti</th><th>garantiSPodily</th><th>garantiUcitIdno</th><th>prednasejici</th><th>prednasejiciSPodily</th><th>prednasejiciUcitIdno</th><th>cvicici</th><th>cviciciSPodily</th><th>cviciciUcitIdno</th><th>seminarici</th><th>seminariciSPodily</th><th>seminariciUcitIdno</th><th>schvalujiciUznani</th><th>schvalujiciUznaniUcitIdno</th><th>examinatori</th><th>examinatoriUcitIdno</th><th>podminujiciPredmety</th><th>vylucujiciPredmety</th><th>podminujePredmety</th><th>literatura</th><th>nahrazPredmety</th><th>metodyVyucovaci</th><th>metodyHodnotici</th><th>akreditovan</th><th>jednotekPrednasek</th><th>jednotkaPrednasky</th><th>jednotekCviceni</th><th>jednotkaCviceni</th><th>jednotekSeminare</th><th>jednotkaSeminare</th><th>anotace</th><th>typZkousky</th><th>maZapocetPredZk</th><th>formaZkousky</th><th>pozadavky</th><th>prehledLatky</th><th>predpoklady</th><th>ziskaneZpusobilosti</th><th>casovaNarocnost</th><th>predmetUrl</th><th>vyucovaciJazyky</th><th>poznamka</th><th>ectsZobrazit</th><th>ectsAkreditace</th><th>ectsNabizetUPrijezdu</th><th>poznamkaVerejna</th><th>skupinaAkreditace</th><th>skupinaAkreditaceKey</th><th>zarazenDoPrezencnihoStudia</th><th>zarazenDoKombinovanehoStudia</th><th>studijniOpory</th><th>praxePocetDnu</th><th>urovenNastavena</th><th>urovenVypoctena</th><th>automatickyUznavatZppZk</th><th>hodZaSemKombForma</th><th>aMax</th><th>bMax</th><th>cMax</th></tr><tr><td>str</td><td>str</td><td>i64</td><td>str</td><td>str</td><td>str</td><td>str</td><td>i64</td><td>str</td><td>str</td><td>str</td><td>str</td><td>str</td><td>str</td><td>str</td><td>str</td><td>str</td><td>str</td><td>str</td><td>str</td><td>str</td><td>str</td><td>str</td><td>str</td><td>str</td><td>str</td><td>str</td><td>str</td><td>str</td><td>str</td><td>str</td><td>str</td><td>str</td><td>str</td><td>i64</td><td>str</td><td>i64</td><td>str</td><td>i64</td><td>str</td><td>str</td><td>str</td><td>str</td><td>str</td><td>str</td><td>str</td><td>str</td><td>str</td><td>str</td><td>str</td><td>str</td><td>str</td><td>str</td><td>str</td><td>str</td><td>str</td><td>str</td><td>str</td><td>str</td><td>str</td><td>str</td><td>i64</td><td>str</td><td>str</td><td>str</td><td>i64</td><td>str</td><td>str</td><td>i64</td></tr></thead><tbody><tr><td>&quot;KI&quot;</td><td>&quot;0199&quot;</td><td>2022</td><td>&quot;CCNP 3 - Tshoo…</td><td>&quot;CCNP 3 - Tshoo…</td><td>&quot;A&quot;</td><td>&quot;A&quot;</td><td>2</td><td>&quot;NE&quot;</td><td>null</td><td>null</td><td>null</td><td>null</td><td>null</td><td>null</td><td>null</td><td>null</td><td>null</td><td>null</td><td>null</td><td>null</td><td>null</td><td>null</td><td>null</td><td>null</td><td>null</td><td>null</td><td>null</td><td>null</td><td>null</td><td>null</td><td>null</td><td>null</td><td>&quot;N&quot;</td><td>0</td><td>&quot;HOD/TYD&quot;</td><td>2</td><td>&quot;HOD/TYD&quot;</td><td>0</td><td>&quot;HOD/TYD&quot;</td><td>&quot;Cílem předmětu…</td><td>&quot;Zápočet&quot;</td><td>&quot;NE&quot;</td><td>&quot;Kombinovaná&quot;</td><td>&quot;Splnění odpoví…</td><td>&quot;Network Princi…</td><td>null</td><td>null</td><td>null</td><td>null</td><td>&quot;Čeština, Angli…</td><td>null</td><td>&quot;N&quot;</td><td>&quot;N&quot;</td><td>&quot;N&quot;</td><td>null</td><td>null</td><td>null</td><td>&quot;A&quot;</td><td>&quot;A&quot;</td><td>null</td><td>0</td><td>null</td><td>&quot;Bc.&quot;</td><td>&quot;A&quot;</td><td>0</td><td>null</td><td>null</td><td>null</td></tr><tr><td>&quot;KI&quot;</td><td>&quot;DIS&quot;</td><td>2022</td><td>&quot;Dependabilita …</td><td>&quot;Dependabilita …</td><td>&quot;A&quot;</td><td>&quot;A&quot;</td><td>4</td><td>&quot;NE&quot;</td><td>null</td><td>&quot;&#x27;doc. RNDr. Vi…</td><td>&quot;&#x27;doc. RNDr. Vi…</td><td>&quot;2239&quot;</td><td>&quot;&#x27;doc. RNDr. Vi…</td><td>&quot;&#x27;doc. RNDr. Vi…</td><td>&quot;2239&quot;</td><td>null</td><td>null</td><td>null</td><td>null</td><td>null</td><td>null</td><td>null</td><td>null</td><td>null</td><td>null</td><td>&quot;KI/APR1&quot;</td><td>null</td><td>null</td><td>&quot;&#x27;Laprie, J.C.,…</td><td>null</td><td>null</td><td>null</td><td>&quot;N&quot;</td><td>2</td><td>&quot;HOD/TYD&quot;</td><td>1</td><td>&quot;HOD/TYD&quot;</td><td>0</td><td>&quot;HOD/TYD&quot;</td><td>&quot;Kurz uvádí do …</td><td>&quot;Zkouška&quot;</td><td>&quot;ANO&quot;</td><td>&quot;Kombinovaná&quot;</td><td>&quot;Zápočet: semin…</td><td>&quot;1. Úvod do pro…</td><td>&quot;Výuka v anglič…</td><td>null</td><td>null</td><td>null</td><td>&quot;Čeština, Angli…</td><td>&quot;Výuka v anglic…</td><td>&quot;A&quot;</td><td>&quot;N&quot;</td><td>&quot;N&quot;</td><td>null</td><td>null</td><td>null</td><td>&quot;A&quot;</td><td>&quot;N&quot;</td><td>null</td><td>0</td><td>&quot;Bc.&quot;</td><td>&quot;Bc.&quot;</td><td>&quot;A&quot;</td><td>null</td><td>null</td><td>null</td><td>null</td></tr><tr><td>&quot;KI&quot;</td><td>&quot;KDIS&quot;</td><td>2022</td><td>&quot;Dependabilita …</td><td>&quot;Dependabilita …</td><td>&quot;A&quot;</td><td>&quot;A&quot;</td><td>4</td><td>&quot;NE&quot;</td><td>null</td><td>&quot;&#x27;doc. RNDr. Vi…</td><td>&quot;&#x27;doc. RNDr. Vi…</td><td>&quot;2239&quot;</td><td>null</td><td>null</td><td>null</td><td>null</td><td>null</td><td>null</td><td>null</td><td>null</td><td>null</td><td>null</td><td>null</td><td>null</td><td>null</td><td>&quot;KI/KAPR1&quot;</td><td>null</td><td>null</td><td>&quot;&#x27;Laprie, J.C.,…</td><td>null</td><td>null</td><td>null</td><td>&quot;N&quot;</td><td>6</td><td>&quot;HOD/SEM&quot;</td><td>4</td><td>&quot;HOD/SEM&quot;</td><td>2</td><td>&quot;HOD/SEM&quot;</td><td>&quot;Kurz uvádí do …</td><td>&quot;Zkouška&quot;</td><td>&quot;ANO&quot;</td><td>&quot;Kombinovaná&quot;</td><td>&quot;Zápočet: semin…</td><td>&quot;1. Úvod do pro…</td><td>null</td><td>null</td><td>null</td><td>null</td><td>&quot;Čeština, Angli…</td><td>&quot;Výuka v anglic…</td><td>&quot;A&quot;</td><td>&quot;N&quot;</td><td>&quot;N&quot;</td><td>null</td><td>null</td><td>null</td><td>&quot;N&quot;</td><td>&quot;A&quot;</td><td>null</td><td>0</td><td>&quot;Bc.&quot;</td><td>&quot;Bc.&quot;</td><td>&quot;A&quot;</td><td>null</td><td>null</td><td>null</td><td>null</td></tr><tr><td>&quot;KI&quot;</td><td>&quot;KNSQL&quot;</td><td>2022</td><td>&quot;NoSQL databázo…</td><td>&quot;NoSQL databázo…</td><td>&quot;A&quot;</td><td>&quot;N&quot;</td><td>2</td><td>&quot;NE&quot;</td><td>null</td><td>&quot;&#x27;Mgr. Jiří Fiš…</td><td>&quot;&#x27;Mgr. Jiří Fiš…</td><td>&quot;251&quot;</td><td>null</td><td>null</td><td>null</td><td>null</td><td>null</td><td>null</td><td>null</td><td>null</td><td>null</td><td>null</td><td>null</td><td>null</td><td>null</td><td>&quot;KI/KDSY, KI/KU…</td><td>null</td><td>null</td><td>&quot;&#x27;Holubová, I.,…</td><td>null</td><td>null</td><td>null</td><td>&quot;N&quot;</td><td>2</td><td>&quot;HOD/SEM&quot;</td><td>4</td><td>&quot;HOD/SEM&quot;</td><td>2</td><td>&quot;HOD/SEM&quot;</td><td>&quot;Kurz je zaměře…</td><td>&quot;Zápočet&quot;</td><td>&quot;NE&quot;</td><td>&quot;Kombinovaná&quot;</td><td>&quot;Podmínkou získ…</td><td>&quot;1. Vymezení a …</td><td>null</td><td>null</td><td>null</td><td>null</td><td>&quot;Čeština&quot;</td><td>null</td><td>&quot;A&quot;</td><td>&quot;N&quot;</td><td>&quot;N&quot;</td><td>null</td><td>null</td><td>null</td><td>&quot;N&quot;</td><td>&quot;A&quot;</td><td>null</td><td>0</td><td>null</td><td>&quot;Bc.&quot;</td><td>&quot;A&quot;</td><td>0</td><td>null</td><td>null</td><td>null</td></tr><tr><td>&quot;KI&quot;</td><td>&quot;KOPR&quot;</td><td>2022</td><td>&quot;Optimální rozh…</td><td>&quot;Optimální rozh…</td><td>&quot;A&quot;</td><td>&quot;A&quot;</td><td>5</td><td>&quot;NE&quot;</td><td>null</td><td>&quot;&#x27;RNDr. Petr Ku…</td><td>&quot;&#x27;RNDr. Petr Ku…</td><td>&quot;650&quot;</td><td>null</td><td>null</td><td>null</td><td>null</td><td>null</td><td>null</td><td>null</td><td>null</td><td>null</td><td>null</td><td>null</td><td>null</td><td>null</td><td>null</td><td>null</td><td>null</td><td>&quot;&#x27;Lagová, M. Me…</td><td>null</td><td>null</td><td>null</td><td>&quot;N&quot;</td><td>6</td><td>&quot;HOD/SEM&quot;</td><td>6</td><td>&quot;HOD/SEM&quot;</td><td>2</td><td>&quot;HOD/SEM&quot;</td><td>&quot;Kurz je zaměře…</td><td>&quot;Zkouška&quot;</td><td>&quot;ANO&quot;</td><td>&quot;Kombinovaná&quot;</td><td>&quot;Podmínkou získ…</td><td>&quot;1. Úlohy lineá…</td><td>null</td><td>null</td><td>null</td><td>null</td><td>&quot;Čeština&quot;</td><td>null</td><td>&quot;A&quot;</td><td>&quot;N&quot;</td><td>&quot;N&quot;</td><td>null</td><td>null</td><td>null</td><td>&quot;N&quot;</td><td>&quot;A&quot;</td><td>null</td><td>0</td><td>null</td><td>&quot;Bc.&quot;</td><td>&quot;A&quot;</td><td>0</td><td>null</td><td>null</td><td>null</td></tr></tbody></table></div>"
      ],
      "text/plain": [
       "shape: (5, 69)\n",
       "┌─────────┬─────────┬──────┬──────────────────────────┬───┬───────────────────┬──────┬──────┬──────┐\n",
       "│ katedra ┆ zkratka ┆ rok  ┆ nazev                    ┆ … ┆ hodZaSemKombForma ┆ aMax ┆ bMax ┆ cMax │\n",
       "│ ---     ┆ ---     ┆ ---  ┆ ---                      ┆   ┆ ---               ┆ ---  ┆ ---  ┆ ---  │\n",
       "│ str     ┆ str     ┆ i64  ┆ str                      ┆   ┆ i64               ┆ str  ┆ str  ┆ i64  │\n",
       "╞═════════╪═════════╪══════╪══════════════════════════╪═══╪═══════════════════╪══════╪══════╪══════╡\n",
       "│ KI      ┆ 0199    ┆ 2022 ┆ CCNP 3 - Tshoot          ┆ … ┆ 0                 ┆ null ┆ null ┆ null │\n",
       "│ KI      ┆ DIS     ┆ 2022 ┆ Dependabilita            ┆ … ┆ null              ┆ null ┆ null ┆ null │\n",
       "│         ┆         ┆      ┆ informačních systé…      ┆   ┆                   ┆      ┆      ┆      │\n",
       "│ KI      ┆ KDIS    ┆ 2022 ┆ Dependabilita            ┆ … ┆ null              ┆ null ┆ null ┆ null │\n",
       "│         ┆         ┆      ┆ informačních systé…      ┆   ┆                   ┆      ┆      ┆      │\n",
       "│ KI      ┆ KNSQL   ┆ 2022 ┆ NoSQL databázové systémy ┆ … ┆ 0                 ┆ null ┆ null ┆ null │\n",
       "│ KI      ┆ KOPR    ┆ 2022 ┆ Optimální rozhodování    ┆ … ┆ 0                 ┆ null ┆ null ┆ null │\n",
       "└─────────┴─────────┴──────┴──────────────────────────┴───┴───────────────────┴──────┴──────┴──────┘"
      ]
     },
     "execution_count": 150,
     "metadata": {},
     "output_type": "execute_result"
    }
   ],
   "source": [
    "ma_cviceni = jednotek_cviceni != 0\n",
    "nema_cviciciho = cvicici.is_null()\n",
    "\n",
    "chybi_cvicici = predmety_s_akci.filter(ma_cviceni & nema_cviciciho)\n",
    "chybi_cvicici.write_excel(\"results/chybi_cvicici.xlsx\")\n",
    "chybi_cvicici.head()"
   ]
  },
  {
   "cell_type": "code",
   "execution_count": 151,
   "metadata": {},
   "outputs": [
    {
     "data": {
      "text/html": [
       "<div><style>\n",
       ".dataframe > thead > tr > th,\n",
       ".dataframe > tbody > tr > td {\n",
       "  text-align: right;\n",
       "}\n",
       "</style>\n",
       "<small>shape: (5, 69)</small><table border=\"1\" class=\"dataframe\"><thead><tr><th>katedra</th><th>zkratka</th><th>rok</th><th>nazev</th><th>nazevDlouhy</th><th>vyukaZS</th><th>vyukaLS</th><th>kreditu</th><th>viceZapis</th><th>minObsazeni</th><th>garanti</th><th>garantiSPodily</th><th>garantiUcitIdno</th><th>prednasejici</th><th>prednasejiciSPodily</th><th>prednasejiciUcitIdno</th><th>cvicici</th><th>cviciciSPodily</th><th>cviciciUcitIdno</th><th>seminarici</th><th>seminariciSPodily</th><th>seminariciUcitIdno</th><th>schvalujiciUznani</th><th>schvalujiciUznaniUcitIdno</th><th>examinatori</th><th>examinatoriUcitIdno</th><th>podminujiciPredmety</th><th>vylucujiciPredmety</th><th>podminujePredmety</th><th>literatura</th><th>nahrazPredmety</th><th>metodyVyucovaci</th><th>metodyHodnotici</th><th>akreditovan</th><th>jednotekPrednasek</th><th>jednotkaPrednasky</th><th>jednotekCviceni</th><th>jednotkaCviceni</th><th>jednotekSeminare</th><th>jednotkaSeminare</th><th>anotace</th><th>typZkousky</th><th>maZapocetPredZk</th><th>formaZkousky</th><th>pozadavky</th><th>prehledLatky</th><th>predpoklady</th><th>ziskaneZpusobilosti</th><th>casovaNarocnost</th><th>predmetUrl</th><th>vyucovaciJazyky</th><th>poznamka</th><th>ectsZobrazit</th><th>ectsAkreditace</th><th>ectsNabizetUPrijezdu</th><th>poznamkaVerejna</th><th>skupinaAkreditace</th><th>skupinaAkreditaceKey</th><th>zarazenDoPrezencnihoStudia</th><th>zarazenDoKombinovanehoStudia</th><th>studijniOpory</th><th>praxePocetDnu</th><th>urovenNastavena</th><th>urovenVypoctena</th><th>automatickyUznavatZppZk</th><th>hodZaSemKombForma</th><th>aMax</th><th>bMax</th><th>cMax</th></tr><tr><td>str</td><td>str</td><td>i64</td><td>str</td><td>str</td><td>str</td><td>str</td><td>i64</td><td>str</td><td>str</td><td>str</td><td>str</td><td>str</td><td>str</td><td>str</td><td>str</td><td>str</td><td>str</td><td>str</td><td>str</td><td>str</td><td>str</td><td>str</td><td>str</td><td>str</td><td>str</td><td>str</td><td>str</td><td>str</td><td>str</td><td>str</td><td>str</td><td>str</td><td>str</td><td>i64</td><td>str</td><td>i64</td><td>str</td><td>i64</td><td>str</td><td>str</td><td>str</td><td>str</td><td>str</td><td>str</td><td>str</td><td>str</td><td>str</td><td>str</td><td>str</td><td>str</td><td>str</td><td>str</td><td>str</td><td>str</td><td>str</td><td>str</td><td>str</td><td>str</td><td>str</td><td>str</td><td>i64</td><td>str</td><td>str</td><td>str</td><td>i64</td><td>str</td><td>str</td><td>i64</td></tr></thead><tbody><tr><td>&quot;KI&quot;</td><td>&quot;KAFJ&quot;</td><td>2022</td><td>&quot;Teorie automat…</td><td>&quot;Teorie automat…</td><td>&quot;A&quot;</td><td>&quot;N&quot;</td><td>5</td><td>&quot;NE&quot;</td><td>null</td><td>&quot;&#x27;doc. Ing. Mgr…</td><td>&quot;&#x27;doc. Ing. Mgr…</td><td>&quot;449, 2240&quot;</td><td>&quot;&#x27;doc. Ing. Mgr…</td><td>&quot;&#x27;doc. Ing. Mgr…</td><td>&quot;449, 2240&quot;</td><td>&quot;&#x27;doc. Ing. Mgr…</td><td>&quot;&#x27;doc. Ing. Mgr…</td><td>&quot;449&quot;</td><td>null</td><td>null</td><td>null</td><td>null</td><td>null</td><td>null</td><td>null</td><td>null</td><td>null</td><td>null</td><td>&quot;&#x27;Chytil M. Aut…</td><td>null</td><td>null</td><td>null</td><td>&quot;N&quot;</td><td>6</td><td>&quot;HOD/SEM&quot;</td><td>6</td><td>&quot;HOD/SEM&quot;</td><td>2</td><td>&quot;HOD/SEM&quot;</td><td>&quot;V tomto kurzu …</td><td>&quot;Zkouška&quot;</td><td>&quot;ANO&quot;</td><td>&quot;Kombinovaná&quot;</td><td>&quot;Požadavky pro …</td><td>&quot;1.\tZákladní ma…</td><td>null</td><td>null</td><td>null</td><td>null</td><td>&quot;Čeština&quot;</td><td>null</td><td>&quot;A&quot;</td><td>&quot;N&quot;</td><td>&quot;N&quot;</td><td>null</td><td>null</td><td>null</td><td>&quot;N&quot;</td><td>&quot;A&quot;</td><td>null</td><td>0</td><td>null</td><td>&quot;Bc.&quot;</td><td>&quot;A&quot;</td><td>null</td><td>null</td><td>null</td><td>0</td></tr><tr><td>&quot;KI&quot;</td><td>&quot;KANE&quot;</td><td>2022</td><td>&quot;Analogová elek…</td><td>&quot;Analogová elek…</td><td>&quot;A&quot;</td><td>&quot;N&quot;</td><td>2</td><td>&quot;NE&quot;</td><td>null</td><td>&quot;&#x27;doc. RNDr. Fr…</td><td>&quot;&#x27;doc. RNDr. Fr…</td><td>&quot;5232&quot;</td><td>&quot;&#x27;doc. RNDr. Fr…</td><td>&quot;&#x27;doc. RNDr. Fr…</td><td>&quot;5232&quot;</td><td>&quot;&#x27;doc. RNDr. Fr…</td><td>&quot;&#x27;doc. RNDr. Fr…</td><td>&quot;5232&quot;</td><td>null</td><td>null</td><td>null</td><td>null</td><td>null</td><td>null</td><td>null</td><td>&quot;KI/KZEL&quot;</td><td>null</td><td>null</td><td>&quot;&#x27;Tichý, M. Ele…</td><td>null</td><td>null</td><td>null</td><td>&quot;N&quot;</td><td>2</td><td>&quot;HOD/SEM&quot;</td><td>4</td><td>&quot;HOD/SEM&quot;</td><td>2</td><td>&quot;HOD/SEM&quot;</td><td>&quot;Kurz je zaměře…</td><td>&quot;Zápočet&quot;</td><td>&quot;NE&quot;</td><td>&quot;Kombinovaná&quot;</td><td>&quot;Ústní obhajoba…</td><td>&quot;1. Pasivní ele…</td><td>null</td><td>null</td><td>null</td><td>null</td><td>&quot;Čeština&quot;</td><td>null</td><td>&quot;A&quot;</td><td>&quot;N&quot;</td><td>&quot;N&quot;</td><td>null</td><td>null</td><td>null</td><td>&quot;N&quot;</td><td>&quot;A&quot;</td><td>null</td><td>0</td><td>null</td><td>&quot;Bc.&quot;</td><td>&quot;A&quot;</td><td>0</td><td>null</td><td>null</td><td>null</td></tr><tr><td>&quot;KI&quot;</td><td>&quot;KAPR1&quot;</td><td>2022</td><td>&quot;Algoritmizace …</td><td>&quot;Algoritmizace …</td><td>&quot;A&quot;</td><td>&quot;N&quot;</td><td>4</td><td>&quot;NE&quot;</td><td>null</td><td>&quot;&#x27;Mgr. Jiří Fiš…</td><td>&quot;&#x27;Mgr. Jiří Fiš…</td><td>&quot;251&quot;</td><td>&quot;&#x27;Mgr. Jiří Fiš…</td><td>&quot;&#x27;Mgr. Jiří Fiš…</td><td>&quot;251&quot;</td><td>&quot;&#x27;Ing. Mgr. Pav…</td><td>&quot;&#x27;Ing. Mgr. Pav…</td><td>&quot;6973, 650, 835…</td><td>null</td><td>null</td><td>null</td><td>null</td><td>null</td><td>null</td><td>null</td><td>null</td><td>null</td><td>&quot;KI/KAPR2, KI/K…</td><td>&quot;&#x27;https://githu…</td><td>null</td><td>null</td><td>null</td><td>&quot;N&quot;</td><td>6</td><td>&quot;HOD/SEM&quot;</td><td>6</td><td>&quot;HOD/SEM&quot;</td><td>2</td><td>&quot;HOD/SEM&quot;</td><td>&quot;Úvodní kurz al…</td><td>&quot;Zápočet&quot;</td><td>&quot;NE&quot;</td><td>&quot;Kombinovaná&quot;</td><td>&quot;Podmínkou získ…</td><td>&quot;1.\tZákladní te…</td><td>null</td><td>null</td><td>null</td><td>null</td><td>&quot;Čeština&quot;</td><td>null</td><td>&quot;A&quot;</td><td>&quot;N&quot;</td><td>&quot;N&quot;</td><td>null</td><td>null</td><td>null</td><td>&quot;N&quot;</td><td>&quot;A&quot;</td><td>null</td><td>0</td><td>null</td><td>&quot;Bc.&quot;</td><td>&quot;A&quot;</td><td>0</td><td>null</td><td>null</td><td>null</td></tr><tr><td>&quot;KI&quot;</td><td>&quot;KAPR2&quot;</td><td>2022</td><td>&quot;Algoritmizace …</td><td>&quot;Algoritmizace …</td><td>&quot;N&quot;</td><td>&quot;A&quot;</td><td>5</td><td>&quot;NE&quot;</td><td>null</td><td>&quot;&#x27;Mgr. Jiří Fiš…</td><td>&quot;&#x27;Mgr. Jiří Fiš…</td><td>&quot;251&quot;</td><td>&quot;&#x27;Mgr. Jiří Fiš…</td><td>&quot;&#x27;Mgr. Jiří Fiš…</td><td>&quot;251&quot;</td><td>&quot;&#x27;RNDr. Petr Ku…</td><td>&quot;&#x27;RNDr. Petr Ku…</td><td>&quot;650, 835, 6259…</td><td>null</td><td>null</td><td>null</td><td>null</td><td>null</td><td>null</td><td>null</td><td>&quot;KI/KAPR1&quot;</td><td>null</td><td>&quot;KI/KGUI, KI/KP…</td><td>&quot;&#x27;https://githu…</td><td>null</td><td>null</td><td>null</td><td>&quot;N&quot;</td><td>6</td><td>&quot;HOD/SEM&quot;</td><td>6</td><td>&quot;HOD/SEM&quot;</td><td>2</td><td>&quot;HOD/SEM&quot;</td><td>&quot;Druhá část úvo…</td><td>&quot;Zkouška&quot;</td><td>&quot;ANO&quot;</td><td>&quot;Kombinovaná&quot;</td><td>&quot;Podmínkou získ…</td><td>&quot;1. Implementac…</td><td>null</td><td>null</td><td>null</td><td>null</td><td>&quot;Čeština&quot;</td><td>null</td><td>&quot;A&quot;</td><td>&quot;N&quot;</td><td>&quot;N&quot;</td><td>null</td><td>null</td><td>null</td><td>&quot;N&quot;</td><td>&quot;A&quot;</td><td>null</td><td>0</td><td>null</td><td>&quot;Bc.&quot;</td><td>&quot;A&quot;</td><td>0</td><td>null</td><td>null</td><td>null</td></tr><tr><td>&quot;KI&quot;</td><td>&quot;KBIG&quot;</td><td>2022</td><td>&quot;Datová úložišt…</td><td>&quot;Datová úložišt…</td><td>&quot;A&quot;</td><td>&quot;N&quot;</td><td>5</td><td>&quot;NE&quot;</td><td>null</td><td>&quot;&#x27;Mgr. Jiří Fiš…</td><td>&quot;&#x27;Mgr. Jiří Fiš…</td><td>&quot;251&quot;</td><td>&quot;&#x27;Mgr. Jiří Fiš…</td><td>&quot;&#x27;Mgr. Jiří Fiš…</td><td>&quot;251, 650, 4195…</td><td>&quot;&#x27;Mgr. Jiří Fiš…</td><td>&quot;&#x27;Mgr. Jiří Fiš…</td><td>&quot;251, 650&quot;</td><td>null</td><td>null</td><td>null</td><td>null</td><td>null</td><td>null</td><td>null</td><td>null</td><td>null</td><td>null</td><td>null</td><td>null</td><td>null</td><td>null</td><td>&quot;N&quot;</td><td>4</td><td>&quot;HOD/SEM&quot;</td><td>8</td><td>&quot;HOD/SEM&quot;</td><td>2</td><td>&quot;HOD/SEM&quot;</td><td>&quot;Předmět je zam…</td><td>&quot;Zkouška&quot;</td><td>&quot;ANO&quot;</td><td>&quot;Kombinovaná&quot;</td><td>&quot;Zápočet: vypra…</td><td>&quot;1. Principy vi…</td><td>null</td><td>null</td><td>null</td><td>null</td><td>&quot;Čeština&quot;</td><td>null</td><td>&quot;A&quot;</td><td>&quot;N&quot;</td><td>&quot;N&quot;</td><td>null</td><td>null</td><td>null</td><td>&quot;N&quot;</td><td>&quot;A&quot;</td><td>null</td><td>0</td><td>null</td><td>&quot;Mgr.&quot;</td><td>&quot;A&quot;</td><td>0</td><td>null</td><td>null</td><td>null</td></tr></tbody></table></div>"
      ],
      "text/plain": [
       "shape: (5, 69)\n",
       "┌─────────┬─────────┬──────┬───────────────────────┬───┬───────────────────┬──────┬──────┬──────┐\n",
       "│ katedra ┆ zkratka ┆ rok  ┆ nazev                 ┆ … ┆ hodZaSemKombForma ┆ aMax ┆ bMax ┆ cMax │\n",
       "│ ---     ┆ ---     ┆ ---  ┆ ---                   ┆   ┆ ---               ┆ ---  ┆ ---  ┆ ---  │\n",
       "│ str     ┆ str     ┆ i64  ┆ str                   ┆   ┆ i64               ┆ str  ┆ str  ┆ i64  │\n",
       "╞═════════╪═════════╪══════╪═══════════════════════╪═══╪═══════════════════╪══════╪══════╪══════╡\n",
       "│ KI      ┆ KAFJ    ┆ 2022 ┆ Teorie automatů a     ┆ … ┆ null              ┆ null ┆ null ┆ 0    │\n",
       "│         ┆         ┆      ┆ formálních jaz…       ┆   ┆                   ┆      ┆      ┆      │\n",
       "│ KI      ┆ KANE    ┆ 2022 ┆ Analogová elektronika ┆ … ┆ 0                 ┆ null ┆ null ┆ null │\n",
       "│ KI      ┆ KAPR1   ┆ 2022 ┆ Algoritmizace a       ┆ … ┆ 0                 ┆ null ┆ null ┆ null │\n",
       "│         ┆         ┆      ┆ programování I        ┆   ┆                   ┆      ┆      ┆      │\n",
       "│ KI      ┆ KAPR2   ┆ 2022 ┆ Algoritmizace a       ┆ … ┆ 0                 ┆ null ┆ null ┆ null │\n",
       "│         ┆         ┆      ┆ programování II       ┆   ┆                   ┆      ┆      ┆      │\n",
       "│ KI      ┆ KBIG    ┆ 2022 ┆ Datová úložiště       ┆ … ┆ 0                 ┆ null ┆ null ┆ null │\n",
       "│         ┆         ┆      ┆ a nástroje pro B…     ┆   ┆                   ┆      ┆      ┆      │\n",
       "└─────────┴─────────┴──────┴───────────────────────┴───┴───────────────────┴──────┴──────┴──────┘"
      ]
     },
     "execution_count": 151,
     "metadata": {},
     "output_type": "execute_result"
    }
   ],
   "source": [
    "ma_seminare = jednotek_seminare != 0\n",
    "nema_seminariciho = seminarici.is_null()\n",
    "\n",
    "chybi_seminarici = predmety_s_akci.filter(ma_seminare & nema_seminariciho)\n",
    "chybi_seminarici.write_excel(\"results/chybi_seminarici.xlsx\")\n",
    "chybi_seminarici.head()"
   ]
  },
  {
   "attachments": {},
   "cell_type": "markdown",
   "metadata": {},
   "source": [
    "> Zde jsou předměty, ve kterých učitel vede seminář:"
   ]
  },
  {
   "cell_type": "code",
   "execution_count": 152,
   "metadata": {},
   "outputs": [
    {
     "data": {
      "text/html": [
       "<div><style>\n",
       ".dataframe > thead > tr > th,\n",
       ".dataframe > tbody > tr > td {\n",
       "  text-align: right;\n",
       "}\n",
       "</style>\n",
       "<small>shape: (5, 69)</small><table border=\"1\" class=\"dataframe\"><thead><tr><th>katedra</th><th>zkratka</th><th>rok</th><th>nazev</th><th>nazevDlouhy</th><th>vyukaZS</th><th>vyukaLS</th><th>kreditu</th><th>viceZapis</th><th>minObsazeni</th><th>garanti</th><th>garantiSPodily</th><th>garantiUcitIdno</th><th>prednasejici</th><th>prednasejiciSPodily</th><th>prednasejiciUcitIdno</th><th>cvicici</th><th>cviciciSPodily</th><th>cviciciUcitIdno</th><th>seminarici</th><th>seminariciSPodily</th><th>seminariciUcitIdno</th><th>schvalujiciUznani</th><th>schvalujiciUznaniUcitIdno</th><th>examinatori</th><th>examinatoriUcitIdno</th><th>podminujiciPredmety</th><th>vylucujiciPredmety</th><th>podminujePredmety</th><th>literatura</th><th>nahrazPredmety</th><th>metodyVyucovaci</th><th>metodyHodnotici</th><th>akreditovan</th><th>jednotekPrednasek</th><th>jednotkaPrednasky</th><th>jednotekCviceni</th><th>jednotkaCviceni</th><th>jednotekSeminare</th><th>jednotkaSeminare</th><th>anotace</th><th>typZkousky</th><th>maZapocetPredZk</th><th>formaZkousky</th><th>pozadavky</th><th>prehledLatky</th><th>predpoklady</th><th>ziskaneZpusobilosti</th><th>casovaNarocnost</th><th>predmetUrl</th><th>vyucovaciJazyky</th><th>poznamka</th><th>ectsZobrazit</th><th>ectsAkreditace</th><th>ectsNabizetUPrijezdu</th><th>poznamkaVerejna</th><th>skupinaAkreditace</th><th>skupinaAkreditaceKey</th><th>zarazenDoPrezencnihoStudia</th><th>zarazenDoKombinovanehoStudia</th><th>studijniOpory</th><th>praxePocetDnu</th><th>urovenNastavena</th><th>urovenVypoctena</th><th>automatickyUznavatZppZk</th><th>hodZaSemKombForma</th><th>aMax</th><th>bMax</th><th>cMax</th></tr><tr><td>str</td><td>str</td><td>i64</td><td>str</td><td>str</td><td>str</td><td>str</td><td>i64</td><td>str</td><td>str</td><td>str</td><td>str</td><td>str</td><td>str</td><td>str</td><td>str</td><td>str</td><td>str</td><td>str</td><td>str</td><td>str</td><td>str</td><td>str</td><td>str</td><td>str</td><td>str</td><td>str</td><td>str</td><td>str</td><td>str</td><td>str</td><td>str</td><td>str</td><td>str</td><td>i64</td><td>str</td><td>i64</td><td>str</td><td>i64</td><td>str</td><td>str</td><td>str</td><td>str</td><td>str</td><td>str</td><td>str</td><td>str</td><td>str</td><td>str</td><td>str</td><td>str</td><td>str</td><td>str</td><td>str</td><td>str</td><td>str</td><td>str</td><td>str</td><td>str</td><td>str</td><td>str</td><td>i64</td><td>str</td><td>str</td><td>str</td><td>i64</td><td>str</td><td>str</td><td>i64</td></tr></thead><tbody><tr><td>&quot;KI&quot;</td><td>&quot;KDIS&quot;</td><td>2022</td><td>&quot;Dependabilita …</td><td>&quot;Dependabilita …</td><td>&quot;A&quot;</td><td>&quot;A&quot;</td><td>4</td><td>&quot;NE&quot;</td><td>null</td><td>&quot;&#x27;doc. RNDr. Vi…</td><td>&quot;&#x27;doc. RNDr. Vi…</td><td>&quot;2239&quot;</td><td>null</td><td>null</td><td>null</td><td>null</td><td>null</td><td>null</td><td>null</td><td>null</td><td>null</td><td>null</td><td>null</td><td>null</td><td>null</td><td>&quot;KI/KAPR1&quot;</td><td>null</td><td>null</td><td>&quot;&#x27;Laprie, J.C.,…</td><td>null</td><td>null</td><td>null</td><td>&quot;N&quot;</td><td>6</td><td>&quot;HOD/SEM&quot;</td><td>4</td><td>&quot;HOD/SEM&quot;</td><td>2</td><td>&quot;HOD/SEM&quot;</td><td>&quot;Kurz uvádí do …</td><td>&quot;Zkouška&quot;</td><td>&quot;ANO&quot;</td><td>&quot;Kombinovaná&quot;</td><td>&quot;Zápočet: semin…</td><td>&quot;1. Úvod do pro…</td><td>null</td><td>null</td><td>null</td><td>null</td><td>&quot;Čeština, Angli…</td><td>&quot;Výuka v anglic…</td><td>&quot;A&quot;</td><td>&quot;N&quot;</td><td>&quot;N&quot;</td><td>null</td><td>null</td><td>null</td><td>&quot;N&quot;</td><td>&quot;A&quot;</td><td>null</td><td>0</td><td>&quot;Bc.&quot;</td><td>&quot;Bc.&quot;</td><td>&quot;A&quot;</td><td>null</td><td>null</td><td>null</td><td>null</td></tr><tr><td>&quot;KI&quot;</td><td>&quot;KNSQL&quot;</td><td>2022</td><td>&quot;NoSQL databázo…</td><td>&quot;NoSQL databázo…</td><td>&quot;A&quot;</td><td>&quot;N&quot;</td><td>2</td><td>&quot;NE&quot;</td><td>null</td><td>&quot;&#x27;Mgr. Jiří Fiš…</td><td>&quot;&#x27;Mgr. Jiří Fiš…</td><td>&quot;251&quot;</td><td>null</td><td>null</td><td>null</td><td>null</td><td>null</td><td>null</td><td>null</td><td>null</td><td>null</td><td>null</td><td>null</td><td>null</td><td>null</td><td>&quot;KI/KDSY, KI/KU…</td><td>null</td><td>null</td><td>&quot;&#x27;Holubová, I.,…</td><td>null</td><td>null</td><td>null</td><td>&quot;N&quot;</td><td>2</td><td>&quot;HOD/SEM&quot;</td><td>4</td><td>&quot;HOD/SEM&quot;</td><td>2</td><td>&quot;HOD/SEM&quot;</td><td>&quot;Kurz je zaměře…</td><td>&quot;Zápočet&quot;</td><td>&quot;NE&quot;</td><td>&quot;Kombinovaná&quot;</td><td>&quot;Podmínkou získ…</td><td>&quot;1. Vymezení a …</td><td>null</td><td>null</td><td>null</td><td>null</td><td>&quot;Čeština&quot;</td><td>null</td><td>&quot;A&quot;</td><td>&quot;N&quot;</td><td>&quot;N&quot;</td><td>null</td><td>null</td><td>null</td><td>&quot;N&quot;</td><td>&quot;A&quot;</td><td>null</td><td>0</td><td>null</td><td>&quot;Bc.&quot;</td><td>&quot;A&quot;</td><td>0</td><td>null</td><td>null</td><td>null</td></tr><tr><td>&quot;KI&quot;</td><td>&quot;KOPR&quot;</td><td>2022</td><td>&quot;Optimální rozh…</td><td>&quot;Optimální rozh…</td><td>&quot;A&quot;</td><td>&quot;A&quot;</td><td>5</td><td>&quot;NE&quot;</td><td>null</td><td>&quot;&#x27;RNDr. Petr Ku…</td><td>&quot;&#x27;RNDr. Petr Ku…</td><td>&quot;650&quot;</td><td>null</td><td>null</td><td>null</td><td>null</td><td>null</td><td>null</td><td>null</td><td>null</td><td>null</td><td>null</td><td>null</td><td>null</td><td>null</td><td>null</td><td>null</td><td>null</td><td>&quot;&#x27;Lagová, M. Me…</td><td>null</td><td>null</td><td>null</td><td>&quot;N&quot;</td><td>6</td><td>&quot;HOD/SEM&quot;</td><td>6</td><td>&quot;HOD/SEM&quot;</td><td>2</td><td>&quot;HOD/SEM&quot;</td><td>&quot;Kurz je zaměře…</td><td>&quot;Zkouška&quot;</td><td>&quot;ANO&quot;</td><td>&quot;Kombinovaná&quot;</td><td>&quot;Podmínkou získ…</td><td>&quot;1. Úlohy lineá…</td><td>null</td><td>null</td><td>null</td><td>null</td><td>&quot;Čeština&quot;</td><td>null</td><td>&quot;A&quot;</td><td>&quot;N&quot;</td><td>&quot;N&quot;</td><td>null</td><td>null</td><td>null</td><td>&quot;N&quot;</td><td>&quot;A&quot;</td><td>null</td><td>0</td><td>null</td><td>&quot;Bc.&quot;</td><td>&quot;A&quot;</td><td>0</td><td>null</td><td>null</td><td>null</td></tr><tr><td>&quot;KI&quot;</td><td>&quot;KPAU&quot;</td><td>2022</td><td>&quot;Programovateln…</td><td>&quot;Programovateln…</td><td>&quot;A&quot;</td><td>&quot;N&quot;</td><td>4</td><td>&quot;NE&quot;</td><td>null</td><td>&quot;&#x27;Ing. Petr Hab…</td><td>&quot;&#x27;Ing. Petr Hab…</td><td>&quot;1780&quot;</td><td>null</td><td>null</td><td>null</td><td>null</td><td>null</td><td>null</td><td>null</td><td>null</td><td>null</td><td>null</td><td>null</td><td>null</td><td>null</td><td>null</td><td>null</td><td>&quot;KI/KSCAD&quot;</td><td>&quot;&#x27;Šmejkal, L., …</td><td>null</td><td>null</td><td>null</td><td>&quot;A&quot;</td><td>4</td><td>&quot;HOD/SEM&quot;</td><td>6</td><td>&quot;HOD/SEM&quot;</td><td>2</td><td>&quot;HOD/SEM&quot;</td><td>&quot;Cílem předmětu…</td><td>&quot;Zkouška&quot;</td><td>&quot;ANO&quot;</td><td>&quot;Kombinovaná&quot;</td><td>&quot;Zápočet: semes…</td><td>&quot;1. Úvod do pro…</td><td>null</td><td>null</td><td>null</td><td>null</td><td>&quot;Čeština&quot;</td><td>null</td><td>&quot;A&quot;</td><td>&quot;N&quot;</td><td>&quot;N&quot;</td><td>null</td><td>null</td><td>null</td><td>&quot;N&quot;</td><td>&quot;A&quot;</td><td>null</td><td>0</td><td>null</td><td>&quot;Bc.&quot;</td><td>&quot;A&quot;</td><td>0</td><td>null</td><td>null</td><td>null</td></tr><tr><td>&quot;KI&quot;</td><td>&quot;KPEK&quot;</td><td>2022</td><td>&quot;Podniková ekon…</td><td>&quot;Podniková ekon…</td><td>&quot;A&quot;</td><td>&quot;N&quot;</td><td>2</td><td>&quot;NE&quot;</td><td>null</td><td>&quot;&#x27;Ing. Štěpánka…</td><td>&quot;&#x27;Ing. Štěpánka…</td><td>&quot;7352&quot;</td><td>&quot;&#x27;Ing. Štěpánka…</td><td>&quot;&#x27;Ing. Štěpánka…</td><td>&quot;7352&quot;</td><td>null</td><td>null</td><td>null</td><td>null</td><td>null</td><td>null</td><td>null</td><td>null</td><td>null</td><td>null</td><td>null</td><td>null</td><td>&quot;KI/KEIS&quot;</td><td>&quot;&#x27;Synek M. a ko…</td><td>null</td><td>null</td><td>null</td><td>&quot;N&quot;</td><td>6</td><td>&quot;HOD/SEM&quot;</td><td>0</td><td>&quot;HOD/SEM&quot;</td><td>2</td><td>&quot;HOD/SEM&quot;</td><td>&quot;Kurz se zabývá…</td><td>&quot;Zápočet&quot;</td><td>&quot;NE&quot;</td><td>&quot;Kombinovaná&quot;</td><td>&quot;Písemný test&quot;</td><td>&quot;1.\tEkonomie a …</td><td>&quot;Předpokládaná …</td><td>null</td><td>null</td><td>null</td><td>&quot;Čeština&quot;</td><td>null</td><td>&quot;A&quot;</td><td>&quot;N&quot;</td><td>&quot;N&quot;</td><td>null</td><td>null</td><td>null</td><td>&quot;N&quot;</td><td>&quot;A&quot;</td><td>null</td><td>0</td><td>null</td><td>&quot;Bc.&quot;</td><td>&quot;A&quot;</td><td>null</td><td>null</td><td>null</td><td>null</td></tr></tbody></table></div>"
      ],
      "text/plain": [
       "shape: (5, 69)\n",
       "┌─────────┬─────────┬──────┬──────────────────────────┬───┬───────────────────┬──────┬──────┬──────┐\n",
       "│ katedra ┆ zkratka ┆ rok  ┆ nazev                    ┆ … ┆ hodZaSemKombForma ┆ aMax ┆ bMax ┆ cMax │\n",
       "│ ---     ┆ ---     ┆ ---  ┆ ---                      ┆   ┆ ---               ┆ ---  ┆ ---  ┆ ---  │\n",
       "│ str     ┆ str     ┆ i64  ┆ str                      ┆   ┆ i64               ┆ str  ┆ str  ┆ i64  │\n",
       "╞═════════╪═════════╪══════╪══════════════════════════╪═══╪═══════════════════╪══════╪══════╪══════╡\n",
       "│ KI      ┆ KDIS    ┆ 2022 ┆ Dependabilita            ┆ … ┆ null              ┆ null ┆ null ┆ null │\n",
       "│         ┆         ┆      ┆ informačních systé…      ┆   ┆                   ┆      ┆      ┆      │\n",
       "│ KI      ┆ KNSQL   ┆ 2022 ┆ NoSQL databázové systémy ┆ … ┆ 0                 ┆ null ┆ null ┆ null │\n",
       "│ KI      ┆ KOPR    ┆ 2022 ┆ Optimální rozhodování    ┆ … ┆ 0                 ┆ null ┆ null ┆ null │\n",
       "│ KI      ┆ KPAU    ┆ 2022 ┆ Programovatelné automaty ┆ … ┆ 0                 ┆ null ┆ null ┆ null │\n",
       "│ KI      ┆ KPEK    ┆ 2022 ┆ Podniková ekonomika      ┆ … ┆ null              ┆ null ┆ null ┆ null │\n",
       "└─────────┴─────────┴──────┴──────────────────────────┴───┴───────────────────┴──────┴──────┴──────┘"
      ]
     },
     "execution_count": 152,
     "metadata": {},
     "output_type": "execute_result"
    }
   ],
   "source": [
    "prednasejici_je_seminarici = prednasejici == seminarici\n",
    "cvicici_je_seminarici = cvicici == seminarici\n",
    "\n",
    "konflikt_vyucujicich = predmety_s_akci.filter(ma_seminare & ma_prednasku & (prednasejici_je_seminarici | cvicici_je_seminarici))\n",
    "konflikt_vyucujicich.write_excel(\"results/konflikt_vyucujicich.xlsx\")\n",
    "konflikt_vyucujicich.head()"
   ]
  },
  {
   "cell_type": "code",
   "execution_count": 153,
   "metadata": {},
   "outputs": [
    {
     "name": "stdout",
     "output_type": "stream",
     "text": [
      "9 předmětů nemá přednášejícího\n",
      "11 předmětů nemá cvičícího\n",
      "56 předmětů nemá seminářícího\n",
      "U 9 předmětů je seminářící také učitel\n"
     ]
    }
   ],
   "source": [
    "print(f\"{len(chybi_prednasejici)} předmětů nemá přednášejícího\")\n",
    "print(f\"{len(chybi_cvicici)} předmětů nemá cvičícího\")\n",
    "print(f\"{len(chybi_seminarici)} předmětů nemá seminářícího\")\n",
    "print(f\"U {len(konflikt_vyucujicich)} předmětů je seminářící také učitel\")"
   ]
  },
  {
   "attachments": {},
   "cell_type": "markdown",
   "metadata": {},
   "source": [
    "### Garant by měl být někde mezi vyučujícími. Pokud má předmět přednášku, měl by být přednášející.\n",
    "\n",
    "> V těchto předmětech garant vůbec neučí:"
   ]
  },
  {
   "cell_type": "code",
   "execution_count": 154,
   "metadata": {},
   "outputs": [
    {
     "data": {
      "text/plain": [
       "109"
      ]
     },
     "execution_count": 154,
     "metadata": {},
     "output_type": "execute_result"
    }
   ],
   "source": [
    "filter_query = (garant != cvicici) & (garant != seminarici) & (garant != prednasejici) & (ma_prednasku | ma_cviceni | ma_seminare)\n",
    "predmety_kde_garant_neuci = predmety_s_akci.filter(filter_query)\n",
    "predmety_kde_garant_neuci.write_excel(\"results/predmety_kde_garant_neuci.xlsx\")\n",
    "predmety_kde_garant_neuci.__len__()"
   ]
  },
  {
   "attachments": {},
   "cell_type": "markdown",
   "metadata": {},
   "source": [
    "> v těchto předmětech je přednáška, ale nedělá jí garant:"
   ]
  },
  {
   "cell_type": "code",
   "execution_count": 155,
   "metadata": {},
   "outputs": [
    {
     "data": {
      "text/html": [
       "<div><style>\n",
       ".dataframe > thead > tr > th,\n",
       ".dataframe > tbody > tr > td {\n",
       "  text-align: right;\n",
       "}\n",
       "</style>\n",
       "<small>shape: (5, 69)</small><table border=\"1\" class=\"dataframe\"><thead><tr><th>katedra</th><th>zkratka</th><th>rok</th><th>nazev</th><th>nazevDlouhy</th><th>vyukaZS</th><th>vyukaLS</th><th>kreditu</th><th>viceZapis</th><th>minObsazeni</th><th>garanti</th><th>garantiSPodily</th><th>garantiUcitIdno</th><th>prednasejici</th><th>prednasejiciSPodily</th><th>prednasejiciUcitIdno</th><th>cvicici</th><th>cviciciSPodily</th><th>cviciciUcitIdno</th><th>seminarici</th><th>seminariciSPodily</th><th>seminariciUcitIdno</th><th>schvalujiciUznani</th><th>schvalujiciUznaniUcitIdno</th><th>examinatori</th><th>examinatoriUcitIdno</th><th>podminujiciPredmety</th><th>vylucujiciPredmety</th><th>podminujePredmety</th><th>literatura</th><th>nahrazPredmety</th><th>metodyVyucovaci</th><th>metodyHodnotici</th><th>akreditovan</th><th>jednotekPrednasek</th><th>jednotkaPrednasky</th><th>jednotekCviceni</th><th>jednotkaCviceni</th><th>jednotekSeminare</th><th>jednotkaSeminare</th><th>anotace</th><th>typZkousky</th><th>maZapocetPredZk</th><th>formaZkousky</th><th>pozadavky</th><th>prehledLatky</th><th>predpoklady</th><th>ziskaneZpusobilosti</th><th>casovaNarocnost</th><th>predmetUrl</th><th>vyucovaciJazyky</th><th>poznamka</th><th>ectsZobrazit</th><th>ectsAkreditace</th><th>ectsNabizetUPrijezdu</th><th>poznamkaVerejna</th><th>skupinaAkreditace</th><th>skupinaAkreditaceKey</th><th>zarazenDoPrezencnihoStudia</th><th>zarazenDoKombinovanehoStudia</th><th>studijniOpory</th><th>praxePocetDnu</th><th>urovenNastavena</th><th>urovenVypoctena</th><th>automatickyUznavatZppZk</th><th>hodZaSemKombForma</th><th>aMax</th><th>bMax</th><th>cMax</th></tr><tr><td>str</td><td>str</td><td>i64</td><td>str</td><td>str</td><td>str</td><td>str</td><td>i64</td><td>str</td><td>str</td><td>str</td><td>str</td><td>str</td><td>str</td><td>str</td><td>str</td><td>str</td><td>str</td><td>str</td><td>str</td><td>str</td><td>str</td><td>str</td><td>str</td><td>str</td><td>str</td><td>str</td><td>str</td><td>str</td><td>str</td><td>str</td><td>str</td><td>str</td><td>str</td><td>i64</td><td>str</td><td>i64</td><td>str</td><td>i64</td><td>str</td><td>str</td><td>str</td><td>str</td><td>str</td><td>str</td><td>str</td><td>str</td><td>str</td><td>str</td><td>str</td><td>str</td><td>str</td><td>str</td><td>str</td><td>str</td><td>str</td><td>str</td><td>str</td><td>str</td><td>str</td><td>str</td><td>i64</td><td>str</td><td>str</td><td>str</td><td>i64</td><td>str</td><td>str</td><td>i64</td></tr></thead><tbody><tr><td>&quot;KI&quot;</td><td>&quot;AVD&quot;</td><td>2022</td><td>&quot;Analýza a vizu…</td><td>&quot;Analýza a vizu…</td><td>&quot;N&quot;</td><td>&quot;A&quot;</td><td>4</td><td>&quot;NE&quot;</td><td>null</td><td>&quot;&#x27;prof. Sergii …</td><td>&quot;&#x27;prof. Sergii …</td><td>&quot;3416&quot;</td><td>&quot;&#x27;prof. Sergii …</td><td>&quot;&#x27;prof. Sergii …</td><td>&quot;3416, 3521, 22…</td><td>&quot;&#x27;prof. Sergii …</td><td>&quot;&#x27;prof. Sergii …</td><td>&quot;3416, 3521, 22…</td><td>null</td><td>null</td><td>null</td><td>null</td><td>null</td><td>null</td><td>null</td><td>&quot;KI/MSW&quot;</td><td>null</td><td>null</td><td>&quot;&#x27;null&#x27;,\n",
       "&#x27;Popel…</td><td>null</td><td>null</td><td>null</td><td>&quot;N&quot;</td><td>2</td><td>&quot;HOD/TYD&quot;</td><td>2</td><td>&quot;HOD/TYD&quot;</td><td>0</td><td>&quot;HOD/TYD&quot;</td><td>&quot;Kurz je zaměře…</td><td>&quot;Zápočet&quot;</td><td>&quot;NE&quot;</td><td>&quot;Kombinovaná&quot;</td><td>&quot;a) vypracování…</td><td>&quot;1.\tÚvod do teo…</td><td>null</td><td>null</td><td>null</td><td>null</td><td>&quot;Čeština&quot;</td><td>null</td><td>&quot;A&quot;</td><td>&quot;N&quot;</td><td>&quot;N&quot;</td><td>null</td><td>null</td><td>null</td><td>&quot;A&quot;</td><td>&quot;N&quot;</td><td>null</td><td>0</td><td>null</td><td>&quot;Bc.&quot;</td><td>&quot;A&quot;</td><td>null</td><td>null</td><td>null</td><td>null</td></tr><tr><td>&quot;KI&quot;</td><td>&quot;BET&quot;</td><td>2022</td><td>&quot;Bezpečnostní t…</td><td>&quot;Bezpečnostní t…</td><td>&quot;A&quot;</td><td>&quot;N&quot;</td><td>2</td><td>&quot;NE&quot;</td><td>null</td><td>&quot;&#x27;doc. RNDr. Vi…</td><td>&quot;&#x27;doc. RNDr. Vi…</td><td>&quot;2239&quot;</td><td>&quot;&#x27;RNDr. Jan Kre…</td><td>&quot;&#x27;RNDr. Jan Kre…</td><td>&quot;2776, 2239&quot;</td><td>&quot;&#x27;RNDr. Jan Kre…</td><td>&quot;&#x27;RNDr. Jan Kre…</td><td>&quot;2776&quot;</td><td>null</td><td>null</td><td>null</td><td>null</td><td>null</td><td>null</td><td>null</td><td>&quot;KI/DEP&quot;</td><td>null</td><td>null</td><td>&quot;&#x27;Pužmanová R. …</td><td>null</td><td>null</td><td>null</td><td>&quot;N&quot;</td><td>1</td><td>&quot;HOD/TYD&quot;</td><td>1</td><td>&quot;HOD/TYD&quot;</td><td>0</td><td>&quot;HOD/TYD&quot;</td><td>&quot;Předmět je kon…</td><td>&quot;Zápočet&quot;</td><td>&quot;NE&quot;</td><td>&quot;Kombinovaná&quot;</td><td>&quot;Aktivní účast …</td><td>&quot;1.\tDůvěrnost, …</td><td>&quot;Základy počíta…</td><td>null</td><td>null</td><td>null</td><td>&quot;Čeština&quot;</td><td>null</td><td>&quot;A&quot;</td><td>&quot;N&quot;</td><td>&quot;N&quot;</td><td>null</td><td>null</td><td>null</td><td>&quot;A&quot;</td><td>&quot;N&quot;</td><td>null</td><td>0</td><td>null</td><td>&quot;Bc.&quot;</td><td>&quot;A&quot;</td><td>null</td><td>null</td><td>null</td><td>null</td></tr><tr><td>&quot;KI&quot;</td><td>&quot;BIG&quot;</td><td>2022</td><td>&quot;Datová úložišt…</td><td>&quot;Datová úložišt…</td><td>&quot;A&quot;</td><td>&quot;N&quot;</td><td>5</td><td>&quot;NE&quot;</td><td>null</td><td>&quot;&#x27;Mgr. Jiří Fiš…</td><td>&quot;&#x27;Mgr. Jiří Fiš…</td><td>&quot;251&quot;</td><td>&quot;&#x27;Mgr. Jiří Fiš…</td><td>&quot;&#x27;Mgr. Jiří Fiš…</td><td>&quot;251, 650, 4195…</td><td>&quot;&#x27;Mgr. Jiří Fiš…</td><td>&quot;&#x27;Mgr. Jiří Fiš…</td><td>&quot;251, 650&quot;</td><td>null</td><td>null</td><td>null</td><td>null</td><td>null</td><td>null</td><td>null</td><td>null</td><td>null</td><td>null</td><td>null</td><td>null</td><td>null</td><td>null</td><td>&quot;N&quot;</td><td>2</td><td>&quot;HOD/TYD&quot;</td><td>4</td><td>&quot;HOD/TYD&quot;</td><td>0</td><td>&quot;HOD/TYD&quot;</td><td>&quot;Předmět je zam…</td><td>&quot;Zkouška&quot;</td><td>&quot;ANO&quot;</td><td>&quot;Kombinovaná&quot;</td><td>&quot;Zápočet: vypra…</td><td>&quot;1. Principy vi…</td><td>null</td><td>null</td><td>null</td><td>null</td><td>&quot;Čeština&quot;</td><td>null</td><td>&quot;A&quot;</td><td>&quot;N&quot;</td><td>&quot;N&quot;</td><td>null</td><td>null</td><td>null</td><td>&quot;A&quot;</td><td>&quot;N&quot;</td><td>null</td><td>0</td><td>null</td><td>&quot;Mgr.&quot;</td><td>&quot;A&quot;</td><td>0</td><td>null</td><td>null</td><td>null</td></tr><tr><td>&quot;KI&quot;</td><td>&quot;CIS&quot;</td><td>2022</td><td>&quot;Číslicové syst…</td><td>&quot;Číslicové syst…</td><td>&quot;N&quot;</td><td>&quot;A&quot;</td><td>5</td><td>&quot;NE&quot;</td><td>null</td><td>&quot;&#x27;prof. Sergii …</td><td>&quot;&#x27;prof. Sergii …</td><td>&quot;3416&quot;</td><td>&quot;&#x27;prof. Sergii …</td><td>&quot;&#x27;prof. Sergii …</td><td>&quot;3416, 1780&quot;</td><td>&quot;&#x27;Ing. Petr Hab…</td><td>&quot;&#x27;Ing. Petr Hab…</td><td>&quot;1780&quot;</td><td>null</td><td>null</td><td>null</td><td>null</td><td>null</td><td>null</td><td>null</td><td>&quot;KI/UCS&quot;</td><td>null</td><td>null</td><td>&quot;&#x27;Dvořák V., Dr…</td><td>null</td><td>null</td><td>null</td><td>&quot;N&quot;</td><td>1</td><td>&quot;HOD/TYD&quot;</td><td>2</td><td>&quot;HOD/TYD&quot;</td><td>0</td><td>&quot;HOD/TYD&quot;</td><td>&quot;Cílem předmětu…</td><td>&quot;Zkouška&quot;</td><td>&quot;ANO&quot;</td><td>&quot;Kombinovaná&quot;</td><td>&quot;semestrální pr…</td><td>&quot;1.\tZákladní čá…</td><td>null</td><td>null</td><td>null</td><td>null</td><td>&quot;Čeština&quot;</td><td>null</td><td>&quot;A&quot;</td><td>&quot;N&quot;</td><td>&quot;N&quot;</td><td>null</td><td>null</td><td>null</td><td>&quot;A&quot;</td><td>&quot;N&quot;</td><td>null</td><td>0</td><td>null</td><td>&quot;Bc.&quot;</td><td>&quot;A&quot;</td><td>null</td><td>null</td><td>null</td><td>null</td></tr><tr><td>&quot;KI&quot;</td><td>&quot;DIB&quot;</td><td>2022</td><td>&quot;Datová a infor…</td><td>&quot;Datová a infor…</td><td>&quot;N&quot;</td><td>&quot;A&quot;</td><td>4</td><td>&quot;NE&quot;</td><td>null</td><td>&quot;&#x27;RNDr. Jan Kre…</td><td>&quot;&#x27;RNDr. Jan Kre…</td><td>&quot;2776&quot;</td><td>&quot;&#x27;RNDr. Jan Kre…</td><td>&quot;&#x27;RNDr. Jan Kre…</td><td>&quot;2776, 3521&quot;</td><td>&quot;&#x27;RNDr. Jan Kre…</td><td>&quot;&#x27;RNDr. Jan Kre…</td><td>&quot;2776, 3521&quot;</td><td>null</td><td>null</td><td>null</td><td>null</td><td>null</td><td>null</td><td>null</td><td>null</td><td>null</td><td>null</td><td>null</td><td>null</td><td>null</td><td>null</td><td>&quot;N&quot;</td><td>1</td><td>&quot;HOD/TYD&quot;</td><td>2</td><td>&quot;HOD/TYD&quot;</td><td>0</td><td>&quot;HOD/TYD&quot;</td><td>null</td><td>&quot;Zkouška&quot;</td><td>&quot;ANO&quot;</td><td>&quot;Kombinovaná&quot;</td><td>&quot;Zápočet: labor…</td><td>&quot;Obsahem předmě…</td><td>null</td><td>null</td><td>null</td><td>null</td><td>&quot;Čeština&quot;</td><td>null</td><td>&quot;A&quot;</td><td>&quot;N&quot;</td><td>&quot;N&quot;</td><td>null</td><td>null</td><td>null</td><td>&quot;A&quot;</td><td>&quot;N&quot;</td><td>null</td><td>0</td><td>null</td><td>&quot;Mgr.&quot;</td><td>&quot;A&quot;</td><td>0</td><td>null</td><td>null</td><td>null</td></tr></tbody></table></div>"
      ],
      "text/plain": [
       "shape: (5, 69)\n",
       "┌─────────┬─────────┬──────┬──────────────────────────┬───┬───────────────────┬──────┬──────┬──────┐\n",
       "│ katedra ┆ zkratka ┆ rok  ┆ nazev                    ┆ … ┆ hodZaSemKombForma ┆ aMax ┆ bMax ┆ cMax │\n",
       "│ ---     ┆ ---     ┆ ---  ┆ ---                      ┆   ┆ ---               ┆ ---  ┆ ---  ┆ ---  │\n",
       "│ str     ┆ str     ┆ i64  ┆ str                      ┆   ┆ i64               ┆ str  ┆ str  ┆ i64  │\n",
       "╞═════════╪═════════╪══════╪══════════════════════════╪═══╪═══════════════════╪══════╪══════╪══════╡\n",
       "│ KI      ┆ AVD     ┆ 2022 ┆ Analýza a vizualizace    ┆ … ┆ null              ┆ null ┆ null ┆ null │\n",
       "│         ┆         ┆      ┆ dat                      ┆   ┆                   ┆      ┆      ┆      │\n",
       "│ KI      ┆ BET     ┆ 2022 ┆ Bezpečnostní technologie ┆ … ┆ null              ┆ null ┆ null ┆ null │\n",
       "│ KI      ┆ BIG     ┆ 2022 ┆ Datová úložiště          ┆ … ┆ 0                 ┆ null ┆ null ┆ null │\n",
       "│         ┆         ┆      ┆ a nástroje pro B…        ┆   ┆                   ┆      ┆      ┆      │\n",
       "│ KI      ┆ CIS     ┆ 2022 ┆ Číslicové systémy        ┆ … ┆ null              ┆ null ┆ null ┆ null │\n",
       "│ KI      ┆ DIB     ┆ 2022 ┆ Datová a informační      ┆ … ┆ 0                 ┆ null ┆ null ┆ null │\n",
       "│         ┆         ┆      ┆ bezpečnost               ┆   ┆                   ┆      ┆      ┆      │\n",
       "└─────────┴─────────┴──────┴──────────────────────────┴───┴───────────────────┴──────┴──────┴──────┘"
      ]
     },
     "execution_count": 155,
     "metadata": {},
     "output_type": "execute_result"
    }
   ],
   "source": [
    "garant_neni_prednasejici = (jednotek_prednasek != 0) & (garant != prednasejici)\n",
    "garant_neprednasi = predmety_s_akci.filter(garant_neni_prednasejici)\n",
    "garant_neprednasi.write_excel(\"results/garant_neprednasi.xlsx\")\n",
    "garant_neprednasi.head()"
   ]
  },
  {
   "attachments": {},
   "cell_type": "markdown",
   "metadata": {},
   "source": [
    "## Kontrola proti rozvrhovaným akcím"
   ]
  },
  {
   "attachments": {},
   "cell_type": "markdown",
   "metadata": {},
   "source": [
    "### Vyučující u rozvrhových akcí musí být v příslušných kategoriích u vyučujících"
   ]
  },
  {
   "attachments": {},
   "cell_type": "markdown",
   "metadata": {},
   "source": [
    "#### Osekám dataframy"
   ]
  },
  {
   "cell_type": "code",
   "execution_count": 156,
   "metadata": {},
   "outputs": [
    {
     "data": {
      "text/html": [
       "<div><style>\n",
       ".dataframe > thead > tr > th,\n",
       ".dataframe > tbody > tr > td {\n",
       "  text-align: right;\n",
       "}\n",
       "</style>\n",
       "<small>shape: (5, 54)</small><table border=\"1\" class=\"dataframe\"><thead><tr><th>roakIdno</th><th>nazev</th><th>katedra</th><th>zkratka</th><th>statut</th><th>ucitIdno</th><th>ucitIdno.ucitel</th><th>jmeno.ucitel</th><th>prijmeni.ucitel</th><th>titulPred.ucitel</th><th>titulZa.ucitel</th><th>platnost.ucitel</th><th>zamestnanec.ucitel</th><th>podilNaVyuce.ucitel</th><th>rok</th><th>budova</th><th>mistnost</th><th>kapacitaMistnosti</th><th>planObsazeni</th><th>obsazeni</th><th>typAkce</th><th>typAkceZkr</th><th>platnost</th><th>den</th><th>denZkr</th><th>vyucJazyk</th><th>hodinaOd</th><th>hodinaDo</th><th>pocetVyucHodin</th><th>hodinaSkutOd</th><th>hodinaSkutDo</th><th>tydenOd</th><th>tydenDo</th><th>tyden</th><th>tydenZkr</th><th>grupIdno</th><th>jeNadrazena</th><th>maNadrazenou</th><th>kontakt</th><th>krouzky</th><th>casovaRada</th><th>datum</th><th>datumOd</th><th>datumDo</th><th>druhAkce</th><th>vsichniUciteleUcitIdno</th><th>vsichniUciteleJmenaTituly</th><th>vsichniUciteleJmenaTitulySPodily</th><th>vsichniUcitelePrijmeni</th><th>referencedIdno</th><th>poznamkaRozvrhare</th><th>nekonaSe</th><th>owner</th><th>zakazaneAkce</th></tr><tr><td>i64</td><td>str</td><td>str</td><td>str</td><td>str</td><td>i64</td><td>i64</td><td>str</td><td>str</td><td>str</td><td>str</td><td>str</td><td>str</td><td>i64</td><td>i64</td><td>str</td><td>f64</td><td>i64</td><td>i64</td><td>i64</td><td>str</td><td>str</td><td>str</td><td>str</td><td>str</td><td>str</td><td>i64</td><td>i64</td><td>i64</td><td>str</td><td>str</td><td>i64</td><td>i64</td><td>str</td><td>str</td><td>i64</td><td>str</td><td>str</td><td>str</td><td>str</td><td>str</td><td>str</td><td>str</td><td>str</td><td>str</td><td>str</td><td>str</td><td>str</td><td>str</td><td>i64</td><td>str</td><td>str</td><td>str</td><td>str</td></tr></thead><tbody><tr><td>446685</td><td>&quot;Počítačové sít…</td><td>&quot;KI&quot;</td><td>&quot;PSI&quot;</td><td>null</td><td>2776</td><td>2776</td><td>&quot;Jan&quot;</td><td>&quot;Krejčí&quot;</td><td>&quot;RNDr.&quot;</td><td>&quot;Ph.D.&quot;</td><td>&quot;A&quot;</td><td>&quot;A&quot;</td><td>100</td><td>2022</td><td>&quot;CP&quot;</td><td>7.07</td><td>12</td><td>12</td><td>3</td><td>&quot;Cvičení&quot;</td><td>&quot;Cv&quot;</td><td>&quot;A&quot;</td><td>&quot;Pondělí&quot;</td><td>&quot;Po&quot;</td><td>null</td><td>4</td><td>5</td><td>2</td><td>&quot;10:00&quot;</td><td>&quot;11:50&quot;</td><td>40</td><td>1</td><td>&quot;Každý&quot;</td><td>&quot;K&quot;</td><td>null</td><td>&quot;N&quot;</td><td>&quot;N&quot;</td><td>&quot;Automaticky vy…</td><td>&quot;3.IS&quot;</td><td>&quot;UJEP&quot;</td><td>null</td><td>&quot;03.10.2022&quot;</td><td>&quot;02.01.2023&quot;</td><td>&quot;R&quot;</td><td>&quot;2776&quot;</td><td>&quot;RNDr. Jan Krej…</td><td>&quot;&#x27;RNDr. Jan Kre…</td><td>&quot;Krejčí&quot;</td><td>446685</td><td>null</td><td>null</td><td>&quot;PETRUSPRF&quot;</td><td>null</td></tr><tr><td>446500</td><td>&quot;Základy počíta…</td><td>&quot;KI&quot;</td><td>&quot;ZPS&quot;</td><td>null</td><td>2776</td><td>2776</td><td>&quot;Jan&quot;</td><td>&quot;Krejčí&quot;</td><td>&quot;RNDr.&quot;</td><td>&quot;Ph.D.&quot;</td><td>&quot;A&quot;</td><td>&quot;A&quot;</td><td>100</td><td>2022</td><td>&quot;MF&quot;</td><td>1.54</td><td>315</td><td>180</td><td>170</td><td>&quot;Přednáška&quot;</td><td>&quot;Př&quot;</td><td>&quot;A&quot;</td><td>&quot;Pondělí&quot;</td><td>&quot;Po&quot;</td><td>null</td><td>7</td><td>8</td><td>2</td><td>&quot;13:00&quot;</td><td>&quot;14:50&quot;</td><td>40</td><td>1</td><td>&quot;Každý&quot;</td><td>&quot;K&quot;</td><td>null</td><td>&quot;N&quot;</td><td>&quot;N&quot;</td><td>&quot;Automaticky vy…</td><td>&quot;1.API Bc&quot;</td><td>&quot;UJEP&quot;</td><td>null</td><td>&quot;03.10.2022&quot;</td><td>&quot;02.01.2023&quot;</td><td>&quot;R&quot;</td><td>&quot;2776&quot;</td><td>&quot;RNDr. Jan Krej…</td><td>&quot;&#x27;RNDr. Jan Kre…</td><td>&quot;Krejčí&quot;</td><td>446500</td><td>null</td><td>null</td><td>&quot;PETRUSPRF&quot;</td><td>null</td></tr><tr><td>446519</td><td>&quot;Didaktika prog…</td><td>&quot;KI&quot;</td><td>&quot;DPG&quot;</td><td>null</td><td>1165</td><td>1165</td><td>&quot;Kamil&quot;</td><td>&quot;Balín&quot;</td><td>&quot;Mgr.&quot;</td><td>null</td><td>&quot;A&quot;</td><td>&quot;A&quot;</td><td>100</td><td>2022</td><td>&quot;CP&quot;</td><td>7.06</td><td>24</td><td>20</td><td>14</td><td>&quot;Seminář&quot;</td><td>&quot;Se&quot;</td><td>&quot;A&quot;</td><td>&quot;Pondělí&quot;</td><td>&quot;Po&quot;</td><td>null</td><td>8</td><td>9</td><td>2</td><td>&quot;14:00&quot;</td><td>&quot;15:50&quot;</td><td>40</td><td>1</td><td>&quot;Každý&quot;</td><td>&quot;K&quot;</td><td>null</td><td>&quot;N&quot;</td><td>&quot;N&quot;</td><td>&quot;Automaticky vy…</td><td>&quot;2.API Bc,3.IS,…</td><td>&quot;UJEP&quot;</td><td>null</td><td>&quot;03.10.2022&quot;</td><td>&quot;02.01.2023&quot;</td><td>&quot;R&quot;</td><td>&quot;1165&quot;</td><td>&quot;Mgr. Kamil Bal…</td><td>&quot;&#x27;Mgr. Kamil Ba…</td><td>&quot;Balín&quot;</td><td>446519</td><td>null</td><td>&quot;17.10.2022: Od…</td><td>&quot;PETRUSPRF&quot;</td><td>null</td></tr><tr><td>446723</td><td>&quot;Informační a k…</td><td>&quot;KI&quot;</td><td>&quot;IKT&quot;</td><td>null</td><td>835</td><td>835</td><td>&quot;Květuše&quot;</td><td>&quot;Sýkorová&quot;</td><td>&quot;Mgr.&quot;</td><td>null</td><td>&quot;A&quot;</td><td>&quot;A&quot;</td><td>100</td><td>2022</td><td>&quot;CP&quot;</td><td>-1.21</td><td>31</td><td>30</td><td>30</td><td>&quot;Seminář&quot;</td><td>&quot;Se&quot;</td><td>&quot;A&quot;</td><td>&quot;Úterý&quot;</td><td>&quot;Út&quot;</td><td>null</td><td>10</td><td>11</td><td>2</td><td>&quot;16:00&quot;</td><td>&quot;17:50&quot;</td><td>40</td><td>1</td><td>&quot;Každý&quot;</td><td>&quot;K&quot;</td><td>null</td><td>&quot;N&quot;</td><td>&quot;N&quot;</td><td>&quot;Automaticky vy…</td><td>&quot;1.MvFVS,1.NANO…</td><td>&quot;UJEP&quot;</td><td>null</td><td>&quot;04.10.2022&quot;</td><td>&quot;03.01.2023&quot;</td><td>&quot;R&quot;</td><td>&quot;835&quot;</td><td>&quot;Mgr. Květuše S…</td><td>&quot;&#x27;Mgr. Květuše …</td><td>&quot;Sýkorová&quot;</td><td>446723</td><td>null</td><td>&quot;25.10.2022: Od…</td><td>&quot;PETRUSPRF&quot;</td><td>null</td></tr><tr><td>451651</td><td>&quot;Semestrální pr…</td><td>&quot;KI&quot;</td><td>&quot;KSP3&quot;</td><td>null</td><td>6259</td><td>6259</td><td>&quot;Jiří&quot;</td><td>&quot;Škvára&quot;</td><td>&quot;RNDr.&quot;</td><td>&quot;Ph.D.&quot;</td><td>&quot;A&quot;</td><td>&quot;A&quot;</td><td>100</td><td>2022</td><td>&quot;CP&quot;</td><td>6.04</td><td>2</td><td>1</td><td>1</td><td>&quot;Seminář&quot;</td><td>&quot;Se&quot;</td><td>&quot;A&quot;</td><td>&quot;Úterý&quot;</td><td>&quot;Út&quot;</td><td>null</td><td>12</td><td>13</td><td>2</td><td>&quot;18:00&quot;</td><td>&quot;19:50&quot;</td><td>1</td><td>1</td><td>&quot;Jiný&quot;</td><td>&quot;J&quot;</td><td>28039</td><td>&quot;N&quot;</td><td>&quot;N&quot;</td><td>&quot;Automaticky vy…</td><td>&quot;2.KAPI N&quot;</td><td>&quot;UJEP&quot;</td><td>null</td><td>&quot;03.01.2023&quot;</td><td>&quot;03.01.2023&quot;</td><td>&quot;R&quot;</td><td>&quot;6259&quot;</td><td>&quot;RNDr. Jiří Škv…</td><td>&quot;&#x27;RNDr. Jiří Šk…</td><td>&quot;Škvára&quot;</td><td>451651</td><td>null</td><td>null</td><td>&quot;PETRUSPRF&quot;</td><td>null</td></tr></tbody></table></div>"
      ],
      "text/plain": [
       "shape: (5, 54)\n",
       "┌──────────┬────────────┬─────────┬─────────┬───┬────────────┬────────────┬───────────┬────────────┐\n",
       "│ roakIdno ┆ nazev      ┆ katedra ┆ zkratka ┆ … ┆ poznamkaRo ┆ nekonaSe   ┆ owner     ┆ zakazaneAk │\n",
       "│ ---      ┆ ---        ┆ ---     ┆ ---     ┆   ┆ zvrhare    ┆ ---        ┆ ---       ┆ ce         │\n",
       "│ i64      ┆ str        ┆ str     ┆ str     ┆   ┆ ---        ┆ str        ┆ str       ┆ ---        │\n",
       "│          ┆            ┆         ┆         ┆   ┆ str        ┆            ┆           ┆ str        │\n",
       "╞══════════╪════════════╪═════════╪═════════╪═══╪════════════╪════════════╪═══════════╪════════════╡\n",
       "│ 446685   ┆ Počítačové ┆ KI      ┆ PSI     ┆ … ┆ null       ┆ null       ┆ PETRUSPRF ┆ null       │\n",
       "│          ┆ sítě       ┆         ┆         ┆   ┆            ┆            ┆           ┆            │\n",
       "│ 446500   ┆ Základy    ┆ KI      ┆ ZPS     ┆ … ┆ null       ┆ null       ┆ PETRUSPRF ┆ null       │\n",
       "│          ┆ počítačový ┆         ┆         ┆   ┆            ┆            ┆           ┆            │\n",
       "│          ┆ ch sítí    ┆         ┆         ┆   ┆            ┆            ┆           ┆            │\n",
       "│          ┆ a prot…    ┆         ┆         ┆   ┆            ┆            ┆           ┆            │\n",
       "│ 446519   ┆ Didaktika  ┆ KI      ┆ DPG     ┆ … ┆ null       ┆ 17.10.2022 ┆ PETRUSPRF ┆ null       │\n",
       "│          ┆ programová ┆         ┆         ┆   ┆            ┆ : Odpadá   ┆           ┆            │\n",
       "│          ┆ ní         ┆         ┆         ┆   ┆            ┆            ┆           ┆            │\n",
       "│ 446723   ┆ Informační ┆ KI      ┆ IKT     ┆ … ┆ null       ┆ 25.10.2022 ┆ PETRUSPRF ┆ null       │\n",
       "│          ┆ a komunika ┆         ┆         ┆   ┆            ┆ : Odpadá,8 ┆           ┆            │\n",
       "│          ┆ ční        ┆         ┆         ┆   ┆            ┆ .11.2022:  ┆           ┆            │\n",
       "│          ┆ technol…   ┆         ┆         ┆   ┆            ┆ Od…        ┆           ┆            │\n",
       "│ 451651   ┆ Semestráln ┆ KI      ┆ KSP3    ┆ … ┆ null       ┆ null       ┆ PETRUSPRF ┆ null       │\n",
       "│          ┆ í projekt  ┆         ┆         ┆   ┆            ┆            ┆           ┆            │\n",
       "│          ┆ III        ┆         ┆         ┆   ┆            ┆            ┆           ┆            │\n",
       "└──────────┴────────────┴─────────┴─────────┴───┴────────────┴────────────┴───────────┴────────────┘"
      ]
     },
     "execution_count": 156,
     "metadata": {},
     "output_type": "execute_result"
    }
   ],
   "source": [
    "rozvrh_by_kat.head()\n",
    "# predmety_by_kat.head()"
   ]
  },
  {
   "cell_type": "code",
   "execution_count": 157,
   "metadata": {},
   "outputs": [
    {
     "data": {
      "text/html": [
       "<div><style>\n",
       ".dataframe > thead > tr > th,\n",
       ".dataframe > tbody > tr > td {\n",
       "  text-align: right;\n",
       "}\n",
       "</style>\n",
       "<small>shape: (5, 4)</small><table border=\"1\" class=\"dataframe\"><thead><tr><th>zkratka</th><th>idno</th><th>typAkceZkr</th><th>rok</th></tr><tr><td>str</td><td>str</td><td>str</td><td>i64</td></tr></thead><tbody><tr><td>&quot;PSI&quot;</td><td>&quot;2776&quot;</td><td>&quot;Cv&quot;</td><td>2022</td></tr><tr><td>&quot;ZPS&quot;</td><td>&quot;2776&quot;</td><td>&quot;Př&quot;</td><td>2022</td></tr><tr><td>&quot;DPG&quot;</td><td>&quot;1165&quot;</td><td>&quot;Se&quot;</td><td>2022</td></tr><tr><td>&quot;IKT&quot;</td><td>&quot;835&quot;</td><td>&quot;Se&quot;</td><td>2022</td></tr><tr><td>&quot;KSP3&quot;</td><td>&quot;6259&quot;</td><td>&quot;Se&quot;</td><td>2022</td></tr></tbody></table></div>"
      ],
      "text/plain": [
       "shape: (5, 4)\n",
       "┌─────────┬──────┬────────────┬──────┐\n",
       "│ zkratka ┆ idno ┆ typAkceZkr ┆ rok  │\n",
       "│ ---     ┆ ---  ┆ ---        ┆ ---  │\n",
       "│ str     ┆ str  ┆ str        ┆ i64  │\n",
       "╞═════════╪══════╪════════════╪══════╡\n",
       "│ PSI     ┆ 2776 ┆ Cv         ┆ 2022 │\n",
       "│ ZPS     ┆ 2776 ┆ Př         ┆ 2022 │\n",
       "│ DPG     ┆ 1165 ┆ Se         ┆ 2022 │\n",
       "│ IKT     ┆ 835  ┆ Se         ┆ 2022 │\n",
       "│ KSP3    ┆ 6259 ┆ Se         ┆ 2022 │\n",
       "└─────────┴──────┴────────────┴──────┘"
      ]
     },
     "execution_count": 157,
     "metadata": {},
     "output_type": "execute_result"
    }
   ],
   "source": [
    "maly_rozvrh = rozvrh_by_kat.select([\"zkratka\", \"vsichniUciteleUcitIdno\", \"typAkceZkr\", \"rok\"])\n",
    "maly_rozvrh = maly_rozvrh.with_columns(pl.col(\"vsichniUciteleUcitIdno\").str.split(\", \")).explode(\"vsichniUciteleUcitIdno\").rename({\"vsichniUciteleUcitIdno\": \"idno\"})\n",
    "maly_rozvrh.head()"
   ]
  },
  {
   "cell_type": "code",
   "execution_count": 158,
   "metadata": {},
   "outputs": [],
   "source": [
    "# predmety_by_kat"
   ]
  },
  {
   "cell_type": "code",
   "execution_count": 159,
   "metadata": {},
   "outputs": [
    {
     "data": {
      "text/html": [
       "<div><style>\n",
       ".dataframe > thead > tr > th,\n",
       ".dataframe > tbody > tr > td {\n",
       "  text-align: right;\n",
       "}\n",
       "</style>\n",
       "<small>shape: (5, 69)</small><table border=\"1\" class=\"dataframe\"><thead><tr><th>katedra</th><th>zkratka</th><th>rok</th><th>nazev</th><th>nazevDlouhy</th><th>vyukaZS</th><th>vyukaLS</th><th>kreditu</th><th>viceZapis</th><th>minObsazeni</th><th>garanti</th><th>garantiSPodily</th><th>garantiUcitIdno</th><th>prednasejici</th><th>prednasejiciSPodily</th><th>prednasejiciUcitIdno</th><th>cvicici</th><th>cviciciSPodily</th><th>cviciciUcitIdno</th><th>seminarici</th><th>seminariciSPodily</th><th>seminariciUcitIdno</th><th>schvalujiciUznani</th><th>schvalujiciUznaniUcitIdno</th><th>examinatori</th><th>examinatoriUcitIdno</th><th>podminujiciPredmety</th><th>vylucujiciPredmety</th><th>podminujePredmety</th><th>literatura</th><th>nahrazPredmety</th><th>metodyVyucovaci</th><th>metodyHodnotici</th><th>akreditovan</th><th>jednotekPrednasek</th><th>jednotkaPrednasky</th><th>jednotekCviceni</th><th>jednotkaCviceni</th><th>jednotekSeminare</th><th>jednotkaSeminare</th><th>anotace</th><th>typZkousky</th><th>maZapocetPredZk</th><th>formaZkousky</th><th>pozadavky</th><th>prehledLatky</th><th>predpoklady</th><th>ziskaneZpusobilosti</th><th>casovaNarocnost</th><th>predmetUrl</th><th>vyucovaciJazyky</th><th>poznamka</th><th>ectsZobrazit</th><th>ectsAkreditace</th><th>ectsNabizetUPrijezdu</th><th>poznamkaVerejna</th><th>skupinaAkreditace</th><th>skupinaAkreditaceKey</th><th>zarazenDoPrezencnihoStudia</th><th>zarazenDoKombinovanehoStudia</th><th>studijniOpory</th><th>praxePocetDnu</th><th>urovenNastavena</th><th>urovenVypoctena</th><th>automatickyUznavatZppZk</th><th>hodZaSemKombForma</th><th>aMax</th><th>bMax</th><th>cMax</th></tr><tr><td>str</td><td>str</td><td>i64</td><td>str</td><td>str</td><td>str</td><td>str</td><td>i64</td><td>str</td><td>str</td><td>str</td><td>str</td><td>str</td><td>str</td><td>str</td><td>str</td><td>str</td><td>str</td><td>str</td><td>str</td><td>str</td><td>str</td><td>str</td><td>str</td><td>str</td><td>str</td><td>str</td><td>str</td><td>str</td><td>str</td><td>str</td><td>str</td><td>str</td><td>str</td><td>i64</td><td>str</td><td>i64</td><td>str</td><td>i64</td><td>str</td><td>str</td><td>str</td><td>str</td><td>str</td><td>str</td><td>str</td><td>str</td><td>str</td><td>str</td><td>str</td><td>str</td><td>str</td><td>str</td><td>str</td><td>str</td><td>str</td><td>str</td><td>str</td><td>str</td><td>str</td><td>str</td><td>i64</td><td>str</td><td>str</td><td>str</td><td>i64</td><td>str</td><td>str</td><td>i64</td></tr></thead><tbody><tr><td>&quot;KI&quot;</td><td>&quot;AHW&quot;</td><td>2022</td><td>&quot;Praktické apli…</td><td>&quot;Praktické apli…</td><td>&quot;A&quot;</td><td>&quot;N&quot;</td><td>1</td><td>&quot;NE&quot;</td><td>null</td><td>&quot;&#x27;RNDr. Jan Kre…</td><td>&quot;&#x27;RNDr. Jan Kre…</td><td>&quot;2776&quot;</td><td>null</td><td>null</td><td>null</td><td>null</td><td>null</td><td>null</td><td>&quot;&#x27;Mgr. Kamil Ba…</td><td>&quot;&#x27;Mgr. Kamil Ba…</td><td>&quot;1165, 1780, 27…</td><td>null</td><td>null</td><td>null</td><td>null</td><td>null</td><td>null</td><td>null</td><td>&quot;&#x27;http://www.ea…</td><td>null</td><td>null</td><td>null</td><td>&quot;N&quot;</td><td>0</td><td>&quot;HOD/SEM&quot;</td><td>0</td><td>&quot;HOD/SEM&quot;</td><td>17</td><td>&quot;HOD/SEM&quot;</td><td>&quot;Seminář je zam…</td><td>&quot;Zápočet&quot;</td><td>&quot;NE&quot;</td><td>&quot;Kombinovaná&quot;</td><td>&quot;Aktivní účast …</td><td>&quot;1.\tSimulace čí…</td><td>null</td><td>null</td><td>null</td><td>null</td><td>&quot;Čeština&quot;</td><td>null</td><td>&quot;A&quot;</td><td>&quot;N&quot;</td><td>&quot;N&quot;</td><td>null</td><td>null</td><td>null</td><td>&quot;A&quot;</td><td>&quot;A&quot;</td><td>null</td><td>0</td><td>null</td><td>&quot;Bc.&quot;</td><td>&quot;A&quot;</td><td>null</td><td>null</td><td>null</td><td>null</td></tr><tr><td>&quot;KI&quot;</td><td>&quot;A201&quot;</td><td>2022</td><td>&quot;DMS and Team C…</td><td>&quot;Document Manag…</td><td>&quot;A&quot;</td><td>&quot;A&quot;</td><td>2</td><td>&quot;NE&quot;</td><td>null</td><td>&quot;&#x27;RNDr. Petr Ku…</td><td>&quot;&#x27;RNDr. Petr Ku…</td><td>&quot;650&quot;</td><td>null</td><td>null</td><td>null</td><td>null</td><td>null</td><td>null</td><td>&quot;&#x27;Ing. Pavel Ku…</td><td>&quot;&#x27;Ing. Pavel Ku…</td><td>&quot;2317&quot;</td><td>null</td><td>null</td><td>null</td><td>null</td><td>null</td><td>null</td><td>null</td><td>null</td><td>&quot;KI/0201&quot;</td><td>null</td><td>null</td><td>&quot;A&quot;</td><td>0</td><td>&quot;HOD/TYD&quot;</td><td>0</td><td>&quot;HOD/TYD&quot;</td><td>2</td><td>&quot;HOD/TYD&quot;</td><td>null</td><td>&quot;Zápočet&quot;</td><td>&quot;NE&quot;</td><td>&quot;Kombinovaná&quot;</td><td>null</td><td>null</td><td>null</td><td>null</td><td>null</td><td>null</td><td>&quot;Angličtina&quot;</td><td>null</td><td>&quot;A&quot;</td><td>&quot;N&quot;</td><td>&quot;N&quot;</td><td>null</td><td>null</td><td>null</td><td>&quot;A&quot;</td><td>&quot;A&quot;</td><td>null</td><td>0</td><td>null</td><td>&quot;Bc.&quot;</td><td>&quot;A&quot;</td><td>0</td><td>null</td><td>null</td><td>null</td></tr><tr><td>&quot;KI&quot;</td><td>&quot;DI1&quot;</td><td>2022</td><td>&quot;Didaktika info…</td><td>&quot;Didaktika info…</td><td>&quot;A&quot;</td><td>&quot;N&quot;</td><td>2</td><td>&quot;NE&quot;</td><td>null</td><td>&quot;&#x27;RNDr. Jan Kre…</td><td>&quot;&#x27;RNDr. Jan Kre…</td><td>&quot;2776&quot;</td><td>null</td><td>null</td><td>null</td><td>null</td><td>null</td><td>null</td><td>&quot;&#x27;Mgr. Kamil Ba…</td><td>&quot;&#x27;Mgr. Kamil Ba…</td><td>&quot;1165, 2776&quot;</td><td>null</td><td>null</td><td>null</td><td>null</td><td>null</td><td>null</td><td>&quot;KI/DI2&quot;</td><td>null</td><td>null</td><td>null</td><td>null</td><td>&quot;N&quot;</td><td>0</td><td>&quot;HOD/TYD&quot;</td><td>0</td><td>&quot;HOD/TYD&quot;</td><td>2</td><td>&quot;HOD/TYD&quot;</td><td>null</td><td>&quot;Zápočet&quot;</td><td>&quot;NE&quot;</td><td>&quot;Kombinovaná&quot;</td><td>&quot;1. tvořivá prá…</td><td>&quot;\n",
       "1. Význam a r…</td><td>null</td><td>null</td><td>null</td><td>null</td><td>&quot;Čeština&quot;</td><td>null</td><td>&quot;A&quot;</td><td>&quot;N&quot;</td><td>&quot;N&quot;</td><td>null</td><td>null</td><td>null</td><td>&quot;A&quot;</td><td>&quot;N&quot;</td><td>null</td><td>0</td><td>null</td><td>&quot;Mgr.&quot;</td><td>&quot;A&quot;</td><td>0</td><td>null</td><td>null</td><td>null</td></tr><tr><td>&quot;KI&quot;</td><td>&quot;DPG&quot;</td><td>2022</td><td>&quot;Didaktika prog…</td><td>&quot;Didaktika prog…</td><td>&quot;A&quot;</td><td>&quot;N&quot;</td><td>2</td><td>&quot;NE&quot;</td><td>null</td><td>&quot;&#x27;Mgr. Kamil Ba…</td><td>&quot;&#x27;Mgr. Kamil Ba…</td><td>&quot;1165&quot;</td><td>null</td><td>null</td><td>null</td><td>null</td><td>null</td><td>null</td><td>&quot;&#x27;Mgr. Kamil Ba…</td><td>&quot;&#x27;Mgr. Kamil Ba…</td><td>&quot;1165&quot;</td><td>null</td><td>null</td><td>null</td><td>null</td><td>null</td><td>null</td><td>null</td><td>null</td><td>null</td><td>&quot;Pracovní činno…</td><td>&quot;Rozbor produkt…</td><td>&quot;N&quot;</td><td>0</td><td>&quot;HOD/TYD&quot;</td><td>0</td><td>&quot;HOD/TYD&quot;</td><td>2</td><td>&quot;HOD/TYD&quot;</td><td>&quot;Student využij…</td><td>&quot;Zápočet&quot;</td><td>&quot;NE&quot;</td><td>&quot;Kombinovaná&quot;</td><td>&quot;-\tAktivní účas…</td><td>&quot;1.\tCíle, prost…</td><td>null</td><td>&quot;Absolvent kurz…</td><td>null</td><td>null</td><td>&quot;Čeština&quot;</td><td>null</td><td>&quot;A&quot;</td><td>&quot;N&quot;</td><td>&quot;N&quot;</td><td>null</td><td>null</td><td>null</td><td>&quot;A&quot;</td><td>&quot;A&quot;</td><td>null</td><td>0</td><td>null</td><td>&quot;Bc.&quot;</td><td>&quot;A&quot;</td><td>null</td><td>null</td><td>null</td><td>null</td></tr><tr><td>&quot;KI&quot;</td><td>&quot;DP2O&quot;</td><td>2022</td><td>&quot;Diplomová prác…</td><td>&quot;Diplomová prác…</td><td>&quot;A&quot;</td><td>&quot;A&quot;</td><td>10</td><td>&quot;NE&quot;</td><td>null</td><td>null</td><td>null</td><td>null</td><td>null</td><td>null</td><td>null</td><td>null</td><td>null</td><td>null</td><td>null</td><td>null</td><td>null</td><td>null</td><td>null</td><td>null</td><td>null</td><td>null</td><td>null</td><td>null</td><td>null</td><td>null</td><td>null</td><td>null</td><td>&quot;N&quot;</td><td>0</td><td>&quot;HOD/TYD&quot;</td><td>0</td><td>&quot;HOD/TYD&quot;</td><td>0</td><td>&quot;HOD/TYD&quot;</td><td>&quot;Cílem kurzu je…</td><td>&quot;Zkouška&quot;</td><td>&quot;NE&quot;</td><td>&quot;Kombinovaná&quot;</td><td>&quot;Zápočet uděluj…</td><td>null</td><td>null</td><td>null</td><td>null</td><td>null</td><td>&quot;Čeština&quot;</td><td>null</td><td>&quot;A&quot;</td><td>&quot;N&quot;</td><td>&quot;N&quot;</td><td>null</td><td>null</td><td>null</td><td>&quot;A&quot;</td><td>&quot;N&quot;</td><td>null</td><td>0</td><td>null</td><td>&quot;Mgr.&quot;</td><td>&quot;A&quot;</td><td>0</td><td>null</td><td>null</td><td>null</td></tr></tbody></table></div>"
      ],
      "text/plain": [
       "shape: (5, 69)\n",
       "┌─────────┬─────────┬──────┬──────────────────────────┬───┬───────────────────┬──────┬──────┬──────┐\n",
       "│ katedra ┆ zkratka ┆ rok  ┆ nazev                    ┆ … ┆ hodZaSemKombForma ┆ aMax ┆ bMax ┆ cMax │\n",
       "│ ---     ┆ ---     ┆ ---  ┆ ---                      ┆   ┆ ---               ┆ ---  ┆ ---  ┆ ---  │\n",
       "│ str     ┆ str     ┆ i64  ┆ str                      ┆   ┆ i64               ┆ str  ┆ str  ┆ i64  │\n",
       "╞═════════╪═════════╪══════╪══════════════════════════╪═══╪═══════════════════╪══════╪══════╪══════╡\n",
       "│ KI      ┆ AHW     ┆ 2022 ┆ Praktické aplikace       ┆ … ┆ null              ┆ null ┆ null ┆ null │\n",
       "│         ┆         ┆      ┆ hardwaru                 ┆   ┆                   ┆      ┆      ┆      │\n",
       "│ KI      ┆ A201    ┆ 2022 ┆ DMS and Team             ┆ … ┆ 0                 ┆ null ┆ null ┆ null │\n",
       "│         ┆         ┆      ┆ Collaboration Tools      ┆   ┆                   ┆      ┆      ┆      │\n",
       "│ KI      ┆ DI1     ┆ 2022 ┆ Didaktika informatiky I  ┆ … ┆ 0                 ┆ null ┆ null ┆ null │\n",
       "│ KI      ┆ DPG     ┆ 2022 ┆ Didaktika programování   ┆ … ┆ null              ┆ null ┆ null ┆ null │\n",
       "│ KI      ┆ DP2O    ┆ 2022 ┆ Diplomová práce          ┆ … ┆ 0                 ┆ null ┆ null ┆ null │\n",
       "└─────────┴─────────┴──────┴──────────────────────────┴───┴───────────────────┴──────┴──────┴──────┘"
      ]
     },
     "execution_count": 159,
     "metadata": {},
     "output_type": "execute_result"
    }
   ],
   "source": [
    "from pprint import pprint\n",
    "# pprint(predmety_by_kat.columns,compact=True)\n",
    "predmety_by_kat.head()"
   ]
  },
  {
   "cell_type": "code",
   "execution_count": 160,
   "metadata": {},
   "outputs": [
    {
     "data": {
      "text/html": [
       "<div><style>\n",
       ".dataframe > thead > tr > th,\n",
       ".dataframe > tbody > tr > td {\n",
       "  text-align: right;\n",
       "}\n",
       "</style>\n",
       "<small>shape: (5, 8)</small><table border=\"1\" class=\"dataframe\"><thead><tr><th>zkratka</th><th>katedra</th><th>rok</th><th>nazev</th><th>garantiUcitIdno</th><th>prednasejiciUcitIdno</th><th>cviciciUcitIdno</th><th>seminariciUcitIdno</th></tr><tr><td>str</td><td>str</td><td>i64</td><td>str</td><td>list[str]</td><td>list[str]</td><td>list[str]</td><td>list[str]</td></tr></thead><tbody><tr><td>&quot;AHW&quot;</td><td>&quot;KI&quot;</td><td>2022</td><td>&quot;Praktické apli…</td><td>[&quot;2776&quot;]</td><td>null</td><td>null</td><td>[&quot;1165&quot;, &quot;1780&quot;, … &quot;4746&quot;]</td></tr><tr><td>&quot;A201&quot;</td><td>&quot;KI&quot;</td><td>2022</td><td>&quot;DMS and Team C…</td><td>[&quot;650&quot;]</td><td>null</td><td>null</td><td>[&quot;2317&quot;]</td></tr><tr><td>&quot;DI1&quot;</td><td>&quot;KI&quot;</td><td>2022</td><td>&quot;Didaktika info…</td><td>[&quot;2776&quot;]</td><td>null</td><td>null</td><td>[&quot;1165&quot;, &quot;2776&quot;]</td></tr><tr><td>&quot;DPG&quot;</td><td>&quot;KI&quot;</td><td>2022</td><td>&quot;Didaktika prog…</td><td>[&quot;1165&quot;]</td><td>null</td><td>null</td><td>[&quot;1165&quot;]</td></tr><tr><td>&quot;DP2O&quot;</td><td>&quot;KI&quot;</td><td>2022</td><td>&quot;Diplomová prác…</td><td>null</td><td>null</td><td>null</td><td>null</td></tr></tbody></table></div>"
      ],
      "text/plain": [
       "shape: (5, 8)\n",
       "┌─────────┬─────────┬──────┬───────────────┬────────────┬────────────┬──────────────┬──────────────┐\n",
       "│ zkratka ┆ katedra ┆ rok  ┆ nazev         ┆ garantiUci ┆ prednaseji ┆ cviciciUcitI ┆ seminariciUc │\n",
       "│ ---     ┆ ---     ┆ ---  ┆ ---           ┆ tIdno      ┆ ciUcitIdno ┆ dno          ┆ itIdno       │\n",
       "│ str     ┆ str     ┆ i64  ┆ str           ┆ ---        ┆ ---        ┆ ---          ┆ ---          │\n",
       "│         ┆         ┆      ┆               ┆ list[str]  ┆ list[str]  ┆ list[str]    ┆ list[str]    │\n",
       "╞═════════╪═════════╪══════╪═══════════════╪════════════╪════════════╪══════════════╪══════════════╡\n",
       "│ AHW     ┆ KI      ┆ 2022 ┆ Praktické     ┆ [\"2776\"]   ┆ null       ┆ null         ┆ [\"1165\",     │\n",
       "│         ┆         ┆      ┆ aplikace      ┆            ┆            ┆              ┆ \"1780\", …    │\n",
       "│         ┆         ┆      ┆ hardwaru      ┆            ┆            ┆              ┆ \"4746\"]      │\n",
       "│ A201    ┆ KI      ┆ 2022 ┆ DMS and Team  ┆ [\"650\"]    ┆ null       ┆ null         ┆ [\"2317\"]     │\n",
       "│         ┆         ┆      ┆ Collaboration ┆            ┆            ┆              ┆              │\n",
       "│         ┆         ┆      ┆ Tools         ┆            ┆            ┆              ┆              │\n",
       "│ DI1     ┆ KI      ┆ 2022 ┆ Didaktika     ┆ [\"2776\"]   ┆ null       ┆ null         ┆ [\"1165\",     │\n",
       "│         ┆         ┆      ┆ informatiky I ┆            ┆            ┆              ┆ \"2776\"]      │\n",
       "│ DPG     ┆ KI      ┆ 2022 ┆ Didaktika     ┆ [\"1165\"]   ┆ null       ┆ null         ┆ [\"1165\"]     │\n",
       "│         ┆         ┆      ┆ programování  ┆            ┆            ┆              ┆              │\n",
       "│ DP2O    ┆ KI      ┆ 2022 ┆ Diplomová     ┆ null       ┆ null       ┆ null         ┆ null         │\n",
       "│         ┆         ┆      ┆ práce         ┆            ┆            ┆              ┆              │\n",
       "└─────────┴─────────┴──────┴───────────────┴────────────┴────────────┴──────────────┴──────────────┘"
      ]
     },
     "execution_count": 160,
     "metadata": {},
     "output_type": "execute_result"
    }
   ],
   "source": [
    "male_predmety = predmety_by_kat.select(pl.col([\"zkratka\", \"katedra\", \"rok\", \"nazev\", \"garantiUcitIdno\", \"prednasejiciUcitIdno\", \"cviciciUcitIdno\", \"seminariciUcitIdno\"]).where(pl.col(\"zkratka\").is_unique()))\n",
    "male_predmety = male_predmety.with_columns(pl.col([\"prednasejiciUcitIdno\", \"cviciciUcitIdno\", \"seminariciUcitIdno\", \"garantiUcitIdno\"]).str.split(\", \"))\n",
    "male_predmety.head()"
   ]
  },
  {
   "cell_type": "code",
   "execution_count": 161,
   "metadata": {},
   "outputs": [
    {
     "data": {
      "text/plain": [
       "<xlsxwriter.workbook.Workbook at 0x7f6fcc39d360>"
      ]
     },
     "execution_count": 161,
     "metadata": {},
     "output_type": "execute_result"
    }
   ],
   "source": [
    "# přednášející nemá přednášku:\n",
    "filtrovani_prednasejici = male_predmety.select(\"nazev\", \"zkratka\", \"prednasejiciUcitIdno\").explode(\"prednasejiciUcitIdno\").filter(\n",
    "    pl.col(\"prednasejiciUcitIdno\"\n",
    ").is_not_null()).with_columns(\n",
    "    pl.col(\"prednasejiciUcitIdno\").alias(\"idno\")\n",
    ")\n",
    "joined_prednasejici = filtrovani_prednasejici.join(maly_rozvrh, \"idno\", \"left\")\n",
    "prednasejici_bez_prednasek = joined_prednasejici.filter(pl.col(\"typAkceZkr\").is_null())\n",
    "prednasejici_bez_prednasek.select(\"nazev\", \"zkratka\", \"prednasejiciUcitIdno\").sort(\"prednasejiciUcitIdno\").write_excel(\"results/prednasejici_bez_prednasek.xlsx\")"
   ]
  },
  {
   "cell_type": "code",
   "execution_count": 162,
   "metadata": {},
   "outputs": [
    {
     "data": {
      "text/plain": [
       "<xlsxwriter.workbook.Workbook at 0x7f6fa8077910>"
      ]
     },
     "execution_count": 162,
     "metadata": {},
     "output_type": "execute_result"
    }
   ],
   "source": [
    "# cvičící nemá cvičení:\n",
    "filtrovani_cvicici = male_predmety.select(\"nazev\", \"zkratka\", \"cviciciUcitIdno\").explode(\"cviciciUcitIdno\").filter(\n",
    "    pl.col(\"cviciciUcitIdno\"\n",
    ").is_not_null()).with_columns(\n",
    "    pl.col(\"cviciciUcitIdno\").alias(\"idno\")\n",
    ")\n",
    "joined_cvicici = filtrovani_cvicici.join(maly_rozvrh, \"idno\", \"left\")\n",
    "cvicici_bez_cviceni = joined_cvicici.filter(pl.col(\"typAkceZkr\").is_null())\n",
    "cvicici_bez_cviceni.select(\"nazev\", \"zkratka\", \"cviciciUcitIdno\").sort(\"cviciciUcitIdno\").write_excel(\"results/cvicici_bez_cviceni.xlsx\")"
   ]
  },
  {
   "cell_type": "code",
   "execution_count": 163,
   "metadata": {},
   "outputs": [
    {
     "data": {
      "text/plain": [
       "<xlsxwriter.workbook.Workbook at 0x7f6f9d53c760>"
      ]
     },
     "execution_count": 163,
     "metadata": {},
     "output_type": "execute_result"
    }
   ],
   "source": [
    "# přednášející nemá přednášku:\n",
    "filtrovani_seminarici = male_predmety.select(\"nazev\", \"zkratka\", \"seminariciUcitIdno\").explode(\"seminariciUcitIdno\").filter(\n",
    "    pl.col(\"seminariciUcitIdno\"\n",
    ").is_not_null()).with_columns(\n",
    "    pl.col(\"seminariciUcitIdno\").alias(\"idno\")\n",
    ")\n",
    "joined_seminarici = filtrovani_seminarici.join(maly_rozvrh, \"idno\", \"left\")\n",
    "seminarici_bez_seminare = joined_seminarici.filter(pl.col(\"typAkceZkr\").is_null())\n",
    "seminarici_bez_seminare.select(\"nazev\", \"zkratka\", \"seminariciUcitIdno\").sort(\"seminariciUcitIdno\").write_excel(\"results/seminarici_bez_seminare.xlsx\")"
   ]
  },
  {
   "attachments": {},
   "cell_type": "markdown",
   "metadata": {},
   "source": [
    "### warning, když je mezi vyučujícími někdo bez odpovídajícího typu rozvrhové akce"
   ]
  },
  {
   "attachments": {},
   "cell_type": "markdown",
   "metadata": {},
   "source": [
    "Pro každého učitele vypíšu předměty, u kterých má mít nějakou akci.\n",
    "\n",
    "Takže budu mít dataframe, kde bude učitel, zkratka, a jeden sloupeček za každý typ akce, kde učitel bude muset mít aspoň 1 narozvrhovaný typ akce s daným předmětem, kde je hodnota `True`"
   ]
  },
  {
   "cell_type": "code",
   "execution_count": 164,
   "metadata": {},
   "outputs": [
    {
     "data": {
      "text/plain": [
       "[shape: (3,)\n",
       " Series: 'typAkceZkr' [str]\n",
       " [\n",
       " \t\"Cv\"\n",
       " \t\"Př\"\n",
       " \t\"Se\"\n",
       " ]]"
      ]
     },
     "execution_count": 164,
     "metadata": {},
     "output_type": "execute_result"
    }
   ],
   "source": [
    "# vypíšu typy akcí\n",
    "list(maly_rozvrh.select(pl.col(\"typAkceZkr\").unique()))"
   ]
  },
  {
   "cell_type": "code",
   "execution_count": null,
   "metadata": {},
   "outputs": [],
   "source": []
  },
  {
   "attachments": {},
   "cell_type": "markdown",
   "metadata": {},
   "source": [
    "### garant předmětu by měl být někde mezi vyučujícími rozvrhových akcí a pokud má předmět přednášku, měl by být i mezi přednášejícími v rámci rozvrhových akcí"
   ]
  },
  {
   "cell_type": "code",
   "execution_count": null,
   "metadata": {},
   "outputs": [],
   "source": []
  },
  {
   "attachments": {},
   "cell_type": "markdown",
   "metadata": {},
   "source": [
    "### Změny proti akreditacím."
   ]
  },
  {
   "cell_type": "code",
   "execution_count": null,
   "metadata": {},
   "outputs": [],
   "source": []
  },
  {
   "attachments": {},
   "cell_type": "markdown",
   "metadata": {},
   "source": [
    "### Porovnat revize předmětů\n",
    "\n",
    "tj. parametry předmětů pro aktuální akademický rok a pro příští."
   ]
  },
  {
   "attachments": {},
   "cell_type": "markdown",
   "metadata": {},
   "source": [
    "> jakou to má mít podobu?"
   ]
  },
  {
   "cell_type": "code",
   "execution_count": null,
   "metadata": {},
   "outputs": [],
   "source": []
  }
 ],
 "metadata": {
  "kernelspec": {
   "display_name": "venv",
   "language": "python",
   "name": "python3"
  },
  "language_info": {
   "codemirror_mode": {
    "name": "ipython",
    "version": 3
   },
   "file_extension": ".py",
   "mimetype": "text/x-python",
   "name": "python",
   "nbconvert_exporter": "python",
   "pygments_lexer": "ipython3",
   "version": "3.10.6"
  },
  "orig_nbformat": 4
 },
 "nbformat": 4,
 "nbformat_minor": 2
}
